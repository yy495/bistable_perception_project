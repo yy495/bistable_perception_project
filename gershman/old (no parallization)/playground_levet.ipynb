{
 "cells": [
  {
   "cell_type": "code",
   "execution_count": 1,
   "id": "0600f08b",
   "metadata": {},
   "outputs": [],
   "source": [
    "#play with levet rule\n",
    "import numpy as np\n",
    "import numpy.random as random\n",
    "import matplotlib.pyplot as plt"
   ]
  },
  {
   "cell_type": "code",
   "execution_count": 2,
   "id": "16e9da9a",
   "metadata": {},
   "outputs": [],
   "source": [
    "def domi_period_count(state_list_input,dim = 4):\n",
    "    cross_list = []\n",
    "    #element in cross list: (index,cross_type)\n",
    "    #cross type = 1: upper bound going up\n",
    "    #cross type = 2: lower bound going down\n",
    "    for i in range(1,len(state_list_input)):\n",
    "        if state_list_input[i-1]>dim**2/3 and state_list_input[i]<dim**2/3:\n",
    "            cross_list.append((i,2))\n",
    "        elif state_list_input[i-1]<2*dim**2/3 and state_list_input[i]>2*dim**2/3:\n",
    "            cross_list.append((i,1))\n",
    "    switch_list = [cross_list[0]]\n",
    "    cross = cross_list[0][1]\n",
    "    for i in range(1,len(cross_list)):\n",
    "        if cross_list[i][1] != cross:\n",
    "            cross = cross_list[i][1]\n",
    "            switch_list.append(cross_list[i])\n",
    "    domi_list =[]\n",
    "    percept_list = []\n",
    "    for i in range(1,len(switch_list)):\n",
    "        domi_list.append(switch_list[i][0]-switch_list[i-1][0])\n",
    "        percept_list.append(switch_list[i-1][1])\n",
    "    return np.array(domi_list),np.array(percept_list)"
   ]
  },
  {
   "cell_type": "code",
   "execution_count": 3,
   "id": "9a9824b6",
   "metadata": {},
   "outputs": [
    {
     "data": {
      "text/plain": [
       "(array([13, 15]), array([1, 2]))"
      ]
     },
     "execution_count": 3,
     "metadata": {},
     "output_type": "execute_result"
    }
   ],
   "source": [
    "domi_period_count([6,7,8,10,12,12,13,14,15,13,12,11,10,10,9,8,7,5,4,3,3,2,3,3,1,4,5,6,7,8,9,10,12])"
   ]
  },
  {
   "cell_type": "code",
   "execution_count": 4,
   "id": "d1e08293",
   "metadata": {},
   "outputs": [],
   "source": [
    "from gershman_09_function import MRF_prior, proposal_function"
   ]
  },
  {
   "cell_type": "code",
   "execution_count": 5,
   "id": "c028500e",
   "metadata": {},
   "outputs": [],
   "source": [
    "def likelihood_levet(z,a,b,sigma_left,sigma_right):\n",
    "    #bi-modal, mixture of Gaussian function\n",
    "    #2 peaks at -1 and 1\n",
    "    #return: a scalar, p(x|z) as a functino of z\n",
    "    #sigma_left: var of LHS mode; sigma_right: var of RHS mode\n",
    "    z_vec = z.reshape(-1)\n",
    "    likelihood_ele = 1/sigma_left*np.exp(-0.5/sigma_left**2*(z+a)**2)+1/sigma_right*np.exp(-0.5/sigma_right**2*(z+b)**2)\n",
    "    return np.prod(likelihood_ele)\n",
    "\n",
    "def sample_rejection_levet(z,z_star,a = 1, b = -1,sigma_left = 0.3, sigma_right = 0.3, lamda = 0.05, sigma1 = 1.5 ,mu_array=np.array([0])):\n",
    "    #input: z is the current sample\n",
    "    #z_star is the proposed sample\n",
    "    #if sample accepted: return True\n",
    "    #if rejected: return False\n",
    "    p_z = likelihood_levet(z,a,b,sigma_left,sigma_right)*MRF_prior(z,lamda,mu_array)\n",
    "    p_z_star = likelihood_levet(z_star,a,b,sigma_left,sigma_right)*MRF_prior(z_star,lamda,mu_array)\n",
    "    p_acc = min(1,p_z_star/p_z)\n",
    "    if random.random()<p_acc:\n",
    "        return True\n",
    "    else:\n",
    "        return False"
   ]
  },
  {
   "cell_type": "code",
   "execution_count": 6,
   "id": "5e417652",
   "metadata": {},
   "outputs": [],
   "source": [
    "#Levet's first proposition"
   ]
  },
  {
   "cell_type": "code",
   "execution_count": 7,
   "id": "b25054a5",
   "metadata": {},
   "outputs": [
    {
     "name": "stdout",
     "output_type": "stream",
     "text": [
      "[[ 0.85507259  0.76422811 -0.07510868 -0.20181944]\n",
      " [ 0.11160174  0.06302935  0.17263392  0.35082506]\n",
      " [-0.9441814  -0.94075091 -0.27105236  0.38830443]\n",
      " [-0.64802996 -0.69107601 -0.67173714 -0.21040227]]\n",
      "done\n",
      "[[ 0.22121016 -0.35246399  0.06405062 -0.31472143]\n",
      " [ 0.15577493  0.79665668  0.35767025 -0.49561198]\n",
      " [-0.41191906  0.85486182 -0.69097879  0.84455599]\n",
      " [ 0.02002175 -0.50899762 -0.74883799  0.87833912]]\n",
      "done\n",
      "[[-0.31529354 -0.24249051  0.3380537   0.98433409]\n",
      " [ 0.00289891  0.1094381  -0.16546421 -0.4945807 ]\n",
      " [-0.17731386  0.7170634  -0.83200532  0.17384774]\n",
      " [-0.3847797   0.66999544  0.07150837 -0.3996069 ]]\n",
      "done\n",
      "[[ 0.97695133  0.29342314 -0.59494035 -0.51528671]\n",
      " [-0.45503588 -0.6266289   0.56083212 -0.26245882]\n",
      " [ 0.61356069 -0.81158251  0.34316245 -0.18598083]\n",
      " [-0.32883711 -0.56136285  0.95728998  0.25633036]]\n",
      "done\n",
      "[[-0.30587831 -0.37694961  0.54712005 -0.45494752]\n",
      " [-0.05337487  0.51787968 -0.151927   -0.82453031]\n",
      " [-0.56422925 -0.67392695  0.76056911 -0.48706346]\n",
      " [-0.37214246  0.63218007 -0.92600832 -0.62883586]]\n"
     ]
    }
   ],
   "source": [
    "state_list_lr_0303= []\n",
    "#define initial z\n",
    "z = (np.random.rand(4,4)-0.5)*2\n",
    "print(z)\n",
    "for i in range(int(2e6)):\n",
    "    z_star = proposal_function(z)\n",
    "    acc = sample_rejection_levet(z,z_star)\n",
    "    if acc:\n",
    "        z = z_star\n",
    "    state_list_lr_0303.append(z)\n",
    "\n",
    "print('done')\n",
    "\n",
    "state_list_lr_0305= []\n",
    "#define initial z\n",
    "z = (np.random.rand(4,4)-0.5)*2\n",
    "print(z)\n",
    "for i in range(int(2e6)):\n",
    "    z_star = proposal_function(z)\n",
    "    acc = sample_rejection_levet(z,z_star,sigma_right=0.5)\n",
    "    if acc:\n",
    "        z = z_star\n",
    "    state_list_lr_0305.append(z)\n",
    "    \n",
    "print('done')\n",
    "\n",
    "state_list_lr_0304= []\n",
    "#define initial z\n",
    "z = (np.random.rand(4,4)-0.5)*2\n",
    "print(z)\n",
    "for i in range(int(2e6)):\n",
    "    z_star = proposal_function(z)\n",
    "    acc = sample_rejection_levet(z,z_star,sigma_right=0.4)\n",
    "    if acc:\n",
    "        z = z_star\n",
    "    state_list_lr_0304.append(z)\n",
    "print('done')\n",
    "\n",
    "state_list_lr_0302= []\n",
    "#define initial z\n",
    "z = (np.random.rand(4,4)-0.5)*2\n",
    "print(z)\n",
    "for i in range(int(2e6)):\n",
    "    z_star = proposal_function(z)\n",
    "    acc = sample_rejection_levet(z,z_star,sigma_right=0.2)\n",
    "    if acc:\n",
    "        z = z_star\n",
    "    state_list_lr_0302.append(z)\n",
    "print('done')\n",
    "    \n",
    "state_list_lr_0301= []\n",
    "#define initial z\n",
    "z = (np.random.rand(4,4)-0.5)*2\n",
    "print(z)\n",
    "for i in range(int(2e6)):\n",
    "    z_star = proposal_function(z)\n",
    "    acc = sample_rejection_levet(z,z_star,sigma_right=0.1)\n",
    "    if acc:\n",
    "        z = z_star\n",
    "    state_list_lr_0301.append(z)"
   ]
  },
  {
   "cell_type": "code",
   "execution_count": 8,
   "id": "a3b9aeba",
   "metadata": {},
   "outputs": [],
   "source": [
    "state_num_lr_0301 = np.array([len(np.where(z_i>0)[0]) for z_i in state_list_lr_0301])\n",
    "state_num_lr_0302 = np.array([len(np.where(z_i>0)[0]) for z_i in state_list_lr_0302])\n",
    "state_num_lr_0303 = np.array([len(np.where(z_i>0)[0]) for z_i in state_list_lr_0303])\n",
    "state_num_lr_0304 = np.array([len(np.where(z_i>0)[0]) for z_i in state_list_lr_0304])\n",
    "state_num_lr_0305 = np.array([len(np.where(z_i>0)[0]) for z_i in state_list_lr_0305])"
   ]
  },
  {
   "cell_type": "code",
   "execution_count": 9,
   "id": "31eb846b",
   "metadata": {},
   "outputs": [],
   "source": [
    "domi_period_lr_0301,domi_percept_lr_0301 = domi_period_count(state_num_lr_0301)\n",
    "domi_period_lr_0302,domi_percept_lr_0302 = domi_period_count(state_num_lr_0302)\n",
    "domi_period_lr_0303,domi_percept_lr_0303 = domi_period_count(state_num_lr_0303)\n",
    "domi_period_lr_0304,domi_percept_lr_0304 = domi_period_count(state_num_lr_0304)\n",
    "domi_period_lr_0305,domi_percept_lr_0305 = domi_period_count(state_num_lr_0305)"
   ]
  },
  {
   "cell_type": "code",
   "execution_count": 10,
   "id": "6affea99",
   "metadata": {},
   "outputs": [],
   "source": [
    "def predomi_count(domi_period,domi_percept):\n",
    "    domi_1 = 0\n",
    "    domi_2 = 0\n",
    "    for i in range(len(domi_period)):\n",
    "        if domi_percept[i] == 1:\n",
    "            domi_1 = domi_1 + domi_period[i]\n",
    "        else:\n",
    "            domi_2 = domi_2 + domi_period[i]\n",
    "    return domi_1/np.sum(domi_period),domi_2/np.sum(domi_period)"
   ]
  },
  {
   "cell_type": "code",
   "execution_count": 22,
   "id": "d4a83898",
   "metadata": {},
   "outputs": [],
   "source": [
    "def ave_domi_count(domi_period,domi_percept):\n",
    "    domi_1_t = 0\n",
    "    domi_2_t = 0\n",
    "    domi_1_count = 0\n",
    "    domi_2_count = 0\n",
    "    for i in range(len(domi_period)):\n",
    "        if int(domi_percept[i]) == 1:\n",
    "            domi_1_t = domi_1_t + domi_period[i]\n",
    "            domi_1_count = domi_1_count +1\n",
    "        else:\n",
    "            domi_2_t = domi_2_t + domi_period[i]\n",
    "            domi_2_count = domi_2_count +1\n",
    "    return domi_1_t/domi_1_count, domi_2_t/domi_2_count"
   ]
  },
  {
   "cell_type": "code",
   "execution_count": 11,
   "id": "dd85f628",
   "metadata": {},
   "outputs": [
    {
     "name": "stdout",
     "output_type": "stream",
     "text": [
      "[ 693 1842 1601 ...  207  398   92]\n"
     ]
    },
    {
     "data": {
      "image/png": "[encoded data removed]",
      "text/plain": [
       "<Figure size 432x288 with 1 Axes>"
      ]
     },
     "metadata": {
      "needs_background": "light"
     },
     "output_type": "display_data"
    }
   ],
   "source": [
    "predomi_1 = []\n",
    "predomi_2 = []\n",
    "plt.plot(state_num_lr_0301[206524:208524])\n",
    "print(domi_period_lr_0301)\n",
    "predomi_0301 = predomi_count(domi_period_lr_0301,domi_percept_lr_0301)\n",
    "predomi_1.append(predomi_0301[0])\n",
    "predomi_2.append(predomi_0301[1])\n",
    "predomi_0302 = predomi_count(domi_period_lr_0302,domi_percept_lr_0302)\n",
    "predomi_1.append(predomi_0302[0])\n",
    "predomi_2.append(predomi_0302[1])\n",
    "predomi_0303 = predomi_count(domi_period_lr_0303,domi_percept_lr_0303)\n",
    "predomi_1.append(predomi_0303[0])\n",
    "predomi_2.append(predomi_0303[1])\n",
    "predomi_0304 = predomi_count(domi_period_lr_0304,domi_percept_lr_0304)\n",
    "predomi_1.append(predomi_0304[0])\n",
    "predomi_2.append(predomi_0304[1])\n",
    "predomi_0305 = predomi_count(domi_period_lr_0305,domi_percept_lr_0305)\n",
    "predomi_1.append(predomi_0305[0])\n",
    "predomi_2.append(predomi_0305[1])"
   ]
  },
  {
   "cell_type": "code",
   "execution_count": 24,
   "id": "4eb782aa",
   "metadata": {},
   "outputs": [],
   "source": [
    "ave_domi_1 = []\n",
    "ave_domi_2 = []\n",
    "ave_0301 = ave_domi_count(domi_period_lr_0301,domi_percept_lr_0301)\n",
    "ave_domi_1.append(ave_0301[0])\n",
    "ave_domi_2.append(ave_0301[1])\n",
    "ave_0302 = ave_domi_count(domi_period_lr_0302,domi_percept_lr_0302)\n",
    "ave_domi_1.append(ave_0302[0])\n",
    "ave_domi_2.append(ave_0302[1])\n",
    "ave_0303 = ave_domi_count(domi_period_lr_0303,domi_percept_lr_0303)\n",
    "ave_domi_1.append(ave_0303[0])\n",
    "ave_domi_2.append(ave_0303[1])\n",
    "ave_0304 = ave_domi_count(domi_period_lr_0304,domi_percept_lr_0304)\n",
    "ave_domi_1.append(ave_0304[0])\n",
    "ave_domi_2.append(ave_0304[1])\n",
    "ave_0305 = ave_domi_count(domi_period_lr_0305,domi_percept_lr_0305)\n",
    "ave_domi_1.append(ave_0305[0])\n",
    "ave_domi_2.append(ave_0305[1])"
   ]
  },
  {
   "cell_type": "code",
   "execution_count": 41,
   "id": "86c77be0",
   "metadata": {},
   "outputs": [
    {
     "data": {
      "text/plain": [
       "Text(0, 0.5, 'mean dominance period')"
      ]
     },
     "execution_count": 41,
     "metadata": {},
     "output_type": "execute_result"
    },
    {
     "data": {
      "image/png": "[encoded data removed]",
      "text/plain": [
       "<Figure size 432x288 with 1 Axes>"
      ]
     },
     "metadata": {
      "needs_background": "light"
     },
     "output_type": "display_data"
    }
   ],
   "source": [
    "plt.plot(10*np.ones(5)/np.arange(1,6),np.array(ave_domi_1))\n",
    "plt.plot(10*np.ones(5)/np.arange(1,6),np.array(ave_domi_2))\n",
    "plt.scatter(10*np.ones(5)/np.arange(1,6),np.array(ave_domi_1))\n",
    "plt.scatter(10*np.ones(5)/np.arange(1,6),np.array(ave_domi_2))\n",
    "plt.legend(['variable contrast','fixed contrast'])\n",
    "plt.xlabel('contrast')\n",
    "plt.ylabel('mean dominance period')"
   ]
  },
  {
   "cell_type": "code",
   "execution_count": 13,
   "id": "9d2b50e1",
   "metadata": {},
   "outputs": [
    {
     "name": "stdout",
     "output_type": "stream",
     "text": [
      "[[ 0.46985306 -0.39706389  0.48926804  0.43042173]\n",
      " [ 0.08572923  0.03656108  1.49399272 -0.05923573]\n",
      " [-0.03783353  0.45972436  1.09960872 -0.15658451]\n",
      " [ 1.21464876 -0.33781849  0.19489683  1.32534828]]\n"
     ]
    }
   ],
   "source": [
    "state_list_lr_0301_2= []\n",
    "#define initial z\n",
    "z = (np.random.rand(4,4)-0.25)*2\n",
    "print(z)\n",
    "for i in range(int(2e6)):\n",
    "    z_star = proposal_function(z)\n",
    "    acc = sample_rejection_levet(z,z_star,sigma_right=0.1)\n",
    "    if acc:\n",
    "        z = z_star\n",
    "    state_list_lr_0301_2.append(z)\n"
   ]
  },
  {
   "cell_type": "code",
   "execution_count": 14,
   "id": "ed7a3270",
   "metadata": {},
   "outputs": [
    {
     "data": {
      "text/plain": [
       "(0.5439640996126553, 0.4560359003873447)"
      ]
     },
     "execution_count": 14,
     "metadata": {},
     "output_type": "execute_result"
    }
   ],
   "source": [
    "state_num_lr_0301_2 = np.array([len(np.where(z_i>0)[0]) for z_i in state_list_lr_0301_2])\n",
    "domi_period_lr_0301_2,domi_percept_lr_0301_2 = domi_period_count(state_num_lr_0301_2)\n",
    "predomi_count(domi_period_lr_0301_2,domi_percept_lr_0301_2)"
   ]
  },
  {
   "cell_type": "code",
   "execution_count": 15,
   "id": "43b414bb",
   "metadata": {},
   "outputs": [
    {
     "data": {
      "text/plain": [
       "[<matplotlib.lines.Line2D at 0x140a6a9d0>]"
      ]
     },
     "execution_count": 15,
     "metadata": {},
     "output_type": "execute_result"
    },
    {
     "data": {
      "image/png": "[encoded data removed]",
      "text/plain": [
       "<Figure size 432x288 with 1 Axes>"
      ]
     },
     "metadata": {
      "needs_background": "light"
     },
     "output_type": "display_data"
    }
   ],
   "source": [
    "plt.plot(state_num_lr_0301_2[:2000])"
   ]
  },
  {
   "cell_type": "code",
   "execution_count": 19,
   "id": "6e4a1caa",
   "metadata": {},
   "outputs": [
    {
     "data": {
      "text/plain": [
       "Text(0, 0.5, 'predominance of mode 1')"
      ]
     },
     "execution_count": 19,
     "metadata": {},
     "output_type": "execute_result"
    },
    {
     "data": {
      "image/png": "[encoded data removed]",
      "text/plain": [
       "<Figure size 432x288 with 1 Axes>"
      ]
     },
     "metadata": {
      "needs_background": "light"
     },
     "output_type": "display_data"
    }
   ],
   "source": [
    "plt.plot(np.ones(5)/np.array([0.1,0.2,0.3,0.4,0.5]),predomi_1)\n",
    "plt.scatter(np.ones(5)/np.array([0.1,0.2,0.3,0.4,0.5]),predomi_1)\n",
    "plt.xlabel('contrast of mode 1')\n",
    "plt.ylabel('predominance of mode 1')"
   ]
  },
  {
   "cell_type": "code",
   "execution_count": 17,
   "id": "6dfeb178",
   "metadata": {},
   "outputs": [
    {
     "name": "stdout",
     "output_type": "stream",
     "text": [
      "[[ 0.94941013  0.33948927 -0.19238283  0.78318789]\n",
      " [ 0.65376941  0.46579642  0.56815915  0.79261666]\n",
      " [-0.18786237 -0.71722706 -0.70299911 -0.35466735]\n",
      " [ 0.90368287  0.42323909 -0.88333618 -0.26145865]]\n",
      "done\n",
      "[[ 0.09560895 -0.66484121 -0.55549897  0.54279263]\n",
      " [-0.33971561 -0.13527693  0.87675515 -0.80474979]\n",
      " [ 0.33741251  0.52683966 -0.77702835 -0.2678292 ]\n",
      " [ 0.50778582 -0.32967398 -0.99772506  0.67849057]]\n",
      "done\n",
      "[[ 0.91222209  0.11906461  0.19935124  0.15951045]\n",
      " [ 0.30178173  0.98823191  0.11773869  0.7381399 ]\n",
      " [ 0.66037573  0.41002004 -0.51386487  0.25570518]\n",
      " [-0.46983828 -0.17945369  0.31938835 -0.96119248]]\n",
      "done\n",
      "[[ 0.84036582 -0.58392479  0.28766067 -0.98111381]\n",
      " [-0.72524908  0.02973575 -0.65517818  0.32863382]\n",
      " [-0.35797643 -0.4341519  -0.96747671 -0.89866177]\n",
      " [ 0.01055724  0.98896492  0.16942509 -0.47365349]]\n"
     ]
    }
   ],
   "source": [
    "state_list_lr_0505= []\n",
    "#define initial z\n",
    "z = (np.random.rand(4,4)-0.5)*2\n",
    "print(z)\n",
    "for i in range(int(2e6)):\n",
    "    z_star = proposal_function(z)\n",
    "    acc = sample_rejection_levet(z,z_star,sigma_left=0.5, sigma_right=0.5)\n",
    "    if acc:\n",
    "        z = z_star\n",
    "    state_list_lr_0505.append(z)\n",
    "    \n",
    "print('done')\n",
    "\n",
    "state_list_lr_0404= []\n",
    "#define initial z\n",
    "z = (np.random.rand(4,4)-0.5)*2\n",
    "print(z)\n",
    "for i in range(int(2e6)):\n",
    "    z_star = proposal_function(z)\n",
    "    acc = sample_rejection_levet(z,z_star,sigma_left=0.4,sigma_right=0.4)\n",
    "    if acc:\n",
    "        z = z_star\n",
    "    state_list_lr_0404.append(z)\n",
    "print('done')\n",
    "\n",
    "state_list_lr_0202= []\n",
    "#define initial z\n",
    "z = (np.random.rand(4,4)-0.5)*2\n",
    "print(z)\n",
    "for i in range(int(2e6)):\n",
    "    z_star = proposal_function(z)\n",
    "    acc = sample_rejection_levet(z,z_star,sigma_left=0.2,sigma_right=0.2)\n",
    "    if acc:\n",
    "        z = z_star\n",
    "    state_list_lr_0202.append(z)\n",
    "print('done')\n",
    "    \n",
    "state_list_lr_0101= []\n",
    "#define initial z\n",
    "z = (np.random.rand(4,4)-0.5)*2\n",
    "print(z)\n",
    "for i in range(int(2e6)):\n",
    "    z_star = proposal_function(z)\n",
    "    acc = sample_rejection_levet(z,z_star,sigma_left = 0.1, sigma_right=0.1)\n",
    "    if acc:\n",
    "        z = z_star\n",
    "    state_list_lr_0101.append(z)"
   ]
  },
  {
   "cell_type": "code",
   "execution_count": 39,
   "id": "1ffa8aca",
   "metadata": {},
   "outputs": [],
   "source": [
    "state_num_lr_0101 = np.array([len(np.where(z_i>0)[0]) for z_i in state_list_lr_0101])\n",
    "state_num_lr_0202 = np.array([len(np.where(z_i>0)[0]) for z_i in state_list_lr_0202])\n",
    "state_num_lr_0404 = np.array([len(np.where(z_i>0)[0]) for z_i in state_list_lr_0404])\n",
    "state_num_lr_0505 = np.array([len(np.where(z_i>0)[0]) for z_i in state_list_lr_0505])"
   ]
  },
  {
   "cell_type": "code",
   "execution_count": 40,
   "id": "7d355581",
   "metadata": {},
   "outputs": [],
   "source": [
    "mean_0101 = np.mean(np.array(domi_period_count(state_num_lr_0101)[0]))\n",
    "mean_0202 = np.mean(np.array(domi_period_count(state_num_lr_0202)[0]))\n",
    "mean_0303 = np.mean(np.array(domi_period_count(state_num_lr_0303)[0]))\n",
    "mean_0404 = np.mean(np.array(domi_period_count(state_num_lr_0404)[0]))\n",
    "mean_0505 = np.mean(np.array(domi_period_count(state_num_lr_0505)[0]))"
   ]
  },
  {
   "cell_type": "code",
   "execution_count": 42,
   "id": "e83f4375",
   "metadata": {},
   "outputs": [
    {
     "data": {
      "text/plain": [
       "Text(0, 0.5, 'average dominance period')"
      ]
     },
     "execution_count": 42,
     "metadata": {},
     "output_type": "execute_result"
    },
    {
     "data": {
      "image/png": "[encoded data removed]",
      "text/plain": [
       "<Figure size 432x288 with 1 Axes>"
      ]
     },
     "metadata": {
      "needs_background": "light"
     },
     "output_type": "display_data"
    }
   ],
   "source": [
    "plt.plot(np.ones(5)/np.array([0.1,0.2,0.3,0.4,0.5]),np.array([mean_0101,mean_0202,mean_0303,mean_0404,mean_0505]))\n",
    "plt.scatter(np.ones(5)/np.array([0.1,0.2,0.3,0.4,0.5]),np.array([mean_0101,mean_0202,mean_0303,mean_0404,mean_0505]))\n",
    "plt.xlabel('contrast')\n",
    "plt.ylabel('average dominance period')"
   ]
  },
  {
   "cell_type": "code",
   "execution_count": null,
   "id": "e8dd8279",
   "metadata": {},
   "outputs": [],
   "source": []
  }
 ],
 "metadata": {
  "kernelspec": {
   "display_name": "Python 3",
   "language": "python",
   "name": "python3"
  },
  "language_info": {
   "codemirror_mode": {
    "name": "ipython",
    "version": 3
   },
   "file_extension": ".py",
   "mimetype": "text/x-python",
   "name": "python",
   "nbconvert_exporter": "python",
   "pygments_lexer": "ipython3",
   "version": "3.8.8"
  }
 },
 "nbformat": 4,
 "nbformat_minor": 5
}
