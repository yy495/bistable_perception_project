{
 "cells": [
  {
   "cell_type": "code",
   "execution_count": 3,
   "metadata": {},
   "outputs": [],
   "source": [
    "import numpy as np\n",
    "import numpy.random as random\n",
    "import matplotlib.pyplot as plt"
   ]
  },
  {
   "cell_type": "code",
   "execution_count": 4,
   "metadata": {},
   "outputs": [],
   "source": [
    "#sampling of single node percept field (MH)\n",
    "def p_w_new(w,x_l,x_r,pi_l,pi_r,var_l,var_r,tau,b,p):\n",
    "    s_n = w*x_l+(1-w)*x_r\n",
    "    E_s = (b-s_n)**2\n",
    "    E_x = 1/(2*var_l)*pi_l*(x_l-s_n)**2+1/(2*var_r)*pi_r*(x_r-s_n)**2\n",
    "    return np.exp(-tau*(E_x+E_s))\n",
    "\n",
    "def p_pi_l_new(w,x_l,x_r,pi_l,var_l,b,tau,p):\n",
    "    s_n = w*x_l+(1-w)*x_r\n",
    "    E_xl = 1/(2*var_l)*pi_l*(x_l-s_n)**2\n",
    "    return np.exp(-tau*(E_xl))\n",
    "\n",
    "def p_pi_r_new(w,x_l,x_r,pi_r,var_r,b,tau,p):\n",
    "    s_n = w*x_l+(1-w)*x_r\n",
    "    E_xr = 1/(2*var_r)*pi_r*(x_r-s_n)**2\n",
    "    return np.exp(-tau*(E_xr))\n",
    "\n",
    "def proposal_function_new(z, p, sigma = 1):\n",
    "    #generate a new proposal from the current sample\n",
    "    #change only one element at a time!\n",
    "    z_star = z.copy()\n",
    "    z_star = z_star + sigma*random.normal(size = (p))\n",
    "    return z_star\n",
    "\n",
    "def binary_proposal_new(z):\n",
    "    #p: the probability of switch, to stablize the system\n",
    "    z_star= 1-z\n",
    "    return z_star"
   ]
  },
  {
   "cell_type": "code",
   "execution_count": 5,
   "metadata": {},
   "outputs": [],
   "source": [
    "def sample_rejection_w_new(w,w_star,x_l,x_r,pi_l,pi_r,var_l,var_r,b,tau,p):\n",
    "    p_w_cur = p_w_new(w,x_l,x_r,pi_l,pi_r,var_l,var_r,tau,b,p)\n",
    "    p_w_star = p_w_new(w_star,x_l,x_r,pi_l,pi_r,var_l,var_r,tau,b,p)\n",
    "    p_acc = p_w_star/p_w_cur\n",
    "    p_ran = random.random(p)\n",
    "    acc = np.sign(p_acc-p_ran).astype('int')\n",
    "    return acc\n",
    "    \n",
    "def sample_rejection_pi_l_new(w,x_l,x_r,pi_l,pi_l_star,var_l,b,tau,p):\n",
    "    p_pi_l_cur = p_pi_l_new(w,x_l,x_r,pi_l,var_l,b,tau,p)\n",
    "    p_pi_l_star = p_pi_l_new(w,x_l,x_r,pi_l_star,var_l,b,tau,p)\n",
    "    p_acc = p_pi_l_star/p_pi_l_cur\n",
    "    p_ran = random.random(p)\n",
    "    acc = np.sign(p_acc-p_ran).astype('int')\n",
    "    return acc\n",
    "    \n",
    "def sample_rejection_pi_r_new(w,x_l,x_r,pi_r,pi_r_star,var_r,b,tau,p):\n",
    "    p_pi_r_cur = p_pi_r_new(w,x_l,x_r,pi_r,var_r,b,tau,p)\n",
    "    p_pi_r_star = p_pi_r_new(w,x_l,x_r,pi_r_star,var_r,b,tau,p)\n",
    "    p_acc = p_pi_r_star/p_pi_r_cur\n",
    "    p_ran = random.random(p)\n",
    "    acc = np.sign(p_acc-p_ran).astype('int')\n",
    "    return acc"
   ]
  },
  {
   "cell_type": "code",
   "execution_count": 6,
   "metadata": {},
   "outputs": [],
   "source": [
    "def simulation_new(var_l,var_r,tau,b,p,no_sample):\n",
    "    #p: no. parallel sampling sequences\n",
    "    #no. sample: no. samples in each sequence\n",
    "    #dim: dimension of each MRF\n",
    "\n",
    "    #set initial condition for w, pi_r, pi_l\n",
    "    #set visual input x_r, x_l as conflicting input\n",
    "    x_l = np.ones(p)\n",
    "    x_r = np.zeros(p)\n",
    "    w = random.rand(p)\n",
    "    pi_l = random.randint(0,2,(p))\n",
    "    pi_r = random.randint(0,2,(p))\n",
    "\n",
    "    s = []\n",
    "    pi_l_l = []\n",
    "    pi_r_l = []\n",
    "    for m in range(int(no_sample)):\n",
    "        #order of sweep is randomnized\n",
    "        #the following for loop update on pi_l\n",
    "        pi_r_star = binary_proposal_new(pi_r)\n",
    "        acc_1 = sample_rejection_pi_r_new(w,x_l,x_r,pi_r,pi_r_star,var_r,b,tau,p)\n",
    "        for j in range(p):\n",
    "            if acc_1[j] == 1:\n",
    "                pi_r[j] = pi_r_star[j]\n",
    "\n",
    "        #the following for loop update on pi_r\n",
    "        pi_l_star = binary_proposal_new(pi_l)\n",
    "        acc_2 = sample_rejection_pi_l_new(w,x_l,x_r,pi_l,pi_l_star,var_l,b,tau,p)\n",
    "        for j in range(p):\n",
    "            if acc_2[j] == 1:\n",
    "                pi_l[j] = pi_l_star[j]\n",
    "    \n",
    "            #the following for loop update on w\n",
    "        w_star = proposal_function_new(w, p)\n",
    "        acc_3 = sample_rejection_w_new(w,w_star,x_l,x_r,pi_l,pi_r,var_l,var_r,b,tau,p)\n",
    "        for j in range(p):\n",
    "            if acc_3[j] == 1:\n",
    "                w[j] = w_star[j]\n",
    "        \n",
    "        s_i = w*x_l+(1-w)*x_r\n",
    "        s.append(s_i)\n",
    "        pi_l_a = pi_l.copy()\n",
    "        pi_r_a = pi_r.copy()\n",
    "        pi_l_l.append(pi_l_a)\n",
    "        pi_r_l.append(pi_r_a)\n",
    "    return np.array(s),np.array(pi_l_l),np.array(pi_r_l)"
   ]
  },
  {
   "cell_type": "code",
   "execution_count": 7,
   "metadata": {},
   "outputs": [],
   "source": [
    "def pi_count_1(pi_l,pi_r):\n",
    "    '''lr = 00,10,01,11'''\n",
    "    pi_r_1 = pi_r.copy()\n",
    "    pi_r_1 = pi_r_1*2\n",
    "    pi_class = pi_r_1+pi_l\n",
    "    return np.array([len(np.where(pi_class==0)[0])/len(pi_l),len(np.where(pi_class==1)[0])/len(pi_l),len(np.where(pi_class==2)[0])/len(pi_l),len(np.where(pi_class==3)[0])/len(pi_l)])\n"
   ]
  },
  {
   "cell_type": "code",
   "execution_count": 23,
   "metadata": {},
   "outputs": [],
   "source": [
    "def cal_expected_pi(var_l,var_r,b_array,tau):\n",
    "    '''lr = 00,10,01,11'''\n",
    "    b = b_array.reshape(-1)[0]\n",
    "    std_00 = 1\n",
    "    std_01 = (1+1/2/var_l)**-0.5\n",
    "    std_10 = (1+1/2/var_r)**-0.5\n",
    "    std_11 = (1+1/2/var_r+1/2/var_l)**-0.5\n",
    "    k = np.exp(-tau*(b**2+1/2/var_l-(2*b+1/var_l)**2/(1+1/2/var_l+1/2/var_r)/4))\n",
    "    return np.array([std_00/(std_00+std_01+std_10+k*std_11),std_01/(std_00+std_01+std_10+k*std_11),std_10/(std_00+std_01+std_10+k*std_11),k*std_11/(std_00+std_01+std_10+k*std_11)])"
   ]
  },
  {
   "cell_type": "code",
   "execution_count": 24,
   "metadata": {},
   "outputs": [
    {
     "data": {
      "text/plain": [
       "array([0.91566555, 0.04099995, 0.04093877, 0.00239573])"
      ]
     },
     "execution_count": 24,
     "metadata": {},
     "output_type": "execute_result"
    }
   ],
   "source": [
    "var_l,var_r,tau,b,p,no_sample = 0.001,0.001,1/100,0.5*np.ones(2000),2000,11000\n",
    "s_0001_0001,pi_l_0001_0001,pi_r_0001_0001 = simulation_new(var_l,var_r,tau,b,p,no_sample)\n",
    "pi_count_1(pi_l_0001_0001.reshape(-1),pi_r_0001_0001.reshape(-1))"
   ]
  },
  {
   "cell_type": "code",
   "execution_count": 25,
   "metadata": {},
   "outputs": [
    {
     "data": {
      "text/plain": [
       "array([0.91579463, 0.04091469, 0.04091469, 0.00237599])"
      ]
     },
     "execution_count": 25,
     "metadata": {},
     "output_type": "execute_result"
    }
   ],
   "source": [
    "cal_expected_pi(0.001,0.001,b,tau)"
   ]
  },
  {
   "cell_type": "code",
   "execution_count": 26,
   "metadata": {},
   "outputs": [],
   "source": [
    "var_l,var_r,tau,b,p,no_sample = 0.0005,0.0005,1/100,0.5*np.ones(1000),1000,11000\n",
    "s_00005_00005,pi_l_00005_00005,pi_r_00005_00005 = simulation_new(var_l,var_r,tau,b,p,no_sample)\n",
    "\n",
    "var_l,var_r,tau,b,p,no_sample = 0.001,0.001,1/100,0.5*np.ones(1000),1000,11000\n",
    "s_0001_0001,pi_l_0001_0001,pi_r_0001_0001 = simulation_new(var_l,var_r,tau,b,p,no_sample)\n",
    "\n",
    "var_l,var_r,tau,b,p,no_sample = 0.002,0.002,1/100,0.5*np.ones(1000),1000,11000\n",
    "s_0002_0002,pi_l_0002_0002,pi_r_0002_0002 = simulation_new(var_l,var_r,tau,b,p,no_sample)\n",
    "\n",
    "var_l,var_r,tau,b,p,no_sample = 0.003,0.003,1/100,0.5*np.ones(1000),1000,11000\n",
    "s_0003_0003,pi_l_0003_0003,pi_r_0003_0003 = simulation_new(var_l,var_r,tau,b,p,no_sample)\n",
    "\n",
    "var_l,var_r,tau,b,p,no_sample = 0.004,0.004,1/100,0.5*np.ones(1000),1000,11000\n",
    "s_0004_0004,pi_l_0004_0004,pi_r_0004_0004 = simulation_new(var_l,var_r,tau,b,p,no_sample)\n",
    "\n",
    "var_l,var_r,tau,b,p,no_sample = 0.005,0.005,1/100,0.5*np.ones(1000),1000,11000\n",
    "s_0005_0005,pi_l_0005_0005,pi_r_0005_0005 = simulation_new(var_l,var_r,tau,b,p,no_sample)\n",
    "\n",
    "p_pi_00005_00005 = cal_expected_pi(0.0005,0.0005,b,tau)\n",
    "p_pi_0001_0001 = cal_expected_pi(0.001,0.001,b,tau)\n",
    "p_pi_0002_0002 = cal_expected_pi(0.002,0.002,b,tau)\n",
    "p_pi_0003_0003 = cal_expected_pi(0.003,0.003,b,tau)\n",
    "p_pi_0004_0004 = cal_expected_pi(0.004,0.004,b,tau)\n",
    "p_pi_0005_0005 = cal_expected_pi(0.005,0.005,b,tau)"
   ]
  },
  {
   "cell_type": "code",
   "execution_count": 27,
   "metadata": {},
   "outputs": [],
   "source": [
    "var_l,var_r,tau,b,p,no_sample = 0.003,0.003,1/100,0.5*np.ones(1000),1000,11000\n",
    "s_0003_0003,pi_l_0003_0003,pi_r_0003_0003 = simulation_new(var_l,var_r,tau,b,p,no_sample)"
   ]
  },
  {
   "cell_type": "code",
   "execution_count": 28,
   "metadata": {},
   "outputs": [],
   "source": [
    "p_pi_00005_00005_ac = pi_count_1(pi_l_00005_00005.reshape(-1),pi_r_00005_00005.reshape(-1))\n",
    "p_pi_0001_0001_ac = pi_count_1(pi_l_0001_0001.reshape(-1),pi_r_0001_0001.reshape(-1))\n",
    "p_pi_0002_0002_ac = pi_count_1(pi_l_0002_0002.reshape(-1),pi_r_0002_0002.reshape(-1))\n",
    "p_pi_0003_0003_ac = pi_count_1(pi_l_0003_0003.reshape(-1),pi_r_0003_0003.reshape(-1))\n",
    "p_pi_0004_0004_ac = pi_count_1(pi_l_0004_0004.reshape(-1),pi_r_0004_0004.reshape(-1))\n",
    "p_pi_0005_0005_ac = pi_count_1(pi_l_0005_0005.reshape(-1),pi_r_0005_0005.reshape(-1))\n",
    "p_pi_ac = np.array([p_pi_00005_00005_ac,p_pi_0001_0001_ac,p_pi_0002_0002_ac,p_pi_0003_0003_ac,p_pi_0004_0004_ac,p_pi_0005_0005_ac])\n"
   ]
  },
  {
   "cell_type": "code",
   "execution_count": 29,
   "metadata": {},
   "outputs": [],
   "source": [
    "p_pi_exp = np.array([p_pi_00005_00005,p_pi_0001_0001,p_pi_0002_0002,p_pi_0003_0003,p_pi_0004_0004,p_pi_0005_0005])"
   ]
  },
  {
   "cell_type": "code",
   "execution_count": 30,
   "metadata": {},
   "outputs": [
    {
     "data": {
      "text/plain": [
       "Text(0, 0.5, 'density')"
      ]
     },
     "execution_count": 30,
     "metadata": {},
     "output_type": "execute_result"
    },
    {
     "data": {
      "image/png": "[encoded data removed]",
      "text/plain": [
       "<Figure size 432x288 with 1 Axes>"
      ]
     },
     "metadata": {
      "needs_background": "light"
     },
     "output_type": "display_data"
    }
   ],
   "source": [
    "var_array = np.array([0.0005,0.001,0.002,0.003,0.004,0.005])\n",
    "plt.scatter(var_array,p_pi_ac[:,0])\n",
    "plt.plot(var_array,p_pi_exp[:,0])\n",
    "plt.scatter(var_array,p_pi_ac[:,1])\n",
    "plt.plot(var_array,p_pi_exp[:,1])\n",
    "plt.legend(['p(pi_l,pi_r=0,0), actual','p(pi_l,pi_r=0,0), expected','p(pi_l,pi_r=1,0), actual','p(pi_l,pi_r=1,0), expected'])\n",
    "plt.xlabel('equal variance of both mode')\n",
    "plt.ylabel('density')"
   ]
  },
  {
   "cell_type": "code",
   "execution_count": 31,
   "metadata": {},
   "outputs": [
    {
     "data": {
      "text/plain": [
       "<matplotlib.legend.Legend at 0x12ccb9040>"
      ]
     },
     "execution_count": 31,
     "metadata": {},
     "output_type": "execute_result"
    },
    {
     "data": {
      "image/png": "[encoded data removed]",
      "text/plain": [
       "<Figure size 432x288 with 1 Axes>"
      ]
     },
     "metadata": {
      "needs_background": "light"
     },
     "output_type": "display_data"
    }
   ],
   "source": [
    "var_array = np.array([0.0005,0.001,0.002,0.003,0.004,0.005])\n",
    "plt.scatter(var_array,p_pi_ac[:,3])\n",
    "plt.plot(var_array,p_pi_exp[:,3])\n",
    "plt.legend(['p(pi_l,pi_r=1,1), actual','p(pi_l,pi_r=1,1) expected'])"
   ]
  },
  {
   "cell_type": "code",
   "execution_count": 43,
   "metadata": {},
   "outputs": [],
   "source": [
    "var_l,var_r,tau,b,p,no_sample = 0.00025,0.001,1/100,0.5*np.ones(1000),1000,11000\n",
    "s_000025_0001,pi_l_000025_0001,pi_r_000025_0001 = simulation_new(var_l,var_r,tau,b,p,no_sample)\n",
    "\n",
    "var_l,var_r,tau,b,p,no_sample = 0.0005,0.001,1/100,0.5*np.ones(1000),1000,11000\n",
    "s_00005_0001,pi_l_00005_0001,pi_r_00005_0001 = simulation_new(var_l,var_r,tau,b,p,no_sample)\n",
    "\n",
    "var_l,var_r,tau,b,p,no_sample = 0.002,0.001,1/100,0.5*np.ones(1000),1000,11000\n",
    "s_0002_0001,pi_l_0002_0001,pi_r_0002_0001 = simulation_new(var_l,var_r,tau,b,p,no_sample)\n",
    "\n",
    "var_l,var_r,tau,b,p,no_sample = 0.003,0.001,1/100,0.5*np.ones(1000),1000,11000\n",
    "s_0003_0001,pi_l_0003_0001,pi_r_0003_0001 = simulation_new(var_l,var_r,tau,b,p,no_sample)\n",
    "\n",
    "var_l,var_r,tau,b,p,no_sample = 0.004,0.001,1/100,0.5*np.ones(1000),1000,11000\n",
    "s_0004_0001,pi_l_0004_0001,pi_r_0004_0001 = simulation_new(var_l,var_r,tau,b,p,no_sample)\n",
    "\n",
    "var_l,var_r,tau,b,p,no_sample = 0.005,0.001,1/100,0.5*np.ones(1000),1000,11000\n",
    "s_0005_0001,pi_l_0005_0001,pi_r_0005_0001 = simulation_new(var_l,var_r,tau,b,p,no_sample)\n",
    "\n",
    "p_pi_000025_0001 = cal_expected_pi(0.00025,0.001,b,tau)\n",
    "p_pi_00005_0001 = cal_expected_pi(0.0005,0.001,b,tau)\n",
    "p_pi_0002_0001 = cal_expected_pi(0.002,0.001,b,tau)\n",
    "p_pi_0003_0001 = cal_expected_pi(0.003,0.001,b,tau)\n",
    "p_pi_0004_0001 = cal_expected_pi(0.004,0.001,b,tau)\n",
    "p_pi_0005_0001 = cal_expected_pi(0.005,0.001,b,tau)"
   ]
  },
  {
   "cell_type": "code",
   "execution_count": 44,
   "metadata": {},
   "outputs": [],
   "source": [
    "var_l,var_r,tau,b,p,no_sample = 0.001,0.001,1/100,0.5*np.ones(1000),1000,11000\n",
    "s_0001_0001,pi_l_0001_0001,pi_r_0001_0001 = simulation_new(var_l,var_r,tau,b,p,no_sample)\n",
    "p_pi_0001_0001 = cal_expected_pi(0.001,0.001,b,tau)\n",
    "p_pi_0001_0001_ac = pi_count_1(pi_l_0001_0001.reshape(-1),pi_r_0001_0001.reshape(-1))\n",
    "\n",
    "p_pi_exp_1 = np.array([p_pi_000025_0001,p_pi_00005_0001,p_pi_0001_0001,p_pi_0002_0001,p_pi_0003_0001,p_pi_0004_0001,p_pi_0005_0001])"
   ]
  },
  {
   "cell_type": "code",
   "execution_count": 45,
   "metadata": {},
   "outputs": [],
   "source": [
    "p_pi_000025_0001_ac = pi_count_1(pi_l_000025_0001.reshape(-1),pi_r_000025_0001.reshape(-1))\n",
    "p_pi_00005_0001_ac = pi_count_1(pi_l_00005_0001.reshape(-1),pi_r_00005_0001.reshape(-1))\n",
    "p_pi_0001_0001_ac = pi_count_1(pi_l_0001_0001.reshape(-1),pi_r_0001_0001.reshape(-1))\n",
    "p_pi_0002_0001_ac = pi_count_1(pi_l_0002_0001.reshape(-1),pi_r_0002_0001.reshape(-1))\n",
    "p_pi_0003_0001_ac = pi_count_1(pi_l_0003_0001.reshape(-1),pi_r_0003_0001.reshape(-1))\n",
    "p_pi_0004_0001_ac = pi_count_1(pi_l_0004_0001.reshape(-1),pi_r_0004_0001.reshape(-1))\n",
    "p_pi_0005_0001_ac = pi_count_1(pi_l_0005_0001.reshape(-1),pi_r_0005_0001.reshape(-1))\n",
    "p_pi_ac_1 = np.array([p_pi_000025_0001_ac,p_pi_00005_0001_ac,p_pi_0001_0001_ac,p_pi_0002_0001_ac,p_pi_0003_0001_ac,p_pi_0004_0001_ac,p_pi_0005_0001_ac])"
   ]
  },
  {
   "cell_type": "code",
   "execution_count": 46,
   "metadata": {},
   "outputs": [
    {
     "data": {
      "text/plain": [
       "Text(0, 0.5, 'density')"
      ]
     },
     "execution_count": 46,
     "metadata": {},
     "output_type": "execute_result"
    },
    {
     "data": {
      "image/png": "[encoded data removed]",
      "text/plain": [
       "<Figure size 432x288 with 1 Axes>"
      ]
     },
     "metadata": {
      "needs_background": "light"
     },
     "output_type": "display_data"
    }
   ],
   "source": [
    "var_array = np.array([0.00025,0.0005,0.001,0.002,0.003,0.004,0.005])\n",
    "#plt.scatter(var_array,p_pi_ac_1[:,0])\n",
    "#plt.plot(var_array,p_pi_exp_1[:,0])\n",
    "plt.scatter(var_array,p_pi_ac_1[:,1])\n",
    "plt.plot(var_array,p_pi_exp_1[:,1])\n",
    "plt.scatter(var_array,p_pi_ac_1[:,2])\n",
    "plt.plot(var_array,p_pi_exp_1[:,2])\n",
    "plt.legend(['p(pi_l,pi_r=1,0), actual','p(pi_l,pi_r=1,0), expected','p(pi_l,pi_r=0,1), actual','p(pi_l,pi_r=0,1), expected'])\n",
    "plt.xlabel('variance of the left mode (x=1)')\n",
    "plt.ylabel('density')\n"
   ]
  },
  {
   "cell_type": "code",
   "execution_count": 47,
   "metadata": {},
   "outputs": [
    {
     "data": {
      "text/plain": [
       "Text(0, 0.5, 'density')"
      ]
     },
     "execution_count": 47,
     "metadata": {},
     "output_type": "execute_result"
    },
    {
     "data": {
      "image/png": "[encoded data removed]",
      "text/plain": [
       "<Figure size 432x288 with 1 Axes>"
      ]
     },
     "metadata": {
      "needs_background": "light"
     },
     "output_type": "display_data"
    }
   ],
   "source": [
    "plt.scatter(var_array,p_pi_ac_1[:,0])\n",
    "plt.plot(var_array,p_pi_exp_1[:,0])\n",
    "plt.legend(['p(pi_l,pi_r=0,0), actual','p(pi_l,pi_r=0,0), expected'])\n",
    "plt.xlabel('variance of the left mode (x=1)')\n",
    "plt.ylabel('density')"
   ]
  },
  {
   "cell_type": "code",
   "execution_count": 41,
   "metadata": {},
   "outputs": [
    {
     "data": {
      "text/plain": [
       "Text(0, 0.5, 'density')"
      ]
     },
     "execution_count": 41,
     "metadata": {},
     "output_type": "execute_result"
    },
    {
     "data": {
      "image/png": "[encoded data removed]",
      "text/plain": [
       "<Figure size 432x288 with 1 Axes>"
      ]
     },
     "metadata": {
      "needs_background": "light"
     },
     "output_type": "display_data"
    }
   ],
   "source": [
    "plt.scatter(var_array,p_pi_ac_1[:,3])\n",
    "plt.plot(var_array,p_pi_exp_1[:,3])\n",
    "plt.legend(['p(pi_l,pi_r=1,1), actual','p(pi_l,pi_r=1,1), expected'])\n",
    "plt.xlabel('variance of the left mode (x=1)')\n",
    "plt.ylabel('density')\n"
   ]
  },
  {
   "cell_type": "code",
   "execution_count": 32,
   "metadata": {},
   "outputs": [
    {
     "data": {
      "text/plain": [
       "array([[1., 1., 1., 1., 1.],\n",
       "       [1., 1., 1., 1., 1.],\n",
       "       [1., 1., 1., 1., 1.],\n",
       "       [1., 1., 1., 1., 1.],\n",
       "       [1., 1., 1., 1., 1.]])"
      ]
     },
     "execution_count": 32,
     "metadata": {},
     "output_type": "execute_result"
    }
   ],
   "source": [
    "np.matmul(np.ones((5,1)),np.ones((1,5)))"
   ]
  },
  {
   "cell_type": "code",
   "execution_count": 55,
   "metadata": {},
   "outputs": [
    {
     "data": {
      "text/plain": [
       "array([[ 1.00000000e+00, -1.54447823e-02,  7.59558322e-03,\n",
       "        -1.02774509e-02, -4.56460518e-02,  2.06787462e-02,\n",
       "        -2.98155302e-02,  8.18925122e-03, -3.35783959e-02,\n",
       "        -4.34275464e-02, -5.30108224e-05, -2.61063745e-02,\n",
       "        -1.89664540e-02,  2.85192864e-02, -2.80472824e-02,\n",
       "        -2.50427228e-03, -8.85978505e-03,  3.25748800e-02,\n",
       "        -2.32984775e-02,  2.68319492e-02, -3.29644575e-02,\n",
       "         1.36917148e-02, -1.43726784e-02,  6.79879109e-04,\n",
       "        -2.28321305e-02],\n",
       "       [-1.54447823e-02,  1.00000000e+00, -1.08401357e-02,\n",
       "        -6.87073087e-03, -5.32562595e-03, -4.03799022e-02,\n",
       "         1.09264807e-02, -1.04099854e-02,  4.31837756e-02,\n",
       "        -1.70956308e-02, -1.65115384e-02,  3.22445991e-02,\n",
       "         4.60409553e-03, -1.36055142e-02,  1.73455399e-02,\n",
       "        -1.84212942e-02,  1.18836538e-02,  2.46960880e-02,\n",
       "         2.78402487e-02,  5.74953784e-03,  8.80526948e-03,\n",
       "         3.40076473e-02,  6.94778677e-03,  1.27619338e-02,\n",
       "         6.66568424e-02],\n",
       "       [ 7.59558322e-03, -1.08401357e-02,  1.00000000e+00,\n",
       "         1.95991970e-02, -1.93830376e-03,  2.01845778e-02,\n",
       "         3.74620504e-02, -2.24627645e-02, -7.09371804e-03,\n",
       "        -5.08829735e-03, -3.16614836e-03, -2.94513742e-03,\n",
       "         1.15701621e-02,  6.55326311e-03, -3.85207760e-02,\n",
       "         2.73479776e-02, -3.79693954e-03,  1.42746400e-02,\n",
       "         6.36721110e-04,  5.83831607e-03,  3.40589793e-02,\n",
       "        -1.62873002e-02,  1.34012417e-02,  2.17035940e-03,\n",
       "         1.32902554e-02],\n",
       "       [-1.02774509e-02, -6.87073087e-03,  1.95991970e-02,\n",
       "         1.00000000e+00, -2.03692850e-02, -6.49574229e-03,\n",
       "        -3.62036580e-03, -6.45410110e-03,  7.04641147e-03,\n",
       "        -1.04591856e-02, -5.98697129e-02, -1.24958221e-02,\n",
       "         5.82517614e-02, -1.85574800e-02,  1.43199910e-02,\n",
       "         3.60310976e-02, -3.29548384e-02,  1.57150180e-02,\n",
       "         2.88075548e-02, -3.21494171e-02,  5.56021046e-03,\n",
       "        -2.03217818e-02,  4.77547925e-03,  1.88150495e-02,\n",
       "         8.62237258e-03],\n",
       "       [-4.56460518e-02, -5.32562595e-03, -1.93830376e-03,\n",
       "        -2.03692850e-02,  1.00000000e+00, -7.01153272e-03,\n",
       "         1.33667142e-02, -1.04207537e-02,  1.63868815e-02,\n",
       "         1.97954686e-02, -1.74802904e-02,  1.91112163e-02,\n",
       "         2.00240739e-03,  2.41080157e-02, -2.08617645e-02,\n",
       "        -6.22967642e-03, -8.03975202e-03, -3.54739962e-02,\n",
       "         2.38853689e-02, -2.23534608e-02,  3.30366488e-02,\n",
       "        -7.43437925e-03,  2.37404915e-03, -1.44121650e-02,\n",
       "        -7.18711730e-04],\n",
       "       [ 2.06787462e-02, -4.03799022e-02,  2.01845778e-02,\n",
       "        -6.49574229e-03, -7.01153272e-03,  1.00000000e+00,\n",
       "         8.05701935e-03, -2.15809145e-02, -1.32435505e-02,\n",
       "        -7.95134707e-03, -2.73399706e-03, -1.46287873e-02,\n",
       "         3.67055514e-02, -2.38021438e-02, -2.83737791e-02,\n",
       "         2.94003416e-02,  2.33315599e-03, -4.53389449e-02,\n",
       "         3.92843413e-03,  4.82339416e-02,  6.68211152e-03,\n",
       "        -1.34642056e-02,  1.33177513e-02, -3.10366584e-02,\n",
       "        -2.65587400e-02],\n",
       "       [-2.98155302e-02,  1.09264807e-02,  3.74620504e-02,\n",
       "        -3.62036580e-03,  1.33667142e-02,  8.05701935e-03,\n",
       "         1.00000000e+00, -2.00660622e-02,  9.54913343e-03,\n",
       "        -3.82995732e-02,  7.21147690e-03,  1.32641931e-02,\n",
       "        -4.62009432e-03, -1.73912347e-02,  2.04614916e-02,\n",
       "        -1.90784285e-02, -9.66947024e-03,  6.45062578e-04,\n",
       "        -1.57288100e-02, -1.80004101e-02,  4.09420119e-03,\n",
       "         3.44492193e-02, -2.54082462e-02,  5.08100543e-03,\n",
       "        -2.27191172e-02],\n",
       "       [ 8.18925122e-03, -1.04099854e-02, -2.24627645e-02,\n",
       "        -6.45410110e-03, -1.04207537e-02, -2.15809145e-02,\n",
       "        -2.00660622e-02,  1.00000000e+00, -1.21280552e-02,\n",
       "         1.99901660e-02, -2.07031944e-02, -1.51897725e-02,\n",
       "        -1.51969449e-03,  8.65205297e-03, -9.65936710e-03,\n",
       "        -7.38378882e-03, -2.30234033e-02,  5.78565024e-03,\n",
       "         7.40145889e-02, -1.36900080e-02, -2.40485154e-02,\n",
       "         1.44346509e-02, -1.04095314e-02,  9.69036052e-03,\n",
       "        -1.17785757e-02],\n",
       "       [-3.35783959e-02,  4.31837756e-02, -7.09371804e-03,\n",
       "         7.04641147e-03,  1.63868815e-02, -1.32435505e-02,\n",
       "         9.54913343e-03, -1.21280552e-02,  1.00000000e+00,\n",
       "        -2.73300185e-02, -1.97685491e-02,  2.37959219e-02,\n",
       "        -4.06924332e-02,  1.17746643e-02,  6.61427853e-04,\n",
       "        -1.03337842e-02,  4.81974074e-02, -1.01620579e-02,\n",
       "        -5.53729832e-03,  6.99304275e-03, -1.21033582e-02,\n",
       "        -4.91098258e-02, -2.58480624e-02,  3.72184230e-03,\n",
       "        -3.50732827e-02],\n",
       "       [-4.34275464e-02, -1.70956308e-02, -5.08829735e-03,\n",
       "        -1.04591856e-02,  1.97954686e-02, -7.95134707e-03,\n",
       "        -3.82995732e-02,  1.99901660e-02, -2.73300185e-02,\n",
       "         1.00000000e+00, -3.95907424e-02, -3.59468024e-02,\n",
       "         1.34569067e-02,  5.95884243e-03, -3.34220804e-03,\n",
       "        -3.50736787e-02, -2.84971856e-02, -7.45132057e-03,\n",
       "         8.14319557e-03, -7.41874886e-03,  8.72514836e-03,\n",
       "        -2.83262333e-02,  2.51166606e-02,  1.69260931e-03,\n",
       "        -1.41122604e-02],\n",
       "       [-5.30108224e-05, -1.65115384e-02, -3.16614836e-03,\n",
       "        -5.98697129e-02, -1.74802904e-02, -2.73399706e-03,\n",
       "         7.21147690e-03, -2.07031944e-02, -1.97685491e-02,\n",
       "        -3.95907424e-02,  1.00000000e+00, -1.37779242e-02,\n",
       "         2.17212391e-02,  9.58716970e-03, -1.19205491e-02,\n",
       "         2.02791416e-02, -9.38303462e-03,  5.29150634e-03,\n",
       "         6.02756371e-03,  4.02588623e-02,  1.75725179e-02,\n",
       "         5.72498778e-04, -2.20132789e-03, -9.29260079e-03,\n",
       "         2.60638293e-02],\n",
       "       [-2.61063745e-02,  3.22445991e-02, -2.94513742e-03,\n",
       "        -1.24958221e-02,  1.91112163e-02, -1.46287873e-02,\n",
       "         1.32641931e-02, -1.51897725e-02,  2.37959219e-02,\n",
       "        -3.59468024e-02, -1.37779242e-02,  1.00000000e+00,\n",
       "         3.02870844e-02, -1.37978410e-02, -1.16035538e-02,\n",
       "         2.44883952e-02,  2.01666372e-02,  9.44845637e-03,\n",
       "        -5.36705262e-03, -8.55345288e-03,  1.57614852e-02,\n",
       "         1.36978961e-02, -2.58929235e-02,  2.51099974e-02,\n",
       "         2.39653698e-03],\n",
       "       [-1.89664540e-02,  4.60409553e-03,  1.15701621e-02,\n",
       "         5.82517614e-02,  2.00240739e-03,  3.67055514e-02,\n",
       "        -4.62009432e-03, -1.51969449e-03, -4.06924332e-02,\n",
       "         1.34569067e-02,  2.17212391e-02,  3.02870844e-02,\n",
       "         1.00000000e+00, -1.95622316e-02, -2.51612936e-02,\n",
       "         7.38652309e-03, -3.18030093e-02,  2.65204176e-03,\n",
       "         3.49917409e-02,  9.97905584e-05,  1.46084403e-02,\n",
       "         1.58629022e-02, -1.67337578e-02, -2.07093812e-02,\n",
       "        -3.55584881e-02],\n",
       "       [ 2.85192864e-02, -1.36055142e-02,  6.55326311e-03,\n",
       "        -1.85574800e-02,  2.41080157e-02, -2.38021438e-02,\n",
       "        -1.73912347e-02,  8.65205297e-03,  1.17746643e-02,\n",
       "         5.95884243e-03,  9.58716970e-03, -1.37978410e-02,\n",
       "        -1.95622316e-02,  1.00000000e+00,  3.21671070e-03,\n",
       "        -2.91132002e-02,  9.38675594e-05, -3.45233720e-02,\n",
       "         2.28530610e-02, -2.78798231e-02, -5.65133753e-03,\n",
       "         1.41115051e-02, -8.06644186e-03,  5.75513540e-03,\n",
       "         4.23705684e-04],\n",
       "       [-2.80472824e-02,  1.73455399e-02, -3.85207760e-02,\n",
       "         1.43199910e-02, -2.08617645e-02, -2.83737791e-02,\n",
       "         2.04614916e-02, -9.65936710e-03,  6.61427853e-04,\n",
       "        -3.34220804e-03, -1.19205491e-02, -1.16035538e-02,\n",
       "        -2.51612936e-02,  3.21671070e-03,  1.00000000e+00,\n",
       "        -1.27748697e-02, -1.77329393e-02, -1.67871173e-02,\n",
       "        -1.29610604e-02,  1.27934658e-02,  4.15210604e-02,\n",
       "         3.18094017e-03, -4.31819149e-03, -4.74197523e-02,\n",
       "         3.17170976e-02],\n",
       "       [-2.50427228e-03, -1.84212942e-02,  2.73479776e-02,\n",
       "         3.60310976e-02, -6.22967642e-03,  2.94003416e-02,\n",
       "        -1.90784285e-02, -7.38378882e-03, -1.03337842e-02,\n",
       "        -3.50736787e-02,  2.02791416e-02,  2.44883952e-02,\n",
       "         7.38652309e-03, -2.91132002e-02, -1.27748697e-02,\n",
       "         1.00000000e+00,  5.20348894e-03, -6.51325032e-03,\n",
       "        -3.51912645e-02,  2.43600975e-02,  1.90326241e-02,\n",
       "        -2.69632722e-02,  1.22565608e-03,  3.79266880e-02,\n",
       "         6.51856994e-03],\n",
       "       [-8.85978505e-03,  1.18836538e-02, -3.79693954e-03,\n",
       "        -3.29548384e-02, -8.03975202e-03,  2.33315599e-03,\n",
       "        -9.66947024e-03, -2.30234033e-02,  4.81974074e-02,\n",
       "        -2.84971856e-02, -9.38303462e-03,  2.01666372e-02,\n",
       "        -3.18030093e-02,  9.38675594e-05, -1.77329393e-02,\n",
       "         5.20348894e-03,  1.00000000e+00, -3.34698769e-02,\n",
       "        -2.78613268e-02, -1.99572119e-02,  3.80282598e-03,\n",
       "         1.41616602e-02, -2.10714501e-02, -1.57621715e-03,\n",
       "        -1.34581832e-02],\n",
       "       [ 3.25748800e-02,  2.46960880e-02,  1.42746400e-02,\n",
       "         1.57150180e-02, -3.54739962e-02, -4.53389449e-02,\n",
       "         6.45062578e-04,  5.78565024e-03, -1.01620579e-02,\n",
       "        -7.45132057e-03,  5.29150634e-03,  9.44845637e-03,\n",
       "         2.65204176e-03, -3.45233720e-02, -1.67871173e-02,\n",
       "        -6.51325032e-03, -3.34698769e-02,  1.00000000e+00,\n",
       "        -1.12700797e-02,  4.35723465e-03, -1.18659672e-02,\n",
       "         2.34166537e-02, -7.42941035e-03, -2.57646360e-03,\n",
       "         1.21826082e-02],\n",
       "       [-2.32984775e-02,  2.78402487e-02,  6.36721110e-04,\n",
       "         2.88075548e-02,  2.38853689e-02,  3.92843413e-03,\n",
       "        -1.57288100e-02,  7.40145889e-02, -5.53729832e-03,\n",
       "         8.14319557e-03,  6.02756371e-03, -5.36705262e-03,\n",
       "         3.49917409e-02,  2.28530610e-02, -1.29610604e-02,\n",
       "        -3.51912645e-02, -2.78613268e-02, -1.12700797e-02,\n",
       "         1.00000000e+00, -2.19454945e-02,  3.13557812e-02,\n",
       "         1.15363498e-02, -4.22402595e-02,  4.55828412e-02,\n",
       "         2.67247036e-02],\n",
       "       [ 2.68319492e-02,  5.74953784e-03,  5.83831607e-03,\n",
       "        -3.21494171e-02, -2.23534608e-02,  4.82339416e-02,\n",
       "        -1.80004101e-02, -1.36900080e-02,  6.99304275e-03,\n",
       "        -7.41874886e-03,  4.02588623e-02, -8.55345288e-03,\n",
       "         9.97905584e-05, -2.78798231e-02,  1.27934658e-02,\n",
       "         2.43600975e-02, -1.99572119e-02,  4.35723465e-03,\n",
       "        -2.19454945e-02,  1.00000000e+00,  1.90721429e-02,\n",
       "         2.69937704e-02, -1.37722470e-02,  1.53769330e-02,\n",
       "         4.00818383e-02],\n",
       "       [-3.29644575e-02,  8.80526948e-03,  3.40589793e-02,\n",
       "         5.56021046e-03,  3.30366488e-02,  6.68211152e-03,\n",
       "         4.09420119e-03, -2.40485154e-02, -1.21033582e-02,\n",
       "         8.72514836e-03,  1.75725179e-02,  1.57614852e-02,\n",
       "         1.46084403e-02, -5.65133753e-03,  4.15210604e-02,\n",
       "         1.90326241e-02,  3.80282598e-03, -1.18659672e-02,\n",
       "         3.13557812e-02,  1.90721429e-02,  1.00000000e+00,\n",
       "         7.15053200e-03,  2.91939887e-02, -1.80400663e-02,\n",
       "         2.85870661e-04],\n",
       "       [ 1.36917148e-02,  3.40076473e-02, -1.62873002e-02,\n",
       "        -2.03217818e-02, -7.43437925e-03, -1.34642056e-02,\n",
       "         3.44492193e-02,  1.44346509e-02, -4.91098258e-02,\n",
       "        -2.83262333e-02,  5.72498778e-04,  1.36978961e-02,\n",
       "         1.58629022e-02,  1.41115051e-02,  3.18094017e-03,\n",
       "        -2.69632722e-02,  1.41616602e-02,  2.34166537e-02,\n",
       "         1.15363498e-02,  2.69937704e-02,  7.15053200e-03,\n",
       "         1.00000000e+00, -8.30963316e-03, -4.56899053e-02,\n",
       "        -3.72867368e-03],\n",
       "       [-1.43726784e-02,  6.94778677e-03,  1.34012417e-02,\n",
       "         4.77547925e-03,  2.37404915e-03,  1.33177513e-02,\n",
       "        -2.54082462e-02, -1.04095314e-02, -2.58480624e-02,\n",
       "         2.51166606e-02, -2.20132789e-03, -2.58929235e-02,\n",
       "        -1.67337578e-02, -8.06644186e-03, -4.31819149e-03,\n",
       "         1.22565608e-03, -2.10714501e-02, -7.42941035e-03,\n",
       "        -4.22402595e-02, -1.37722470e-02,  2.91939887e-02,\n",
       "        -8.30963316e-03,  1.00000000e+00, -7.18303978e-04,\n",
       "        -9.00691743e-03],\n",
       "       [ 6.79879109e-04,  1.27619338e-02,  2.17035940e-03,\n",
       "         1.88150495e-02, -1.44121650e-02, -3.10366584e-02,\n",
       "         5.08100543e-03,  9.69036052e-03,  3.72184230e-03,\n",
       "         1.69260931e-03, -9.29260079e-03,  2.51099974e-02,\n",
       "        -2.07093812e-02,  5.75513540e-03, -4.74197523e-02,\n",
       "         3.79266880e-02, -1.57621715e-03, -2.57646360e-03,\n",
       "         4.55828412e-02,  1.53769330e-02, -1.80400663e-02,\n",
       "        -4.56899053e-02, -7.18303978e-04,  1.00000000e+00,\n",
       "        -1.41339459e-02],\n",
       "       [-2.28321305e-02,  6.66568424e-02,  1.32902554e-02,\n",
       "         8.62237258e-03, -7.18711730e-04, -2.65587400e-02,\n",
       "        -2.27191172e-02, -1.17785757e-02, -3.50732827e-02,\n",
       "        -1.41122604e-02,  2.60638293e-02,  2.39653698e-03,\n",
       "        -3.55584881e-02,  4.23705684e-04,  3.17170976e-02,\n",
       "         6.51856994e-03, -1.34581832e-02,  1.21826082e-02,\n",
       "         2.67247036e-02,  4.00818383e-02,  2.85870661e-04,\n",
       "        -3.72867368e-03, -9.00691743e-03, -1.41339459e-02,\n",
       "         1.00000000e+00]])"
      ]
     },
     "execution_count": 55,
     "metadata": {},
     "output_type": "execute_result"
    }
   ],
   "source": [
    "s_test = np.ones((2000,5,5))+random.normal(0,1,(2000,5,5))\n",
    "s_test=s_test.reshape(2000,-1)\n",
    "s_square = np.matmul(s_test.T,s_test)\n",
    "s_ave = np.mean(s_test,axis=0)\n",
    "s_var = np.std(s_test,axis=0)\n",
    "(s_square/2000-np.matmul(s_ave.reshape(-1,1),s_ave.reshape(1,-1)))/np.matmul(s_var.reshape(-1,1),s_var.reshape(1,-1))"
   ]
  }
 ],
 "metadata": {
  "kernelspec": {
   "display_name": "Python 3.9.12",
   "language": "python",
   "name": "python3"
  },
  "language_info": {
   "codemirror_mode": {
    "name": "ipython",
    "version": 3
   },
   "file_extension": ".py",
   "mimetype": "text/x-python",
   "name": "python",
   "nbconvert_exporter": "python",
   "pygments_lexer": "ipython3",
   "version": "3.9.12"
  },
  "orig_nbformat": 4,
  "vscode": {
   "interpreter": {
    "hash": "40d3a090f54c6569ab1632332b64b2c03c39dcf918b08424e98f38b5ae0af88f"
   }
  }
 },
 "nbformat": 4,
 "nbformat_minor": 2
}
