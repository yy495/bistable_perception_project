{
 "cells": [
  {
   "cell_type": "code",
   "execution_count": 7,
   "id": "1d6b48e9",
   "metadata": {},
   "outputs": [],
   "source": [
    "import numpy as np\n",
    "import numpy.random as random\n",
    "import matplotlib.pyplot as plt"
   ]
  },
  {
   "cell_type": "code",
   "execution_count": 8,
   "id": "f28815c8",
   "metadata": {},
   "outputs": [],
   "source": [
    "#testing parallel run of shorter simulations for Gershman 2012's model, p is the number of simulations to run in parallel\n",
    "#p(pi_l,pi_r=0)=0"
   ]
  },
  {
   "cell_type": "code",
   "execution_count": 9,
   "id": "56d8ca07",
   "metadata": {},
   "outputs": [],
   "source": [
    "def p_w_new(index,w,x_l,x_r,pi_l,pi_r,beta,var_l,var_r,b,tau,p):\n",
    "    #index: the index of the weight to be sampled, tuple (i,j)\n",
    "    #var_1: right mode; var_0: left mode\n",
    "    i,j = index[0],index[1]\n",
    "    s_n = w[:,i,j]*x_l[:,i,j]+(1-w[:,i,j])*x_r[:,i,j]\n",
    "    E_s = (b[:,i,j]-s_n)**2\n",
    "    w_extended = np.concatenate((w[:,:,0].reshape(p,-1,1),w,w[:,:,-1].reshape(p,-1,1)),axis=2)\n",
    "    w_extended = np.concatenate((w_extended[:,0,:].reshape(p,1,-1),w_extended,w_extended[:,-1,:].reshape(p,1,-1)),axis=1)\n",
    "    E_s = E_s + beta*((w_extended[:,i+1,j+1]-w_extended[:,i,j+1])**2+(w_extended[:,i+1,j+1]-w_extended[:,i+1,j])**2)\n",
    "    E_s = E_s + beta*((w_extended[:,i+1,j+1]-w_extended[:,i+2,j+1])**2+(w_extended[:,i+1,j+1]-w_extended[:,i+1,j+2])**2)\n",
    "    E_x = 1/(2*var_l)*pi_l[:,i,j]*(x_l[:,i,j]-s_n)**2+1/(2*var_r)*pi_r[:,i,j]*(x_r[:,i,j]-s_n)**2\n",
    "    return np.exp(-tau*(E_x+E_s))"
   ]
  },
  {
   "cell_type": "code",
   "execution_count": 10,
   "id": "37c317af",
   "metadata": {},
   "outputs": [],
   "source": [
    "def p_pi_l_new(index,w,x_l,x_r,pi_l,pi_r,var_l,b,tau,gamma,p):\n",
    "    #sparse coefficient alpha TBC\n",
    "    i,j = index[0],index[1]\n",
    "    s_n = w[:,i,j]*x_l[:,i,j]+(1-w[:,i,j])*x_r[:,i,j]\n",
    "    E_xl = 1/(2*var_l)*pi_l[:,i,j]*(x_l[:,i,j]-s_n)**2\n",
    "    pi_extended = np.concatenate((pi_l[:,:,0].reshape(p,-1,1),pi_l,pi_l[:,:,-1].reshape(p,-1,1)),axis=2)\n",
    "    pi_extended = np.concatenate((pi_extended[:,0,:].reshape(p,1,-1),pi_extended,pi_extended[:,-1,:].reshape(p,1,-1)),axis=1)\n",
    "    #E_pi_l = alpha*(pi_extended[i+2,j+1]+pi_extended[i+1,j+2]+pi_extended[i,j+1]+pi_extended[i+1,j])\n",
    "    '''E_pi_l = E_pi_l + gamma*((pi_extended[:,i+1,j+1]-pi_extended[:,i,j+1])**2+(pi_extended[:i+1,j+1]-pi_extended[:,i+1,j])**2)'''\n",
    "    E_pi_l = gamma*((pi_extended[:,i+1,j+1]-pi_extended[:,i,j+1])**2+(pi_extended[:,i+1,j+1]-pi_extended[:,i+1,j])**2)\n",
    "    E_pi_l = E_pi_l + gamma*((pi_extended[:,i+1,j+1]-pi_extended[:,i+2,j+1])**2+(pi_extended[:,i+1,j+1]-pi_extended[:,i+1,j+2])**2)\n",
    "    return np.exp(-tau*(E_xl+E_pi_l))*(1+np.sign(pi_l[:,i,j]+pi_r[:,i,j]-0.5))/2+1e-50"
   ]
  },
  {
   "cell_type": "code",
   "execution_count": 11,
   "id": "77a8527c",
   "metadata": {},
   "outputs": [],
   "source": [
    "def p_pi_r_new(index,w,x_l,x_r,pi_l,pi_r,var_r,b,tau,gamma,p):\n",
    "    #sparse coefficient alpha TBC\n",
    "    i,j = index[0],index[1]\n",
    "    s_n = w[:,i,j]*x_l[:,i,j]+(1-w[:,i,j])*x_r[:,i,j]\n",
    "    E_xr = 1/(2*var_r)*pi_r[:,i,j]*(x_r[:,i,j]-s_n)**2\n",
    "    pi_extended = np.concatenate((pi_r[:,:,0].reshape(p,-1,1),pi_r,pi_r[:,:,-1].reshape(p,-1,1)),axis=2)\n",
    "    pi_extended = np.concatenate((pi_extended[:,0,:].reshape(p,1,-1),pi_extended,pi_extended[:,-1,:].reshape(p,1,-1)),axis=1)\n",
    "    #E_pi_l = alpha*(pi_extended[i+2,j+1]+pi_extended[i+1,j+2]+pi_extended[i,j+1]+pi_extended[i+1,j])\n",
    "    '''E_pi_l = E_pi_l + gamma*((pi_extended[:,i+1,j+1]-pi_extended[:,i,j+1])**2+(pi_extended[:i+1,j+1]-pi_extended[:,i+1,j])**2)'''\n",
    "    E_pi_r = gamma*((pi_extended[:,i+1,j+1]-pi_extended[:,i,j+1])**2+(pi_extended[:,i+1,j+1]-pi_extended[:,i+1,j])**2)\n",
    "    E_pi_r = E_pi_r + gamma*((pi_extended[:,i+1,j+1]-pi_extended[:,i+2,j+1])**2+(pi_extended[:,i+1,j+1]-pi_extended[:,i+1,j+2])**2)\n",
    "    return np.exp(-tau*(E_xr+E_pi_r))*(1+np.sign(pi_l[:,i,j]+pi_r[:,i,j]-0.5))/2+1e-50"
   ]
  },
  {
   "cell_type": "code",
   "execution_count": 12,
   "id": "22f24c22",
   "metadata": {},
   "outputs": [],
   "source": [
    "def proposal_function_new(z, index, p, sigma = 1):\n",
    "    #generate a new proposal from the current sample\n",
    "    #change only one element at a time!\n",
    "    z_star = z.copy()\n",
    "    i,j = index[0],index[1]\n",
    "    z_star[:,i,j] = z_star[:,i,j] + sigma*random.normal(size = (p))\n",
    "    return z_star"
   ]
  },
  {
   "cell_type": "code",
   "execution_count": 13,
   "id": "3c202cd9",
   "metadata": {},
   "outputs": [],
   "source": [
    "def binary_proposal_new(z,index):\n",
    "    #p: the probability of switch, to stablize the system\n",
    "    z_star = z.copy()\n",
    "    z_star[:,index[0],index[1]] = 1-z[:,index[0],index[1]]\n",
    "    return z_star"
   ]
  },
  {
   "cell_type": "code",
   "execution_count": 14,
   "id": "be56e949",
   "metadata": {},
   "outputs": [],
   "source": [
    "def sample_rejection_w_new(index,w,w_star,x_l,x_r,pi_l,pi_r,beta,var_l,var_r,b,tau,p):\n",
    "    p_w_cur = p_w_new(index,w,x_l,x_r,pi_l,pi_r,beta,var_l,var_r,b,tau,p)\n",
    "    p_w_star = p_w_new(index,w_star,x_l,x_r,pi_l,pi_r,beta,var_l,var_r,b,tau,p)\n",
    "    p_acc = p_w_star/p_w_cur\n",
    "    p_ran = random.random(p)\n",
    "    acc = np.sign(p_acc-p_ran).astype('int')\n",
    "    return acc\n",
    "    \n",
    "def sample_rejection_pi_l_new(index,w,x_l,x_r,pi_l,pi_l_star,pi_r,var_l,b,tau,gamma,p):\n",
    "    p_pi_l_cur = p_pi_l_new(index,w,x_l,x_r,pi_l,pi_r,var_l,b,tau,gamma,p)\n",
    "    p_pi_l_star = p_pi_l_new(index,w,x_l,x_r,pi_l_star,pi_r,var_l,b,tau,gamma,p)\n",
    "    p_acc = p_pi_l_star/p_pi_l_cur\n",
    "    p_ran = random.random(p)\n",
    "    acc = np.sign(p_acc-p_ran).astype('int')\n",
    "    return acc\n",
    "    \n",
    "def sample_rejection_pi_r_new(index,w,x_l,x_r,pi_l,pi_r,pi_r_star,var_r,b,tau,gamma,p):\n",
    "    p_pi_r_cur = p_pi_r_new(index,w,x_l,x_r,pi_l,pi_r,var_r,b,tau,gamma,p)\n",
    "    p_pi_r_star = p_pi_r_new(index,w,x_l,x_r,pi_l,pi_r_star,var_r,b,tau,gamma,p)\n",
    "    p_acc = p_pi_r_star/p_pi_r_cur\n",
    "    p_ran = random.random(p)\n",
    "    acc = np.sign(p_acc-p_ran).astype('int')\n",
    "    return acc"
   ]
  },
  {
   "cell_type": "code",
   "execution_count": 15,
   "id": "2d57c4d3",
   "metadata": {},
   "outputs": [],
   "source": [
    "def simulation_new(var_l,var_r,beta,gamma,alpha,tau,b,dim,p,no_sample):\n",
    "    #p: no. parallel sampling sequences\n",
    "    #no. sample: no. samples in each sequence\n",
    "    #dim: dimension of each MRF\n",
    "    sampling_order_i = np.arange(dim)\n",
    "    sampling_order_j = np.arange(dim)\n",
    "\n",
    "    #set initial condition for w, pi_r, pi_l\n",
    "    #set visual input x_r, x_l as conflicting input\n",
    "    x_l = np.ones((p,dim,dim))\n",
    "    x_r = np.zeros((p,dim,dim))\n",
    "    w = random.rand(p,dim,dim)\n",
    "    pi_l = random.randint(0,2,(p,dim,dim))\n",
    "    pi_r = random.randint(0,2,(p,dim,dim))\n",
    "\n",
    "    s = []\n",
    "    pi_l_l = []\n",
    "    pi_r_l = []\n",
    "    for m in range(int(no_sample)):\n",
    "        #order of sweep is randomnized\n",
    "        random.shuffle(sampling_order_i)\n",
    "        random.shuffle(sampling_order_j)\n",
    "        #the following for loop update on pi_l\n",
    "        for i in sampling_order_i:\n",
    "            for j in sampling_order_j:\n",
    "                index = (i,j)\n",
    "                pi_r_star = binary_proposal_new(pi_r, index)\n",
    "                acc_1 = sample_rejection_pi_r_new(index,w,x_l,x_r,pi_l,pi_r,pi_r_star,var_r,b,tau,gamma,p)\n",
    "                for j in range(p):\n",
    "                    if acc_1[j] == 1:\n",
    "                        pi_r[j,:,:] = pi_r_star[j,:,:]\n",
    "\n",
    "        #the following for loop update on pi_r\n",
    "        for i in sampling_order_i:\n",
    "            for j in sampling_order_j:\n",
    "                index = (i,j)\n",
    "                pi_l_star = binary_proposal_new(pi_l, index)\n",
    "                acc_2 = sample_rejection_pi_l_new(index,w,x_l,x_r,pi_l,pi_l_star,pi_r,var_l,b,tau,gamma,p)\n",
    "                for j in range(p):\n",
    "                    if acc_2[j] == 1:\n",
    "                        pi_l[j,:,:] = pi_l_star[j,:,:]\n",
    "    \n",
    "            #the following for loop update on w\n",
    "            for i in sampling_order_i:\n",
    "                for j in sampling_order_j:\n",
    "                    index = (i,j)\n",
    "                    w_star = proposal_function_new(w, index, p)\n",
    "                    acc_3 = sample_rejection_w_new(index,w,w_star,x_l,x_r,pi_l,pi_r,beta,var_l,var_r,b,tau,p)\n",
    "                    for j in range(p):\n",
    "                        if acc_3[j] == 1:\n",
    "                            w[j,:,:] = w_star[j,:,:]\n",
    "        \n",
    "        s_i = w*x_l+(1-w)*x_r\n",
    "        s.append(s_i)\n",
    "        pi_l_a = pi_l.copy()\n",
    "        pi_r_a = pi_r.copy()\n",
    "        pi_l_l.append(pi_l_a)\n",
    "        pi_r_l.append(pi_r_a)\n",
    "    return np.array(s),pi_l_l,pi_r_l"
   ]
  },
  {
   "cell_type": "code",
   "execution_count": 16,
   "id": "8780e171",
   "metadata": {},
   "outputs": [],
   "source": [
    "#from node's state to the no. node > 0.5 in each step\n",
    "def node_count(s,p,no_sample):\n",
    "    state_no_array = []\n",
    "    for i in range(p):\n",
    "        state_no_array_i = []\n",
    "        for j in range(no_sample):\n",
    "            state_no_array_i.append(len(np.where(s[j,i,:,:]>0.5)[0]))\n",
    "        state_no_array.append(state_no_array_i)\n",
    "    state_no_array = np.array(state_no_array)\n",
    "    return state_no_array"
   ]
  },
  {
   "cell_type": "code",
   "execution_count": 17,
   "id": "daa52eb9",
   "metadata": {},
   "outputs": [],
   "source": [
    "def domi_period_count(state_list_input,dim):\n",
    "    cross_list = []\n",
    "    #element in cross list: (index,cross_type)\n",
    "    #cross type = 1: upper bound going up\n",
    "    #cross type = 2: lower bound going down\n",
    "    for i in range(1,len(state_list_input)):\n",
    "        if state_list_input[i-1]>dim**2*0.1 and state_list_input[i]<dim**2*0.1:\n",
    "            cross_list.append((i,2))\n",
    "        elif state_list_input[i-1]<dim**2*0.9 and state_list_input[i]>dim**2*0.9:\n",
    "            cross_list.append((i,1))\n",
    "    switch_list = [cross_list[0]]\n",
    "    cross = cross_list[0][1]\n",
    "    for i in range(1,len(cross_list)):\n",
    "        if cross_list[i][1] != cross:\n",
    "            cross = cross_list[i][1]\n",
    "            switch_list.append(cross_list[i])\n",
    "    domi_list =[]\n",
    "    for i in range(1,len(switch_list)):\n",
    "        domi_list.append(switch_list[i][0]-switch_list[i-1][0])\n",
    "    return domi_list\n",
    "\n",
    "def hist_plot(x,n):\n",
    "    plt.hist(x,n)\n",
    "    return np.mean(x),np.std(x)\n",
    "\n",
    "def generate_domi_list(state_count,dim):\n",
    "    domi_list = []\n",
    "    for state_list_i in state_count:\n",
    "        domi_list_i = domi_period_count(state_list_i,dim)\n",
    "        domi_list = domi_list + domi_list_i\n",
    "    return domi_list"
   ]
  },
  {
   "cell_type": "code",
   "execution_count": 18,
   "id": "f4e1bb59",
   "metadata": {},
   "outputs": [],
   "source": [
    "def domi_period_count_new(state_list_input,dim):\n",
    "    cross_list = []\n",
    "    #element in cross list: (index,cross_type)\n",
    "    #cross type = 1: upper bound going up\n",
    "    #cross type = 2: lower bound going down\n",
    "    for i in range(1,len(state_list_input)):\n",
    "        if state_list_input[i-1]>0.1*dim**2 and state_list_input[i]<0.1*dim**2:\n",
    "            cross_list.append((i,2))\n",
    "        elif state_list_input[i-1]<0.9*dim**2 and state_list_input[i]>0.9*dim**2:\n",
    "            cross_list.append((i,1))\n",
    "    switch_list = [cross_list[0]]\n",
    "    cross = cross_list[0][1]\n",
    "    for i in range(1,len(cross_list)):\n",
    "        if cross_list[i][1] != cross:\n",
    "            cross = cross_list[i][1]\n",
    "            switch_list.append(cross_list[i])\n",
    "    domi_list =[]\n",
    "    percept_list = []\n",
    "    for i in range(1,len(switch_list)):\n",
    "        domi_list.append(switch_list[i][0]-switch_list[i-1][0])\n",
    "        percept_list.append(switch_list[i-1][1])\n",
    "    return domi_list,percept_list\n",
    "\n",
    "def generate_domi_percept_list(state_count,dim):\n",
    "    domi_list = []\n",
    "    percept_list = []\n",
    "    for state_list_i in state_count:\n",
    "        domi_list_i,percept_list_i = domi_period_count_new(state_list_i,dim)\n",
    "        domi_list = domi_list + domi_list_i\n",
    "        percept_list = percept_list+percept_list_i\n",
    "    return domi_list,percept_list"
   ]
  },
  {
   "cell_type": "code",
   "execution_count": 19,
   "id": "9cb20ec8",
   "metadata": {},
   "outputs": [],
   "source": [
    "def predomi_count(domi_period,domi_percept):\n",
    "    domi_1 = 0\n",
    "    domi_2 = 0\n",
    "    for i in range(len(domi_period)):\n",
    "        if domi_percept[i] == 1:\n",
    "            domi_1 = domi_1 + domi_period[i]\n",
    "        else:\n",
    "            domi_2 = domi_2 + domi_period[i]\n",
    "    return domi_1/np.sum(domi_period),domi_2/np.sum(domi_period)\n",
    "\n",
    "def ave_domi_count(domi_period,domi_percept):\n",
    "    domi_1_t = 0\n",
    "    domi_2_t = 0\n",
    "    domi_1_count = 0\n",
    "    domi_2_count = 0\n",
    "    for i in range(len(domi_period)):\n",
    "        if int(domi_percept[i]) == 1:\n",
    "            domi_1_t = domi_1_t + domi_period[i]\n",
    "            domi_1_count = domi_1_count +1\n",
    "        else:\n",
    "            domi_2_t = domi_2_t + domi_period[i]\n",
    "            domi_2_count = domi_2_count +1\n",
    "    return domi_1_t/domi_1_count, domi_2_t/domi_2_count"
   ]
  },
  {
   "cell_type": "code",
   "execution_count": 20,
   "id": "ed11e998",
   "metadata": {},
   "outputs": [],
   "source": [
    "def pi_count(pi_l,pi_r):\n",
    "    pi_lr_00 = 0\n",
    "    pi_lr_01 = 0\n",
    "    pi_lr_10 = 0\n",
    "    pi_lr_11 = 0\n",
    "    for i in range(len(pi_l)):\n",
    "        if pi_l[i]==0 and pi_r[i]==0:\n",
    "            pi_lr_00 +=1\n",
    "        if pi_l[i]==0 and pi_r[i]==1:\n",
    "            pi_lr_01 +=1\n",
    "        if pi_l[i]==1 and pi_r[i]==0:\n",
    "            pi_lr_10 +=1\n",
    "        if pi_l[i]==1 and pi_r[i]==1:\n",
    "            pi_lr_11 +=1\n",
    "    return pi_lr_00/len(pi_l),pi_lr_01/len(pi_l),pi_lr_10/len(pi_l),pi_lr_11/len(pi_l)"
   ]
  },
  {
   "cell_type": "code",
   "execution_count": 21,
   "id": "2f12d256",
   "metadata": {},
   "outputs": [
    {
     "name": "stdout",
     "output_type": "stream",
     "text": [
      "done\n",
      "done\n",
      "done\n",
      "done\n",
      "done\n"
     ]
    }
   ],
   "source": [
    "var_l,var_r,beta,gamma,alpha,tau,b,dim,p,no_sample = 0.001,0.001,10,10,0,1/100,0.5*np.ones((100,5,5)),5,100,4400\n",
    "s_0001_0001, pi_l_l_0001_0001, pi_r_l_0001_0001 = simulation_new(var_l,var_r,beta,gamma,alpha,tau,b,dim,p,no_sample)\n",
    "print('done')\n",
    "\n",
    "var_l,var_r,beta,gamma,alpha,tau,b,dim,p,no_sample = 0.0025,0.0025,10,10,0,1/100,0.5*np.ones((100,5,5)),5,100,4400\n",
    "s_00025_00025, pi_l_l_00025_00025, pi_r_l_00025_00025 = simulation_new(var_l,var_r,beta,gamma,alpha,tau,b,dim,p,no_sample)\n",
    "print('done')\n",
    "\n",
    "var_l,var_r,beta,gamma,alpha,tau,b,dim,p,no_sample = 0.005,0.005,10,10,0,1/100,0.5*np.ones((100,5,5)),5,100,4400\n",
    "s_0005_0005, pi_l_l_0005_0005, pi_r_l_0005_0005 = simulation_new(var_l,var_r,beta,gamma,alpha,tau,b,dim,p,no_sample)\n",
    "print('done')\n",
    "\n",
    "var_l,var_r,beta,gamma,alpha,tau,b,dim,p,no_sample = 0.0005,0.0005,10,10,0,1/100,0.5*np.ones((100,5,5)),5,100,4400\n",
    "s_00005_00005, pi_l_l_00005_00005, pi_r_l_00005_00005 = simulation_new(var_l,var_r,beta,gamma,alpha,tau,b,dim,p,no_sample)\n",
    "print('done')\n",
    "\n",
    "var_l,var_r,beta,gamma,alpha,tau,b,dim,p,no_sample = 0.00025,0.00025,10,10,0,1/100,0.5*np.ones((100,5,5)),5,100,4400\n",
    "s_000025_000025, pi_l_l_000025_000025, pi_r_l_000025_000025 = simulation_new(var_l,var_r,beta,gamma,alpha,tau,b,dim,p,no_sample)\n",
    "print('done')\n",
    "\n",
    "var_l,var_r,beta,gamma,alpha,tau,b,dim,p,no_sample = 0.0001,0.0001,10,10,0,1/100,0.5*np.ones((100,5,5)),5,100,4400\n",
    "s_00001_00001, pi_l_l_00001_00001, pi_r_l_00001_00001 = simulation_new(var_l,var_r,beta,gamma,alpha,tau,b,dim,p,no_sample)"
   ]
  },
  {
   "cell_type": "code",
   "execution_count": 22,
   "id": "b9eb9347",
   "metadata": {},
   "outputs": [],
   "source": [
    "var_l,var_r,beta,gamma,alpha,tau,b,dim,p,no_sample = 0.0001,0.0001,10,10,0,1/100,0.5*np.ones((100,5,5)),5,100,4400\n",
    "s_00001_00001, pi_l_l_00001_00001, pi_r_l_00001_00001 = simulation_new(var_l,var_r,beta,gamma,alpha,tau,b,dim,p,no_sample)"
   ]
  },
  {
   "cell_type": "code",
   "execution_count": 23,
   "id": "3b13bc6a",
   "metadata": {},
   "outputs": [
    {
     "name": "stdout",
     "output_type": "stream",
     "text": [
      "(0.0, 0.5019994545454546, 0.4979929090909091, 7.636363636363636e-06)\n"
     ]
    },
    {
     "data": {
      "image/png": "[encoded data removed]",
      "text/plain": [
       "<Figure size 432x288 with 1 Axes>"
      ]
     },
     "metadata": {
      "needs_background": "light"
     },
     "output_type": "display_data"
    }
   ],
   "source": [
    "plt.hist(np.array(s_00001_00001).reshape(-1),1000,density=True)\n",
    "plt.xlabel('percept')\n",
    "plt.ylabel('density')\n",
    "print(pi_count(np.array(pi_l_l_00001_00001).reshape(-1),np.array(pi_r_l_00001_00001).reshape(-1)))"
   ]
  },
  {
   "cell_type": "code",
   "execution_count": 24,
   "id": "cd55661f",
   "metadata": {},
   "outputs": [
    {
     "name": "stdout",
     "output_type": "stream",
     "text": [
      "(0.0, 0.48405536363636364, 0.48584472727272726, 0.03009990909090909)\n",
      "(0.0, 0.4357132727272727, 0.43645645454545456, 0.12783027272727274)\n",
      "(0.0, 0.3990803636363636, 0.39920354545454545, 0.2017160909090909)\n",
      "(0.0, 0.4995827272727273, 0.49790954545454547, 0.0025077272727272726)\n",
      "(0.0, 0.5172742727272728, 0.482696, 2.9727272727272727e-05)\n",
      "(0.0, 0.5019994545454546, 0.4979929090909091, 7.636363636363636e-06)\n"
     ]
    }
   ],
   "source": [
    "print(pi_count(np.array(pi_l_l_0001_0001).reshape(-1),np.array(pi_r_l_0001_0001).reshape(-1)))\n",
    "print(pi_count(np.array(pi_l_l_00025_00025).reshape(-1),np.array(pi_r_l_00025_00025).reshape(-1)))\n",
    "print(pi_count(np.array(pi_l_l_0005_0005).reshape(-1),np.array(pi_r_l_0005_0005).reshape(-1)))\n",
    "print(pi_count(np.array(pi_l_l_00005_00005).reshape(-1),np.array(pi_r_l_00005_00005).reshape(-1)))\n",
    "print(pi_count(np.array(pi_l_l_000025_000025).reshape(-1),np.array(pi_r_l_000025_000025).reshape(-1)))\n",
    "print(pi_count(np.array(pi_l_l_00001_00001).reshape(-1),np.array(pi_r_l_00001_00001).reshape(-1)))"
   ]
  },
  {
   "cell_type": "code",
   "execution_count": 25,
   "id": "1c6de345",
   "metadata": {},
   "outputs": [
    {
     "data": {
      "text/plain": [
       "<matplotlib.legend.Legend at 0x11af549a0>"
      ]
     },
     "execution_count": 25,
     "metadata": {},
     "output_type": "execute_result"
    },
    {
     "data": {
      "image/png": "[encoded data removed]",
      "text/plain": [
       "<Figure size 432x288 with 1 Axes>"
      ]
     },
     "metadata": {
      "needs_background": "light"
     },
     "output_type": "display_data"
    }
   ],
   "source": [
    "plt.scatter(np.array([0.001,0.0025,0.005,0.0005,0.00025,0.0001]),np.array([0,0,0,0,0,0]))\n",
    "plt.scatter(np.array([0.001,0.0025,0.005,0.0005,0.00025,0.0001]),np.array([0.4843,0.4356,0.3989,0.5000,0.5096,0.4968]))\n",
    "plt.scatter(np.array([0.001,0.0025,0.005,0.0005,0.00025,0.0001]),np.array([0.4855,0.4368,0.3992,0.4975,0.4904,0.5032]))\n",
    "plt.scatter(np.array([0.001,0.0025,0.005,0.0005,0.00025,0.0001]),np.array([0.03,0.128,0.2019,0.0025,3e-5,6e-5]))\n",
    "plt.xlabel('equal variance of modes sigma^2')\n",
    "plt.ylabel('probability')\n",
    "plt.legend(['p(pi_left=0,pi_right=0)','p(pi_left=0,pi_right=1)','p(pi_left=1,pi_right=0)','p(pi_left=1,pi_right=1)'])"
   ]
  },
  {
   "cell_type": "code",
   "execution_count": 26,
   "id": "a424c507",
   "metadata": {},
   "outputs": [],
   "source": [
    "var_l,var_r,beta,gamma,alpha,tau,b,dim,p,no_sample = 0.0025,0.001,10,10,0,1/100,0.5*np.ones((100,5,5)),5,100,4400\n",
    "s_00025_0001, pi_l_l_00025_0001, pi_r_l_00025_0001 = simulation_new(var_l,var_r,beta,gamma,alpha,tau,b,dim,p,no_sample)\n",
    "\n",
    "var_l,var_r,beta,gamma,alpha,tau,b,dim,p,no_sample = 0.005,0.001,10,10,0,1/100,0.5*np.ones((100,5,5)),5,100,4400\n",
    "s_0005_0001, pi_l_l_0005_0001, pi_r_l_0005_0001 = simulation_new(var_l,var_r,beta,gamma,alpha,tau,b,dim,p,no_sample)\n",
    "\n",
    "var_l,var_r,beta,gamma,alpha,tau,b,dim,p,no_sample = 0.0005,0.001,10,10,0,1/100,0.5*np.ones((100,5,5)),5,100,4400\n",
    "s_00005_0001, pi_l_l_00005_0001, pi_r_l_00005_0001 = simulation_new(var_l,var_r,beta,gamma,alpha,tau,b,dim,p,no_sample)\n",
    "\n",
    "var_l,var_r,beta,gamma,alpha,tau,b,dim,p,no_sample = 0.00025,0.001,10,10,0,1/100,0.5*np.ones((100,5,5)),5,100,4400\n",
    "s_000025_0001, pi_l_l_000025_0001, pi_r_l_000025_0001 = simulation_new(var_l,var_r,beta,gamma,alpha,tau,b,dim,p,no_sample)\n",
    "\n",
    "var_l,var_r,beta,gamma,alpha,tau,b,dim,p,no_sample = 0.0001,0.001,10,10,0,1/100,0.5*np.ones((100,5,5)),5,100,4400\n",
    "s_00001_0001, pi_l_l_00001_0001, pi_r_l_00001_0001 = simulation_new(var_l,var_r,beta,gamma,alpha,tau,b,dim,p,no_sample)"
   ]
  },
  {
   "cell_type": "code",
   "execution_count": 27,
   "id": "d3a080c3",
   "metadata": {},
   "outputs": [
    {
     "name": "stdout",
     "output_type": "stream",
     "text": [
      "(0.0, 0.48405536363636364, 0.48584472727272726, 0.03009990909090909)\n",
      "(0.0, 0.3191526363636364, 0.6046251818181818, 0.07622218181818181)\n",
      "(0.0, 0.23631481818181818, 0.6501178181818181, 0.11356736363636363)\n",
      "(0.0, 0.6253286363636363, 0.36249645454545454, 0.01217490909090909)\n",
      "(0.0, 0.7401700909090909, 0.254833, 0.004996909090909091)\n",
      "(0.0, 0.8424448181818182, 0.15563745454545455, 0.0019177272727272728)\n"
     ]
    }
   ],
   "source": [
    "print(pi_count(np.array(pi_l_l_0001_0001).reshape(-1),np.array(pi_r_l_0001_0001).reshape(-1)))\n",
    "print(pi_count(np.array(pi_l_l_00025_0001).reshape(-1),np.array(pi_r_l_00025_0001).reshape(-1)))\n",
    "print(pi_count(np.array(pi_l_l_0005_0001).reshape(-1),np.array(pi_r_l_0005_0001).reshape(-1)))\n",
    "print(pi_count(np.array(pi_l_l_00005_0001).reshape(-1),np.array(pi_r_l_00005_0001).reshape(-1)))\n",
    "print(pi_count(np.array(pi_l_l_000025_0001).reshape(-1),np.array(pi_r_l_000025_0001).reshape(-1)))\n",
    "print(pi_count(np.array(pi_l_l_00001_0001).reshape(-1),np.array(pi_r_l_00001_0001).reshape(-1)))"
   ]
  },
  {
   "cell_type": "code",
   "execution_count": 28,
   "id": "7c66aa87",
   "metadata": {},
   "outputs": [
    {
     "data": {
      "text/plain": [
       "<matplotlib.legend.Legend at 0x12b136250>"
      ]
     },
     "execution_count": 28,
     "metadata": {},
     "output_type": "execute_result"
    },
    {
     "data": {
      "image/png": "[encoded data removed]",
      "text/plain": [
       "<Figure size 432x288 with 1 Axes>"
      ]
     },
     "metadata": {
      "needs_background": "light"
     },
     "output_type": "display_data"
    }
   ],
   "source": [
    "plt.scatter(np.array([0.001,0.0025,0.005,0.0005,0.00025,0.0001]),np.array([0,0,0,0,0,0]))\n",
    "plt.scatter(np.array([0.001,0.0025,0.005,0.0005,0.00025,0.0001]),np.array([0.4843,0.3192,0.2360,0.6249,0.7436,0.8431]))\n",
    "plt.scatter(np.array([0.001,0.0025,0.005,0.0005,0.00025,0.0001]),np.array([0.4855,0.6046,0.6504,0.3629,0.2514,0.1549]))\n",
    "plt.scatter(np.array([0.001,0.0025,0.005,0.0005,0.00025,0.0001]),np.array([0.03,0.07,0.11,0.01,0.004,0.002]))\n",
    "plt.xlabel('variance of mode 1')\n",
    "plt.ylabel('probability')\n",
    "plt.legend(['p(pi_left=0,pi_right=0)','p(pi_left=0,pi_right=1)','p(pi_left=1,pi_right=0)','p(pi_left=1,pi_right=1)'])"
   ]
  },
  {
   "cell_type": "code",
   "execution_count": 29,
   "id": "c951399d",
   "metadata": {},
   "outputs": [
    {
     "data": {
      "text/plain": [
       "<matplotlib.lines.Line2D at 0x12b15eb50>"
      ]
     },
     "execution_count": 29,
     "metadata": {},
     "output_type": "execute_result"
    },
    {
     "data": {
      "image/png": "[encoded data removed]",
      "text/plain": [
       "<Figure size 432x288 with 1 Axes>"
      ]
     },
     "metadata": {
      "needs_background": "light"
     },
     "output_type": "display_data"
    }
   ],
   "source": [
    "plt.hist(s_0005_0001.reshape(-1),1000)\n",
    "plt.xlabel('percept')\n",
    "plt.axvline(x=0.5,color='r')"
   ]
  },
  {
   "cell_type": "code",
   "execution_count": 30,
   "id": "8e7b28de",
   "metadata": {},
   "outputs": [
    {
     "data": {
      "text/plain": [
       "0.203917"
      ]
     },
     "execution_count": 30,
     "metadata": {},
     "output_type": "execute_result"
    }
   ],
   "source": [
    "len(np.where(s_00001_0001.reshape(-1)>0.5)[0])/len(s_0005_0001.reshape(-1))"
   ]
  },
  {
   "cell_type": "code",
   "execution_count": null,
   "id": "5dee73d0",
   "metadata": {},
   "outputs": [],
   "source": []
  }
 ],
 "metadata": {
  "kernelspec": {
   "display_name": "Python 3.9.12",
   "language": "python",
   "name": "python3"
  },
  "language_info": {
   "codemirror_mode": {
    "name": "ipython",
    "version": 3
   },
   "file_extension": ".py",
   "mimetype": "text/x-python",
   "name": "python",
   "nbconvert_exporter": "python",
   "pygments_lexer": "ipython3",
   "version": "3.9.12"
  },
  "vscode": {
   "interpreter": {
    "hash": "40d3a090f54c6569ab1632332b64b2c03c39dcf918b08424e98f38b5ae0af88f"
   }
  }
 },
 "nbformat": 4,
 "nbformat_minor": 5
}
