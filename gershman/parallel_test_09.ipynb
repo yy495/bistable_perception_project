{
 "cells": [
  {
   "cell_type": "code",
   "execution_count": 23,
   "id": "ce4d8c11",
   "metadata": {},
   "outputs": [],
   "source": [
    "import numpy as np\n",
    "import numpy.random as random\n",
    "import matplotlib.pyplot as plt"
   ]
  },
  {
   "cell_type": "code",
   "execution_count": 24,
   "id": "cc4a4210",
   "metadata": {},
   "outputs": [],
   "source": [
    "#testing parallel run of shorter simulations for Gershman 09's model"
   ]
  },
  {
   "cell_type": "code",
   "execution_count": 25,
   "id": "f12a3204",
   "metadata": {},
   "outputs": [],
   "source": [
    "#parallisation on Gershman 09's model\n",
    "#p: no. simulations running in parallel\n",
    "def likelihood_new(z,a,b,sigma,p):\n",
    "    #bi-modal, mixture of Gaussian function\n",
    "    #2 peaks at -1 and 1\n",
    "    #return: a scalar, p(x|z) as a functino of z\n",
    "    likelihood_ele = np.exp(-0.5/sigma**2*(z.reshape((p,-1))-a)**2) + np.exp(-0.5/sigma**2*(z.reshape((p,-1))-b)**2)\n",
    "    return np.prod(likelihood_ele,axis=1)"
   ]
  },
  {
   "cell_type": "code",
   "execution_count": 26,
   "id": "571bad30",
   "metadata": {},
   "outputs": [],
   "source": [
    "def proposal_function_new(z, p, sigma1 = 1.5):\n",
    "    #generate a new proposal from the current sample\n",
    "    #change only one element at a time!\n",
    "    dim = z.shape[1]\n",
    "    z_star = z.copy()\n",
    "    i = random.randint(0,dim)\n",
    "    j = random.randint(0,dim)\n",
    "    index = random.randint(0,dim,(p,2))\n",
    "    for i in range(p):\n",
    "        z_star[i,index[i,0],index[i,1]] = z_star[i,index[i,0],index[i,1]] + sigma1*np.random.normal()\n",
    "    return z_star"
   ]
  },
  {
   "cell_type": "code",
   "execution_count": 27,
   "id": "d0cae8b1",
   "metadata": {},
   "outputs": [],
   "source": [
    "def MRF_prior_new(z,lamda,p):\n",
    "    #return the Gaussian MRF of the perception\n",
    "    #'reflection on boundary first\n",
    "    dim = z.shape[1]\n",
    "    z_extended = np.concatenate((z[:,:,0].reshape(p,-1,1),z,z[:,:,-1].reshape(p,-1,1)),axis=2)\n",
    "    z_extended = np.concatenate((z_extended[:,0,:].reshape(p,1,-1),z_extended,z_extended[:,-1,:].reshape(p,1,-1)),axis=1)\n",
    "    sum_dis = np.sum(np.sum((z-z_extended[:,:dim,1:dim+1])**2,axis=1),axis=1)+np.sum(np.sum((z-z_extended[:,2:,1:dim+1])**2,axis=1),axis=1)\n",
    "    sum_dis = sum_dis+np.sum(np.sum((z-z_extended[:,1:dim+1,:dim])**2,axis=1),axis=1)+np.sum(np.sum((z-z_extended[:,1:dim+1:,2:])**2,axis=1),axis=1)\n",
    "    return np.exp(-lamda*sum_dis)"
   ]
  },
  {
   "cell_type": "code",
   "execution_count": 28,
   "id": "d28e2c42",
   "metadata": {
    "scrolled": true
   },
   "outputs": [],
   "source": [
    "def sample_rejection_new(z,z_star,p,a = 1, b = -1, sigma = 0.3, lamda = 0.05):\n",
    "    #input: z is the current sample\n",
    "    #z_star is the proposed sample\n",
    "    #if sample accepted: return True\n",
    "    #if rejected: return False\n",
    "    p_z = likelihood_new(z,a,b,sigma,p)*MRF_prior_new(z,lamda,p)\n",
    "    p_z_star = likelihood_new(z_star,a,b,sigma,p)*MRF_prior_new(z_star,lamda,p)\n",
    "    p_acc = p_z_star/p_z\n",
    "    p_ran = random.random(p)\n",
    "    acc = np.sign(p_acc-p_ran).astype('int')\n",
    "    return acc"
   ]
  },
  {
   "cell_type": "code",
   "execution_count": 29,
   "id": "0a674c97",
   "metadata": {
    "scrolled": false
   },
   "outputs": [],
   "source": [
    "def simulation(p,no_samples,a = 1, b = -1, sigma = 0.3, lamda = 0.05,dim = 4):\n",
    "    state_list_par = []\n",
    "    #define initial z\n",
    "    z = (np.random.rand(p,dim,dim)-0.5)*2\n",
    "    for i in range(int(no_samples)):\n",
    "        z_star = proposal_function_new(z,p)\n",
    "        acc = sample_rejection_new(z,z_star,p,a, b, sigma, lamda)\n",
    "        for j in range(p):\n",
    "            if acc[j] == 1:\n",
    "                z[j,:,:] = z_star[j,:,:]\n",
    "        z_a = z.copy()\n",
    "        state_list_par.append(z_a)\n",
    "    return state_list_par"
   ]
  },
  {
   "cell_type": "code",
   "execution_count": 30,
   "id": "7c5c3c16",
   "metadata": {},
   "outputs": [],
   "source": [
    "p,no_samples = 300,88000\n",
    "s = simulation(p,no_samples,a = 1, b = -1, sigma = 0.16, lamda = 0.08,dim = 4)\n",
    "s = np.array(s)"
   ]
  },
  {
   "cell_type": "code",
   "execution_count": 31,
   "id": "6bad183c",
   "metadata": {
    "scrolled": true
   },
   "outputs": [
    {
     "name": "stdout",
     "output_type": "stream",
     "text": [
      "(88000, 300, 4, 4)\n"
     ]
    }
   ],
   "source": [
    "s_test = s[:,99,:,:]\n",
    "print(s.shape)\n",
    "state_num_test = np.array([len(np.where(state>0)[0]) for state in s_test])\n",
    "\n",
    "s_test1 = np.array(s)[:,9,:,:]\n",
    "state_num_test1 = np.array([len(np.where(state>0)[0]) for state in s_test1])"
   ]
  },
  {
   "cell_type": "code",
   "execution_count": 32,
   "id": "13961853",
   "metadata": {},
   "outputs": [
    {
     "data": {
      "text/plain": [
       "<matplotlib.lines.Line2D at 0x115199f40>"
      ]
     },
     "execution_count": 32,
     "metadata": {},
     "output_type": "execute_result"
    },
    {
     "data": {
      "image/png": "[encoded data removed]",
      "text/plain": [
       "<Figure size 432x288 with 1 Axes>"
      ]
     },
     "metadata": {
      "needs_background": "light"
     },
     "output_type": "display_data"
    }
   ],
   "source": [
    "plt.plot(state_num_test)\n",
    "plt.xlabel('no. samples')\n",
    "plt.ylabel('no. node>0')\n",
    "plt.axhline(y=16/3, color = 'k')\n",
    "plt.axhline(y=32/3,color = 'k')"
   ]
  },
  {
   "cell_type": "code",
   "execution_count": 65,
   "id": "6f54b347",
   "metadata": {},
   "outputs": [
    {
     "data": {
      "image/png": "[encoded data removed]",
      "text/plain": [
       "<Figure size 432x288 with 1 Axes>"
      ]
     },
     "metadata": {
      "needs_background": "light"
     },
     "output_type": "display_data"
    }
   ],
   "source": [
    "fig,ax = plt.subplots(1)\n",
    "ax.plot(np.array([len(np.where(state>0)[0]) for state in s[:,10,:,:]])[400:2900],color='#1b8ae4',alpha=0.8)\n",
    "ax.set_box_aspect(0.5)\n",
    "ax.spines['top'].set_visible(False)\n",
    "ax.spines['right'].set_visible(False)\n",
    "ax.set_xticks([0,2500])\n",
    "ax.set_yticks([0,16])\n",
    "ax.axhline(y=16/3,ls='dotted',color = 'black')\n",
    "ax.axhline(y=32/3,ls='dotted',color = 'black')\n",
    "ax.set_xlabel('no. steps',labelpad=-10)\n",
    "ax.set_ylabel('no. node > 0.5',labelpad=-10)\n",
    "fig.savefig('2009.svg')\n",
    "plt.rcParams['font.size'] = '16'"
   ]
  },
  {
   "cell_type": "code",
   "execution_count": 33,
   "id": "dc0e6f65",
   "metadata": {},
   "outputs": [],
   "source": [
    "def corr(x,y):\n",
    "    return (np.mean(x*y)-np.mean(x)*np.mean(y))/(np.var(x)*np.var(y))**0.5\n",
    "def autocorr(x,y,n):\n",
    "    #x, y: arrays to calculate correlation\n",
    "    #n: cover correlation rxy(0) to rxy(n-1)\n",
    "    rxy = []\n",
    "    for i in range(n):\n",
    "        y_shift = np.concatenate((np.zeros(i),y[:(len(y)-i)]))\n",
    "        rxy.append(corr(x,y_shift))\n",
    "    return np.array(rxy)"
   ]
  },
  {
   "cell_type": "code",
   "execution_count": 34,
   "id": "7cc77460",
   "metadata": {},
   "outputs": [
    {
     "data": {
      "text/plain": [
       "'corr_list = []\\np = 400\\ns = np.array(s)\\nfor i in range(p):\\n    corr_list.append(corr(s[:,0,3,1],s[:,i,3,1]))\\ncorr_list = np.array(corr_list)'"
      ]
     },
     "execution_count": 34,
     "metadata": {},
     "output_type": "execute_result"
    }
   ],
   "source": [
    "'''corr_list = []\n",
    "p = 400\n",
    "s = np.array(s)\n",
    "for i in range(p):\n",
    "    corr_list.append(corr(s[:,0,3,1],s[:,i,3,1]))\n",
    "corr_list = np.array(corr_list)'''"
   ]
  },
  {
   "cell_type": "code",
   "execution_count": 35,
   "id": "0c002e81",
   "metadata": {},
   "outputs": [
    {
     "data": {
      "text/plain": [
       "\"plt.plot(np.arange(400),corr_list)\\nplt.xlabel('no. sampling sequence')\\nplt.ylabel('correlation')\\nplt.title('correlation between sampling sequence 0 and other sequences')\\nprint(np.max(corr_list[1:]))\""
      ]
     },
     "execution_count": 35,
     "metadata": {},
     "output_type": "execute_result"
    }
   ],
   "source": [
    "'''plt.plot(np.arange(400),corr_list)\n",
    "plt.xlabel('no. sampling sequence')\n",
    "plt.ylabel('correlation')\n",
    "plt.title('correlation between sampling sequence 0 and other sequences')\n",
    "print(np.max(corr_list[1:]))'''"
   ]
  },
  {
   "cell_type": "code",
   "execution_count": 36,
   "id": "1a3c50e9",
   "metadata": {},
   "outputs": [
    {
     "data": {
      "text/plain": [
       "'autocorr_s = autocorr(s[:,0,2,1],s[:,0,2,1],600)\\nfor i in range(1,400):\\n    autocorr_s = autocorr_s + autocorr(s[:,i,2,1],s[:,i,2,1],600)\\nautocorr_s = autocorr_s/400'"
      ]
     },
     "execution_count": 36,
     "metadata": {},
     "output_type": "execute_result"
    }
   ],
   "source": [
    "'''autocorr_s = autocorr(s[:,0,2,1],s[:,0,2,1],600)\n",
    "for i in range(1,400):\n",
    "    autocorr_s = autocorr_s + autocorr(s[:,i,2,1],s[:,i,2,1],600)\n",
    "autocorr_s = autocorr_s/400'''"
   ]
  },
  {
   "cell_type": "code",
   "execution_count": 37,
   "id": "5c97ad84",
   "metadata": {},
   "outputs": [
    {
     "data": {
      "text/plain": [
       "\"plt.plot(autocorr_s)\\nplt.xlabel('discrete time (no.step)')\\nplt.ylabel('correlation')\\nplt.title('autocorrelogram')\\nplt.axhline(y=0.05, color='r', linestyle='-')\\nfor i in range(len(autocorr_s)):\\n    if autocorr_s[i]<0.05:\\n        print(i)\\n        break\""
      ]
     },
     "execution_count": 37,
     "metadata": {},
     "output_type": "execute_result"
    }
   ],
   "source": [
    "'''plt.plot(autocorr_s)\n",
    "plt.xlabel('discrete time (no.step)')\n",
    "plt.ylabel('correlation')\n",
    "plt.title('autocorrelogram')\n",
    "plt.axhline(y=0.05, color='r', linestyle='-')\n",
    "for i in range(len(autocorr_s)):\n",
    "    if autocorr_s[i]<0.05:\n",
    "        print(i)\n",
    "        break'''"
   ]
  },
  {
   "cell_type": "code",
   "execution_count": 48,
   "id": "d48b08d5",
   "metadata": {},
   "outputs": [],
   "source": [
    "#from node's state to the no. node > 0 in each step\n",
    "state_no_array = []\n",
    "for i in range(p):\n",
    "    state_no_array_i = []\n",
    "    for j in range(no_samples):\n",
    "        state_no_array_i.append(len(np.where(s[j,i,:,:]>0)[0]))\n",
    "    state_no_array.append(state_no_array_i)\n",
    "state_no_array = np.array(state_no_array)"
   ]
  },
  {
   "cell_type": "code",
   "execution_count": 39,
   "id": "c5198247",
   "metadata": {},
   "outputs": [],
   "source": [
    "def domi_period_count(state_list_input,dim):\n",
    "    cross_list = []\n",
    "    #element in cross list: (index,cross_type)\n",
    "    #cross type = 1: upper bound going up\n",
    "    #cross type = 2: lower bound going down\n",
    "    for i in range(1,len(state_list_input)):\n",
    "        if state_list_input[i-1]>1/3*dim**2 and state_list_input[i]<1/3*dim**2:\n",
    "            cross_list.append((i,2))\n",
    "        elif state_list_input[i-1]<2/3*dim**2 and state_list_input[i]>2/3*dim**2:\n",
    "            cross_list.append((i,1))\n",
    "    switch_list = [cross_list[0]]\n",
    "    cross = cross_list[0][1]\n",
    "    for i in range(1,len(cross_list)):\n",
    "        if cross_list[i][1] != cross:\n",
    "            cross = cross_list[i][1]\n",
    "            switch_list.append(cross_list[i])\n",
    "    domi_list =[]\n",
    "    for i in range(1,len(switch_list)):\n",
    "        domi_list.append(switch_list[i][0]-switch_list[i-1][0])\n",
    "    return domi_list\n",
    "\n",
    "def hist_plot(x,n):\n",
    "    plt.hist(x,n)\n",
    "    return np.mean(x),np.std(x)"
   ]
  },
  {
   "cell_type": "code",
   "execution_count": 40,
   "id": "69f43a4b",
   "metadata": {},
   "outputs": [],
   "source": [
    "domi_list = []\n",
    "for state_list_i in state_no_array:\n",
    "    domi_list = domi_list + domi_period_count(state_list_i,4)"
   ]
  },
  {
   "cell_type": "code",
   "execution_count": 41,
   "id": "45b2726a",
   "metadata": {},
   "outputs": [
    {
     "data": {
      "text/plain": [
       "(1491.1871109266615, 1356.7239614161595)"
      ]
     },
     "execution_count": 41,
     "metadata": {},
     "output_type": "execute_result"
    },
    {
     "data": {
      "image/png": "[encoded data removed]",
      "text/plain": [
       "<Figure size 432x288 with 1 Axes>"
      ]
     },
     "metadata": {
      "needs_background": "light"
     },
     "output_type": "display_data"
    }
   ],
   "source": [
    "domi_list = np.array(domi_list)\n",
    "domi_list = np.sort(domi_list)\n",
    "domi_list.shape\n",
    "hist_plot(domi_list[:-80],70)"
   ]
  },
  {
   "cell_type": "code",
   "execution_count": 54,
   "id": "039ba09b",
   "metadata": {},
   "outputs": [
    {
     "name": "stdout",
     "output_type": "stream",
     "text": [
      "[1.46836055 0.64108456 2.12241611]\n"
     ]
    },
    {
     "data": {
      "image/png": "[encoded data removed]",
      "text/plain": [
       "<Figure size 432x288 with 1 Axes>"
      ]
     },
     "metadata": {
      "needs_background": "light"
     },
     "output_type": "display_data"
    }
   ],
   "source": [
    "from scipy.optimize import curve_fit\n",
    "y,bins=np.histogram(domi_list[:-800]/np.mean(domi_list[:-800]),50,density=True)\n",
    "x = []\n",
    "for i in range(1,51):\n",
    "    x.append((bins[i]+bins[i-1])/2)\n",
    "x=np.array(x)\n",
    "\n",
    "def gamma(x,a,b,c):\n",
    "    return c*np.exp(-x/b)*x**(a-1)\n",
    "\n",
    "popt,pcov = curve_fit(gamma,x,y)\n",
    "\n",
    "plt.plot(x,gamma(x,popt[0],popt[1],popt[2]))\n",
    "plt.hist(domi_list[:-800]/np.mean(domi_list[:-800]),51,density=True)\n",
    "\n",
    "plt.xlabel('dominance duration')\n",
    "plt.ylabel('density')\n",
    "plt.legend(['fitted, alpha = 1.45, beta = 0.66','histogram'])\n",
    "\n",
    "print(popt)"
   ]
  },
  {
   "cell_type": "code",
   "execution_count": 59,
   "id": "4dfa4c76",
   "metadata": {},
   "outputs": [
    {
     "data": {
      "image/png": "[encoded data removed]",
      "text/plain": [
       "<Figure size 432x288 with 1 Axes>"
      ]
     },
     "metadata": {
      "needs_background": "light"
     },
     "output_type": "display_data"
    }
   ],
   "source": [
    "fig,ax = plt.subplots(1)\n",
    "ax.hist(domi_list[:-800]/np.mean(domi_list[:-800]),50,density=True,alpha=0.4,color='#1b8ae4',label = 'histogram')\n",
    "ax.plot(x,gamma(x,popt[0],popt[1],popt[2]),color = '#a82700',label = r'$\\alpha=1.47,\\beta=0.64$')\n",
    "ax.set_box_aspect(0.5)\n",
    "ax.spines['top'].set_visible(False)\n",
    "ax.spines['right'].set_visible(False)\n",
    "ax.set_xticks([0,4])\n",
    "ax.set_yticks([0,0.8])\n",
    "ax.set_xlabel('dominance duration',labelpad=-10)\n",
    "ax.set_ylabel('density',labelpad=-20)\n",
    "ax.legend()\n",
    "fig.savefig('domi_2009.svg')\n",
    "plt.rcParams['font.size'] = '16'"
   ]
  },
  {
   "cell_type": "code",
   "execution_count": 43,
   "id": "31bceb1e",
   "metadata": {},
   "outputs": [
    {
     "data": {
      "text/plain": [
       "Text(0, 0.5, 'density')"
      ]
     },
     "execution_count": 43,
     "metadata": {},
     "output_type": "execute_result"
    },
    {
     "data": {
      "image/png": "[encoded data removed]",
      "text/plain": [
       "<Figure size 432x288 with 1 Axes>"
      ]
     },
     "metadata": {
      "needs_background": "light"
     },
     "output_type": "display_data"
    }
   ],
   "source": [
    "plt.hist(random.gamma(1.45,0.69,1000000),1000,density=True)\n",
    "plt.ylabel('density')"
   ]
  }
 ],
 "metadata": {
  "kernelspec": {
   "display_name": "Python 3.9.12",
   "language": "python",
   "name": "python3"
  },
  "language_info": {
   "codemirror_mode": {
    "name": "ipython",
    "version": 3
   },
   "file_extension": ".py",
   "mimetype": "text/x-python",
   "name": "python",
   "nbconvert_exporter": "python",
   "pygments_lexer": "ipython3",
   "version": "3.9.12"
  },
  "vscode": {
   "interpreter": {
    "hash": "40d3a090f54c6569ab1632332b64b2c03c39dcf918b08424e98f38b5ae0af88f"
   }
  }
 },
 "nbformat": 4,
 "nbformat_minor": 5
}
