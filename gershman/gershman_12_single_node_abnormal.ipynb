{
 "cells": [
  {
   "cell_type": "code",
   "execution_count": 1,
   "metadata": {},
   "outputs": [],
   "source": [
    "import numpy as np\n",
    "import numpy.random as random\n",
    "import matplotlib.pyplot as plt"
   ]
  },
  {
   "cell_type": "code",
   "execution_count": 2,
   "metadata": {},
   "outputs": [],
   "source": [
    "#sampling of single node percept field (MH)\n",
    "def p_w_new(w,x_l,x_r,pi_l,pi_r,var_l,var_r,tau,b,p):\n",
    "    s_n = w*x_l+(1-w)*x_r\n",
    "    E_s = (b-s_n)**2\n",
    "    E_x = 1/(2*var_l)*pi_l*(x_l-s_n)**2+1/(2*var_r)*pi_r*(x_r-s_n)**2\n",
    "    return np.exp(-tau*(E_x+E_s))\n",
    "\n",
    "def p_pi_l_new(w,x_l,x_r,pi_l,var_l,b,tau,p):\n",
    "    s_n = w*x_l+(1-w)*x_r\n",
    "    E_xl = 1/(2*var_l)*pi_l*(x_l-s_n)**2\n",
    "    return np.exp(-tau*(E_xl))\n",
    "\n",
    "def p_pi_r_new(w,x_l,x_r,pi_r,var_r,b,tau,p):\n",
    "    s_n = w*x_l+(1-w)*x_r\n",
    "    E_xr = 1/(2*var_r)*pi_r*(x_r-s_n)**2\n",
    "    return np.exp(-tau*(E_xr))\n",
    "\n",
    "def proposal_function_new(z, p, sigma = 1):\n",
    "    #generate a new proposal from the current sample\n",
    "    #change only one element at a time!\n",
    "    z_star = z.copy()\n",
    "    z_star = z_star + sigma*random.normal(size = (p))\n",
    "    return z_star\n",
    "\n",
    "def binary_proposal_new(z):\n",
    "    #p: the probability of switch, to stablize the system\n",
    "    z_star= 1-z\n",
    "    return z_star"
   ]
  },
  {
   "cell_type": "code",
   "execution_count": 3,
   "metadata": {},
   "outputs": [],
   "source": [
    "def sample_rejection_w_new(w,w_star,x_l,x_r,pi_l,pi_r,var_l,var_r,b,tau,p):\n",
    "    p_w_cur = p_w_new(w,x_l,x_r,pi_l,pi_r,var_l,var_r,tau,b,p)\n",
    "    p_w_star = p_w_new(w_star,x_l,x_r,pi_l,pi_r,var_l,var_r,tau,b,p)\n",
    "    p_acc = p_w_star/p_w_cur\n",
    "    p_ran = random.random(p)\n",
    "    acc = np.sign(p_acc-p_ran).astype('int')\n",
    "    return acc\n",
    "    \n",
    "def sample_rejection_pi_l_new(w,x_l,x_r,pi_l,pi_l_star,var_l,b,tau,p):\n",
    "    p_pi_l_cur = p_pi_l_new(w,x_l,x_r,pi_l,var_l,b,tau,p)\n",
    "    p_pi_l_star = p_pi_l_new(w,x_l,x_r,pi_l_star,var_l,b,tau,p)\n",
    "    p_acc = p_pi_l_star/p_pi_l_cur\n",
    "    p_ran = random.random(p)\n",
    "    acc = np.sign(p_acc-p_ran).astype('int')\n",
    "    return acc\n",
    "    \n",
    "def sample_rejection_pi_r_new(w,x_l,x_r,pi_r,pi_r_star,var_r,b,tau,p):\n",
    "    p_pi_r_cur = p_pi_r_new(w,x_l,x_r,pi_r,var_r,b,tau,p)\n",
    "    p_pi_r_star = p_pi_r_new(w,x_l,x_r,pi_r_star,var_r,b,tau,p)\n",
    "    p_acc = p_pi_r_star/p_pi_r_cur\n",
    "    p_ran = random.random(p)\n",
    "    acc = np.sign(p_acc-p_ran).astype('int')\n",
    "    return acc"
   ]
  },
  {
   "cell_type": "code",
   "execution_count": 4,
   "metadata": {},
   "outputs": [],
   "source": [
    "def simulation_new(var_l,var_r,tau,b,p,no_sample):\n",
    "    #p: no. parallel sampling sequences\n",
    "    #no. sample: no. samples in each sequence\n",
    "    #dim: dimension of each MRF\n",
    "\n",
    "    #set initial condition for w, pi_r, pi_l\n",
    "    #set visual input x_r, x_l as conflicting input\n",
    "    x_l = np.ones(p)\n",
    "    x_r = np.zeros(p)\n",
    "    w = random.rand(p)\n",
    "    pi_l = random.randint(0,2,(p))\n",
    "    pi_r = random.randint(0,2,(p))\n",
    "\n",
    "    s = []\n",
    "    pi_l_l = []\n",
    "    pi_r_l = []\n",
    "    for m in range(int(no_sample)):\n",
    "        #order of sweep is randomnized\n",
    "        #the following for loop update on pi_l\n",
    "        pi_r_star = binary_proposal_new(pi_r)\n",
    "        acc_1 = sample_rejection_pi_r_new(w,x_l,x_r,pi_r,pi_r_star,var_r,b,tau,p)\n",
    "        for j in range(p):\n",
    "            if acc_1[j] == 1:\n",
    "                pi_r[j] = pi_r_star[j]\n",
    "\n",
    "        #the following for loop update on pi_r\n",
    "        pi_l_star = binary_proposal_new(pi_l)\n",
    "        acc_2 = sample_rejection_pi_l_new(w,x_l,x_r,pi_l,pi_l_star,var_l,b,tau,p)\n",
    "        for j in range(p):\n",
    "            if acc_2[j] == 1:\n",
    "                pi_l[j] = pi_l_star[j]\n",
    "    \n",
    "            #the following for loop update on w\n",
    "        w_star = proposal_function_new(w, p)\n",
    "        acc_3 = sample_rejection_w_new(w,w_star,x_l,x_r,pi_l,pi_r,var_l,var_r,b,tau,p)\n",
    "        for j in range(p):\n",
    "            if acc_3[j] == 1:\n",
    "                w[j] = w_star[j]\n",
    "        \n",
    "        s_i = w*x_l+(1-w)*x_r\n",
    "        s.append(s_i)\n",
    "        pi_l_a = pi_l.copy()\n",
    "        pi_r_a = pi_r.copy()\n",
    "        pi_l_l.append(pi_l_a)\n",
    "        pi_r_l.append(pi_r_a)\n",
    "    return np.array(s),np.array(pi_l_l),np.array(pi_r_l)"
   ]
  },
  {
   "cell_type": "code",
   "execution_count": 5,
   "metadata": {},
   "outputs": [],
   "source": [
    "def pi_count_1(pi_l,pi_r):\n",
    "    '''lr = 00,10,01,11'''\n",
    "    pi_r_1 = pi_r.copy()\n",
    "    pi_r_1 = pi_r_1*2\n",
    "    pi_class = pi_r_1+pi_l\n",
    "    return np.array([len(np.where(pi_class==0)[0])/len(pi_l),len(np.where(pi_class==1)[0])/len(pi_l),len(np.where(pi_class==2)[0])/len(pi_l),len(np.where(pi_class==3)[0])/len(pi_l)])\n"
   ]
  },
  {
   "cell_type": "code",
   "execution_count": 6,
   "metadata": {},
   "outputs": [],
   "source": [
    "def cal_expected_pi(var_l,var_r,b_array,tau):\n",
    "    '''lr = 00,10,01,11'''\n",
    "    b = b_array.reshape(-1)[0]\n",
    "    std_00 = 1\n",
    "    std_01 = (1+1/2/var_l)**-0.5\n",
    "    std_10 = (1+1/2/var_r)**-0.5\n",
    "    std_11 = (1+1/2/var_r+1/2/var_l)**-0.5\n",
    "    k = np.exp(-tau*(b**2+1/2/var_l-(2*b+1/var_l)**2/(1+1/2/var_l+1/2/var_r)/4))\n",
    "    return np.array([std_00/(std_00+std_01+std_10+k*std_11),std_01/(std_00+std_01+std_10+k*std_11),std_10/(std_00+std_01+std_10+k*std_11),k*std_11/(std_00+std_01+std_10+k*std_11)])"
   ]
  },
  {
   "cell_type": "code",
   "execution_count": 7,
   "metadata": {},
   "outputs": [
    {
     "data": {
      "text/plain": [
       "array([0.91547564, 0.04110118, 0.04103236, 0.00239082])"
      ]
     },
     "execution_count": 7,
     "metadata": {},
     "output_type": "execute_result"
    }
   ],
   "source": [
    "var_l,var_r,tau,b,p,no_sample = 0.001,0.001,1/100,0.5*np.ones(2000),2000,11000\n",
    "s_0001_0001,pi_l_0001_0001,pi_r_0001_0001 = simulation_new(var_l,var_r,tau,b,p,no_sample)\n",
    "pi_count_1(pi_l_0001_0001.reshape(-1),pi_r_0001_0001.reshape(-1))"
   ]
  },
  {
   "cell_type": "code",
   "execution_count": 8,
   "metadata": {},
   "outputs": [
    {
     "data": {
      "text/plain": [
       "array([0.91579463, 0.04091469, 0.04091469, 0.00237599])"
      ]
     },
     "execution_count": 8,
     "metadata": {},
     "output_type": "execute_result"
    }
   ],
   "source": [
    "cal_expected_pi(0.001,0.001,b,tau)"
   ]
  },
  {
   "cell_type": "code",
   "execution_count": 9,
   "metadata": {},
   "outputs": [],
   "source": [
    "var_l,var_r,tau,b,p,no_sample = 0.0005,0.0005,1/100,0.5*np.ones(1000),1000,11000\n",
    "s_00005_00005,pi_l_00005_00005,pi_r_00005_00005 = simulation_new(var_l,var_r,tau,b,p,no_sample)\n",
    "\n",
    "var_l,var_r,tau,b,p,no_sample = 0.001,0.001,1/100,0.5*np.ones(1000),1000,11000\n",
    "s_0001_0001,pi_l_0001_0001,pi_r_0001_0001 = simulation_new(var_l,var_r,tau,b,p,no_sample)\n",
    "\n",
    "var_l,var_r,tau,b,p,no_sample = 0.002,0.002,1/100,0.5*np.ones(1000),1000,11000\n",
    "s_0002_0002,pi_l_0002_0002,pi_r_0002_0002 = simulation_new(var_l,var_r,tau,b,p,no_sample)\n",
    "\n",
    "var_l,var_r,tau,b,p,no_sample = 0.003,0.003,1/100,0.5*np.ones(1000),1000,11000\n",
    "s_0003_0003,pi_l_0003_0003,pi_r_0003_0003 = simulation_new(var_l,var_r,tau,b,p,no_sample)\n",
    "\n",
    "var_l,var_r,tau,b,p,no_sample = 0.004,0.004,1/100,0.5*np.ones(1000),1000,11000\n",
    "s_0004_0004,pi_l_0004_0004,pi_r_0004_0004 = simulation_new(var_l,var_r,tau,b,p,no_sample)\n",
    "\n",
    "var_l,var_r,tau,b,p,no_sample = 0.005,0.005,1/100,0.5*np.ones(1000),1000,11000\n",
    "s_0005_0005,pi_l_0005_0005,pi_r_0005_0005 = simulation_new(var_l,var_r,tau,b,p,no_sample)\n",
    "\n",
    "p_pi_00005_00005 = cal_expected_pi(0.0005,0.0005,b,tau)\n",
    "p_pi_0001_0001 = cal_expected_pi(0.001,0.001,b,tau)\n",
    "p_pi_0002_0002 = cal_expected_pi(0.002,0.002,b,tau)\n",
    "p_pi_0003_0003 = cal_expected_pi(0.003,0.003,b,tau)\n",
    "p_pi_0004_0004 = cal_expected_pi(0.004,0.004,b,tau)\n",
    "p_pi_0005_0005 = cal_expected_pi(0.005,0.005,b,tau)"
   ]
  },
  {
   "cell_type": "code",
   "execution_count": 10,
   "metadata": {},
   "outputs": [],
   "source": [
    "var_l,var_r,tau,b,p,no_sample = 0.003,0.003,1/100,0.5*np.ones(1000),1000,11000\n",
    "s_0003_0003,pi_l_0003_0003,pi_r_0003_0003 = simulation_new(var_l,var_r,tau,b,p,no_sample)"
   ]
  },
  {
   "cell_type": "code",
   "execution_count": 11,
   "metadata": {},
   "outputs": [],
   "source": [
    "p_pi_00005_00005_ac = pi_count_1(pi_l_00005_00005.reshape(-1),pi_r_00005_00005.reshape(-1))\n",
    "p_pi_0001_0001_ac = pi_count_1(pi_l_0001_0001.reshape(-1),pi_r_0001_0001.reshape(-1))\n",
    "p_pi_0002_0002_ac = pi_count_1(pi_l_0002_0002.reshape(-1),pi_r_0002_0002.reshape(-1))\n",
    "p_pi_0003_0003_ac = pi_count_1(pi_l_0003_0003.reshape(-1),pi_r_0003_0003.reshape(-1))\n",
    "p_pi_0004_0004_ac = pi_count_1(pi_l_0004_0004.reshape(-1),pi_r_0004_0004.reshape(-1))\n",
    "p_pi_0005_0005_ac = pi_count_1(pi_l_0005_0005.reshape(-1),pi_r_0005_0005.reshape(-1))\n",
    "p_pi_ac = np.array([p_pi_00005_00005_ac,p_pi_0001_0001_ac,p_pi_0002_0002_ac,p_pi_0003_0003_ac,p_pi_0004_0004_ac,p_pi_0005_0005_ac])\n"
   ]
  },
  {
   "cell_type": "code",
   "execution_count": 12,
   "metadata": {},
   "outputs": [],
   "source": [
    "p_pi_exp = np.array([p_pi_00005_00005,p_pi_0001_0001,p_pi_0002_0002,p_pi_0003_0003,p_pi_0004_0004,p_pi_0005_0005])"
   ]
  },
  {
   "cell_type": "code",
   "execution_count": 23,
   "metadata": {},
   "outputs": [
    {
     "data": {
      "text/plain": [
       "Text(0, 0.5, 'density')"
      ]
     },
     "execution_count": 23,
     "metadata": {},
     "output_type": "execute_result"
    },
    {
     "data": {
      "image/png": "[encoded data removed]",
      "text/plain": [
       "<Figure size 432x288 with 1 Axes>"
      ]
     },
     "metadata": {
      "needs_background": "light"
     },
     "output_type": "display_data"
    }
   ],
   "source": [
    "var_array = np.array([0.0005,0.001,0.002,0.003,0.004,0.005])\n",
    "plt.scatter(1/var_array,p_pi_ac[:,0])\n",
    "plt.plot(1/var_array,p_pi_exp[:,0])\n",
    "plt.scatter(1/var_array,p_pi_ac[:,1])\n",
    "plt.plot(1/var_array,p_pi_exp[:,1])\n",
    "plt.legend(['p(pi_l,pi_r=0,0), actual','p(pi_l,pi_r=0,0), expected','p(pi_l,pi_r=1,0), actual','p(pi_l,pi_r=1,0), expected'])\n",
    "plt.xlabel('equal variance of both mode')\n",
    "plt.ylabel('density')"
   ]
  },
  {
   "cell_type": "code",
   "execution_count": 45,
   "metadata": {},
   "outputs": [
    {
     "data": {
      "image/png": "[encoded data removed]",
      "text/plain": [
       "<Figure size 432x288 with 1 Axes>"
      ]
     },
     "metadata": {
      "needs_background": "light"
     },
     "output_type": "display_data"
    }
   ],
   "source": [
    "fig,ax = plt.subplots(1)\n",
    "ax.scatter(1/var_array,p_pi_ac[:,0],color='#1b8ae4',label = 'simulated')\n",
    "ax.plot(1/var_array,p_pi_exp[:,0],color='#1b8ae4', label= 'expected')\n",
    "ax.set_box_aspect(1)\n",
    "ax.spines['top'].set_visible(False)\n",
    "ax.spines['right'].set_visible(False)\n",
    "ax.set_xticks([0,2000])\n",
    "ax.set_yticks([0.8,0.94])\n",
    "ax.set_xlabel(r'$\\sigma^{-2}_l=\\sigma^{-2}_r$',labelpad=-10)\n",
    "ax.set_ylabel('probability',labelpad=-20)\n",
    "ax.set_title(r'$p(z_l,z_r = 0,0 | x_l,x_r)$'+', single node')\n",
    "plt.rcParams['font.size'] = '14'\n",
    "fig.savefig('diu.svg')"
   ]
  },
  {
   "cell_type": "code",
   "execution_count": 52,
   "metadata": {},
   "outputs": [
    {
     "data": {
      "image/png": "[encoded data removed]",
      "text/plain": [
       "<Figure size 432x288 with 1 Axes>"
      ]
     },
     "metadata": {
      "needs_background": "light"
     },
     "output_type": "display_data"
    }
   ],
   "source": [
    "fig,ax = plt.subplots(1)\n",
    "ax.scatter(1/var_array,p_pi_ac[:,1],color = '#a82700',label = 'simulated')\n",
    "ax.plot(1/var_array,p_pi_exp[:,1],color = '#a82700', label= 'expected')\n",
    "ax.set_box_aspect(1)\n",
    "ax.spines['top'].set_visible(False)\n",
    "ax.spines['right'].set_visible(False)\n",
    "ax.set_xticks([0,2000])\n",
    "ax.set_yticks([0,0.08])\n",
    "#ax.set_xlabel(r'$\\sigma^{-2}_l=\\sigma^{-2}_r$',labelpad=-10)\n",
    "#ax.set_ylabel('probability',labelpad=-20)\n",
    "ax.set_title(r'$p(z_l,z_r = 1,0 | x_l,x_r)$'+', single node')\n",
    "plt.rcParams['font.size'] = '14'\n",
    "fig.savefig('diuu.svg')"
   ]
  },
  {
   "cell_type": "code",
   "execution_count": null,
   "metadata": {},
   "outputs": [],
   "source": [
    "fig,ax = plt.subplots(1)\n",
    "ax.scatter(1/var_array,p_pi_ac[:,0],color='#1b8ae4',label = 'simulated')\n",
    "ax.plot(1/var_array,p_pi_exp[:,0],color='#1b8ae4', label= 'expected')\n",
    "ax.set_box_aspect(1)\n",
    "ax.spines['top'].set_visible(False)\n",
    "ax.spines['right'].set_visible(False)\n",
    "ax.set_xticks([0,2000])\n",
    "ax.set_yticks([0.8,0.94])\n",
    "ax.set_xlabel(r'$\\sigma^{-2}_l=\\sigma^{-2}_r$',labelpad=-10)\n",
    "ax.set_ylabel('probability',labelpad=-20)\n",
    "ax.set_title(r'$p(z_l,z_r = 0,0 | x_l,x_r)$'+', single node')\n",
    "plt.rcParams['font.size'] = '14'\n",
    "fig.savefig('diu.svg')"
   ]
  },
  {
   "cell_type": "code",
   "execution_count": 14,
   "metadata": {},
   "outputs": [
    {
     "data": {
      "text/plain": [
       "<matplotlib.legend.Legend at 0x109bf3e80>"
      ]
     },
     "execution_count": 14,
     "metadata": {},
     "output_type": "execute_result"
    },
    {
     "data": {
      "image/png": "[encoded data removed]",
      "text/plain": [
       "<Figure size 432x288 with 1 Axes>"
      ]
     },
     "metadata": {
      "needs_background": "light"
     },
     "output_type": "display_data"
    }
   ],
   "source": [
    "var_array = np.array([0.0005,0.001,0.002,0.003,0.004,0.005])\n",
    "plt.scatter(var_array,p_pi_ac[:,3])\n",
    "plt.plot(var_array,p_pi_exp[:,3])\n",
    "plt.legend(['p(pi_l,pi_r=1,1), actual','p(pi_l,pi_r=1,1) expected'])"
   ]
  },
  {
   "cell_type": "code",
   "execution_count": 15,
   "metadata": {},
   "outputs": [],
   "source": [
    "var_l,var_r,tau,b,p,no_sample = 0.00025,0.001,1/100,0.5*np.ones(1000),1000,11000\n",
    "s_000025_0001,pi_l_000025_0001,pi_r_000025_0001 = simulation_new(var_l,var_r,tau,b,p,no_sample)\n",
    "\n",
    "var_l,var_r,tau,b,p,no_sample = 0.0005,0.001,1/100,0.5*np.ones(1000),1000,11000\n",
    "s_00005_0001,pi_l_00005_0001,pi_r_00005_0001 = simulation_new(var_l,var_r,tau,b,p,no_sample)\n",
    "\n",
    "var_l,var_r,tau,b,p,no_sample = 0.002,0.001,1/100,0.5*np.ones(1000),1000,11000\n",
    "s_0002_0001,pi_l_0002_0001,pi_r_0002_0001 = simulation_new(var_l,var_r,tau,b,p,no_sample)\n",
    "\n",
    "var_l,var_r,tau,b,p,no_sample = 0.003,0.001,1/100,0.5*np.ones(1000),1000,11000\n",
    "s_0003_0001,pi_l_0003_0001,pi_r_0003_0001 = simulation_new(var_l,var_r,tau,b,p,no_sample)\n",
    "\n",
    "var_l,var_r,tau,b,p,no_sample = 0.004,0.001,1/100,0.5*np.ones(1000),1000,11000\n",
    "s_0004_0001,pi_l_0004_0001,pi_r_0004_0001 = simulation_new(var_l,var_r,tau,b,p,no_sample)\n",
    "\n",
    "var_l,var_r,tau,b,p,no_sample = 0.005,0.001,1/100,0.5*np.ones(1000),1000,11000\n",
    "s_0005_0001,pi_l_0005_0001,pi_r_0005_0001 = simulation_new(var_l,var_r,tau,b,p,no_sample)\n",
    "\n",
    "p_pi_000025_0001 = cal_expected_pi(0.00025,0.001,b,tau)\n",
    "p_pi_00005_0001 = cal_expected_pi(0.0005,0.001,b,tau)\n",
    "p_pi_0002_0001 = cal_expected_pi(0.002,0.001,b,tau)\n",
    "p_pi_0003_0001 = cal_expected_pi(0.003,0.001,b,tau)\n",
    "p_pi_0004_0001 = cal_expected_pi(0.004,0.001,b,tau)\n",
    "p_pi_0005_0001 = cal_expected_pi(0.005,0.001,b,tau)"
   ]
  },
  {
   "cell_type": "code",
   "execution_count": 16,
   "metadata": {},
   "outputs": [],
   "source": [
    "var_l,var_r,tau,b,p,no_sample = 0.001,0.001,1/100,0.5*np.ones(1000),1000,11000\n",
    "s_0001_0001,pi_l_0001_0001,pi_r_0001_0001 = simulation_new(var_l,var_r,tau,b,p,no_sample)\n",
    "p_pi_0001_0001 = cal_expected_pi(0.001,0.001,b,tau)\n",
    "p_pi_0001_0001_ac = pi_count_1(pi_l_0001_0001.reshape(-1),pi_r_0001_0001.reshape(-1))\n",
    "\n",
    "p_pi_exp_1 = np.array([p_pi_000025_0001,p_pi_00005_0001,p_pi_0001_0001,p_pi_0002_0001,p_pi_0003_0001,p_pi_0004_0001,p_pi_0005_0001])"
   ]
  },
  {
   "cell_type": "code",
   "execution_count": 17,
   "metadata": {},
   "outputs": [],
   "source": [
    "p_pi_000025_0001_ac = pi_count_1(pi_l_000025_0001.reshape(-1),pi_r_000025_0001.reshape(-1))\n",
    "p_pi_00005_0001_ac = pi_count_1(pi_l_00005_0001.reshape(-1),pi_r_00005_0001.reshape(-1))\n",
    "p_pi_0001_0001_ac = pi_count_1(pi_l_0001_0001.reshape(-1),pi_r_0001_0001.reshape(-1))\n",
    "p_pi_0002_0001_ac = pi_count_1(pi_l_0002_0001.reshape(-1),pi_r_0002_0001.reshape(-1))\n",
    "p_pi_0003_0001_ac = pi_count_1(pi_l_0003_0001.reshape(-1),pi_r_0003_0001.reshape(-1))\n",
    "p_pi_0004_0001_ac = pi_count_1(pi_l_0004_0001.reshape(-1),pi_r_0004_0001.reshape(-1))\n",
    "p_pi_0005_0001_ac = pi_count_1(pi_l_0005_0001.reshape(-1),pi_r_0005_0001.reshape(-1))\n",
    "p_pi_ac_1 = np.array([p_pi_000025_0001_ac,p_pi_00005_0001_ac,p_pi_0001_0001_ac,p_pi_0002_0001_ac,p_pi_0003_0001_ac,p_pi_0004_0001_ac,p_pi_0005_0001_ac])"
   ]
  },
  {
   "cell_type": "code",
   "execution_count": 54,
   "metadata": {},
   "outputs": [
    {
     "data": {
      "text/plain": [
       "Text(0, 0.5, 'density')"
      ]
     },
     "execution_count": 54,
     "metadata": {},
     "output_type": "execute_result"
    },
    {
     "data": {
      "image/png": "[encoded data removed]",
      "text/plain": [
       "<Figure size 432x288 with 1 Axes>"
      ]
     },
     "metadata": {
      "needs_background": "light"
     },
     "output_type": "display_data"
    }
   ],
   "source": [
    "var_array = np.array([0.00025,0.0005,0.001,0.002,0.003,0.004,0.005])\n",
    "#plt.scatter(var_array,p_pi_ac_1[:,0])\n",
    "#plt.plot(var_array,p_pi_exp_1[:,0])\n",
    "plt.scatter(var_array,p_pi_ac_1[:,1])\n",
    "plt.plot(var_array,p_pi_exp_1[:,1])\n",
    "plt.scatter(var_array,p_pi_ac_1[:,2])\n",
    "plt.plot(var_array,p_pi_exp_1[:,2])\n",
    "plt.legend(['p(pi_l,pi_r=1,0), actual','p(pi_l,pi_r=1,0), expected','p(pi_l,pi_r=0,1), actual','p(pi_l,pi_r=0,1), expected'])\n",
    "plt.xlabel('variance of the left mode (x=1)')\n",
    "plt.ylabel('density')\n"
   ]
  },
  {
   "cell_type": "code",
   "execution_count": 71,
   "metadata": {},
   "outputs": [
    {
     "data": {
      "image/png": "[encoded data removed]",
      "text/plain": [
       "<Figure size 432x288 with 1 Axes>"
      ]
     },
     "metadata": {
      "needs_background": "light"
     },
     "output_type": "display_data"
    }
   ],
   "source": [
    "fig,ax = plt.subplots(1)\n",
    "ax.scatter(1/var_array,p_pi_ac_1[:,2],color='#1b8ae4',label = 'simulated')\n",
    "ax.plot(1/var_array,p_pi_exp_1[:,2],color='#1b8ae4', label= 'expected')\n",
    "ax.set_box_aspect(1)\n",
    "ax.spines['top'].set_visible(False)\n",
    "ax.spines['right'].set_visible(False)\n",
    "ax.set_xticks([0,4000])\n",
    "ax.set_yticks([0.038,0.042])\n",
    "ax.set_xlabel(r'$\\sigma^{-2}_l$',labelpad=-10)\n",
    "ax.set_ylabel('probability',labelpad=-20)\n",
    "ax.set_title(r'$p(z_l,z_r = 0,1 | x_l,x_r)$'+', single node')\n",
    "plt.rcParams['font.size'] = '14'\n",
    "fig.savefig('diu.svg')"
   ]
  },
  {
   "cell_type": "code",
   "execution_count": 19,
   "metadata": {},
   "outputs": [
    {
     "data": {
      "text/plain": [
       "Text(0, 0.5, 'density')"
      ]
     },
     "execution_count": 19,
     "metadata": {},
     "output_type": "execute_result"
    },
    {
     "data": {
      "image/png": "[encoded data removed]",
      "text/plain": [
       "<Figure size 432x288 with 1 Axes>"
      ]
     },
     "metadata": {
      "needs_background": "light"
     },
     "output_type": "display_data"
    }
   ],
   "source": [
    "plt.scatter(var_array,p_pi_ac_1[:,0])\n",
    "plt.plot(var_array,p_pi_exp_1[:,0])\n",
    "plt.legend(['p(pi_l,pi_r=0,0), actual','p(pi_l,pi_r=0,0), expected'])\n",
    "plt.xlabel('variance of the left mode (x=1)')\n",
    "plt.ylabel('density')"
   ]
  },
  {
   "cell_type": "code",
   "execution_count": 20,
   "metadata": {},
   "outputs": [
    {
     "data": {
      "text/plain": [
       "Text(0, 0.5, 'density')"
      ]
     },
     "execution_count": 20,
     "metadata": {},
     "output_type": "execute_result"
    },
    {
     "data": {
      "image/png": "[encoded data removed]",
      "text/plain": [
       "<Figure size 432x288 with 1 Axes>"
      ]
     },
     "metadata": {
      "needs_background": "light"
     },
     "output_type": "display_data"
    }
   ],
   "source": [
    "plt.scatter(var_array,p_pi_ac_1[:,3])\n",
    "plt.plot(var_array,p_pi_exp_1[:,3])\n",
    "plt.legend(['p(pi_l,pi_r=1,1), actual','p(pi_l,pi_r=1,1), expected'])\n",
    "plt.xlabel('variance of the left mode (x=1)')\n",
    "plt.ylabel('density')\n"
   ]
  },
  {
   "cell_type": "code",
   "execution_count": 21,
   "metadata": {},
   "outputs": [
    {
     "data": {
      "text/plain": [
       "array([[1., 1., 1., 1., 1.],\n",
       "       [1., 1., 1., 1., 1.],\n",
       "       [1., 1., 1., 1., 1.],\n",
       "       [1., 1., 1., 1., 1.],\n",
       "       [1., 1., 1., 1., 1.]])"
      ]
     },
     "execution_count": 21,
     "metadata": {},
     "output_type": "execute_result"
    }
   ],
   "source": [
    "np.matmul(np.ones((5,1)),np.ones((1,5)))"
   ]
  },
  {
   "cell_type": "code",
   "execution_count": 22,
   "metadata": {},
   "outputs": [
    {
     "data": {
      "text/plain": [
       "array([[ 1.00000000e+00,  3.74202619e-03,  3.78209475e-02,\n",
       "        -5.62752155e-02, -1.31367504e-02,  3.67921610e-04,\n",
       "        -4.05311838e-02, -3.43533859e-02, -1.77559365e-03,\n",
       "         3.97952582e-02,  1.14386181e-02, -1.17337334e-02,\n",
       "        -3.07155726e-02, -9.23499205e-03,  2.24714379e-02,\n",
       "        -3.52118361e-02, -2.30317892e-02,  1.96280209e-02,\n",
       "         5.00764860e-03, -4.76182492e-02,  4.81785395e-03,\n",
       "        -1.66799596e-03, -2.75358535e-02,  3.26789592e-02,\n",
       "        -6.49498288e-03],\n",
       "       [ 3.74202619e-03,  1.00000000e+00, -1.38200350e-02,\n",
       "        -2.61734627e-02,  9.45899377e-03, -6.10711293e-03,\n",
       "         1.86241765e-02,  5.83572035e-02, -1.49180109e-02,\n",
       "         3.49374304e-02,  2.47907683e-02,  1.47248692e-02,\n",
       "         3.93168087e-02, -2.91554856e-02, -9.17627192e-03,\n",
       "        -2.68821216e-02,  6.22245006e-03,  4.45585514e-03,\n",
       "         1.39757175e-03, -1.44397388e-02, -5.56220603e-02,\n",
       "         2.00248231e-02, -1.59581680e-02,  3.03429743e-02,\n",
       "         1.37376673e-03],\n",
       "       [ 3.78209475e-02, -1.38200350e-02,  1.00000000e+00,\n",
       "        -4.17793669e-03, -1.16382645e-03, -2.34820084e-02,\n",
       "         3.51984368e-03,  1.99398981e-02, -6.54787773e-02,\n",
       "        -2.18016160e-02,  1.85887050e-02, -4.31111357e-02,\n",
       "        -3.73906764e-02,  1.66477740e-02,  9.22715983e-03,\n",
       "        -8.26269832e-03, -7.25553630e-03, -1.05241738e-02,\n",
       "         8.74178267e-03,  3.07743980e-02,  2.76390877e-02,\n",
       "        -2.61526651e-02,  2.19662459e-02, -3.95322059e-02,\n",
       "        -8.99406291e-03],\n",
       "       [-5.62752155e-02, -2.61734627e-02, -4.17793669e-03,\n",
       "         1.00000000e+00,  1.17857745e-02,  4.14729861e-02,\n",
       "        -1.08598023e-02,  9.77577839e-04, -4.08499663e-05,\n",
       "        -1.10668381e-02,  1.29539529e-02, -2.57773872e-02,\n",
       "         4.03986797e-03,  2.33755256e-02,  1.09792013e-02,\n",
       "        -1.15364779e-02,  6.87023105e-03, -2.69021046e-02,\n",
       "        -5.71069043e-03, -1.17088424e-02, -1.77748067e-02,\n",
       "        -3.25936907e-02, -7.20706050e-03, -1.55088279e-02,\n",
       "        -2.91639920e-02],\n",
       "       [-1.31367504e-02,  9.45899377e-03, -1.16382645e-03,\n",
       "         1.17857745e-02,  1.00000000e+00,  1.85242834e-02,\n",
       "        -2.09530912e-02,  1.34665298e-02,  3.23218419e-02,\n",
       "        -1.78648979e-02,  5.00448537e-02, -2.89859848e-03,\n",
       "        -2.84645181e-02, -2.60892258e-02, -5.01556800e-02,\n",
       "        -2.43457724e-03,  2.24757495e-02,  3.08308392e-02,\n",
       "        -1.72401066e-02, -3.37716431e-02, -4.72913714e-02,\n",
       "        -1.68555759e-02, -2.90783285e-03,  1.69758766e-02,\n",
       "        -9.89667895e-03],\n",
       "       [ 3.67921610e-04, -6.10711293e-03, -2.34820084e-02,\n",
       "         4.14729861e-02,  1.85242834e-02,  1.00000000e+00,\n",
       "         1.17545338e-02, -1.12698280e-02,  8.51478627e-03,\n",
       "         5.07095144e-03, -3.87421202e-02, -1.46516094e-02,\n",
       "         2.54706004e-02, -2.81060972e-03,  1.51446687e-02,\n",
       "        -7.96286732e-03, -3.73157339e-02,  8.66129308e-03,\n",
       "         7.81816775e-03, -4.11902226e-03,  1.22062989e-02,\n",
       "        -2.26233725e-02, -3.54550904e-02, -6.40434426e-03,\n",
       "        -2.52152349e-02],\n",
       "       [-4.05311838e-02,  1.86241765e-02,  3.51984368e-03,\n",
       "        -1.08598023e-02, -2.09530912e-02,  1.17545338e-02,\n",
       "         1.00000000e+00,  1.75165316e-02, -7.43189097e-03,\n",
       "         3.65637277e-02, -6.20343978e-02, -3.07671332e-02,\n",
       "        -1.70707389e-02, -3.06116670e-02,  1.60219873e-02,\n",
       "        -9.87200232e-03, -4.33125816e-03,  1.62388220e-02,\n",
       "        -1.90475559e-03,  1.61974497e-02,  2.75054134e-02,\n",
       "         4.11962451e-02, -3.62082564e-03,  3.24805077e-02,\n",
       "        -2.81633164e-02],\n",
       "       [-3.43533859e-02,  5.83572035e-02,  1.99398981e-02,\n",
       "         9.77577839e-04,  1.34665298e-02, -1.12698280e-02,\n",
       "         1.75165316e-02,  1.00000000e+00, -5.13296248e-02,\n",
       "         7.11629775e-03,  1.68320558e-02, -3.01258418e-03,\n",
       "         1.88646908e-02,  1.44566389e-02,  6.59763110e-03,\n",
       "        -3.91391018e-02,  5.51430841e-03, -1.98835608e-02,\n",
       "        -1.69704758e-02,  2.19079783e-02, -2.86109394e-02,\n",
       "         1.00487735e-02, -1.99653628e-02,  5.09397097e-02,\n",
       "         1.69927482e-02],\n",
       "       [-1.77559365e-03, -1.49180109e-02, -6.54787773e-02,\n",
       "        -4.08499663e-05,  3.23218419e-02,  8.51478627e-03,\n",
       "        -7.43189097e-03, -5.13296248e-02,  1.00000000e+00,\n",
       "        -1.93305261e-02, -2.86275487e-02,  2.48090892e-02,\n",
       "         9.95194012e-03, -2.30662354e-02, -1.45461232e-02,\n",
       "        -1.93484645e-02,  2.14192898e-02, -1.36163182e-02,\n",
       "         2.55979181e-02, -2.98621208e-02, -9.28303469e-03,\n",
       "        -1.26644295e-02,  2.01536141e-03, -1.64590883e-02,\n",
       "         1.24049237e-02],\n",
       "       [ 3.97952582e-02,  3.49374304e-02, -2.18016160e-02,\n",
       "        -1.10668381e-02, -1.78648979e-02,  5.07095144e-03,\n",
       "         3.65637277e-02,  7.11629775e-03, -1.93305261e-02,\n",
       "         1.00000000e+00, -4.85870062e-03, -3.56115272e-02,\n",
       "         4.81894281e-02,  1.48119805e-02, -1.88975091e-02,\n",
       "        -5.68996326e-03, -2.79507260e-02, -6.62871449e-03,\n",
       "        -2.55093662e-02,  1.94336892e-02, -5.89779569e-03,\n",
       "         2.66250960e-02, -9.51383554e-03, -2.62825525e-03,\n",
       "        -6.64591167e-03],\n",
       "       [ 1.14386181e-02,  2.47907683e-02,  1.85887050e-02,\n",
       "         1.29539529e-02,  5.00448537e-02, -3.87421202e-02,\n",
       "        -6.20343978e-02,  1.68320558e-02, -2.86275487e-02,\n",
       "        -4.85870062e-03,  1.00000000e+00, -1.92248054e-02,\n",
       "        -2.43674589e-02,  2.53977296e-02,  2.71923366e-03,\n",
       "         6.42591670e-03,  3.30717324e-02, -1.69022152e-02,\n",
       "        -2.23379060e-02, -1.12586024e-02,  2.40542103e-02,\n",
       "        -2.36336243e-02,  2.54252100e-02, -1.49541986e-02,\n",
       "        -1.09001372e-02],\n",
       "       [-1.17337334e-02,  1.47248692e-02, -4.31111357e-02,\n",
       "        -2.57773872e-02, -2.89859848e-03, -1.46516094e-02,\n",
       "        -3.07671332e-02, -3.01258418e-03,  2.48090892e-02,\n",
       "        -3.56115272e-02, -1.92248054e-02,  1.00000000e+00,\n",
       "         5.79939166e-02, -3.56640798e-02,  8.95763419e-03,\n",
       "        -2.95816331e-03,  1.01402020e-02,  2.22374518e-02,\n",
       "         7.41821652e-03, -1.93949243e-02,  9.25921161e-03,\n",
       "        -2.92420485e-02, -5.12391518e-03,  1.52880970e-02,\n",
       "         3.64907052e-02],\n",
       "       [-3.07155726e-02,  3.93168087e-02, -3.73906764e-02,\n",
       "         4.03986797e-03, -2.84645181e-02,  2.54706004e-02,\n",
       "        -1.70707389e-02,  1.88646908e-02,  9.95194012e-03,\n",
       "         4.81894281e-02, -2.43674589e-02,  5.79939166e-02,\n",
       "         1.00000000e+00, -1.39965036e-02, -1.75901262e-02,\n",
       "        -5.38666113e-03,  2.87494860e-02,  1.45934584e-02,\n",
       "         1.41803230e-02, -1.45287785e-02,  1.90049472e-02,\n",
       "        -3.64058134e-02, -2.94878467e-02,  1.51992517e-02,\n",
       "         5.25028716e-02],\n",
       "       [-9.23499205e-03, -2.91554856e-02,  1.66477740e-02,\n",
       "         2.33755256e-02, -2.60892258e-02, -2.81060972e-03,\n",
       "        -3.06116670e-02,  1.44566389e-02, -2.30662354e-02,\n",
       "         1.48119805e-02,  2.53977296e-02, -3.56640798e-02,\n",
       "        -1.39965036e-02,  1.00000000e+00, -1.17835512e-02,\n",
       "         6.04715951e-03, -2.22724660e-02, -4.48932252e-02,\n",
       "         1.24229825e-03, -2.00083010e-03, -2.61453632e-02,\n",
       "         1.65442278e-02,  1.22105384e-03, -4.53402739e-03,\n",
       "        -5.72437733e-03],\n",
       "       [ 2.24714379e-02, -9.17627192e-03,  9.22715983e-03,\n",
       "         1.09792013e-02, -5.01556800e-02,  1.51446687e-02,\n",
       "         1.60219873e-02,  6.59763110e-03, -1.45461232e-02,\n",
       "        -1.88975091e-02,  2.71923366e-03,  8.95763419e-03,\n",
       "        -1.75901262e-02, -1.17835512e-02,  1.00000000e+00,\n",
       "         1.97116548e-02, -2.61719520e-02,  4.64472654e-02,\n",
       "         2.38830261e-02,  2.37067376e-02,  1.80591685e-02,\n",
       "        -7.92967126e-04,  5.34580731e-03, -2.77481111e-02,\n",
       "        -8.95367833e-03],\n",
       "       [-3.52118361e-02, -2.68821216e-02, -8.26269832e-03,\n",
       "        -1.15364779e-02, -2.43457724e-03, -7.96286732e-03,\n",
       "        -9.87200232e-03, -3.91391018e-02, -1.93484645e-02,\n",
       "        -5.68996326e-03,  6.42591670e-03, -2.95816331e-03,\n",
       "        -5.38666113e-03,  6.04715951e-03,  1.97116548e-02,\n",
       "         1.00000000e+00,  1.31823488e-02,  2.58467885e-02,\n",
       "        -5.96176960e-03,  3.57668654e-02, -4.90280602e-02,\n",
       "         2.53095041e-02, -5.09496670e-04, -4.08135817e-02,\n",
       "        -6.32509889e-02],\n",
       "       [-2.30317892e-02,  6.22245006e-03, -7.25553630e-03,\n",
       "         6.87023105e-03,  2.24757495e-02, -3.73157339e-02,\n",
       "        -4.33125816e-03,  5.51430841e-03,  2.14192898e-02,\n",
       "        -2.79507260e-02,  3.30717324e-02,  1.01402020e-02,\n",
       "         2.87494860e-02, -2.22724660e-02, -2.61719520e-02,\n",
       "         1.31823488e-02,  1.00000000e+00, -4.99220717e-03,\n",
       "         1.84312900e-02,  2.02694759e-02,  1.17558191e-02,\n",
       "        -1.37331751e-03,  4.43787465e-03, -2.84265645e-02,\n",
       "         9.67942365e-03],\n",
       "       [ 1.96280209e-02,  4.45585514e-03, -1.05241738e-02,\n",
       "        -2.69021046e-02,  3.08308392e-02,  8.66129308e-03,\n",
       "         1.62388220e-02, -1.98835608e-02, -1.36163182e-02,\n",
       "        -6.62871449e-03, -1.69022152e-02,  2.22374518e-02,\n",
       "         1.45934584e-02, -4.48932252e-02,  4.64472654e-02,\n",
       "         2.58467885e-02, -4.99220717e-03,  1.00000000e+00,\n",
       "        -1.55853321e-02, -2.94524708e-02,  7.78002681e-03,\n",
       "         2.20024377e-02,  1.30701426e-02, -1.30480693e-02,\n",
       "        -1.93377270e-02],\n",
       "       [ 5.00764860e-03,  1.39757175e-03,  8.74178267e-03,\n",
       "        -5.71069043e-03, -1.72401066e-02,  7.81816775e-03,\n",
       "        -1.90475559e-03, -1.69704758e-02,  2.55979181e-02,\n",
       "        -2.55093662e-02, -2.23379060e-02,  7.41821652e-03,\n",
       "         1.41803230e-02,  1.24229825e-03,  2.38830261e-02,\n",
       "        -5.96176960e-03,  1.84312900e-02, -1.55853321e-02,\n",
       "         1.00000000e+00,  2.34569381e-02,  1.28954322e-02,\n",
       "         1.32748296e-02,  3.68953069e-03,  1.65836668e-02,\n",
       "         1.08032251e-02],\n",
       "       [-4.76182492e-02, -1.44397388e-02,  3.07743980e-02,\n",
       "        -1.17088424e-02, -3.37716431e-02, -4.11902226e-03,\n",
       "         1.61974497e-02,  2.19079783e-02, -2.98621208e-02,\n",
       "         1.94336892e-02, -1.12586024e-02, -1.93949243e-02,\n",
       "        -1.45287785e-02, -2.00083010e-03,  2.37067376e-02,\n",
       "         3.57668654e-02,  2.02694759e-02, -2.94524708e-02,\n",
       "         2.34569381e-02,  1.00000000e+00,  4.72656452e-03,\n",
       "        -1.63291007e-02, -2.48686462e-02,  3.85896358e-02,\n",
       "        -1.07417670e-02],\n",
       "       [ 4.81785395e-03, -5.56220603e-02,  2.76390877e-02,\n",
       "        -1.77748067e-02, -4.72913714e-02,  1.22062989e-02,\n",
       "         2.75054134e-02, -2.86109394e-02, -9.28303469e-03,\n",
       "        -5.89779569e-03,  2.40542103e-02,  9.25921161e-03,\n",
       "         1.90049472e-02, -2.61453632e-02,  1.80591685e-02,\n",
       "        -4.90280602e-02,  1.17558191e-02,  7.78002681e-03,\n",
       "         1.28954322e-02,  4.72656452e-03,  1.00000000e+00,\n",
       "         3.06484422e-03,  1.37827843e-02, -8.65024960e-03,\n",
       "         2.36805849e-02],\n",
       "       [-1.66799596e-03,  2.00248231e-02, -2.61526651e-02,\n",
       "        -3.25936907e-02, -1.68555759e-02, -2.26233725e-02,\n",
       "         4.11962451e-02,  1.00487735e-02, -1.26644295e-02,\n",
       "         2.66250960e-02, -2.36336243e-02, -2.92420485e-02,\n",
       "        -3.64058134e-02,  1.65442278e-02, -7.92967126e-04,\n",
       "         2.53095041e-02, -1.37331751e-03,  2.20024377e-02,\n",
       "         1.32748296e-02, -1.63291007e-02,  3.06484422e-03,\n",
       "         1.00000000e+00,  5.87657527e-03, -3.25839973e-02,\n",
       "        -1.39598229e-02],\n",
       "       [-2.75358535e-02, -1.59581680e-02,  2.19662459e-02,\n",
       "        -7.20706050e-03, -2.90783285e-03, -3.54550904e-02,\n",
       "        -3.62082564e-03, -1.99653628e-02,  2.01536141e-03,\n",
       "        -9.51383554e-03,  2.54252100e-02, -5.12391518e-03,\n",
       "        -2.94878467e-02,  1.22105384e-03,  5.34580731e-03,\n",
       "        -5.09496670e-04,  4.43787465e-03,  1.30701426e-02,\n",
       "         3.68953069e-03, -2.48686462e-02,  1.37827843e-02,\n",
       "         5.87657527e-03,  1.00000000e+00,  1.86633815e-03,\n",
       "        -8.49231004e-03],\n",
       "       [ 3.26789592e-02,  3.03429743e-02, -3.95322059e-02,\n",
       "        -1.55088279e-02,  1.69758766e-02, -6.40434426e-03,\n",
       "         3.24805077e-02,  5.09397097e-02, -1.64590883e-02,\n",
       "        -2.62825525e-03, -1.49541986e-02,  1.52880970e-02,\n",
       "         1.51992517e-02, -4.53402739e-03, -2.77481111e-02,\n",
       "        -4.08135817e-02, -2.84265645e-02, -1.30480693e-02,\n",
       "         1.65836668e-02,  3.85896358e-02, -8.65024960e-03,\n",
       "        -3.25839973e-02,  1.86633815e-03,  1.00000000e+00,\n",
       "         9.82808853e-03],\n",
       "       [-6.49498288e-03,  1.37376673e-03, -8.99406291e-03,\n",
       "        -2.91639920e-02, -9.89667895e-03, -2.52152349e-02,\n",
       "        -2.81633164e-02,  1.69927482e-02,  1.24049237e-02,\n",
       "        -6.64591167e-03, -1.09001372e-02,  3.64907052e-02,\n",
       "         5.25028716e-02, -5.72437733e-03, -8.95367833e-03,\n",
       "        -6.32509889e-02,  9.67942365e-03, -1.93377270e-02,\n",
       "         1.08032251e-02, -1.07417670e-02,  2.36805849e-02,\n",
       "        -1.39598229e-02, -8.49231004e-03,  9.82808853e-03,\n",
       "         1.00000000e+00]])"
      ]
     },
     "execution_count": 22,
     "metadata": {},
     "output_type": "execute_result"
    }
   ],
   "source": [
    "s_test = np.ones((2000,5,5))+random.normal(0,1,(2000,5,5))\n",
    "s_test=s_test.reshape(2000,-1)\n",
    "s_square = np.matmul(s_test.T,s_test)\n",
    "s_ave = np.mean(s_test,axis=0)\n",
    "s_var = np.std(s_test,axis=0)\n",
    "(s_square/2000-np.matmul(s_ave.reshape(-1,1),s_ave.reshape(1,-1)))/np.matmul(s_var.reshape(-1,1),s_var.reshape(1,-1))"
   ]
  }
 ],
 "metadata": {
  "kernelspec": {
   "display_name": "Python 3.9.12",
   "language": "python",
   "name": "python3"
  },
  "language_info": {
   "codemirror_mode": {
    "name": "ipython",
    "version": 3
   },
   "file_extension": ".py",
   "mimetype": "text/x-python",
   "name": "python",
   "nbconvert_exporter": "python",
   "pygments_lexer": "ipython3",
   "version": "3.9.12"
  },
  "orig_nbformat": 4,
  "vscode": {
   "interpreter": {
    "hash": "40d3a090f54c6569ab1632332b64b2c03c39dcf918b08424e98f38b5ae0af88f"
   }
  }
 },
 "nbformat": 4,
 "nbformat_minor": 2
}
