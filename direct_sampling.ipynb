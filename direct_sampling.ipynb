{
 "cells": [
  {
   "cell_type": "code",
   "execution_count": 109,
   "metadata": {},
   "outputs": [],
   "source": [
    "#using direct sampling by random normal function, instead of MH for conditional distribution\n",
    "#allow double zero at first"
   ]
  },
  {
   "cell_type": "code",
   "execution_count": 110,
   "metadata": {},
   "outputs": [],
   "source": [
    "import numpy as np\n",
    "import numpy.random as random\n",
    "import matplotlib.pyplot as plt"
   ]
  },
  {
   "cell_type": "code",
   "execution_count": 111,
   "metadata": {},
   "outputs": [],
   "source": [
    "#from here on, direct sampling on w\n",
    "def generate_std_mu_w(index,w,pi_l,pi_r,var_l,var_r,x_l,x_r,b,tau,beta,dim,p):\n",
    "    ind_0_low,ind_0_high = int(index[0]-(np.sign(index[0]-0.99)+1)/2),int(index[0]+(np.sign((dim-1-0.01)-index[0])+1)/2)\n",
    "    ind_1_low,ind_1_high = int(index[1]-(np.sign(index[1]-0.99)+1)/2),int(index[1]+(np.sign((dim-1-0.01)-index[1])+1)/2)\n",
    "    no_nei = ind_0_high - ind_0_low + ind_1_high - ind_1_low\n",
    "    sum_nei = np.sum(w[:,index[0],ind_1_low:ind_1_high+1],axis=1)-2*w[:,index[0],index[1]]+np.sum(w[:,ind_0_low:ind_0_high+1,index[1]],axis=1)\n",
    "    std = (2*tau*((x_l[:,index[0],index[1]]-x_r[:,index[0],index[1]])**2+beta*no_nei+pi_l[:,index[0],index[1]]/2/var_l+pi_r[:,index[0],index[1]]/2/var_r))**-0.5\n",
    "    mu = tau*((b[:,index[0],index[1]]-x_r[:,index[0],index[1]])*(x_l[:,index[0],index[1]]-x_r[:,index[0],index[1]])+(x_l[:,index[0],index[1]]-x_r[:,index[0],index[1]])**2/2/var_l*pi_l[:,index[0],index[1]]+beta*sum_nei)\n",
    "    mu = mu/(0.5*std**-2)\n",
    "    return mu,std"
   ]
  },
  {
   "cell_type": "code",
   "execution_count": 112,
   "metadata": {},
   "outputs": [],
   "source": [
    "def p_pi_l_new(index,w,x_l,x_r,pi_l,var,b,tau,gamma,p):\n",
    "    #sparse coefficient alpha TBC\n",
    "    i,j = index[0],index[1]\n",
    "    s_n = w[:,i,j]*x_l[:,i,j]+(1-w[:,i,j])*x_r[:,i,j]\n",
    "    E_xl = 1/(2*var)*pi_l[:,i,j]*(x_l[:,i,j]-s_n)**2\n",
    "    pi_extended = np.concatenate((pi_l[:,:,0].reshape(p,-1,1),pi_l,pi_l[:,:,-1].reshape(p,-1,1)),axis=2)\n",
    "    pi_extended = np.concatenate((pi_extended[:,0,:].reshape(p,1,-1),pi_extended,pi_extended[:,-1,:].reshape(p,1,-1)),axis=1)\n",
    "    #E_pi_l = alpha*(pi_extended[i+2,j+1]+pi_extended[i+1,j+2]+pi_extended[i,j+1]+pi_extended[i+1,j])\n",
    "    '''E_pi_l = E_pi_l + gamma*((pi_extended[:,i+1,j+1]-pi_extended[:,i,j+1])**2+(pi_extended[:i+1,j+1]-pi_extended[:,i+1,j])**2)'''\n",
    "    E_pi_l = gamma*((pi_extended[:,i+1,j+1]-pi_extended[:,i,j+1])**2+(pi_extended[:,i+1,j+1]-pi_extended[:,i+1,j])**2)\n",
    "    E_pi_l = E_pi_l + gamma*((pi_extended[:,i+1,j+1]-pi_extended[:,i+2,j+1])**2+(pi_extended[:,i+1,j+1]-pi_extended[:,i+1,j+2])**2)\n",
    "    return np.exp(-tau*(E_xl+E_pi_l))"
   ]
  },
  {
   "cell_type": "code",
   "execution_count": 113,
   "metadata": {},
   "outputs": [],
   "source": [
    "def p_pi_r_new(index,w,x_l,x_r,pi_r,var,b,tau,gamma,p):\n",
    "    #sparse coefficient alpha TBC\n",
    "    i,j = index[0],index[1]\n",
    "    s_n = w[:,i,j]*x_l[:,i,j]+(1-w[:,i,j])*x_r[:,i,j]\n",
    "    E_xr = 1/(2*var)*pi_r[:,i,j]*(x_r[:,i,j]-s_n)**2\n",
    "    pi_extended = np.concatenate((pi_r[:,:,0].reshape(p,-1,1),pi_r,pi_r[:,:,-1].reshape(p,-1,1)),axis=2)\n",
    "    pi_extended = np.concatenate((pi_extended[:,0,:].reshape(p,1,-1),pi_extended,pi_extended[:,-1,:].reshape(p,1,-1)),axis=1)\n",
    "    #E_pi_l = alpha*(pi_extended[i+2,j+1]+pi_extended[i+1,j+2]+pi_extended[i,j+1]+pi_extended[i+1,j])\n",
    "    '''E_pi_l = E_pi_l + gamma*((pi_extended[:,i+1,j+1]-pi_extended[:,i,j+1])**2+(pi_extended[:i+1,j+1]-pi_extended[:,i+1,j])**2)'''\n",
    "    E_pi_r = gamma*((pi_extended[:,i+1,j+1]-pi_extended[:,i,j+1])**2+(pi_extended[:,i+1,j+1]-pi_extended[:,i+1,j])**2)\n",
    "    E_pi_r = E_pi_r + gamma*((pi_extended[:,i+1,j+1]-pi_extended[:,i+2,j+1])**2+(pi_extended[:,i+1,j+1]-pi_extended[:,i+1,j+2])**2)\n",
    "    return np.exp(-tau*(E_xr+E_pi_r))"
   ]
  },
  {
   "cell_type": "code",
   "execution_count": 114,
   "metadata": {},
   "outputs": [],
   "source": [
    "def likelihood_ratio_pi_l(index,w,x_l,x_r,pi_l,var,b,tau,gamma,p):\n",
    "    #likelihood ratio: p(pi_l)=1/p(pi_l)=0\n",
    "    pi_l_1 = pi_l.copy()\n",
    "    pi_l_1[:,index[0],index[1]] = 1\n",
    "    pi_l_0 = pi_l.copy()\n",
    "    pi_l_0[:,index[0],index[1]] = 0\n",
    "    return p_pi_l_new(index,w,x_l,x_r,pi_l_1,var,b,tau,gamma,p)/p_pi_l_new(index,w,x_l,x_r,pi_l_0,var,b,tau,gamma,p)"
   ]
  },
  {
   "cell_type": "code",
   "execution_count": 115,
   "metadata": {},
   "outputs": [],
   "source": [
    "def likelihood_ratio_pi_r(index,w,x_l,x_r,pi_r,var,b,tau,gamma,p):\n",
    "    #likelihood ratio: p(pi_l)=1/p(pi_l)=0\n",
    "    pi_r_1 = pi_r.copy()\n",
    "    pi_r_1[:,index[0],index[1]] = 1\n",
    "    pi_r_0 = pi_r.copy()\n",
    "    pi_r_0[:,index[0],index[1]] = 0\n",
    "    return p_pi_r_new(index,w,x_l,x_r,pi_r_1,var,b,tau,gamma,p)/p_pi_r_new(index,w,x_l,x_r,pi_r_0,var,b,tau,gamma,p)"
   ]
  },
  {
   "cell_type": "code",
   "execution_count": 116,
   "metadata": {},
   "outputs": [],
   "source": [
    "def simulation_new(var,beta,gamma,alpha,tau,b,dim,p,no_sample):\n",
    "    #p: no. parallel sampling sequences\n",
    "    #no. sample: no. samples in each sequence\n",
    "    #dim: dimension of each MRF\n",
    "    sampling_order_i = np.arange(dim)\n",
    "    sampling_order_j = np.arange(dim)\n",
    "\n",
    "    #set initial condition for w, pi_r, pi_l\n",
    "    #set visual input x_r, x_l as conflicting input\n",
    "    x_l = np.ones((p,dim,dim))\n",
    "    x_r = np.zeros((p,dim,dim))\n",
    "    w = random.rand(p,dim,dim)\n",
    "    pi_l = random.randint(0,2,(p,dim,dim))\n",
    "    pi_r = random.randint(0,2,(p,dim,dim))\n",
    "\n",
    "    s = []\n",
    "    for m in range(int(no_sample)):\n",
    "        #order of sweep is randomnized\n",
    "        random.shuffle(sampling_order_i)\n",
    "        random.shuffle(sampling_order_j)\n",
    "        #the following for loop update on pi_l\n",
    "        for i in sampling_order_i:\n",
    "            for j in sampling_order_j:\n",
    "                index = (i,j)\n",
    "                ratio_l = likelihood_ratio_pi_l(index,w,x_l,x_r,pi_l,var,b,tau,gamma,p)\n",
    "                pi_l[:,i,j] = (np.sign(ratio_l/(1+ratio_l)-random.random(p))+1)/2\n",
    "                \n",
    "\n",
    "        #the following for loop update on pi_r\n",
    "        for i in sampling_order_i:\n",
    "            for j in sampling_order_j:\n",
    "                index = (i,j)\n",
    "                ratio_r = likelihood_ratio_pi_r(index,w,x_l,x_r,pi_r,var,b,tau,gamma,p)\n",
    "                pi_r[:,i,j] = (np.sign(ratio_r/(1+ratio_r)-random.random(p))+1)/2\n",
    "    \n",
    "        #the following for loop update on w\n",
    "        for i in sampling_order_i:\n",
    "            for j in sampling_order_j:\n",
    "                index = (i,j)\n",
    "                mu,std = generate_std_mu_w(index,w,pi_l,pi_r,var,var,x_l,x_r,b,tau,beta,dim,p)\n",
    "                w[:,i,j] = random.normal(mu,std,p)\n",
    "        \n",
    "        s_i = w*x_l+(1-w)*x_r\n",
    "        s.append(s_i)\n",
    "    return np.array(s)"
   ]
  },
  {
   "cell_type": "code",
   "execution_count": 117,
   "metadata": {},
   "outputs": [],
   "source": [
    "var,beta,gamma,alpha,tau,b,dim,p,no_sample = 0.0005,15,15,0,1/100,np.zeros((400,5,5)),5,400,44000\n",
    "s = simulation_new(var,beta,gamma,alpha,tau,b,dim,p,no_sample)"
   ]
  },
  {
   "cell_type": "code",
   "execution_count": 118,
   "metadata": {},
   "outputs": [
    {
     "data": {
      "text/plain": [
       "Text(0.5, 0, 'percept')"
      ]
     },
     "execution_count": 118,
     "metadata": {},
     "output_type": "execute_result"
    },
    {
     "data": {
      "image/png": "[encoded data removed]",
      "text/plain": [
       "<Figure size 432x288 with 1 Axes>"
      ]
     },
     "metadata": {
      "needs_background": "light"
     },
     "output_type": "display_data"
    }
   ],
   "source": [
    "plt.hist(np.array(s).reshape(-1),500,density=True)\n",
    "plt.xlabel('percept')"
   ]
  },
  {
   "cell_type": "code",
   "execution_count": 141,
   "metadata": {},
   "outputs": [
    {
     "data": {
      "text/plain": [
       "Text(0, 0.5, 'no. nodes > 0.5')"
      ]
     },
     "execution_count": 141,
     "metadata": {},
     "output_type": "execute_result"
    },
    {
     "data": {
      "image/png": "[encoded data removed]",
      "text/plain": [
       "<Figure size 432x288 with 1 Axes>"
      ]
     },
     "metadata": {
      "needs_background": "light"
     },
     "output_type": "display_data"
    }
   ],
   "source": [
    "s = np.array(s)\n",
    "plt.plot(np.array([len(np.where(state>0.5)[0]) for state in s[:,10,:,:]])[1800:2000])\n",
    "plt.axhline(y=2.5,color = 'k')\n",
    "plt.axhline(y=22.5,color = 'k')\n",
    "plt.xlabel('index samples')\n",
    "plt.ylabel('no. nodes > 0.5')"
   ]
  },
  {
   "cell_type": "code",
   "execution_count": 120,
   "metadata": {},
   "outputs": [],
   "source": [
    "def domi_period_count(state_list_input,dim):\n",
    "    cross_list = []\n",
    "    #element in cross list: (index,cross_type)\n",
    "    #cross type = 1: upper bound going up\n",
    "    #cross type = 2: lower bound going down\n",
    "    for i in range(1,len(state_list_input)):\n",
    "        if state_list_input[i-1]>2.5 and state_list_input[i]<2.5:\n",
    "            cross_list.append((i,2))\n",
    "        elif state_list_input[i-1]<22.5 and state_list_input[i]>22.5:\n",
    "            cross_list.append((i,1))\n",
    "    switch_list = [cross_list[0]]\n",
    "    cross = cross_list[0][1]\n",
    "    for i in range(1,len(cross_list)):\n",
    "        if cross_list[i][1] != cross:\n",
    "            cross = cross_list[i][1]\n",
    "            switch_list.append(cross_list[i])\n",
    "    domi_list =[]\n",
    "    for i in range(1,len(switch_list)):\n",
    "        domi_list.append(switch_list[i][0]-switch_list[i-1][0])\n",
    "    return domi_list"
   ]
  },
  {
   "cell_type": "code",
   "execution_count": 121,
   "metadata": {},
   "outputs": [],
   "source": [
    "#from node's state to the no. node > 0 in each step\n",
    "state_no_array = []\n",
    "for i in range(p):\n",
    "    state_no_array_i = []\n",
    "    for j in range(no_sample):\n",
    "        state_no_array_i.append(len(np.where(s[j,i,:,:]>0.5)[0]))\n",
    "    state_no_array.append(state_no_array_i)\n",
    "state_no_array = np.array(state_no_array)"
   ]
  },
  {
   "cell_type": "code",
   "execution_count": 122,
   "metadata": {},
   "outputs": [],
   "source": [
    "domi_list = []\n",
    "for state_list_i in state_no_array:\n",
    "    domi_list = domi_list + domi_period_count(state_list_i,5)"
   ]
  },
  {
   "cell_type": "code",
   "execution_count": 123,
   "metadata": {},
   "outputs": [
    {
     "name": "stdout",
     "output_type": "stream",
     "text": [
      "108923\n"
     ]
    }
   ],
   "source": [
    "print(len(domi_list))"
   ]
  },
  {
   "cell_type": "code",
   "execution_count": 124,
   "metadata": {},
   "outputs": [
    {
     "data": {
      "text/plain": [
       "160.69351743892474"
      ]
     },
     "execution_count": 124,
     "metadata": {},
     "output_type": "execute_result"
    }
   ],
   "source": [
    "np.mean(domi_list)"
   ]
  },
  {
   "cell_type": "code",
   "execution_count": 139,
   "metadata": {},
   "outputs": [
    {
     "name": "stdout",
     "output_type": "stream",
     "text": [
      "[1.4473114  0.56997468 2.40325809]\n"
     ]
    },
    {
     "data": {
      "image/png": "[encoded data removed]",
      "text/plain": [
       "<Figure size 432x288 with 1 Axes>"
      ]
     },
     "metadata": {
      "needs_background": "light"
     },
     "output_type": "display_data"
    }
   ],
   "source": [
    "from scipy.optimize import curve_fit\n",
    "domi_list=np.sort(np.array(domi_list))\n",
    "y,bins=np.histogram(domi_list[:-500]/np.mean(domi_list[:-500]),100,density=True)\n",
    "x = []\n",
    "for i in range(1,101):\n",
    "    x.append((bins[i]+bins[i-1])/2)\n",
    "x=np.array(x)\n",
    "\n",
    "def gamma(x,a,b,c):\n",
    "    return c*np.exp(-b**-1*x)*x**(a-1)\n",
    "\n",
    "popt,pcov = curve_fit(gamma,x,y)\n",
    "\n",
    "plt.plot(x,gamma(x,popt[0],popt[1],popt[2]))\n",
    "plt.hist(domi_list[:-500]/np.mean(domi_list[:-500]),100,density=True)\n",
    "\n",
    "plt.xlabel('dominance duration')\n",
    "plt.ylabel('density')\n",
    "plt.legend(['fitted, alphha = 1.45, beta = 0.57','histogram'])\n",
    "\n",
    "print(popt)"
   ]
  }
 ],
 "metadata": {
  "kernelspec": {
   "display_name": "Python 3.9.12",
   "language": "python",
   "name": "python3"
  },
  "language_info": {
   "codemirror_mode": {
    "name": "ipython",
    "version": 3
   },
   "file_extension": ".py",
   "mimetype": "text/x-python",
   "name": "python",
   "nbconvert_exporter": "python",
   "pygments_lexer": "ipython3",
   "version": "3.9.12"
  },
  "orig_nbformat": 4,
  "vscode": {
   "interpreter": {
    "hash": "40d3a090f54c6569ab1632332b64b2c03c39dcf918b08424e98f38b5ae0af88f"
   }
  }
 },
 "nbformat": 4,
 "nbformat_minor": 2
}
