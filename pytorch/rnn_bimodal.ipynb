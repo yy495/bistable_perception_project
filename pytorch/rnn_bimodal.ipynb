{
 "cells": [
  {
   "cell_type": "code",
   "execution_count": 1,
   "id": "1cc3ecd2",
   "metadata": {},
   "outputs": [],
   "source": [
    "import torch\n",
    "import numpy as np\n",
    "from matplotlib import pyplot as plt"
   ]
  },
  {
   "cell_type": "code",
   "execution_count": 2,
   "id": "0b679dee",
   "metadata": {},
   "outputs": [],
   "source": [
    "class network2():\n",
    "    def forward(w,wo,x,dt,tau):\n",
    "        #w = torch.cat((torch.exp(e_log),-torch.exp(i_log)),axis = 1)\n",
    "        u = torch.rand(4,1)\n",
    "        for i in range(1000):\n",
    "            u = u + 1/tau*(-u+torch.matmul(w,h(u)) + x)*dt #+ (2/tau)**0.5*dt**0.5*c@torch.randn(20,1)\n",
    "        o = wo@u\n",
    "        return o\n",
    "    def loss1(o,x):\n",
    "        return (o-x)**2\n",
    "                           "
   ]
  },
  {
   "cell_type": "code",
   "execution_count": 3,
   "id": "9259dc31",
   "metadata": {
    "scrolled": false
   },
   "outputs": [
    {
     "data": {
      "text/plain": [
       "'mode1 = torch.randn(100000)*0.1  + 1\\nmode2 = torch.randn(100000)*0.1  - 1\\nsamples = torch.cat((mode1,mode2))\\nhigh,bin_edges = torch.histogram(samples,bins = 20, density = True)\\ntarget = high*(bin_edges[1]-bin_edges[0]) + 10**-12\\nplt.plot(target.numpy())\\ntorch.sum(target)'"
      ]
     },
     "execution_count": 3,
     "metadata": {},
     "output_type": "execute_result"
    }
   ],
   "source": [
    "'''mode1 = torch.randn(100000)*0.1  + 1\n",
    "mode2 = torch.randn(100000)*0.1  - 1\n",
    "samples = torch.cat((mode1,mode2))\n",
    "high,bin_edges = torch.histogram(samples,bins = 20, density = True)\n",
    "target = high*(bin_edges[1]-bin_edges[0]) + 10**-12\n",
    "plt.plot(target.numpy())\n",
    "torch.sum(target)'''"
   ]
  },
  {
   "cell_type": "code",
   "execution_count": 4,
   "id": "26856c45",
   "metadata": {},
   "outputs": [],
   "source": [
    "#print(torch.mean(samples**2))"
   ]
  },
  {
   "cell_type": "code",
   "execution_count": 12,
   "id": "74ac0107",
   "metadata": {},
   "outputs": [],
   "source": [
    "h = torch.nn.ReLU()\n",
    "dt = 0.001\n",
    "tau = 0.02"
   ]
  },
  {
   "cell_type": "code",
   "execution_count": 13,
   "id": "194b857d",
   "metadata": {},
   "outputs": [],
   "source": [
    "max_eig = True\n",
    "while max_eig:\n",
    "    w = torch.randn((4,4))\n",
    "    eig = torch.linalg.eig(w)[1]\n",
    "    if np.max(np.real(eig.numpy()))<1:\n",
    "        max_eig = False"
   ]
  },
  {
   "cell_type": "code",
   "execution_count": 14,
   "id": "02110038",
   "metadata": {},
   "outputs": [],
   "source": [
    "w = torch.autograd.Variable(w,requires_grad = True)\n",
    "wo = torch.autograd.Variable(torch.randn(1,4),requires_grad = True)\n",
    "#c = torch.autograd.Variable(torch.eye(20)*0.1,requires_grad = True)"
   ]
  },
  {
   "cell_type": "code",
   "execution_count": 21,
   "id": "d6a99b11",
   "metadata": {},
   "outputs": [],
   "source": [
    "optimizer = torch.optim.Adam([w,wo], 0.05)"
   ]
  },
  {
   "cell_type": "code",
   "execution_count": 22,
   "id": "9549b6d4",
   "metadata": {
    "scrolled": false
   },
   "outputs": [
    {
     "name": "stdout",
     "output_type": "stream",
     "text": [
      "[[0.5831298]]\n",
      "[[0.01610375]]\n",
      "[[0.21881625]]\n",
      "[[0.78604126]]\n",
      "[[0.20639575]]\n",
      "[[0.10101675]]\n",
      "[[0.1389045]]\n",
      "[[0.26197413]]\n",
      "[[0.21985438]]\n",
      "[[0.27672255]]\n",
      "[[0.18208352]]\n",
      "[[0.09109598]]\n",
      "[[0.02118762]]\n",
      "[[0.06524371]]\n",
      "[[0.17425266]]\n",
      "[[0.11792387]]\n",
      "[[0.08508603]]\n",
      "[[0.03412559]]\n",
      "[[0.01055504]]\n",
      "[[0.00441838]]\n",
      "[[0.04371046]]\n",
      "[[0.03847158]]\n",
      "[[0.03083749]]\n",
      "[[0.02387559]]\n",
      "[[0.00651721]]\n",
      "[[0.00126927]]\n",
      "[[0.00178441]]\n",
      "[[0.01102397]]\n",
      "[[0.0173224]]\n",
      "[[0.01666412]]\n"
     ]
    }
   ],
   "source": [
    "#loss_list = []\n",
    "import sys\n",
    "for m in range(30):\n",
    "    optimizer.zero_grad()\n",
    "    L = 0\n",
    "    for i in range(50):\n",
    "        x = torch.randn(1)\n",
    "        o = network2.forward(w,wo,x,dt,tau)\n",
    "        L = L + network2.loss1(o,x)\n",
    "    \n",
    "    L1 = L.detach().numpy()\n",
    "\n",
    "    print(L1)\n",
    "    loss_list.append(L1.reshape(-1))\n",
    "\n",
    "    if np.isnan(L1) == True:\n",
    "        print('error')\n",
    "        sys.exit(0)\n",
    "    \n",
    "    L.backward()\n",
    "    optimizer.step()"
   ]
  },
  {
   "cell_type": "code",
   "execution_count": 24,
   "id": "5b454df9",
   "metadata": {
    "scrolled": true
   },
   "outputs": [
    {
     "name": "stdout",
     "output_type": "stream",
     "text": [
      "[0.01666412]\n"
     ]
    },
    {
     "data": {
      "text/plain": [
       "Text(0, 0.5, 'loss')"
      ]
     },
     "execution_count": 24,
     "metadata": {},
     "output_type": "execute_result"
    },
    {
     "data": {
      "image/png": "[encoded data removed]",
      "text/plain": [
       "<Figure size 432x288 with 1 Axes>"
      ]
     },
     "metadata": {
      "needs_background": "light"
     },
     "output_type": "display_data"
    }
   ],
   "source": [
    "plt.plot(np.array(loss_list).reshape(-1))\n",
    "print(loss_list[-1])\n",
    "plt.xlabel('no. steps')\n",
    "plt.ylabel('loss')"
   ]
  },
  {
   "cell_type": "code",
   "execution_count": 26,
   "id": "39a82b69",
   "metadata": {},
   "outputs": [
    {
     "data": {
      "text/plain": [
       "array([0.01825603], dtype=float32)"
      ]
     },
     "execution_count": 26,
     "metadata": {},
     "output_type": "execute_result"
    }
   ],
   "source": [
    "(loss_list[-1]/50)**0.5"
   ]
  }
 ],
 "metadata": {
  "kernelspec": {
   "display_name": "Python 3 (ipykernel)",
   "language": "python",
   "name": "python3"
  },
  "language_info": {
   "codemirror_mode": {
    "name": "ipython",
    "version": 3
   },
   "file_extension": ".py",
   "mimetype": "text/x-python",
   "name": "python",
   "nbconvert_exporter": "python",
   "pygments_lexer": "ipython3",
   "version": "3.9.12"
  }
 },
 "nbformat": 4,
 "nbformat_minor": 5
}
