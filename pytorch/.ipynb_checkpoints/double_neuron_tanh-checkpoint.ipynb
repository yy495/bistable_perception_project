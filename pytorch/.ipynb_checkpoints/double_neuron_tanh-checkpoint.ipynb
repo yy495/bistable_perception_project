{
 "cells": [
  {
   "cell_type": "code",
   "execution_count": 1,
   "id": "5364552e",
   "metadata": {},
   "outputs": [],
   "source": [
    "#examine differentiable histogram loss\n",
    "import torch\n",
    "import numpy as np\n",
    "import matplotlib.pyplot as plt"
   ]
  },
  {
   "cell_type": "code",
   "execution_count": 2,
   "id": "776500a1",
   "metadata": {},
   "outputs": [],
   "source": [
    "m = torch.nn.Tanh()\n",
    "f = torch.nn.ReLU()"
   ]
  },
  {
   "cell_type": "code",
   "execution_count": 3,
   "id": "3c5dd031",
   "metadata": {},
   "outputs": [],
   "source": [
    "#define global constant\n",
    "p = 100 #parallel runs\n",
    "N = 2000 #steps per run for memory task\n",
    "N1 = 5000 #samples to collect for bimodal sampling\n",
    "delta_t = 1e-3 #discretization of time\n",
    "tau = 0.02 #membrane potential\n",
    "h = torch.tensor([-0.8,0.8]) #location of fixed point\n",
    "\n",
    "hist_min = -2.0 #histogram range\n",
    "hist_max = 2.0\n",
    "mode_loc = [-0.8,0.8] #double mode Gaussian\n",
    "mode_std = 0.2 #std in each mode\n",
    "R = 21 #no. bins + 1"
   ]
  },
  {
   "cell_type": "code",
   "execution_count": 4,
   "id": "64e30b7a",
   "metadata": {},
   "outputs": [],
   "source": [
    "def diff_hist_p1(s,N,p,R,hist_min,hist_max):\n",
    "    #R: number of bins\n",
    "    #delta: bin width\n",
    "    #s: sample set (p runs, N samples each run)\n",
    "    #p: parallel runs\n",
    "    delta = (hist_max - hist_min)/(R-1)\n",
    "    s = torch.reshape(s,(p,N,1))\n",
    "    r = torch.linspace(1,R-2,R-2).repeat(p,N,1)\n",
    "    T_r = hist_min + r*delta\n",
    "    T_rm1 = hist_min + r*delta - delta\n",
    "    T_rp1 = hist_min + r*delta + delta\n",
    "    return f(torch.sum(f(s-T_rm1) - 2.0*f(s-T_r) + f(s - T_rp1), axis = 1)/(N*delta))"
   ]
  },
  {
   "cell_type": "code",
   "execution_count": 5,
   "id": "f4690281",
   "metadata": {},
   "outputs": [],
   "source": [
    "t = np.arange(1,R-1)*(hist_max - hist_min)/(R-1) - hist_max\n",
    "target_hist = 1/8**0.5/np.pi**0.5/mode_std*np.exp(-1/2/(mode_std)**2*(t-mode_loc[0])**2) + 1/8**0.5/np.pi**0.5/mode_std*np.exp(-1/2/(mode_std)**2*(t-mode_loc[1])**2)\n",
    "target_hist = torch.tensor(target_hist/np.sum(target_hist))"
   ]
  },
  {
   "cell_type": "code",
   "execution_count": 6,
   "id": "42a17ee0",
   "metadata": {},
   "outputs": [
    {
     "data": {
      "text/plain": [
       "[<matplotlib.lines.Line2D at 0x115d6b550>]"
      ]
     },
     "execution_count": 6,
     "metadata": {},
     "output_type": "execute_result"
    },
    {
     "data": {
      "image/png": "[encoded data removed]",
      "text/plain": [
       "<Figure size 432x288 with 1 Axes>"
      ]
     },
     "metadata": {
      "needs_background": "light"
     },
     "output_type": "display_data"
    }
   ],
   "source": [
    "plt.plot(target_hist)"
   ]
  },
  {
   "cell_type": "code",
   "execution_count": 37,
   "id": "2513d0f6",
   "metadata": {},
   "outputs": [],
   "source": [
    "class network1():\n",
    "    def forward_noiseless(w,h):\n",
    "        #h: input, simple 1*2 tensor, location of first and second fixed point\n",
    "        h1 = torch.cat((h[0].repeat(2,50),h[1].repeat(2,50)), dim = 1)\n",
    "        r = torch.randn(2,p)\n",
    "        s = torch.zeros(p,N)\n",
    "        for i in range(60):\n",
    "            r = r + delta_t * (-r + m(w@r + h1))/tau\n",
    "            #if i%10 == 0:\n",
    "            s[:,i] = r[1,:]\n",
    "        for j in range(N-60):\n",
    "            r = r + delta_t * (-r + m(w@r))/tau\n",
    "            #if i%10 == 0:\n",
    "            s[:,j+60] = r[1,:]\n",
    "        return s\n",
    "    \n",
    "    def forward_noisy(c,w_trained):\n",
    "        #h: input, simple 1*2 tensor, location of first and second fixed point\n",
    "        r = torch.randn(2,p)\n",
    "        s = torch.zeros(p,N1)\n",
    "        for j in range(200):\n",
    "            r = r + delta_t * (-r + m(w@r))/tau + (2/tau)**0.5*delta_t**0.5*c@torch.randn(2,p)\n",
    "            \n",
    "        for j in range(N1*20):\n",
    "            r = r + delta_t * (-r + m(w@r))/tau + (2/tau)**0.5*delta_t**0.5*c@torch.randn(2,p)\n",
    "            if j%20 == 0:\n",
    "                s[:,j//20] = r[1,:]\n",
    "        return s\n",
    "    \n",
    "    def kl_loss(s,target_hist):\n",
    "        sim_hist = diff_hist_p1(s,N1,p,R,hist_min,hist_max)\n",
    "        hist_cost = torch.sum(torch.sum(target_hist*torch.log((target_hist + 1e-20)/(sim_hist + 1e-20)),axis = 1))\n",
    "        hist_cost_2 = torch.sum(torch.sum(sim_hist*torch.log((sim_hist + 1e-20)/(target_hist + 1e-20)),axis = 1))\n",
    "        #hist_cost = torch.sum(torch.sum(torch.abs(target_hist - sim_hist)))\n",
    "        out_range_cost = torch.mean(f(hist_min-s)**2 + f(s-hist_max)**2)\n",
    "        return hist_cost + hist_cost_2 + 1000*out_range_cost\n",
    "    \n",
    "    def memory_loss(s,h):\n",
    "        h2 = torch.cat((h[0].repeat(1,50),h[1].repeat(1,50)), dim = 1)\n",
    "        return torch.sum((s[:,-1] - h2)**2)"
   ]
  },
  {
   "cell_type": "code",
   "execution_count": 8,
   "id": "7e1f24d2",
   "metadata": {},
   "outputs": [
    {
     "data": {
      "text/plain": [
       "torch.Size([1, 100])"
      ]
     },
     "execution_count": 8,
     "metadata": {},
     "output_type": "execute_result"
    }
   ],
   "source": [
    "torch.cat((h[0].repeat(1,50),h[1].repeat(1,50)), dim = 1).shape"
   ]
  },
  {
   "cell_type": "code",
   "execution_count": 17,
   "id": "a9c8fdbb",
   "metadata": {},
   "outputs": [],
   "source": [
    "w = torch.autograd.Variable(torch.rand(2,2),requires_grad = True).float()"
   ]
  },
  {
   "cell_type": "code",
   "execution_count": 18,
   "id": "de51bce7",
   "metadata": {},
   "outputs": [
    {
     "name": "stdout",
     "output_type": "stream",
     "text": [
      "64.0\n",
      "63.999626\n",
      "48.321907\n",
      "8.540754\n",
      "4.0980167\n",
      "0.59007627\n",
      "5.041055\n",
      "2.565436\n",
      "7.497052\n",
      "2.5379853\n"
     ]
    }
   ],
   "source": [
    "import sys\n",
    "loss_list = []\n",
    "L = 0\n",
    "\n",
    "optimizer = torch.optim.Adam([w], 0.01)\n",
    "\n",
    "for v in range(100):\n",
    "    optimizer.zero_grad()\n",
    "    samples = network1.forward_noiseless(w,h)\n",
    "    L = network1.memory_loss(samples,h)\n",
    "    \n",
    "    L1 = L.detach().numpy().copy()\n",
    "    if v%10 == 0:\n",
    "        print(L1)\n",
    "    loss_list.append(L1)\n",
    "    \n",
    "    if np.isnan(L1) == True:\n",
    "        print('error')\n",
    "        sys.exit(0)\n",
    "        \n",
    "    L.backward()\n",
    "    optimizer.step()"
   ]
  },
  {
   "cell_type": "code",
   "execution_count": 19,
   "id": "f3761550",
   "metadata": {},
   "outputs": [
    {
     "data": {
      "text/plain": [
       "[<matplotlib.lines.Line2D at 0x1400fea90>]"
      ]
     },
     "execution_count": 19,
     "metadata": {},
     "output_type": "execute_result"
    },
    {
     "data": {
      "image/png": "[encoded data removed]",
      "text/plain": [
       "<Figure size 432x288 with 1 Axes>"
      ]
     },
     "metadata": {
      "needs_background": "light"
     },
     "output_type": "display_data"
    }
   ],
   "source": [
    "plt.plot(loss_list)"
   ]
  },
  {
   "cell_type": "code",
   "execution_count": 53,
   "id": "917874d6",
   "metadata": {
    "scrolled": true
   },
   "outputs": [
    {
     "name": "stdout",
     "output_type": "stream",
     "text": [
      "32.22113153830014\n",
      "48.936739016915894\n",
      "65.94230291359054\n",
      "149.98648254958096\n",
      "218.87178112523785\n",
      "254.36975451163028\n",
      "483.6894925265985\n",
      "610.4185313035646\n",
      "778.9753883407348\n",
      "767.3152029645724\n"
     ]
    }
   ],
   "source": [
    "c = torch.autograd.Variable(torch.rand(2,2),requires_grad = True).float()\n",
    "w_trained = w.detach()\n",
    "optimizer = torch.optim.Adam([c], 0.005)\n",
    "loss_list = []\n",
    "\n",
    "for v in range(10):\n",
    "    optimizer.zero_grad()\n",
    "    samples = network1.forward_noisy(c,w_trained)\n",
    "    L = network1.kl_loss(samples,target_hist)\n",
    "    \n",
    "    L1 = L.detach().numpy().copy()\n",
    "    if v%10 == 10:\n",
    "        print(L1)\n",
    "    \n",
    "    loss_list.append(L1)\n",
    "    \n",
    "    if np.isnan(L1) == True:\n",
    "        print('error')\n",
    "        sys.exit(0)\n",
    "        \n",
    "    L.backward()\n",
    "    optimizer.step()"
   ]
  },
  {
   "cell_type": "code",
   "execution_count": 38,
   "id": "0bd787b4",
   "metadata": {},
   "outputs": [
    {
     "name": "stdout",
     "output_type": "stream",
     "text": [
      "168.91280806684244\n",
      "52.110647017733335\n",
      "31.96052304267116\n",
      "30.54737761784396\n",
      "24.667134528004897\n"
     ]
    },
    {
     "ename": "KeyboardInterrupt",
     "evalue": "",
     "output_type": "error",
     "traceback": [
      "\u001b[0;31m---------------------------------------------------------------------------\u001b[0m",
      "\u001b[0;31mKeyboardInterrupt\u001b[0m                         Traceback (most recent call last)",
      "\u001b[0;32m/var/folders/04/wzq37d2s3bv87g77m67thbk80000gn/T/ipykernel_99607/1951658085.py\u001b[0m in \u001b[0;36m<module>\u001b[0;34m\u001b[0m\n\u001b[1;32m      8\u001b[0m     \u001b[0moptimizer\u001b[0m\u001b[0;34m.\u001b[0m\u001b[0mzero_grad\u001b[0m\u001b[0;34m(\u001b[0m\u001b[0;34m)\u001b[0m\u001b[0;34m\u001b[0m\u001b[0;34m\u001b[0m\u001b[0m\n\u001b[1;32m      9\u001b[0m     \u001b[0msamples\u001b[0m \u001b[0;34m=\u001b[0m \u001b[0mnetwork1\u001b[0m\u001b[0;34m.\u001b[0m\u001b[0mforward_noisy\u001b[0m\u001b[0;34m(\u001b[0m\u001b[0mc\u001b[0m\u001b[0;34m,\u001b[0m\u001b[0mw\u001b[0m\u001b[0;34m)\u001b[0m\u001b[0;34m\u001b[0m\u001b[0;34m\u001b[0m\u001b[0m\n\u001b[0;32m---> 10\u001b[0;31m     \u001b[0mL\u001b[0m \u001b[0;34m=\u001b[0m \u001b[0mnetwork1\u001b[0m\u001b[0;34m.\u001b[0m\u001b[0mkl_loss\u001b[0m\u001b[0;34m(\u001b[0m\u001b[0msamples\u001b[0m\u001b[0;34m,\u001b[0m\u001b[0mtarget_hist\u001b[0m\u001b[0;34m)\u001b[0m\u001b[0;34m\u001b[0m\u001b[0;34m\u001b[0m\u001b[0m\n\u001b[0m\u001b[1;32m     11\u001b[0m \u001b[0;34m\u001b[0m\u001b[0m\n\u001b[1;32m     12\u001b[0m     \u001b[0mL1\u001b[0m \u001b[0;34m=\u001b[0m \u001b[0mL\u001b[0m\u001b[0;34m.\u001b[0m\u001b[0mdetach\u001b[0m\u001b[0;34m(\u001b[0m\u001b[0;34m)\u001b[0m\u001b[0;34m.\u001b[0m\u001b[0mnumpy\u001b[0m\u001b[0;34m(\u001b[0m\u001b[0;34m)\u001b[0m\u001b[0;34m.\u001b[0m\u001b[0mcopy\u001b[0m\u001b[0;34m(\u001b[0m\u001b[0;34m)\u001b[0m\u001b[0;34m\u001b[0m\u001b[0;34m\u001b[0m\u001b[0m\n",
      "\u001b[0;31mKeyboardInterrupt\u001b[0m: "
     ]
    }
   ],
   "source": [
    "c = torch.autograd.Variable(torch.rand(2,2)*0.2,requires_grad = True).float()\n",
    "w = torch.autograd.Variable(torch.rand(2,2),requires_grad = True).float()\n",
    "#w_trained = w.detach()\n",
    "optimizer = torch.optim.Adam([c,w], 0.1)\n",
    "loss_list = []\n",
    "\n",
    "for v in range(100):\n",
    "    optimizer.zero_grad()\n",
    "    samples = network1.forward_noisy(c,w)\n",
    "    L = network1.kl_loss(samples,target_hist)\n",
    "    \n",
    "    L1 = L.detach().numpy().copy()\n",
    "    if v%10 == 0:\n",
    "        print(L1)\n",
    "    \n",
    "    loss_list.append(L1)\n",
    "        \n",
    "    L.backward()\n",
    "    optimizer.step()"
   ]
  },
  {
   "cell_type": "code",
   "execution_count": 39,
   "id": "2bae904a",
   "metadata": {},
   "outputs": [
    {
     "data": {
      "text/plain": [
       "array(24.66713453)"
      ]
     },
     "execution_count": 39,
     "metadata": {},
     "output_type": "execute_result"
    }
   ],
   "source": [
    "loss_list[-1]"
   ]
  },
  {
   "cell_type": "code",
   "execution_count": 40,
   "id": "9d708522",
   "metadata": {},
   "outputs": [
    {
     "data": {
      "text/plain": [
       "[<matplotlib.lines.Line2D at 0x316fb7d60>]"
      ]
     },
     "execution_count": 40,
     "metadata": {},
     "output_type": "execute_result"
    },
    {
     "data": {
      "image/png": "[encoded data removed]",
      "text/plain": [
       "<Figure size 432x288 with 1 Axes>"
      ]
     },
     "metadata": {
      "needs_background": "light"
     },
     "output_type": "display_data"
    }
   ],
   "source": [
    "plt.plot(loss_list)"
   ]
  },
  {
   "cell_type": "code",
   "execution_count": 41,
   "id": "2c8d8238",
   "metadata": {},
   "outputs": [],
   "source": [
    "s = network1.forward_noisy(w,c)"
   ]
  },
  {
   "cell_type": "code",
   "execution_count": 42,
   "id": "ee8a4755",
   "metadata": {},
   "outputs": [
    {
     "data": {
      "text/plain": [
       "torch.Size([100, 5000])"
      ]
     },
     "execution_count": 42,
     "metadata": {},
     "output_type": "execute_result"
    }
   ],
   "source": [
    "s.shape"
   ]
  },
  {
   "cell_type": "code",
   "execution_count": 43,
   "id": "18899ca5",
   "metadata": {},
   "outputs": [
    {
     "data": {
      "image/png": "[encoded data removed]",
      "text/plain": [
       "<Figure size 432x288 with 1 Axes>"
      ]
     },
     "metadata": {
      "needs_background": "light"
     },
     "output_type": "display_data"
    }
   ],
   "source": [
    "plt.hist(s.detach().numpy().reshape(-1),bins = 100)\n",
    "plt.show()"
   ]
  },
  {
   "cell_type": "code",
   "execution_count": 44,
   "id": "d981a72d",
   "metadata": {},
   "outputs": [
    {
     "data": {
      "text/plain": [
       "tensor([[ 0.4890,  0.7472],\n",
       "        [-0.0750, -0.1659]], requires_grad=True)"
      ]
     },
     "execution_count": 44,
     "metadata": {},
     "output_type": "execute_result"
    }
   ],
   "source": [
    "c"
   ]
  },
  {
   "cell_type": "code",
   "execution_count": 45,
   "id": "0bd427c8",
   "metadata": {},
   "outputs": [
    {
     "data": {
      "text/plain": [
       "tensor([[1.2602, 0.8735],\n",
       "        [0.8926, 0.9910]], requires_grad=True)"
      ]
     },
     "execution_count": 45,
     "metadata": {},
     "output_type": "execute_result"
    }
   ],
   "source": [
    "w"
   ]
  },
  {
   "cell_type": "code",
   "execution_count": null,
   "id": "277fa372",
   "metadata": {},
   "outputs": [],
   "source": []
  }
 ],
 "metadata": {
  "kernelspec": {
   "display_name": "Python 3 (ipykernel)",
   "language": "python",
   "name": "python3"
  },
  "language_info": {
   "codemirror_mode": {
    "name": "ipython",
    "version": 3
   },
   "file_extension": ".py",
   "mimetype": "text/x-python",
   "name": "python",
   "nbconvert_exporter": "python",
   "pygments_lexer": "ipython3",
   "version": "3.9.12"
  }
 },
 "nbformat": 4,
 "nbformat_minor": 5
}
