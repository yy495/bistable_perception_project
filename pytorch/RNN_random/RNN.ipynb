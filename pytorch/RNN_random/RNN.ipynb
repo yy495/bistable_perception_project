{
 "cells": [
  {
   "cell_type": "code",
   "execution_count": 1,
   "id": "cda7eb46",
   "metadata": {},
   "outputs": [],
   "source": [
    "import torch\n",
    "import numpy as np\n",
    "from matplotlib import pyplot as plt"
   ]
  },
  {
   "cell_type": "code",
   "execution_count": 2,
   "id": "afe6a5a3",
   "metadata": {},
   "outputs": [],
   "source": [
    "#stochastic RNN to sample GSM"
   ]
  },
  {
   "cell_type": "code",
   "execution_count": 3,
   "id": "f6fa31f3",
   "metadata": {},
   "outputs": [],
   "source": [
    "#first test: sample a joint Gaussian"
   ]
  },
  {
   "cell_type": "code",
   "execution_count": 4,
   "id": "ab204008",
   "metadata": {},
   "outputs": [],
   "source": [
    "#2D covariance matrix\n",
    "sigma_target = torch.tensor([[0.8,0.3],[0.3,0.8]])\n",
    "\n",
    "#3 neurons, 2E, 1I\n"
   ]
  },
  {
   "cell_type": "code",
   "execution_count": 5,
   "id": "b22a3393",
   "metadata": {
    "scrolled": true
   },
   "outputs": [
    {
     "data": {
      "text/plain": [
       "tensor([[ 2.3753, -0.1856],\n",
       "        [-0.3850, -0.2566],\n",
       "        [-0.0443, -0.7837]])"
      ]
     },
     "execution_count": 5,
     "metadata": {},
     "output_type": "execute_result"
    }
   ],
   "source": [
    "torch.randn(3,2)"
   ]
  },
  {
   "cell_type": "code",
   "execution_count": 6,
   "id": "1f79971e",
   "metadata": {},
   "outputs": [],
   "source": [
    "#RNN example:\n",
    "#input: cos(theta), sin(theta)\n",
    "#learn: output single parameter theta\n",
    "#20 neurons, ReLU non-linearity\n",
    "class network1():\n",
    "    def forward(w,w1,dt,tau):\n",
    "        #theta: 100 random angles\n",
    "        #w = torch.cat((torch.exp(e_log),-torch.exp(i_log)),axis = 1)\n",
    "        x = torch.rand(4,1)\n",
    "        x_l = torch.zeros(30000,4)\n",
    "        for i in range(30000):\n",
    "            x = x + 1/tau*(-x+torch.matmul(w,x))*dt + (2/tau)**0.5*dt**0.5*torch.randn(4,1)\n",
    "            x_l[i] = x.T\n",
    "        x_l = x_l[2000:,:]\n",
    "        cov_1 = torch.cov(x_l.T)[:2,:2]\n",
    "        mu = torch.mean(x_l,axis = 0)\n",
    "        L = 8*torch.sum(((1/28000*x_l.T@x_l)[:2,:2]-sigma_target)**2) + torch.sum(mu**2) + 12*(torch.var(x_l[:,0])-sigma_target[0,0])**2 + 12*(torch.var(x_l[:,1])-sigma_target[1,1])**2\n",
    "        return L"
   ]
  },
  {
   "cell_type": "code",
   "execution_count": 7,
   "id": "1b6a14e0",
   "metadata": {},
   "outputs": [],
   "source": [
    "max_eig = True\n",
    "while max_eig:\n",
    "    e_log = torch.autograd.Variable(torch.randn(4,2),requires_grad = True)\n",
    "    i_log = torch.autograd.Variable(torch.randn(4,2),requires_grad = True)\n",
    "    w = torch.cat((torch.exp(e_log),-torch.exp(i_log)),axis = 1)\n",
    "    if torch.max(torch.real((torch.linalg.eig(w.detach())[0])))<1:\n",
    "        max_eig = False\n",
    "w1 = torch.autograd.Variable(torch.randn(3,3),requires_grad = True)"
   ]
  },
  {
   "cell_type": "code",
   "execution_count": 14,
   "id": "c06b2987",
   "metadata": {},
   "outputs": [
    {
     "name": "stdout",
     "output_type": "stream",
     "text": [
      "1.0198623\n",
      "0.7521061\n",
      "0.23411958\n",
      "0.23335731\n",
      "0.06544374\n",
      "0.06715281\n",
      "0.03771534\n",
      "0.06805277\n",
      "0.0050288416\n",
      "0.032952704\n",
      "0.1456429\n",
      "0.047546405\n",
      "0.069103055\n",
      "0.048606172\n",
      "0.038474515\n",
      "0.02375243\n",
      "0.0041461177\n",
      "0.00864475\n",
      "0.15267046\n",
      "0.014962604\n",
      "0.028758842\n",
      "0.054789342\n",
      "0.052771796\n",
      "0.039014306\n",
      "0.04779767\n",
      "0.07232195\n",
      "0.05575762\n",
      "0.03784421\n",
      "0.072917864\n",
      "0.012039395\n",
      "0.0033418608\n",
      "0.013905555\n",
      "0.04035009\n",
      "0.022652382\n",
      "0.023796527\n",
      "0.017984947\n",
      "0.027374204\n",
      "0.04248219\n",
      "0.051685825\n",
      "0.012513333\n",
      "0.05169442\n",
      "0.011649498\n",
      "0.035523348\n",
      "0.0063810023\n",
      "0.01950366\n",
      "0.05602078\n",
      "0.0056105712\n",
      "0.008896086\n",
      "0.049857643\n",
      "0.06447976\n",
      "0.01122512\n",
      "0.008104641\n",
      "0.027302936\n",
      "0.028308064\n",
      "0.00625607\n",
      "0.048176065\n",
      "0.008938643\n",
      "0.008510708\n",
      "0.028275758\n",
      "0.033897605\n",
      "0.014472776\n",
      "0.062065344\n",
      "0.009497494\n",
      "0.0367327\n",
      "0.010449951\n",
      "0.033512894\n",
      "0.020582916\n",
      "0.020505471\n",
      "0.0059143817\n",
      "0.121616565\n",
      "0.08506579\n",
      "0.013788618\n",
      "0.056470536\n",
      "0.07745684\n",
      "0.073214695\n",
      "0.009532262\n",
      "0.0221796\n",
      "0.046102267\n",
      "0.0933658\n",
      "0.1792503\n",
      "0.011379859\n",
      "0.056513045\n",
      "0.20214821\n",
      "0.15344116\n",
      "0.11866099\n",
      "0.03219665\n",
      "0.1196542\n",
      "0.12456297\n",
      "0.1095182\n",
      "0.0066815307\n",
      "0.026872462\n",
      "0.09717724\n",
      "0.050073966\n",
      "0.13298036\n",
      "0.07204732\n",
      "0.013687013\n",
      "0.16017266\n",
      "0.030953258\n",
      "0.008127164\n",
      "0.014043036\n"
     ]
    }
   ],
   "source": [
    "dt = 0.001\n",
    "tau = 0.02\n",
    "\n",
    "optimizer = torch.optim.Adam([e_log,i_log], 0.1)\n",
    "m = torch.nn.Tanh()\n",
    "\n",
    "loss_list = []\n",
    "for i in range(100):\n",
    "    optimizer.zero_grad()\n",
    "    w = torch.cat((torch.exp(e_log),-torch.exp(i_log)),axis = 1)\n",
    "    L = network1.forward(w,w1,dt,tau)\n",
    "    L1 = L.detach().numpy().copy()\n",
    "    print(L1)\n",
    "    if np.isnan(L1) == True:\n",
    "        print('error')\n",
    "        break\n",
    "    L.backward()\n",
    "    optimizer.step()\n",
    "    loss_list.append(L1)"
   ]
  },
  {
   "cell_type": "code",
   "execution_count": 15,
   "id": "2c5ef37b",
   "metadata": {},
   "outputs": [
    {
     "data": {
      "text/plain": [
       "array(0.01404304, dtype=float32)"
      ]
     },
     "execution_count": 15,
     "metadata": {},
     "output_type": "execute_result"
    },
    {
     "data": {
      "image/png": "[encoded data removed]",
      "text/plain": [
       "<Figure size 432x288 with 1 Axes>"
      ]
     },
     "metadata": {
      "needs_background": "light"
     },
     "output_type": "display_data"
    }
   ],
   "source": [
    "plt.plot(np.array(loss_list))\n",
    "plt.xlabel('n')\n",
    "plt.ylabel('loss')\n",
    "loss_list[-1]"
   ]
  },
  {
   "cell_type": "code",
   "execution_count": 16,
   "id": "5e11f6b9",
   "metadata": {},
   "outputs": [
    {
     "name": "stdout",
     "output_type": "stream",
     "text": [
      "tensor([[0.8078, 0.3405],\n",
      "        [0.3405, 0.8434]], grad_fn=<SliceBackward0>)\n",
      "tensor([-0.0131,  0.0736,  0.0515, -0.0130], grad_fn=<MeanBackward1>)\n",
      "tensor([[ 0.1664,  2.0850, -2.9634, -2.4025],\n",
      "        [ 0.7747,  0.4395, -2.2846, -1.9830],\n",
      "        [ 1.2603,  2.6418, -3.8016, -0.5738],\n",
      "        [ 3.7614,  0.4887, -0.2834, -6.7859]], grad_fn=<CatBackward0>)\n"
     ]
    }
   ],
   "source": [
    "x = torch.rand(4,1)\n",
    "x_l = torch.zeros(20000,4)\n",
    "for i in range(20000):\n",
    "    x = x + 1/tau*(-x+torch.matmul(w,x))*dt + (2/tau)**0.5*dt**0.5*torch.randn(4,1)\n",
    "    x_l[i] = x.T\n",
    "x_l = x_l[2000:,:]\n",
    "cov_1 = torch.cov(x_l.T)[:2,:2]\n",
    "mu = torch.mean(x_l,axis = 0)\n",
    "print(cov_1)\n",
    "print(mu)\n",
    "print(w)"
   ]
  },
  {
   "cell_type": "code",
   "execution_count": 2,
   "id": "5c2b205b",
   "metadata": {},
   "outputs": [],
   "source": [
    "#training RNN to sample from GSM\n",
    "#main source: cortical like dynamic in RNN optimized for probablistic inference\n",
    "#due to instability, train 2E + 2I only\n"
   ]
  },
  {
   "cell_type": "code",
   "execution_count": 2,
   "id": "686c8220",
   "metadata": {},
   "outputs": [],
   "source": [
    "#gsm target\n",
    "def gsm_sigma(A,C,z,x,sigma_x):\n",
    "    sigma_gsm = torch.linalg.inv((torch.linalg.inv(C) + z**2/sigma_x**2*A@A.T))\n",
    "    mu_gsm = z/sigma_x**2*sigma_gsm@A.T@x\n",
    "    return sigma_gsm, mu_gsm"
   ]
  },
  {
   "cell_type": "code",
   "execution_count": 17,
   "id": "14fcde81",
   "metadata": {},
   "outputs": [],
   "source": [
    "class network2():\n",
    "    def forward(w,theta,x,dt,tau):\n",
    "        #w = torch.cat((torch.exp(e_log),-torch.exp(i_log)),axis = 1)\n",
    "        tau_m = tau\n",
    "        u = torch.rand(4,1)\n",
    "        u_l = torch.zeros(30000,4)\n",
    "        for i in range(30000):\n",
    "            u = u + 1/tau*(-u+torch.matmul(w,h(u)) + theta[0]*(x+theta[1])**3)*dt + (2/tau_m)**0.5*dt**0.5*torch.randn(4,1)\n",
    "            u_l[i] = u.T\n",
    "        u_l = u_l[2000:,:]\n",
    "        cov_1 = torch.cov(u_l.T)[:2,:2]\n",
    "        mu = torch.mean(u_l,axis = 0)\n",
    "        return cov_1, mu\n",
    "    def loss(cov_1, mu, cov_target, mu_target):\n",
    "        cov_loss = 8*torch.sum((cov_1-cov_target)**2)\n",
    "        mu_loss = 8*torch.sum((mu-mu_target)**2)\n",
    "        var_loss = 12*(cov_1[0,0] - cov_target[0,0])**2 + 12*(cov_1[1,1] - cov_target[1,1])**2\n",
    "        return cov_loss+mu_loss+var_loss\n",
    "        "
   ]
  },
  {
   "cell_type": "code",
   "execution_count": 4,
   "id": "c9df64f6",
   "metadata": {},
   "outputs": [],
   "source": [
    "max_eig = True\n",
    "while max_eig:\n",
    "    e_log = torch.autograd.Variable(torch.randn(4,2),requires_grad = True)\n",
    "    i_log = torch.autograd.Variable(torch.randn(4,2),requires_grad = True)\n",
    "    w = torch.cat((torch.exp(e_log),-torch.exp(i_log)),axis = 1)\n",
    "    if torch.max(torch.real((torch.linalg.eig(w.detach())[0])))<1:\n",
    "        max_eig = False"
   ]
  },
  {
   "cell_type": "code",
   "execution_count": 5,
   "id": "5a5d898c",
   "metadata": {},
   "outputs": [],
   "source": [
    "theta = torch.autograd.Variable(torch.tensor([1.0,0.0]),requires_grad = True)"
   ]
  },
  {
   "cell_type": "code",
   "execution_count": 6,
   "id": "209021be",
   "metadata": {},
   "outputs": [],
   "source": [
    "h = torch.nn.ReLU()\n",
    "dt = 0.001\n",
    "tau = 0.02\n",
    "\n",
    "A = torch.tensor([[0.8,0.3],[0.3,0.8]])\n",
    "C = torch.eye(2)\n",
    "sigma_x = 0.2\n",
    "z_l = torch.tensor([0,0.25,0.5,1,2])\n",
    "\n",
    "y_true = torch.randn(5,2,1)\n",
    "\n",
    "x = torch.zeros(5,2,1)\n",
    "\n",
    "for i in range(len(z_l)):\n",
    "    x_i = z_l[i]*A@y_true[i] + 0.2*torch.randn(2,1)\n",
    "    x[i,:,:] = x_i\n",
    "\n",
    "optimizer = torch.optim.Adam([e_log,i_log, theta], 0.002)"
   ]
  },
  {
   "cell_type": "code",
   "execution_count": 22,
   "id": "89d2b870",
   "metadata": {},
   "outputs": [],
   "source": [
    "e_log_mid,i_log_mid, theta_mid = e_log, i_log, theta\n",
    "optimizer = torch.optim.Adam([e_log,i_log,theta], 0.0005)"
   ]
  },
  {
   "cell_type": "code",
   "execution_count": 23,
   "id": "7e62d41c",
   "metadata": {},
   "outputs": [
    {
     "name": "stdout",
     "output_type": "stream",
     "text": [
      "997.7432\n",
      "524.2869\n",
      "826.929\n",
      "4245.697\n",
      "886.11035\n",
      "2671.862\n",
      "575.5374\n",
      "1166.5406\n",
      "1390.0269\n",
      "783.66254\n"
     ]
    }
   ],
   "source": [
    "loss_list = []\n",
    "import sys\n",
    "for m in range(10):\n",
    "    optimizer.zero_grad()\n",
    "    w = torch.cat((torch.exp(e_log),-torch.exp(i_log)),axis = 1)\n",
    "    for k in range(30):\n",
    "        L = 0\n",
    "        y_true = torch.randn(5,2,1)\n",
    "\n",
    "        x = torch.zeros(5,2,1)\n",
    "\n",
    "        for i in range(len(z_l)):\n",
    "            x_i = z_l[i]*A@y_true[i] + torch.randn(2,1)*0.2\n",
    "            x[i,:,:] = x_i\n",
    "        for i in range(5):\n",
    "            zi = z_l[i]\n",
    "            xi = x[i]\n",
    "            cov_target, mu_target = gsm_sigma(A,C,zi,xi,sigma_x)\n",
    "            xi = torch.cat((xi,torch.zeros((2,1))),axis = 0)\n",
    "            cov_1, mu_1 = network2.forward(w,theta,xi,dt,tau)\n",
    "            L = L+network2.loss(cov_1, mu_1, cov_target, mu_target)\n",
    "            L = L/3\n",
    "    \n",
    "    L1 = L.detach().numpy().copy()\n",
    "    print(L1)\n",
    "    loss_list.append(L1)\n",
    "\n",
    "    if np.isnan(L1) == True:\n",
    "        print('error')\n",
    "        sys.exit(0)\n",
    "    if L1<5000:\n",
    "        L.backward()\n",
    "        optimizer.step()"
   ]
  },
  {
   "cell_type": "code",
   "execution_count": 24,
   "id": "a21b8984",
   "metadata": {},
   "outputs": [
    {
     "data": {
      "text/plain": [
       "tensor([ 0.9756, -0.0024], requires_grad=True)"
      ]
     },
     "execution_count": 24,
     "metadata": {},
     "output_type": "execute_result"
    }
   ],
   "source": [
    "theta"
   ]
  },
  {
   "cell_type": "code",
   "execution_count": 25,
   "id": "b79e67a7",
   "metadata": {},
   "outputs": [
    {
     "data": {
      "text/plain": [
       "tensor([[ 0.2607,  0.1645, -9.5982, -0.4041],\n",
       "        [ 0.3095,  0.4036, -2.6285, -1.3609],\n",
       "        [ 0.6122,  0.6827, -0.6122, -1.7938],\n",
       "        [ 0.7754,  0.1773, -2.4933, -2.9959]], grad_fn=<CatBackward0>)"
      ]
     },
     "execution_count": 25,
     "metadata": {},
     "output_type": "execute_result"
    }
   ],
   "source": [
    "torch.cat((torch.exp(e_log),-torch.exp(i_log)),axis = 1)"
   ]
  },
  {
   "cell_type": "code",
   "execution_count": null,
   "id": "0d038ca3",
   "metadata": {},
   "outputs": [],
   "source": [
    "y_true_test = torch.randn(2,1)\n",
    "x = torch.zeros(5,2,1)\n",
    "\n",
    "for i in range(len(z_l)):\n",
    "    x_i = z_l[i]*A@y_true + torch.randn(2,1)\n",
    "    x[i,:,:] = x_i"
   ]
  }
 ],
 "metadata": {
  "kernelspec": {
   "display_name": "Python 3 (ipykernel)",
   "language": "python",
   "name": "python3"
  },
  "language_info": {
   "codemirror_mode": {
    "name": "ipython",
    "version": 3
   },
   "file_extension": ".py",
   "mimetype": "text/x-python",
   "name": "python",
   "nbconvert_exporter": "python",
   "pygments_lexer": "ipython3",
   "version": "3.9.12"
  }
 },
 "nbformat": 4,
 "nbformat_minor": 5
}
