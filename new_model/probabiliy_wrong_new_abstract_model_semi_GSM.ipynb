{
 "cells": [
  {
   "cell_type": "code",
   "execution_count": 1,
   "id": "04347f75",
   "metadata": {},
   "outputs": [],
   "source": [
    "import numpy as np\n",
    "import matplotlib.pyplot as plt\n",
    "import numpy.random as random"
   ]
  },
  {
   "cell_type": "code",
   "execution_count": 2,
   "id": "9316a32e",
   "metadata": {},
   "outputs": [],
   "source": [
    "#alpha: feature activation vector\n",
    "#w: basis matrix\n",
    "#z_l,z_r: latent eye specific variable\n",
    "#x_l,x_r: image input\n",
    "#std: image noise\n",
    "#std_0: std on element of activation\n",
    "#sampling algorithm: gibbs sampling"
   ]
  },
  {
   "cell_type": "code",
   "execution_count": 21,
   "id": "52509586",
   "metadata": {},
   "outputs": [],
   "source": [
    "def sample_alpha(w,x_l,x_r,z_l,z_r,std,std_0):\n",
    "    no_basis = w.shape[1]\n",
    "    i = np.identity(no_basis)\n",
    "    sigma = np.linalg.inv((z_l+z_r)/std**2*np.matmul(w.T,w)+i/std_0**2)\n",
    "    mu = 1/std**2*np.matmul(sigma,np.matmul(w.T,(z_l*x_l+z_r*x_r)))\n",
    "    return mu+np.matmul(np.linalg.cholesky(sigma),random.randn(no_basis).reshape(no_basis,1))\n",
    "\n",
    "def sample_z_l(w,alpha,x_l,std):\n",
    "    p_l_10 = min(np.exp(-1/2/std**2*np.linalg.norm(x_l)**2+1/2/std**2*np.linalg.norm(x_l-np.matmul(w,alpha))**2),1e10)\n",
    "    return (np.sign(1/(1+p_l_10)-random.random())+1)/2\n",
    "\n",
    "def sample_z_r(w,alpha,x_r,std):\n",
    "    p_r_10 = min(np.exp(-1/2/std**2*np.linalg.norm(x_r)**2+1/2/std**2*np.linalg.norm(x_r-np.matmul(w,alpha))**2),1e10)\n",
    "    return (np.sign(1/(1+p_r_10)-random.random())+1)/2"
   ]
  },
  {
   "cell_type": "code",
   "execution_count": 22,
   "id": "54a6672f",
   "metadata": {},
   "outputs": [],
   "source": [
    "def simulation(x_l,x_r,w,std,std_0,no_steps):\n",
    "    no_basis = w.shape[1]\n",
    "    alpha_list = []\n",
    "    z_l_list = []\n",
    "    z_r_list = []\n",
    "    z_l = random.randint(0,2)\n",
    "    z_r = random.randint(0,2)\n",
    "    alpha = np.random.randn(no_basis).reshape(no_basis,1)\n",
    "    for i in range(no_steps):\n",
    "        alpha = sample_alpha(w,x_l,x_r,z_l,z_r,std,std_0)\n",
    "        alpha_a = alpha.copy().reshape(no_basis)\n",
    "        alpha_list.append(alpha_a)\n",
    "        z_l=sample_z_l(w,alpha,x_l,std)\n",
    "        z_l_a = z_l.copy()\n",
    "        z_l_list.append(z_l_a)\n",
    "        z_r=sample_z_r(w,alpha,x_r,std)\n",
    "        z_r_a = z_r.copy()\n",
    "        z_r_list.append(z_r_a)\n",
    "    return np.array(alpha_list),np.array(z_l_list),np.array(z_r_list)\n",
    "\n"
   ]
  },
  {
   "cell_type": "code",
   "execution_count": 23,
   "id": "64474bac",
   "metadata": {},
   "outputs": [],
   "source": [
    "theta = np.pi/4\n",
    "lamda = 2\n",
    "sigma = 1.5\n",
    "X = np.arange(-5,5,0.5)\n",
    "X = X\n",
    "Y = np.arange(-5,5,0.5)\n",
    "Y = Y\n",
    "X,Y = np.meshgrid(X,Y)\n",
    "X_dot = X*np.cos(theta)+Y*np.sin(theta)\n",
    "Y_dot = -X*np.sin(theta)+Y*np.cos(theta)\n",
    "G = np.exp(-(X_dot**2+lamda*Y_dot**2)/(2*sigma**2))*np.cos(2*np.pi*X_dot/lamda)\n",
    "theta1 = np.pi/1.5\n",
    "X_dot1 = X*np.cos(theta1)+Y*np.sin(theta1)\n",
    "Y_dot1 = -X*np.sin(theta1)+Y*np.cos(theta1)\n",
    "G1 = np.exp(-(X_dot1**2+lamda*Y_dot1**2)/(2*sigma**2))*np.cos(2*np.pi*X_dot1/lamda)"
   ]
  },
  {
   "cell_type": "code",
   "execution_count": 39,
   "id": "87dd5ee5",
   "metadata": {},
   "outputs": [
    {
     "name": "stderr",
     "output_type": "stream",
     "text": [
      "/var/folders/04/wzq37d2s3bv87g77m67thbk80000gn/T/ipykernel_33739/2795173247.py:9: RuntimeWarning: overflow encountered in exp\n",
      "  p_l_10 = min(np.exp(-1/2/std**2*np.linalg.norm(x_l)**2+1/2/std**2*np.linalg.norm(x_l-np.matmul(w,alpha))**2),1e10)\n",
      "/var/folders/04/wzq37d2s3bv87g77m67thbk80000gn/T/ipykernel_33739/2795173247.py:13: RuntimeWarning: overflow encountered in exp\n",
      "  p_r_10 = min(np.exp(-1/2/std**2*np.linalg.norm(x_r)**2+1/2/std**2*np.linalg.norm(x_r-np.matmul(w,alpha))**2),1e10)\n"
     ]
    }
   ],
   "source": [
    "x_l = np.array([1.4,0]).reshape(2,1)\n",
    "x_r = np.array([-1,0]).reshape(2,1)\n",
    "w = np.identity(2)\n",
    "std = 0.1**0.5\n",
    "std_0 = 5\n",
    "no_steps = 2000000\n",
    "alpha,z_l,z_r = simulation(x_l,x_r,w,std,std_0,no_steps)"
   ]
  },
  {
   "cell_type": "code",
   "execution_count": 40,
   "id": "cc7d567a",
   "metadata": {},
   "outputs": [
    {
     "data": {
      "text/plain": [
       "Text(0.5, 0, 'x')"
      ]
     },
     "execution_count": 40,
     "metadata": {},
     "output_type": "execute_result"
    },
    {
     "data": {
      "image/png": "[encoded data removed]",
      "text/plain": [
       "<Figure size 432x288 with 1 Axes>"
      ]
     },
     "metadata": {
      "needs_background": "light"
     },
     "output_type": "display_data"
    }
   ],
   "source": [
    "plt.hist(alpha[:,0],500)\n",
    "plt.xlabel('x')"
   ]
  },
  {
   "cell_type": "code",
   "execution_count": 41,
   "id": "b84868f0",
   "metadata": {},
   "outputs": [
    {
     "data": {
      "text/plain": [
       "Text(0.5, 0, 'x')"
      ]
     },
     "execution_count": 41,
     "metadata": {},
     "output_type": "execute_result"
    },
    {
     "data": {
      "image/png": "[encoded data removed]",
      "text/plain": [
       "<Figure size 432x288 with 1 Axes>"
      ]
     },
     "metadata": {
      "needs_background": "light"
     },
     "output_type": "display_data"
    }
   ],
   "source": [
    "plt.hist(alpha[:,1],500)\n",
    "plt.xlabel('x')"
   ]
  },
  {
   "cell_type": "code",
   "execution_count": 42,
   "id": "a6e964ee",
   "metadata": {},
   "outputs": [],
   "source": [
    "def pi_count_1(pi_l,pi_r):\n",
    "    '''lr = 00,01,10,11'''\n",
    "    pi_l_1 = pi_l.copy()\n",
    "    pi_l_1 = pi_l_1*2\n",
    "    pi_class = pi_l_1+pi_r\n",
    "    return np.array([len(np.where(pi_class==0)[0])/len(pi_l),len(np.where(pi_class==1)[0])/len(pi_l),len(np.where(pi_class==2)[0])/len(pi_l),len(np.where(pi_class==3)[0])/len(pi_l)])"
   ]
  },
  {
   "cell_type": "code",
   "execution_count": 43,
   "id": "e15749cf",
   "metadata": {},
   "outputs": [
    {
     "data": {
      "text/plain": [
       "array([1.40985e-02, 8.37500e-03, 9.77482e-01, 4.45000e-05])"
      ]
     },
     "execution_count": 43,
     "metadata": {},
     "output_type": "execute_result"
    }
   ],
   "source": [
    "pi_count_1(z_l,z_r)"
   ]
  },
  {
   "cell_type": "code",
   "execution_count": 47,
   "id": "b823b5c5",
   "metadata": {},
   "outputs": [
    {
     "data": {
      "text/plain": [
       "[<matplotlib.lines.Line2D at 0x124ee0ac0>]"
      ]
     },
     "execution_count": 47,
     "metadata": {},
     "output_type": "execute_result"
    },
    {
     "data": {
      "image/png": "[encoded data removed]",
      "text/plain": [
       "<Figure size 432x288 with 1 Axes>"
      ]
     },
     "metadata": {
      "needs_background": "light"
     },
     "output_type": "display_data"
    }
   ],
   "source": [
    "plt.plot(z_l[:40000])"
   ]
  },
  {
   "cell_type": "code",
   "execution_count": 10,
   "id": "5186b4ba",
   "metadata": {},
   "outputs": [
    {
     "data": {
      "text/plain": [
       "<matplotlib.image.AxesImage at 0x121b55c70>"
      ]
     },
     "execution_count": 10,
     "metadata": {},
     "output_type": "execute_result"
    },
    {
     "data": {
      "image/png": "[encoded data removed]",
      "text/plain": [
       "<Figure size 432x288 with 1 Axes>"
      ]
     },
     "metadata": {
      "needs_background": "light"
     },
     "output_type": "display_data"
    }
   ],
   "source": [
    "plt.imshow(np.hstack((0.5*np.ones((10,10)),np.zeros((10,10)),np.ones((10,10)),np.zeros((10,10)))), cmap = 'Greys')"
   ]
  },
  {
   "cell_type": "code",
   "execution_count": 11,
   "id": "6be18f94",
   "metadata": {},
   "outputs": [],
   "source": [
    "def cal_p(x_l,x_r,std,std0):\n",
    "    p00_r = 1/std**4*np.exp(-1/2/std**2*(np.linalg.norm(x_l)**2+np.linalg.norm(x_r)**2)+20)\n",
    "\n",
    "    p01_r = 1/std**4/std0**2*np.exp(-1/2/std**2*np.linalg.norm(x_l)**2+20)\n",
    "    sigma_01 = (1/std**2+1/std0**2)**-1*np.identity(2)\n",
    "    mu_01 = 1/std**2*np.matmul(sigma_01,x_r)\n",
    "    lamda_01 = 1/std**2*np.linalg.norm(x_r)**2-np.linalg.norm(mu_01)**2*(1/std0**2+1/std**2)\n",
    "    p01_r = p01_r*np.exp(-1/2*lamda_01)*np.linalg.det(sigma_01)**0.5\n",
    "\n",
    "    p10_r = 1/std**4/std0**2*np.exp(-1/2/std**2*np.linalg.norm(x_r)**2+20)\n",
    "    sigma_10 = (1/std**2+1/std0**2)**-1*np.identity(2)\n",
    "    mu_10 = 1/std**2*np.matmul(sigma_10,x_l)\n",
    "    lamda_10 = 1/std**2*np.linalg.norm(x_l)**2-np.linalg.norm(mu_10)**2*(1/std0**2+1/std**2)\n",
    "    p10_r = p10_r*np.exp(-1/2*lamda_10)*np.linalg.det(sigma_10)**0.5\n",
    "\n",
    "    p11_r = 1/std**4/std0**2\n",
    "    sigma_11 = (1/std0**2+2/std**2)**-1*np.identity(2)\n",
    "    mu_11 = 1/std**2*np.matmul(sigma_11,x_l+x_r)\n",
    "    lamda_11 = 1/std**2*(np.linalg.norm(x_l)**2+np.linalg.norm(x_r)**2)-np.linalg.norm(mu_11)**2*(1/std0**2+2/std**2)\n",
    "    p11_r = p11_r*np.exp(-1/2*lamda_11+20)*np.linalg.det(sigma_11)**0.5\n",
    "\n",
    "    print(np.array([p00_r,p01_r,p10_r,p11_r]))\n",
    "\n",
    "    return np.array([p00_r,p01_r,p10_r,p11_r])/(p00_r+p01_r+p10_r+p11_r)\n",
    "    "
   ]
  },
  {
   "cell_type": "code",
   "execution_count": 12,
   "id": "6dc5dceb",
   "metadata": {},
   "outputs": [],
   "source": [
    "def cal_p1(x_l,x_r,std,std0):\n",
    "    p00_r = 1/std**4\n",
    "\n",
    "    p01_r = 1/std**4/std0**2\n",
    "    sigma_01 = (1/std**2+1/std0**2)**-1*np.identity(2)\n",
    "    mu_01 = 1/std**2*np.matmul(sigma_01,x_r)\n",
    "    lamda_01 = -np.linalg.norm(mu_01)**2*(1/std0**2+1/std**2)\n",
    "    p01_r = p01_r*np.exp(-1/2*lamda_01)*np.linalg.det(sigma_01)**0.5\n",
    "\n",
    "    p10_r = 1/std**4/std0**2\n",
    "    sigma_10 = (1/std**2+1/std0**2)**-1*np.identity(2)\n",
    "    mu_10 = 1/std**2*np.matmul(sigma_10,x_l)\n",
    "    lamda_10 = -np.linalg.norm(mu_10)**2*(1/std0**2+1/std**2)\n",
    "    p10_r = p10_r*np.exp(-1/2*lamda_10)*np.linalg.det(sigma_10)**0.5\n",
    "\n",
    "    p11_r = 1/std**4/std0**2\n",
    "    sigma_11 = (1/std0**2+2/std**2)**-1*np.identity(2)\n",
    "    mu_11 = 1/std**2*np.matmul(sigma_11,x_l+x_r)\n",
    "    lamda_11 = -np.linalg.norm(mu_11)**2*(1/std0**2+2/std**2)\n",
    "    p11_r = p11_r*np.exp(-1/2*lamda_11)*np.linalg.det(sigma_11)**0.5\n",
    "\n",
    "    print(np.array([p00_r,p01_r,p10_r,p11_r]))\n",
    "\n",
    "    return np.array([p00_r,p01_r,p10_r,p11_r])/(p00_r+p01_r+p10_r+p11_r)"
   ]
  },
  {
   "cell_type": "code",
   "execution_count": 13,
   "id": "9e9b99c2",
   "metadata": {},
   "outputs": [
    {
     "name": "stdout",
     "output_type": "stream",
     "text": [
      "[6.73794700e+01 1.58175029e+05 1.58175029e+05 3.35221244e-01]\n"
     ]
    },
    {
     "data": {
      "text/plain": [
       "array([2.12944644e-04, 4.99892998e-01, 4.99892998e-01, 1.05942609e-06])"
      ]
     },
     "execution_count": 13,
     "metadata": {},
     "output_type": "execute_result"
    }
   ],
   "source": [
    "x_l = np.array([0.5,0]).reshape(2,1)\n",
    "x_r = np.array([-0.5,0]).reshape(2,1)\n",
    "std = 0.1\n",
    "std0 = 1\n",
    "cal_p(x_l,x_r,std,std0)"
   ]
  },
  {
   "cell_type": "code",
   "execution_count": 14,
   "id": "d065002e",
   "metadata": {},
   "outputs": [
    {
     "data": {
      "text/plain": [
       "Text(0.5, 1.0, 'p(z_l,z_r = 1 | ...)')"
      ]
     },
     "execution_count": 14,
     "metadata": {},
     "output_type": "execute_result"
    },
    {
     "data": {
      "image/png": "[encoded data removed]",
      "text/plain": [
       "<Figure size 432x288 with 1 Axes>"
      ]
     },
     "metadata": {
      "needs_background": "light"
     },
     "output_type": "display_data"
    }
   ],
   "source": [
    "plt.plot(np.array([0.1,0.2,0.3,0.4,0.5]),np.array([0.00479548,0.00433213,0.00183596,8.95794676e-05,1.05942609e-06]))\n",
    "plt.xlabel('c')\n",
    "plt.ylabel('probability')\n",
    "plt.title('p(z_l,z_r = 1 | ...)')"
   ]
  },
  {
   "cell_type": "code",
   "execution_count": 15,
   "id": "29f1bc6d",
   "metadata": {},
   "outputs": [
    {
     "data": {
      "text/plain": [
       "Text(0.5, 1.0, 'p(z_l,z_r = 1,1|...)')"
      ]
     },
     "execution_count": 15,
     "metadata": {},
     "output_type": "execute_result"
    },
    {
     "data": {
      "image/png": "[encoded data removed]",
      "text/plain": [
       "<Figure size 432x288 with 1 Axes>"
      ]
     },
     "metadata": {
      "needs_background": "light"
     },
     "output_type": "display_data"
    }
   ],
   "source": [
    "p11=np.array([0.20257935,2.10356080e-01,2.23575974e-01,2.43058931e-01,2.69751784e-001,3.04777499e-001])\n",
    "x = np.array([0.5,1,1.5,2,2.5,3])\n",
    "plt.plot(x,p11)\n",
    "plt.xlabel('c')\n",
    "plt.ylabel('density')\n",
    "plt.title('p(z_l,z_r = 1,1|...)')"
   ]
  },
  {
   "cell_type": "code",
   "execution_count": 16,
   "id": "1a41c890",
   "metadata": {},
   "outputs": [
    {
     "data": {
      "text/plain": [
       "<matplotlib.legend.Legend at 0x121ca7df0>"
      ]
     },
     "execution_count": 16,
     "metadata": {},
     "output_type": "execute_result"
    },
    {
     "data": {
      "image/png": "[encoded data removed]",
      "text/plain": [
       "<Figure size 432x288 with 1 Axes>"
      ]
     },
     "metadata": {
      "needs_background": "light"
     },
     "output_type": "display_data"
    }
   ],
   "source": [
    "p01= np.array([7.32957102e-03,1.03781526e-01,3.94821960e-01,7.52949220e-01,9.54651775e-01])\n",
    "p10 = np.array([9.48384378e-01,7.47960613e-01,3.94821960e-01,1.00387249e-01,5.74958219e-03])\n",
    "x = np.array([0.95,0.98,1,1.02,1.05])\n",
    "plt.plot(x,p01)\n",
    "plt.plot(x,p10)\n",
    "plt.xlabel('c')\n",
    "plt.ylabel('density')\n",
    "plt.legend(['p(z_l,z_r = 0,1','p(z_l,z_r = 1,0'])"
   ]
  }
 ],
 "metadata": {
  "kernelspec": {
   "display_name": "Python 3.9.12",
   "language": "python",
   "name": "python3"
  },
  "language_info": {
   "codemirror_mode": {
    "name": "ipython",
    "version": 3
   },
   "file_extension": ".py",
   "mimetype": "text/x-python",
   "name": "python",
   "nbconvert_exporter": "python",
   "pygments_lexer": "ipython3",
   "version": "3.9.12 (main, Jun  1 2022, 06:34:44) \n[Clang 12.0.0 ]"
  },
  "vscode": {
   "interpreter": {
    "hash": "40d3a090f54c6569ab1632332b64b2c03c39dcf918b08424e98f38b5ae0af88f"
   }
  }
 },
 "nbformat": 4,
 "nbformat_minor": 5
}
