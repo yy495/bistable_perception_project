{
 "cells": [
  {
   "cell_type": "code",
   "execution_count": 1,
   "id": "93effe08",
   "metadata": {},
   "outputs": [],
   "source": [
    "import torch\n",
    "from probability_12 import p_w_new, p_pi_l_new, p_pi_r_new"
   ]
  },
  {
   "cell_type": "code",
   "execution_count": 2,
   "id": "e770af56",
   "metadata": {},
   "outputs": [
    {
     "data": {
      "text/plain": [
       "tensor([0.0162, 0.0162, 0.0162, 0.0162, 0.0162, 0.0162, 0.0162, 0.0162, 0.0162,\n",
       "        0.0162])"
      ]
     },
     "execution_count": 2,
     "metadata": {},
     "output_type": "execute_result"
    }
   ],
   "source": [
    "index = (1,1)\n",
    "tau = 1\n",
    "beta = 1\n",
    "var = 1\n",
    "p = 10\n",
    "x_l = torch.ones((10,3,3))\n",
    "x_r = torch.zeros((10,3,3))\n",
    "b = torch.zeros((10,3,3))\n",
    "#pi_l = torch.zeros((10,3,3))\n",
    "#pi_l[:,1,1] = 1\n",
    "gamma = 1\n",
    "pi_r = torch.zeros((10,3,3))\n",
    "pi_r[:,1,1] = 1\n",
    "w = 0.5*torch.ones((10,3,3))\n",
    "w[:,0,1] = -0.5\n",
    "p_pi_r_new(index,w,x_l,x_r,pi_r,var,b,tau,gamma,p)"
   ]
  },
  {
   "cell_type": "code",
   "execution_count": 3,
   "id": "6da450b9",
   "metadata": {},
   "outputs": [
    {
     "data": {
      "text/plain": [
       "0.016163494588165874"
      ]
     },
     "execution_count": 3,
     "metadata": {},
     "output_type": "execute_result"
    }
   ],
   "source": [
    "import numpy as np\n",
    "np.exp(-4.125)"
   ]
  },
  {
   "cell_type": "code",
   "execution_count": 12,
   "id": "3015bf2b",
   "metadata": {},
   "outputs": [
    {
     "name": "stdout",
     "output_type": "stream",
     "text": [
      "tensor([6, 2, 5, 3, 7, 4, 1, 0, 9, 8])\n"
     ]
    }
   ],
   "source": [
    "_,ind = torch.sort(torch.rand(10))\n",
    "print(ind)"
   ]
  },
  {
   "cell_type": "code",
   "execution_count": 15,
   "id": "300b5470",
   "metadata": {},
   "outputs": [
    {
     "data": {
      "text/plain": [
       "tensor([[[1., 1.],\n",
       "         [1., 1.]],\n",
       "\n",
       "        [[1., 1.],\n",
       "         [1., 1.]]])"
      ]
     },
     "execution_count": 15,
     "metadata": {},
     "output_type": "execute_result"
    }
   ],
   "source": [
    "torch.ones(2,2,2)"
   ]
  },
  {
   "cell_type": "code",
   "execution_count": 3,
   "id": "b89c5c9d",
   "metadata": {},
   "outputs": [],
   "source": [
    "from sampling_12 import simulation_new\n",
    "import torch\n",
    "device  = torch.device(\"cuda:0\" if torch.cuda.is_available() else \"cpu\")\n",
    "var,beta,gamma,alpha,tau,b,dim,p,no_sample = 0.001,10,10,0,1/100,torch.zeros((100,5,5)),5,100,1000,\n",
    "s = simulation_new(var,beta,gamma,alpha,tau,b,dim,p,no_sample,device)"
   ]
  },
  {
   "cell_type": "code",
   "execution_count": 2,
   "id": "6b2a4efe",
   "metadata": {},
   "outputs": [
    {
     "name": "stdout",
     "output_type": "stream",
     "text": [
      "tensor([[[[ 2.2403,  1.6653],\n",
      "          [ 0.7294, -0.1239]],\n",
      "\n",
      "         [[ 0.0990, -1.0354],\n",
      "          [ 0.1622,  0.2678]],\n",
      "\n",
      "         [[ 0.5010,  0.3047],\n",
      "          [-0.0485, -0.2799]]],\n",
      "\n",
      "\n",
      "        [[[ 2.2633, -0.4072],\n",
      "          [ 1.4098, -0.1239]],\n",
      "\n",
      "         [[-0.1396, -0.2312],\n",
      "          [ 0.1622,  0.2678]],\n",
      "\n",
      "         [[ 1.8482,  1.8186],\n",
      "          [-0.0485, -0.2799]]],\n",
      "\n",
      "\n",
      "        [[[-0.7367, -0.5553],\n",
      "          [ 1.2459, -0.0881]],\n",
      "\n",
      "         [[ 0.0161,  0.2331],\n",
      "          [ 0.5611,  1.4615]],\n",
      "\n",
      "         [[ 3.0797,  1.8186],\n",
      "          [ 0.0910,  0.3441]]],\n",
      "\n",
      "\n",
      "        [[[-2.3360, -0.8314],\n",
      "          [ 2.6867, -0.1331]],\n",
      "\n",
      "         [[ 0.0161, -0.4735],\n",
      "          [-0.0141,  0.3984]],\n",
      "\n",
      "         [[ 1.9283,  1.3188],\n",
      "          [ 0.0910,  0.3441]]],\n",
      "\n",
      "\n",
      "        [[[ 0.0556, -0.2798],\n",
      "          [ 2.1845, -0.5119]],\n",
      "\n",
      "         [[ 0.6817,  0.4796],\n",
      "          [ 1.2047, -0.0575]],\n",
      "\n",
      "         [[ 0.7779,  1.4149],\n",
      "          [ 1.6688,  1.7148]]],\n",
      "\n",
      "\n",
      "        [[[ 0.0556, -1.2489],\n",
      "          [ 2.4890, -0.7692]],\n",
      "\n",
      "         [[ 0.6817,  1.1927],\n",
      "          [ 0.9510,  1.4915]],\n",
      "\n",
      "         [[ 0.6464,  1.8531],\n",
      "          [ 0.7810,  0.5467]]],\n",
      "\n",
      "\n",
      "        [[[-0.6957, -1.6777],\n",
      "          [ 1.6780, -0.1491]],\n",
      "\n",
      "         [[ 0.6817,  1.0129],\n",
      "          [-2.4463,  0.8843]],\n",
      "\n",
      "         [[ 0.3000,  2.2708],\n",
      "          [ 0.6105, -0.0531]]],\n",
      "\n",
      "\n",
      "        [[[-0.6957, -1.7307],\n",
      "          [ 1.7696, -0.1334]],\n",
      "\n",
      "         [[ 0.6823,  0.1548],\n",
      "          [-1.7405,  0.6585]],\n",
      "\n",
      "         [[ 0.4850,  0.9031],\n",
      "          [ 0.6105, -1.2149]]],\n",
      "\n",
      "\n",
      "        [[[-1.9351, -1.0863],\n",
      "          [ 1.0507,  0.7304]],\n",
      "\n",
      "         [[ 1.1247, -0.3446],\n",
      "          [-1.4636,  0.2031]],\n",
      "\n",
      "         [[ 1.5616, -0.3571],\n",
      "          [ 0.9419, -1.2091]]],\n",
      "\n",
      "\n",
      "        [[[-1.3277, -4.0042],\n",
      "          [-0.2079, -2.2578]],\n",
      "\n",
      "         [[ 1.1578,  0.7536],\n",
      "          [-1.0419, -1.2485]],\n",
      "\n",
      "         [[ 0.9982, -0.5232],\n",
      "          [ 0.6297,  0.9396]]]])\n"
     ]
    }
   ],
   "source": [
    "print(s)"
   ]
  },
  {
   "cell_type": "code",
   "execution_count": 2,
   "id": "3eb603bb",
   "metadata": {},
   "outputs": [],
   "source": [
    "from sampling_12 import simulation_new\n",
    "from post_proccess import generate_hist\n",
    "import torch\n",
    "import numpy as np\n",
    "\n",
    "'''var: noise variance for both eyes' evidence, equal'''\n",
    "'''beta and gamma: coefficient on smoothness penalty of pi_l, pi_r and w'''\n",
    "'''tau: a global coefficient on all penalty term'''\n",
    "var,beta,gamma,alpha,tau,dim = 0.0001,10,10,0,1/100,5\n",
    "\n",
    "'''change no parallel sequence and no. samples in each sequence here'''\n",
    "p,no_sample = 100,2000\n",
    "b = 0.5*torch.ones((p,dim,dim))\n",
    "\n",
    "'''set device variable here'''\n",
    "device = torch.device(\"cuda:0\" if torch.cuda.is_available() else \"cpu\")\n",
    "\n",
    "\n",
    "s = simulation_new(var,beta,gamma,alpha,tau,b,dim,p,no_sample,device)\n",
    "\n",
    "no_bins = 1000\n",
    "cut_domi = 0\n",
    "\n",
    "s.to('cpu')\n",
    "s.numpy()\n",
    "hist,bins = generate_hist(s,p,no_sample,no_bins,cut_domi)\n",
    "\n",
    "'''output hist and bins variable to a csv file'''\n",
    "import numpy.random as random\n",
    "import numpy as np\n",
    "rand_ind = random.randint(0,10000)\n",
    "file_name_hist = 'hist'+str(rand_ind)\n",
    "file_name_bins = 'bins'+str(rand_ind)\n",
    "np.savetxt(file_name_hist, hist, delimiter=\",\")\n",
    "np.savetxt(file_name_bins, bins, delimiter=\",\")"
   ]
  },
  {
   "cell_type": "code",
   "execution_count": null,
   "id": "404f562c",
   "metadata": {},
   "outputs": [],
   "source": []
  }
 ],
 "metadata": {
  "kernelspec": {
   "display_name": "Python 3 (ipykernel)",
   "language": "python",
   "name": "python3"
  },
  "language_info": {
   "codemirror_mode": {
    "name": "ipython",
    "version": 3
   },
   "file_extension": ".py",
   "mimetype": "text/x-python",
   "name": "python",
   "nbconvert_exporter": "python",
   "pygments_lexer": "ipython3",
   "version": "3.9.12"
  }
 },
 "nbformat": 4,
 "nbformat_minor": 5
}
