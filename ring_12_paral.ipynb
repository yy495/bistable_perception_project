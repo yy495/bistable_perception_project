{
 "cells": [
  {
   "cell_type": "code",
   "execution_count": 8,
   "id": "1d6b48e9",
   "metadata": {},
   "outputs": [],
   "source": [
    "import numpy as np\n",
    "import numpy.random as random\n",
    "import matplotlib.pyplot as plt"
   ]
  },
  {
   "cell_type": "code",
   "execution_count": 9,
   "id": "f28815c8",
   "metadata": {},
   "outputs": [],
   "source": [
    "#testing parallel run of shorter simulations for Gershman 2012's model, p is the number of simulations to run in parallel\n",
    "#ring MRF for travelling wave\n",
    "#last column connected back to the first column"
   ]
  },
  {
   "cell_type": "code",
   "execution_count": 10,
   "id": "56d8ca07",
   "metadata": {},
   "outputs": [],
   "source": [
    "def p_w_new(index,w,x_l,x_r,pi_l,pi_r,beta,var,b,tau,p):\n",
    "    #index: the index of the weight to be sampled, tuple (i,j)\n",
    "    i,j = index[0],index[1]\n",
    "    s_n = w[:,i,j]*x_l[:,i,j]+(1-w[:,i,j])*x_r[:,i,j]\n",
    "    E_s = (b[:,i,j]-s_n)**2\n",
    "    w_extended = np.concatenate((w[:,:,-1].reshape(p,-1,1),w,w[:,:,0].reshape(p,-1,1)),axis=2)\n",
    "    w_extended = np.concatenate((w_extended[:,0,:].reshape(p,1,-1),w_extended,w_extended[:,-1,:].reshape(p,1,-1)),axis=1)\n",
    "    E_s = E_s + beta*((w_extended[:,i+1,j+1]-w_extended[:,i,j+1])**2+(w_extended[:,i+1,j+1]-w_extended[:,i+1,j])**2)\n",
    "    E_s = E_s + beta*((w_extended[:,i+1,j+1]-w_extended[:,i+2,j+1])**2+(w_extended[:,i+1,j+1]-w_extended[:,i+1,j+2])**2)\n",
    "    E_x = 1/(2*var)*(pi_l[:,i,j]*(x_l[:,i,j]-s_n)**2+pi_r[:,i,j]*(x_r[:,i,j]-s_n)**2)\n",
    "    return np.exp(-tau*(E_x+E_s))"
   ]
  },
  {
   "cell_type": "code",
   "execution_count": 11,
   "id": "37c317af",
   "metadata": {},
   "outputs": [],
   "source": [
    "def p_pi_l_new(index,w,x_l,x_r,pi_l,var,b,tau,gamma,p):\n",
    "    #sparse coefficient alpha TBC\n",
    "    i,j = index[0],index[1]\n",
    "    s_n = w[:,i,j]*x_l[:,i,j]+(1-w[:,i,j])*x_r[:,i,j]\n",
    "    E_xl = 1/(2*var)*pi_l[:,i,j]*(x_l[:,i,j]-s_n)**2\n",
    "    pi_extended = np.concatenate((pi_l[:,:,-1].reshape(p,-1,1),pi_l,pi_l[:,:,0].reshape(p,-1,1)),axis=2)\n",
    "    pi_extended = np.concatenate((pi_extended[:,0,:].reshape(p,1,-1),pi_extended,pi_extended[:,-1,:].reshape(p,1,-1)),axis=1)\n",
    "    #E_pi_l = alpha*(pi_extended[i+2,j+1]+pi_extended[i+1,j+2]+pi_extended[i,j+1]+pi_extended[i+1,j])\n",
    "    '''E_pi_l = E_pi_l + gamma*((pi_extended[:,i+1,j+1]-pi_extended[:,i,j+1])**2+(pi_extended[:i+1,j+1]-pi_extended[:,i+1,j])**2)'''\n",
    "    E_pi_l = gamma*((pi_extended[:,i+1,j+1]-pi_extended[:,i,j+1])**2+(pi_extended[:,i+1,j+1]-pi_extended[:,i+1,j])**2)\n",
    "    E_pi_l = E_pi_l + gamma*((pi_extended[:,i+1,j+1]-pi_extended[:,i+2,j+1])**2+(pi_extended[:,i+1,j+1]-pi_extended[:,i+1,j+2])**2)\n",
    "    return np.exp(-tau*(E_xl+E_pi_l))"
   ]
  },
  {
   "cell_type": "code",
   "execution_count": 12,
   "id": "77a8527c",
   "metadata": {},
   "outputs": [],
   "source": [
    "def p_pi_r_new(index,w,x_l,x_r,pi_r,var,b,tau,gamma,p):\n",
    "    #sparse coefficient alpha TBC\n",
    "    i,j = index[0],index[1]\n",
    "    s_n = w[:,i,j]*x_l[:,i,j]+(1-w[:,i,j])*x_r[:,i,j]\n",
    "    E_xr = 1/(2*var)*pi_r[:,i,j]*(x_r[:,i,j]-s_n)**2\n",
    "    pi_extended = np.concatenate((pi_r[:,:,-1].reshape(p,-1,1),pi_r,pi_r[:,:,0].reshape(p,-1,1)),axis=2)\n",
    "    pi_extended = np.concatenate((pi_extended[:,0,:].reshape(p,1,-1),pi_extended,pi_extended[:,-1,:].reshape(p,1,-1)),axis=1)\n",
    "    #E_pi_l = alpha*(pi_extended[i+2,j+1]+pi_extended[i+1,j+2]+pi_extended[i,j+1]+pi_extended[i+1,j])\n",
    "    '''E_pi_l = E_pi_l + gamma*((pi_extended[:,i+1,j+1]-pi_extended[:,i,j+1])**2+(pi_extended[:i+1,j+1]-pi_extended[:,i+1,j])**2)'''\n",
    "    E_pi_r = gamma*((pi_extended[:,i+1,j+1]-pi_extended[:,i,j+1])**2+(pi_extended[:,i+1,j+1]-pi_extended[:,i+1,j])**2)\n",
    "    E_pi_r = E_pi_r + gamma*((pi_extended[:,i+1,j+1]-pi_extended[:,i+2,j+1])**2+(pi_extended[:,i+1,j+1]-pi_extended[:,i+1,j+2])**2)\n",
    "    return np.exp(-tau*(E_xr+E_pi_r))"
   ]
  },
  {
   "cell_type": "code",
   "execution_count": 13,
   "id": "22f24c22",
   "metadata": {},
   "outputs": [],
   "source": [
    "def proposal_function_new(z, index, p, sigma = 1):\n",
    "    #generate a new proposal from the current sample\n",
    "    #change only one element at a time!\n",
    "    z_star = z.copy()\n",
    "    i,j = index[0],index[1]\n",
    "    z_star[:,i,j] = z_star[:,i,j] + sigma*random.normal(size = (p))\n",
    "    return z_star"
   ]
  },
  {
   "cell_type": "code",
   "execution_count": 14,
   "id": "3c202cd9",
   "metadata": {},
   "outputs": [],
   "source": [
    "def binary_proposal_new(z,index):\n",
    "    #p: the probability of switch, to stablize the system\n",
    "    z_star = z.copy()\n",
    "    z_star[:,index[0],index[1]] = 1-z[:,index[0],index[1]]\n",
    "    return z_star"
   ]
  },
  {
   "cell_type": "code",
   "execution_count": 15,
   "id": "be56e949",
   "metadata": {},
   "outputs": [],
   "source": [
    "def sample_rejection_w_new(index,w,w_star,x_l,x_r,pi_l,pi_r,beta,var,b,tau,p):\n",
    "    p_w_cur = p_w_new(index,w,x_l,x_r,pi_l,pi_r,beta,var,b,tau,p)\n",
    "    p_w_star = p_w_new(index,w_star,x_l,x_r,pi_l,pi_r,beta,var,b,tau,p)\n",
    "    p_acc = p_w_star/p_w_cur\n",
    "    p_ran = random.random(p)\n",
    "    acc = np.sign(p_acc-p_ran).astype('int')\n",
    "    return acc\n",
    "    \n",
    "def sample_rejection_pi_l_new(index,w,x_l,x_r,pi_l,pi_l_star,var,b,tau,gamma,p):\n",
    "    p_pi_l_cur = p_pi_l_new(index,w,x_l,x_r,pi_l,var,b,tau,gamma,p)\n",
    "    p_pi_l_star = p_pi_l_new(index,w,x_l,x_r,pi_l_star,var,b,tau,gamma,p)\n",
    "    p_acc = p_pi_l_star/p_pi_l_cur\n",
    "    p_ran = random.random(p)\n",
    "    acc = np.sign(p_acc-p_ran).astype('int')\n",
    "    return acc\n",
    "    \n",
    "def sample_rejection_pi_r_new(index,w,x_l,x_r,pi_r,pi_r_star,var,b,tau,gamma,p):\n",
    "    p_pi_r_cur = p_pi_r_new(index,w,x_l,x_r,pi_r,var,b,tau,gamma,p)\n",
    "    p_pi_r_star = p_pi_r_new(index,w,x_l,x_r,pi_r_star,var,b,tau,gamma,p)\n",
    "    p_acc = p_pi_r_star/p_pi_r_cur\n",
    "    p_ran = random.random(p)\n",
    "    acc = np.sign(p_acc-p_ran).astype('int')\n",
    "    return acc"
   ]
  },
  {
   "cell_type": "code",
   "execution_count": 16,
   "id": "4bbeb8c7",
   "metadata": {
    "scrolled": true
   },
   "outputs": [],
   "source": [
    "def simulation_new(var,beta,gamma,alpha,tau,b,dim,p,no_sample):\n",
    "    #p: no. parallel sampling sequences\n",
    "    #no. sample: no. samples in each sequence\n",
    "    #dim: dimension of each MRF\n",
    "    sampling_order_i = np.arange(dim)\n",
    "    sampling_order_j = np.arange(dim)\n",
    "\n",
    "    #set initial condition for w, pi_r, pi_l\n",
    "    #set visual input x_r, x_l as conflicting input\n",
    "    x_l = np.ones((p,dim,dim))\n",
    "    x_r = np.zeros((p,dim,dim))\n",
    "    w = random.rand(p,dim,dim)\n",
    "    pi_l = random.randint(0,2,(p,dim,dim))\n",
    "    pi_r = random.randint(0,2,(p,dim,dim))\n",
    "\n",
    "    s = []\n",
    "    for m in range(int(no_sample)):\n",
    "        #order of sweep is randomnized\n",
    "        random.shuffle(sampling_order_i)\n",
    "        random.shuffle(sampling_order_j)\n",
    "        #the following for loop update on pi_l\n",
    "        for i in sampling_order_i:\n",
    "            for j in sampling_order_j:\n",
    "                index = (i,j)\n",
    "                pi_r_star = binary_proposal_new(pi_r, index)\n",
    "                acc_1 = sample_rejection_pi_r_new(index,w,x_l,x_r,pi_r,pi_r_star,var,b,tau,gamma,p)\n",
    "                for j in range(p):\n",
    "                    if acc_1[j] == 1:\n",
    "                        pi_r[j,:,:] = pi_r_star[j,:,:]\n",
    "\n",
    "        #the following for loop update on pi_r\n",
    "        for i in sampling_order_i:\n",
    "            for j in sampling_order_j:\n",
    "                index = (i,j)\n",
    "                pi_l_star = binary_proposal_new(pi_l, index)\n",
    "                acc_2 = sample_rejection_pi_l_new(index,w,x_l,x_r,pi_l,pi_l_star,var,b,tau,gamma,p)\n",
    "                for j in range(p):\n",
    "                    if acc_2[j] == 1:\n",
    "                        pi_l[j,:,:] = pi_l_star[j,:,:]\n",
    "    \n",
    "            #the following for loop update on w\n",
    "            for i in sampling_order_i:\n",
    "                for j in sampling_order_j:\n",
    "                    index = (i,j)\n",
    "                    w_star = proposal_function_new(w, index, p)\n",
    "                    acc_3 = sample_rejection_w_new(index,w,w_star,x_l,x_r,pi_l,pi_r,beta,var,b,tau,p)\n",
    "                    for j in range(p):\n",
    "                        if acc_3[j] == 1:\n",
    "                            w[j,:,:] = w_star[j,:,:]\n",
    "        \n",
    "        s_i = w*x_l+(1-w)*x_r\n",
    "        s.append(s_i)\n",
    "    return s"
   ]
  },
  {
   "cell_type": "code",
   "execution_count": 30,
   "id": "31505182",
   "metadata": {},
   "outputs": [],
   "source": [
    "var,beta,gamma,alpha,tau,b,dim,p,no_sample = 0.001,10,10,0,1/100,0.5*np.ones((100,7,7)),7,100,11000,\n",
    "s = simulation_new(var,beta,gamma,alpha,tau,b,dim,p,no_sample)"
   ]
  },
  {
   "cell_type": "code",
   "execution_count": 18,
   "id": "abd2a089",
   "metadata": {},
   "outputs": [],
   "source": [
    "def corr(x,y):\n",
    "    return (np.mean(x*y)-np.mean(x)*np.mean(y))/(np.var(x)*np.var(y))**0.5"
   ]
  },
  {
   "cell_type": "code",
   "execution_count": 19,
   "id": "ee9ae3a3",
   "metadata": {},
   "outputs": [],
   "source": [
    "def autocorr(x,y,n):\n",
    "    #x, y: arrays to calculate correlation\n",
    "    #n: cover correlation rxy(0) to rxy(n-1)\n",
    "    rxy = []\n",
    "    for i in range(n):\n",
    "        y_shift = np.concatenate((np.zeros(i),y[:(len(y)-i)]))\n",
    "        rxy.append(corr(x,y_shift))\n",
    "    return np.array(rxy)"
   ]
  },
  {
   "cell_type": "code",
   "execution_count": 31,
   "id": "d912a9a7",
   "metadata": {},
   "outputs": [],
   "source": [
    "s = np.array(s)\n",
    "autocorr_s_0 = autocorr(s[:,0,1,0],s[:,0,1,0],100)\n",
    "\n",
    "for i in range(1,p):\n",
    "    autocorr_s_0 = autocorr_s_0 + autocorr(s[:,i,1,0],s[:,i,1,0],100)\n",
    "autocorr_s_0 = autocorr_s_0/p\n",
    "\n",
    "autocorr_s_1 = autocorr(s[:,0,1,0],s[:,0,1,1],100)\n",
    "for i in range(1,p):\n",
    "    autocorr_s_1 = autocorr_s_1 + autocorr(s[:,i,1,0],s[:,i,1,1],100)\n",
    "autocorr_s_1 = autocorr_s_1/p\n",
    "\n",
    "autocorr_s_2 = autocorr(s[:,0,1,0],s[:,0,1,2],100)\n",
    "for i in range(1,p):\n",
    "    autocorr_s_2 = autocorr_s_2 + autocorr(s[:,i,1,0],s[:,i,1,2],100)\n",
    "autocorr_s_2 = autocorr_s_2/p\n",
    "\n",
    "autocorr_s_3 = autocorr(s[:,0,1,0],s[:,0,1,3],100)\n",
    "for i in range(1,p):\n",
    "    autocorr_s_3 = autocorr_s_3 + autocorr(s[:,i,1,0],s[:,i,1,3],100)\n",
    "autocorr_s_3 = autocorr_s_3/p\n",
    "\n",
    "autocorr_s_4 = autocorr(s[:,0,1,0],s[:,0,1,4],100)\n",
    "for i in range(1,p):\n",
    "    autocorr_s_4 = autocorr_s_4 + autocorr(s[:,i,1,0],s[:,i,1,4],100)\n",
    "autocorr_s_4 = autocorr_s_4/p\n",
    "\n",
    "autocorr_s_5 = autocorr(s[:,0,1,0],s[:,0,1,5],100)\n",
    "for i in range(1,p):\n",
    "    autocorr_s_5 = autocorr_s_5 + autocorr(s[:,i,1,0],s[:,i,1,5],100)\n",
    "autocorr_s_5 = autocorr_s_5/p\n",
    "\n",
    "autocorr_s_6 = autocorr(s[:,0,1,0],s[:,0,1,6],100)\n",
    "for i in range(1,p):\n",
    "    autocorr_s_6 = autocorr_s_6 + autocorr(s[:,i,1,0],s[:,i,1,6],100)\n",
    "autocorr_s_6 = autocorr_s_6/p"
   ]
  },
  {
   "cell_type": "code",
   "execution_count": 38,
   "id": "d3de7a4c",
   "metadata": {},
   "outputs": [
    {
     "data": {
      "text/plain": [
       "Text(0.5, 1.0, 'autocorrelogram between nodes, concentric')"
      ]
     },
     "execution_count": 38,
     "metadata": {},
     "output_type": "execute_result"
    },
    {
     "data": {
      "image/png": "[encoded data removed]",
      "text/plain": [
       "<Figure size 432x288 with 1 Axes>"
      ]
     },
     "metadata": {
      "needs_background": "light"
     },
     "output_type": "display_data"
    }
   ],
   "source": [
    "plt.plot(autocorr_s_0[:30])\n",
    "plt.plot(autocorr_s_1[:30])\n",
    "plt.plot(autocorr_s_2[:30])\n",
    "plt.plot(autocorr_s_3[:30])\n",
    "plt.xlabel('discrete time (no.step)')\n",
    "plt.ylabel('correlation')\n",
    "plt.legend(['distance = 0', 'distance = 1','distance = 2','distance = 3'])\n",
    "plt.title('autocorrelogram between nodes, concentric')"
   ]
  },
  {
   "cell_type": "code",
   "execution_count": 39,
   "id": "2dcef28e",
   "metadata": {},
   "outputs": [],
   "source": [
    "autocorr_r_0 = autocorr(s[:,0,0,1],s[:,0,0,1],100)\n",
    "\n",
    "for i in range(1,p):\n",
    "    autocorr_r_0 = autocorr_r_0 + autocorr(s[:,i,0,1],s[:,i,0,1],100)\n",
    "autocorr_r_0 = autocorr_r_0/p\n",
    "\n",
    "autocorr_r_1 = autocorr(s[:,0,0,1],s[:,0,1,1],100)\n",
    "for i in range(1,p):\n",
    "    autocorr_r_1 = autocorr_r_1 + autocorr(s[:,i,0,1],s[:,i,1,1],100)\n",
    "autocorr_r_1 = autocorr_r_1/p\n",
    "\n",
    "autocorr_r_2 = autocorr(s[:,0,0,1],s[:,0,2,1],100)\n",
    "for i in range(1,p):\n",
    "    autocorr_r_2 = autocorr_r_2 + autocorr(s[:,i,0,1],s[:,i,2,1],100)\n",
    "autocorr_r_2 = autocorr_r_2/p\n",
    "\n",
    "autocorr_r_3 = autocorr(s[:,0,0,1],s[:,0,3,1],100)\n",
    "for i in range(1,p):\n",
    "    autocorr_r_3 = autocorr_r_3 + autocorr(s[:,i,0,1],s[:,i,3,1],100)\n",
    "autocorr_r_3 = autocorr_r_3/p\n",
    "\n",
    "autocorr_r_4 = autocorr(s[:,0,0,1],s[:,0,4,1],100)\n",
    "for i in range(1,p):\n",
    "    autocorr_r_4 = autocorr_r_4 + autocorr(s[:,i,0,1],s[:,i,4,1],100)\n",
    "autocorr_r_4 = autocorr_r_4/p\n",
    "\n",
    "autocorr_r_5 = autocorr(s[:,0,0,1],s[:,0,5,1],100)\n",
    "for i in range(1,p):\n",
    "    autocorr_r_5 = autocorr_r_5 + autocorr(s[:,i,0,1],s[:,i,5,1],100)\n",
    "autocorr_r_5 = autocorr_r_5/p\n",
    "\n",
    "autocorr_r_6 = autocorr(s[:,0,0,1],s[:,0,6,1],100)\n",
    "for i in range(1,p):\n",
    "    autocorr_r_6 = autocorr_r_6 + autocorr(s[:,i,0,1],s[:,i,6,1],100)\n",
    "autocorr_r_6 = autocorr_r_6/p"
   ]
  },
  {
   "cell_type": "code",
   "execution_count": 47,
   "id": "dfc85882",
   "metadata": {},
   "outputs": [
    {
     "data": {
      "text/plain": [
       "Text(0.5, 1.0, 'autocorrelogram between nodes, radial')"
      ]
     },
     "execution_count": 47,
     "metadata": {},
     "output_type": "execute_result"
    },
    {
     "data": {
      "image/png": "[encoded data removed]",
      "text/plain": [
       "<Figure size 432x288 with 1 Axes>"
      ]
     },
     "metadata": {
      "needs_background": "light"
     },
     "output_type": "display_data"
    }
   ],
   "source": [
    "plt.plot(autocorr_r_1[:30])\n",
    "plt.plot(autocorr_r_2[:30])\n",
    "plt.plot(autocorr_r_3[:30])\n",
    "plt.plot(autocorr_r_4[:30])\n",
    "plt.plot(autocorr_r_5[:30])\n",
    "plt.plot(autocorr_r_6[:30])\n",
    "\n",
    "plt.xlabel('discrete time (no.step)')\n",
    "plt.ylabel('correlation')\n",
    "plt.legend(['distance = 1','distance = 2','distance = 3','distance = 4','distance = 5','distance = 6'])\n",
    "plt.title('autocorrelogram between nodes, radial')"
   ]
  },
  {
   "cell_type": "code",
   "execution_count": 52,
   "id": "3b5c2cbb",
   "metadata": {},
   "outputs": [
    {
     "data": {
      "text/plain": [
       "Text(0, 0.5, 'propagation time')"
      ]
     },
     "execution_count": 52,
     "metadata": {},
     "output_type": "execute_result"
    },
    {
     "data": {
      "image/png": "[encoded data removed]",
      "text/plain": [
       "<Figure size 432x288 with 1 Axes>"
      ]
     },
     "metadata": {
      "needs_background": "light"
     },
     "output_type": "display_data"
    }
   ],
   "source": [
    "plt.plot(np.arange(1,7),2*np.exp(-np.array([autocorr_r_1[0],autocorr_r_2[0],autocorr_r_3[0],autocorr_r_4[0],autocorr_r_5[0],autocorr_r_6[0]])))\n",
    "plt.xlabel('distance (radial direction)')\n",
    "plt.ylabel('propagation time')"
   ]
  },
  {
   "cell_type": "code",
   "execution_count": 53,
   "id": "3974c31c",
   "metadata": {},
   "outputs": [
    {
     "data": {
      "text/plain": [
       "Text(0, 0.5, 'propagation time')"
      ]
     },
     "execution_count": 53,
     "metadata": {},
     "output_type": "execute_result"
    },
    {
     "data": {
      "image/png": "[encoded data removed]",
      "text/plain": [
       "<Figure size 432x288 with 1 Axes>"
      ]
     },
     "metadata": {
      "needs_background": "light"
     },
     "output_type": "display_data"
    }
   ],
   "source": [
    "plt.plot(np.arange(1,7),2*np.exp(-np.array([autocorr_s_1[0],autocorr_s_2[0],autocorr_s_3[0],autocorr_s_4[0],autocorr_s_5[0],autocorr_s_6[0]])))\n",
    "plt.xlabel('distance (concentric direction)')\n",
    "plt.ylabel('propagation time')"
   ]
  }
 ],
 "metadata": {
  "kernelspec": {
   "display_name": "Python 3.9.12",
   "language": "python",
   "name": "python3"
  },
  "language_info": {
   "codemirror_mode": {
    "name": "ipython",
    "version": 3
   },
   "file_extension": ".py",
   "mimetype": "text/x-python",
   "name": "python",
   "nbconvert_exporter": "python",
   "pygments_lexer": "ipython3",
   "version": "3.9.12"
  },
  "vscode": {
   "interpreter": {
    "hash": "40d3a090f54c6569ab1632332b64b2c03c39dcf918b08424e98f38b5ae0af88f"
   }
  }
 },
 "nbformat": 4,
 "nbformat_minor": 5
}
