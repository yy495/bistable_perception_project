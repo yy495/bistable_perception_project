{
 "cells": [
  {
   "cell_type": "code",
   "execution_count": 1,
   "id": "cda7eb46",
   "metadata": {},
   "outputs": [],
   "source": [
    "import torch\n",
    "import numpy as np\n",
    "from matplotlib import pyplot as plt"
   ]
  },
  {
   "cell_type": "code",
   "execution_count": 2,
   "id": "afe6a5a3",
   "metadata": {},
   "outputs": [],
   "source": [
    "#stochastic RNN to sample GSM"
   ]
  },
  {
   "cell_type": "code",
   "execution_count": 3,
   "id": "f6fa31f3",
   "metadata": {},
   "outputs": [],
   "source": [
    "#first test: sample a joint Gaussian"
   ]
  },
  {
   "cell_type": "code",
   "execution_count": 4,
   "id": "ab204008",
   "metadata": {},
   "outputs": [],
   "source": [
    "#2D covariance matrix\n",
    "sigma_target = torch.tensor([[0.8,0.3],[0.3,0.8]])\n",
    "\n",
    "#3 neurons, 2E, 1I\n"
   ]
  },
  {
   "cell_type": "code",
   "execution_count": 5,
   "id": "b22a3393",
   "metadata": {
    "scrolled": true
   },
   "outputs": [
    {
     "data": {
      "text/plain": [
       "tensor([[-0.3282, -0.5106],\n",
       "        [ 0.4604, -0.5533],\n",
       "        [-0.3251,  0.1078]])"
      ]
     },
     "execution_count": 5,
     "metadata": {},
     "output_type": "execute_result"
    }
   ],
   "source": [
    "torch.randn(3,2)"
   ]
  },
  {
   "cell_type": "code",
   "execution_count": 6,
   "id": "1f79971e",
   "metadata": {},
   "outputs": [],
   "source": [
    "#RNN example:\n",
    "#input: cos(theta), sin(theta)\n",
    "#learn: output single parameter theta\n",
    "#20 neurons, ReLU non-linearity\n",
    "class network1():\n",
    "    def forward(w,w1,dt,tau):\n",
    "        #theta: 100 random angles\n",
    "        #w = torch.cat((torch.exp(e_log),-torch.exp(i_log)),axis = 1)\n",
    "        x = torch.rand(4,1)\n",
    "        x_l = torch.zeros(30000,4)\n",
    "        for i in range(30000):\n",
    "            x = x + 1/tau*(-x+torch.matmul(w,x))*dt + (2/tau)**0.5*dt**0.5*torch.randn(4,1)\n",
    "            x_l[i] = x.T\n",
    "        x_l = x_l[2000:,:]\n",
    "        cov_1 = torch.cov(x_l.T)[:2,:2]\n",
    "        mu = torch.mean(x_l,axis = 0)\n",
    "        L = 8*torch.sum(((1/28000*x_l.T@x_l)[:2,:2]-sigma_target)**2) + torch.sum(mu**2) + 12*(torch.var(x_l[:,0])-sigma_target[0,0])**2 + 12*(torch.var(x_l[:,1])-sigma_target[1,1])**2\n",
    "        return L"
   ]
  },
  {
   "cell_type": "code",
   "execution_count": 7,
   "id": "1b6a14e0",
   "metadata": {},
   "outputs": [],
   "source": [
    "max_eig = True\n",
    "while max_eig:\n",
    "    e_log = torch.autograd.Variable(torch.randn(4,2),requires_grad = True)\n",
    "    i_log = torch.autograd.Variable(torch.randn(4,2),requires_grad = True)\n",
    "    w = torch.cat((torch.exp(e_log),-torch.exp(i_log)),axis = 1)\n",
    "    if torch.max(torch.real((torch.linalg.eig(w.detach())[0])))<1:\n",
    "        max_eig = False\n",
    "w1 = torch.autograd.Variable(torch.randn(3,3),requires_grad = True)"
   ]
  },
  {
   "cell_type": "code",
   "execution_count": 13,
   "id": "c06b2987",
   "metadata": {},
   "outputs": [],
   "source": [
    "dt = 0.001\n",
    "tau = 0.02\n",
    "\n",
    "optimizer = torch.optim.Adam([e_log,i_log], 0.01)\n",
    "m = torch.nn.Tanh()\n",
    "\n",
    "#loss_list = []\n",
    "for i in range(100):\n",
    "    optimizer.zero_grad()\n",
    "    w = torch.cat((torch.exp(e_log),-torch.exp(i_log)),axis = 1)\n",
    "    L = network1.forward(w,w1,dt,tau)\n",
    "    L1 = L.detach().numpy().copy()\n",
    "    if np.isnan(L1) == True:\n",
    "        print('error')\n",
    "        break\n",
    "    L.backward()\n",
    "    optimizer.step()\n",
    "    loss_list.append(L1)"
   ]
  },
  {
   "cell_type": "code",
   "execution_count": 14,
   "id": "2c5ef37b",
   "metadata": {},
   "outputs": [
    {
     "data": {
      "text/plain": [
       "array(0.04749966, dtype=float32)"
      ]
     },
     "execution_count": 14,
     "metadata": {},
     "output_type": "execute_result"
    },
    {
     "data": {
      "image/png": "[encoded data removed]",
      "text/plain": [
       "<Figure size 432x288 with 1 Axes>"
      ]
     },
     "metadata": {
      "needs_background": "light"
     },
     "output_type": "display_data"
    }
   ],
   "source": [
    "plt.plot(np.array(loss_list))\n",
    "plt.xlabel('n')\n",
    "plt.ylabel('loss')\n",
    "loss_list[-1]"
   ]
  },
  {
   "cell_type": "code",
   "execution_count": 15,
   "id": "5e11f6b9",
   "metadata": {},
   "outputs": [
    {
     "name": "stdout",
     "output_type": "stream",
     "text": [
      "tensor([[0.8474, 0.3034],\n",
      "        [0.3034, 0.8222]], grad_fn=<SliceBackward0>)\n",
      "tensor([-0.0099,  0.0087,  0.0457, -0.0211], grad_fn=<MeanBackward1>)\n",
      "tensor([[ 0.2836,  1.7485, -0.7642, -1.9074],\n",
      "        [ 0.6672,  0.2469, -0.6707, -1.3187],\n",
      "        [ 1.1742,  2.9167, -0.1990, -2.0002],\n",
      "        [ 6.2644,  2.9793, -0.8625, -1.1333]], grad_fn=<CatBackward0>)\n"
     ]
    }
   ],
   "source": [
    "x = torch.rand(4,1)\n",
    "x_l = torch.zeros(20000,4)\n",
    "for i in range(20000):\n",
    "    x = x + 1/tau*(-x+torch.matmul(w,x))*dt + (2/tau)**0.5*dt**0.5*torch.randn(4,1)\n",
    "    x_l[i] = x.T\n",
    "x_l = x_l[2000:,:]\n",
    "cov_1 = torch.cov(x_l.T)[:2,:2]\n",
    "mu = torch.mean(x_l,axis = 0)\n",
    "print(cov_1)\n",
    "print(mu)\n",
    "print(w)"
   ]
  },
  {
   "cell_type": "code",
   "execution_count": 2,
   "id": "5c2b205b",
   "metadata": {},
   "outputs": [],
   "source": [
    "#training RNN to sample from GSM\n",
    "#main source: cortical like dynamic in RNN optimized for probablistic inference\n",
    "#due to instability, train 2E + 2I only\n"
   ]
  },
  {
   "cell_type": "code",
   "execution_count": 2,
   "id": "686c8220",
   "metadata": {},
   "outputs": [],
   "source": [
    "#gsm target\n",
    "def gsm_sigma(A,C,z,x,sigma_x):\n",
    "    sigma_gsm = torch.linalg.inv((torch.linalg.inv(C) + z**2/sigma_x**2*A@A.T))\n",
    "    mu_gsm = z/sigma_x**2*sigma_gsm@A.T@x\n",
    "    return sigma_gsm, mu_gsm"
   ]
  },
  {
   "cell_type": "code",
   "execution_count": 3,
   "id": "14fcde81",
   "metadata": {},
   "outputs": [],
   "source": [
    "class network2():\n",
    "    def forward(w,theta,x,dt,tau):\n",
    "        #w = torch.cat((torch.exp(e_log),-torch.exp(i_log)),axis = 1)\n",
    "        tau_m = tau\n",
    "        u = torch.rand(4,1)\n",
    "        u_l = torch.zeros(50000,4)\n",
    "        for i in range(50000):\n",
    "            u = u + 1/tau*(-u+torch.matmul(w,h(u)) + theta[0]*(x+theta[1])**3)*dt + (2/tau_m)**0.5*dt**0.5*torch.randn(4,1)\n",
    "            u_l[i] = u.T\n",
    "        u_l = u_l[2000:,:]\n",
    "        cov_1 = torch.cov(u_l.T)[:2,:2]\n",
    "        mu = torch.mean(u_l,axis = 0)\n",
    "        return cov_1, mu\n",
    "    def loss(cov_1, mu, cov_target, mu_target):\n",
    "        cov_loss = 8*torch.sum((cov_1-cov_target)**2)\n",
    "        mu_loss = 8*torch.sum((mu-mu_target)**2)\n",
    "        var_loss = 12*(cov_1[0,0] - cov_target[0,0])**2 + 12*(cov_1[1,1] - cov_target[1,1])**2\n",
    "        return cov_loss+mu_loss+var_loss\n",
    "        "
   ]
  },
  {
   "cell_type": "code",
   "execution_count": 4,
   "id": "c9df64f6",
   "metadata": {},
   "outputs": [],
   "source": [
    "max_eig = True\n",
    "while max_eig:\n",
    "    e_log = torch.autograd.Variable(torch.randn(4,2),requires_grad = True)\n",
    "    i_log = torch.autograd.Variable(torch.randn(4,2),requires_grad = True)\n",
    "    w = torch.cat((torch.exp(e_log),-torch.exp(i_log)),axis = 1)\n",
    "    if torch.max(torch.real((torch.linalg.eig(w.detach())[0])))<1:\n",
    "        max_eig = False"
   ]
  },
  {
   "cell_type": "code",
   "execution_count": 5,
   "id": "5a5d898c",
   "metadata": {},
   "outputs": [],
   "source": [
    "theta = torch.autograd.Variable(torch.tensor([1.0,0.0]),requires_grad = True)"
   ]
  },
  {
   "cell_type": "code",
   "execution_count": 6,
   "id": "209021be",
   "metadata": {},
   "outputs": [],
   "source": [
    "h = torch.nn.ReLU()\n",
    "dt = 0.001\n",
    "tau = 0.02\n",
    "\n",
    "A = torch.tensor([[0.8,0.3],[0.3,0.8]])\n",
    "C = torch.eye(2)\n",
    "sigma_x = 0.2\n",
    "z_l = torch.tensor([0,0.25,0.5,1,2])\n",
    "\n",
    "y_true = torch.randn(5,2,1)\n",
    "\n",
    "x = torch.zeros(25,2,1)\n",
    "\n",
    "for i in range(len(z_l)):\n",
    "    for j in range(len(y_true)):\n",
    "        x_i = z_l[i]*A@y_true[j] + torch.randn(2,1)\n",
    "        x[5*i+j,:,:] = x_i\n",
    "\n",
    "optimizer = torch.optim.Adam([e_log,i_log, theta], 0.05)"
   ]
  },
  {
   "cell_type": "code",
   "execution_count": 18,
   "id": "89d2b870",
   "metadata": {},
   "outputs": [],
   "source": [
    "e_log_mid,i_log_mid, theta_mid = e_log, i_log, theta\n",
    "optimizer = torch.optim.Adam([e_log,i_log,theta], 0.2)"
   ]
  },
  {
   "cell_type": "code",
   "execution_count": null,
   "id": "7e62d41c",
   "metadata": {},
   "outputs": [
    {
     "name": "stdout",
     "output_type": "stream",
     "text": [
      "581576.0\n"
     ]
    }
   ],
   "source": [
    "loss_list = []\n",
    "import sys\n",
    "for m in range(10):\n",
    "    L = 0\n",
    "    for i in range(5):\n",
    "        for j in range(5):\n",
    "            optimizer.zero_grad()\n",
    "            w = torch.cat((torch.exp(e_log),-torch.exp(i_log)),axis = 1)\n",
    "            zi = z_l[i]\n",
    "            xi = x[5*i+j]\n",
    "            cov_target, mu_target = gsm_sigma(A,C,zi,xi,sigma_x)\n",
    "            xi = torch.cat((xi,torch.zeros((2,1))),axis = 0)\n",
    "            cov_1, mu_1 = network2.forward(w,theta,xi,dt,tau)\n",
    "            L = L+network2.loss(cov_1, mu_1, cov_target, mu_target)\n",
    "    L1 = L.detach().numpy().copy()\n",
    "    print(L1)\n",
    "    loss_list.append(L1)\n",
    "    if np.isnan(L1) == True:\n",
    "        print('error')\n",
    "        sys.exit(0)\n",
    "    L.backward()\n",
    "    optimizer.step()"
   ]
  },
  {
   "cell_type": "code",
   "execution_count": 20,
   "id": "1af54dc3",
   "metadata": {},
   "outputs": [
    {
     "data": {
      "text/plain": [
       "[<matplotlib.lines.Line2D at 0x445e54e50>]"
      ]
     },
     "execution_count": 20,
     "metadata": {},
     "output_type": "execute_result"
    },
    {
     "data": {
      "image/png": "[encoded data removed]",
      "text/plain": [
       "<Figure size 432x288 with 1 Axes>"
      ]
     },
     "metadata": {
      "needs_background": "light"
     },
     "output_type": "display_data"
    }
   ],
   "source": [
    "plt.plot(loss_list)"
   ]
  },
  {
   "cell_type": "code",
   "execution_count": null,
   "id": "a21b8984",
   "metadata": {},
   "outputs": [],
   "source": []
  }
 ],
 "metadata": {
  "kernelspec": {
   "display_name": "Python 3 (ipykernel)",
   "language": "python",
   "name": "python3"
  },
  "language_info": {
   "codemirror_mode": {
    "name": "ipython",
    "version": 3
   },
   "file_extension": ".py",
   "mimetype": "text/x-python",
   "name": "python",
   "nbconvert_exporter": "python",
   "pygments_lexer": "ipython3",
   "version": "3.9.12"
  }
 },
 "nbformat": 4,
 "nbformat_minor": 5
}
