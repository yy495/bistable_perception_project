{
 "cells": [
  {
   "cell_type": "code",
   "execution_count": 1,
   "metadata": {},
   "outputs": [],
   "source": [
    "#using direct sampling by random normal function, instead of MH for conditional distribution\n",
    "#allow double zero at first"
   ]
  },
  {
   "cell_type": "code",
   "execution_count": 2,
   "metadata": {},
   "outputs": [],
   "source": [
    "import numpy as np\n",
    "import numpy.random as random\n",
    "import matplotlib.pyplot as plt"
   ]
  },
  {
   "cell_type": "code",
   "execution_count": 3,
   "metadata": {},
   "outputs": [],
   "source": [
    "#from here on, direct sampling on w\n",
    "def generate_std_mu_w(index,w,pi_l,pi_r,var_l,var_r,x_l,x_r,b,tau,beta,dim,p):\n",
    "    ind_0_low,ind_0_high = int(index[0]-(np.sign(index[0]-0.99)+1)/2),int(index[0]+(np.sign((dim-1-0.01)-index[0])+1)/2)\n",
    "    ind_1_low,ind_1_high = int(index[1]-(np.sign(index[1]-0.99)+1)/2),int(index[1]+(np.sign((dim-1-0.01)-index[1])+1)/2)\n",
    "    no_nei = ind_0_high - ind_0_low + ind_1_high - ind_1_low\n",
    "    sum_nei = np.sum(w[:,index[0],ind_1_low:ind_1_high+1],axis=1)-2*w[:,index[0],index[1]]+np.sum(w[:,ind_0_low:ind_0_high+1,index[1]],axis=1)\n",
    "    std = (2*tau*((x_l[:,index[0],index[1]]-x_r[:,index[0],index[1]])**2+beta*no_nei+pi_l[:,index[0],index[1]]/2/var_l+pi_r[:,index[0],index[1]]/2/var_r))**-0.5\n",
    "    mu = tau*((b[:,index[0],index[1]]-x_r[:,index[0],index[1]])*(x_l[:,index[0],index[1]]-x_r[:,index[0],index[1]])+(x_l[:,index[0],index[1]]-x_r[:,index[0],index[1]])**2/2/var_l*pi_l[:,index[0],index[1]]+beta*sum_nei)\n",
    "    mu = mu/(0.5*std**-2)\n",
    "    return mu,std"
   ]
  },
  {
   "cell_type": "code",
   "execution_count": 4,
   "metadata": {},
   "outputs": [],
   "source": [
    "#direct sampling on w tested"
   ]
  },
  {
   "cell_type": "code",
   "execution_count": 5,
   "metadata": {},
   "outputs": [],
   "source": [
    "#binary sampling from this point on"
   ]
  },
  {
   "cell_type": "code",
   "execution_count": 6,
   "metadata": {},
   "outputs": [
    {
     "name": "stdout",
     "output_type": "stream",
     "text": [
      "445422\n",
      "0.4444444444444445\n"
     ]
    }
   ],
   "source": [
    "p_1_r = 0.8\n",
    "l_sample = []\n",
    "for i in range(1000000):\n",
    "    if random.random()<p_1_r/(1+p_1_r):\n",
    "        l_sample.append(1)\n",
    "    else:\n",
    "        l_sample.append(0)\n",
    "print(sum(l_sample))\n",
    "print(0.8/1.8)"
   ]
  },
  {
   "cell_type": "code",
   "execution_count": 7,
   "metadata": {},
   "outputs": [],
   "source": [
    "def p_pi_l_new(index,w,x_l,x_r,pi_l,var,b,tau,gamma,p):\n",
    "    #sparse coefficient alpha TBC\n",
    "    i,j = index[0],index[1]\n",
    "    s_n = w[:,i,j]*x_l[:,i,j]+(1-w[:,i,j])*x_r[:,i,j]\n",
    "    E_xl = 1/(2*var)*pi_l[:,i,j]*(x_l[:,i,j]-s_n)**2\n",
    "    pi_extended = np.concatenate((pi_l[:,:,0].reshape(p,-1,1),pi_l,pi_l[:,:,-1].reshape(p,-1,1)),axis=2)\n",
    "    pi_extended = np.concatenate((pi_extended[:,0,:].reshape(p,1,-1),pi_extended,pi_extended[:,-1,:].reshape(p,1,-1)),axis=1)\n",
    "    #E_pi_l = alpha*(pi_extended[i+2,j+1]+pi_extended[i+1,j+2]+pi_extended[i,j+1]+pi_extended[i+1,j])\n",
    "    '''E_pi_l = E_pi_l + gamma*((pi_extended[:,i+1,j+1]-pi_extended[:,i,j+1])**2+(pi_extended[:i+1,j+1]-pi_extended[:,i+1,j])**2)'''\n",
    "    E_pi_l = gamma*((pi_extended[:,i+1,j+1]-pi_extended[:,i,j+1])**2+(pi_extended[:,i+1,j+1]-pi_extended[:,i+1,j])**2)\n",
    "    E_pi_l = E_pi_l + gamma*((pi_extended[:,i+1,j+1]-pi_extended[:,i+2,j+1])**2+(pi_extended[:,i+1,j+1]-pi_extended[:,i+1,j+2])**2)\n",
    "    return np.exp(-tau*(E_xl+E_pi_l))"
   ]
  },
  {
   "cell_type": "code",
   "execution_count": 8,
   "metadata": {},
   "outputs": [],
   "source": [
    "def sample_rejection_pi_l_new(index,w,x_l,x_r,pi_l,pi_l_star,var,b,tau,gamma,p):\n",
    "    p_pi_l_cur = p_pi_l_new(index,w,x_l,x_r,pi_l,var,b,tau,gamma,p)\n",
    "    p_pi_l_star = p_pi_l_new(index,w,x_l,x_r,pi_l_star,var,b,tau,gamma,p)\n",
    "    p_acc = p_pi_l_star/p_pi_l_cur\n",
    "    p_ran = random.random(p)\n",
    "    acc = np.sign(p_acc-p_ran).astype('int')\n",
    "    return acc\n",
    "\n",
    "def binary_proposal_new(z,index):\n",
    "    #p: the probability of switch, to stablize the system\n",
    "    z_star = z.copy()\n",
    "    z_star[:,index[0],index[1]] = 1-z[:,index[0],index[1]]\n",
    "    return z_star"
   ]
  },
  {
   "cell_type": "code",
   "execution_count": 9,
   "metadata": {},
   "outputs": [],
   "source": [
    "def likelihood_ratio_pi_l(index,w,x_l,x_r,pi_l,var,b,tau,gamma,p):\n",
    "    #likelihood ratio: p(pi_l)=1/p(pi_l)=0\n",
    "    pi_l_1 = pi_l.copy()\n",
    "    pi_l_1[:,index[0],index[1]] = 1\n",
    "    pi_l_0 = pi_l.copy()\n",
    "    pi_l_0[:,index[0],index[1]] = 0\n",
    "    return p_pi_l_new(index,w,x_l,x_r,pi_l_1,var,b,tau,gamma,p)/p_pi_l_new(index,w,x_l,x_r,pi_l_0,var,b,tau,gamma,p)"
   ]
  },
  {
   "cell_type": "code",
   "execution_count": 10,
   "metadata": {},
   "outputs": [],
   "source": [
    "index = (1,1)\n",
    "p = 200\n",
    "no_samples = 80000\n",
    "w = np.array([random.random((5,5))]*p)\n",
    "w_1 = w.copy()\n",
    "w_2 = w.copy()\n",
    "x_l = np.ones((p,5,5))\n",
    "x_r = np.zeros((p,5,5))\n",
    "pi_l_o = np.ones((p,5,5))\n",
    "pi_l_1 = pi_l_o.copy()\n",
    "pi_l_2 = pi_l_o.copy()\n",
    "pi_r = np.ones((p,5,5))\n",
    "beta = 10\n",
    "gamma =10\n",
    "tau = 1/100\n",
    "var = 0.001\n",
    "b = 0.5*np.ones((p,5,5))\n",
    "pi_l_list = []\n",
    "for i in range(no_samples):\n",
    "    pi_l_star = binary_proposal_new(pi_l_1, index)\n",
    "    acc_2 = sample_rejection_pi_l_new(index,w_1,x_l,x_r,pi_l_1,pi_l_star,var,b,tau,gamma,p)\n",
    "    for j in range(p):\n",
    "        if acc_2[j] == 1:\n",
    "            pi_l_1[j,:,:] = pi_l_star[j,:,:]\n",
    "    pi_l_i = pi_l_1.copy()\n",
    "    pi_l_list.append(pi_l_i)\n"
   ]
  },
  {
   "cell_type": "code",
   "execution_count": 12,
   "metadata": {},
   "outputs": [
    {
     "name": "stdout",
     "output_type": "stream",
     "text": [
      "[0.41273283 0.41273283 0.41273283 0.41273283 0.41273283 0.41273283\n",
      " 0.41273283 0.41273283 0.41273283 0.41273283 0.41273283 0.41273283\n",
      " 0.41273283 0.41273283 0.41273283 0.41273283 0.41273283 0.41273283\n",
      " 0.41273283 0.41273283 0.41273283 0.41273283 0.41273283 0.41273283\n",
      " 0.41273283 0.41273283 0.41273283 0.41273283 0.41273283 0.41273283\n",
      " 0.41273283 0.41273283 0.41273283 0.41273283 0.41273283 0.41273283\n",
      " 0.41273283 0.41273283 0.41273283 0.41273283 0.41273283 0.41273283\n",
      " 0.41273283 0.41273283 0.41273283 0.41273283 0.41273283 0.41273283\n",
      " 0.41273283 0.41273283 0.41273283 0.41273283 0.41273283 0.41273283\n",
      " 0.41273283 0.41273283 0.41273283 0.41273283 0.41273283 0.41273283\n",
      " 0.41273283 0.41273283 0.41273283 0.41273283 0.41273283 0.41273283\n",
      " 0.41273283 0.41273283 0.41273283 0.41273283 0.41273283 0.41273283\n",
      " 0.41273283 0.41273283 0.41273283 0.41273283 0.41273283 0.41273283\n",
      " 0.41273283 0.41273283 0.41273283 0.41273283 0.41273283 0.41273283\n",
      " 0.41273283 0.41273283 0.41273283 0.41273283 0.41273283 0.41273283\n",
      " 0.41273283 0.41273283 0.41273283 0.41273283 0.41273283 0.41273283\n",
      " 0.41273283 0.41273283 0.41273283 0.41273283 0.41273283 0.41273283\n",
      " 0.41273283 0.41273283 0.41273283 0.41273283 0.41273283 0.41273283\n",
      " 0.41273283 0.41273283 0.41273283 0.41273283 0.41273283 0.41273283\n",
      " 0.41273283 0.41273283 0.41273283 0.41273283 0.41273283 0.41273283\n",
      " 0.41273283 0.41273283 0.41273283 0.41273283 0.41273283 0.41273283\n",
      " 0.41273283 0.41273283 0.41273283 0.41273283 0.41273283 0.41273283\n",
      " 0.41273283 0.41273283 0.41273283 0.41273283 0.41273283 0.41273283\n",
      " 0.41273283 0.41273283 0.41273283 0.41273283 0.41273283 0.41273283\n",
      " 0.41273283 0.41273283 0.41273283 0.41273283 0.41273283 0.41273283\n",
      " 0.41273283 0.41273283 0.41273283 0.41273283 0.41273283 0.41273283\n",
      " 0.41273283 0.41273283 0.41273283 0.41273283 0.41273283 0.41273283\n",
      " 0.41273283 0.41273283 0.41273283 0.41273283 0.41273283 0.41273283\n",
      " 0.41273283 0.41273283 0.41273283 0.41273283 0.41273283 0.41273283\n",
      " 0.41273283 0.41273283 0.41273283 0.41273283 0.41273283 0.41273283\n",
      " 0.41273283 0.41273283 0.41273283 0.41273283 0.41273283 0.41273283\n",
      " 0.41273283 0.41273283 0.41273283 0.41273283 0.41273283 0.41273283\n",
      " 0.41273283 0.41273283 0.41273283 0.41273283 0.41273283 0.41273283\n",
      " 0.41273283 0.41273283]\n"
     ]
    }
   ],
   "source": [
    "ratio = likelihood_ratio_pi_l(index,w_2,x_l,x_r,pi_l_2,var,b,tau,gamma,p)\n",
    "print(ratio/(1+ratio))"
   ]
  }
 ],
 "metadata": {
  "kernelspec": {
   "display_name": "Python 3.9.12",
   "language": "python",
   "name": "python3"
  },
  "language_info": {
   "codemirror_mode": {
    "name": "ipython",
    "version": 3
   },
   "file_extension": ".py",
   "mimetype": "text/x-python",
   "name": "python",
   "nbconvert_exporter": "python",
   "pygments_lexer": "ipython3",
   "version": "3.9.12"
  },
  "orig_nbformat": 4,
  "vscode": {
   "interpreter": {
    "hash": "40d3a090f54c6569ab1632332b64b2c03c39dcf918b08424e98f38b5ae0af88f"
   }
  }
 },
 "nbformat": 4,
 "nbformat_minor": 2
}
