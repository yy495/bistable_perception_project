{
 "cells": [
  {
   "cell_type": "code",
   "execution_count": 2,
   "id": "dd0e8e3e",
   "metadata": {},
   "outputs": [],
   "source": [
    "#examine differentiable histogram loss\n",
    "import torch\n",
    "import numpy as np\n",
    "import matplotlib.pyplot as plt"
   ]
  },
  {
   "cell_type": "code",
   "execution_count": 3,
   "id": "93504ba3",
   "metadata": {},
   "outputs": [],
   "source": [
    "f = torch.nn.ReLU()\n",
    "m = torch.nn.Tanh()"
   ]
  },
  {
   "cell_type": "code",
   "execution_count": 4,
   "id": "045d3da8",
   "metadata": {},
   "outputs": [],
   "source": [
    "#define global constant\n",
    "p = 20 #parallel runs\n",
    "N = 5000 #steps per run\n",
    "R = 31 #no. bins + 1\n",
    "delta_t = 1e-3 #discretization of time\n",
    "tau = 0.02 #membrane potential\n",
    "hist_min = -2.0 #histogram range\n",
    "hist_max = 2.0\n",
    "mode_loc = [-1,1] #double mode Gaussian\n",
    "mode_std = 0.2 #std in each mode"
   ]
  },
  {
   "cell_type": "code",
   "execution_count": 5,
   "id": "33d2f68d",
   "metadata": {},
   "outputs": [],
   "source": [
    "def diff_hist_p1(s,N,p,R,hist_min,hist_max):\n",
    "    #R: number of bins\n",
    "    #delta: bin width\n",
    "    #s: sample set (p runs, N samples each run)\n",
    "    #p: parallel runs\n",
    "    delta = (hist_max - hist_min)/(R-1)\n",
    "    s = torch.reshape(s,(p,N,1))\n",
    "    r = torch.linspace(1,R-2,R-2).repeat(p,N,1)\n",
    "    T_r = hist_min + r*delta\n",
    "    T_rm1 = hist_min + r*delta - delta\n",
    "    T_rp1 = hist_min + r*delta + delta\n",
    "    return f(torch.sum(f(s-T_rm1) - 2.0*f(s-T_r) + f(s - T_rp1), axis = 1)/(N*delta))"
   ]
  },
  {
   "cell_type": "code",
   "execution_count": 6,
   "id": "18a1564a",
   "metadata": {},
   "outputs": [],
   "source": [
    "class network1():\n",
    "    def forward(c,w,w_o):\n",
    "        r = torch.randn(12,p)\n",
    "        s = torch.zeros(p,N)\n",
    "        for i in range(N*20):\n",
    "            r = r + delta_t * (-r + m(w@r))/tau+ (2/tau)**0.5*delta_t**0.5*c@torch.randn(12,p)\n",
    "            if i%20 == 0:\n",
    "            #please add sub-sampling here to prevent W from going to unrealisticly large value and generate 1 sample\n",
    "            #per time step\n",
    "                s[:,i//20] = w_o@r\n",
    "        return s\n",
    "    \n",
    "    def kl_loss(s,target_hist):\n",
    "        sim_hist = diff_hist_p1(s,N,p,R,hist_min,hist_max)\n",
    "        #hist_cost = torch.sum(torch.sum(target_hist*torch.log((target_hist + 1e-20)/(sim_hist + 1e-20)),axis = 1))\n",
    "        #hist_cost_2 = torch.sum(torch.sum(sim_hist*torch.log((sim_hist + 1e-20)/(target_hist + 1e-20)),axis = 1))\n",
    "        hist_cost = torch.sum(torch.sum(torch.abs(target_hist - sim_hist)))\n",
    "        out_range_cost = torch.mean(f(hist_min-s)**2 + f(s-hist_max)**2)\n",
    "        #return hist_cost + hist_cost_2 + 1000*out_range_cost\n",
    "        return hist_cost + 1000*out_range_cost"
   ]
  },
  {
   "cell_type": "code",
   "execution_count": 7,
   "id": "ce1ab37d",
   "metadata": {},
   "outputs": [
    {
     "data": {
      "text/plain": [
       "[<matplotlib.lines.Line2D at 0x127d86f10>]"
      ]
     },
     "execution_count": 7,
     "metadata": {},
     "output_type": "execute_result"
    },
    {
     "data": {
      "image/png": "[encoded data removed]",
      "text/plain": [
       "<Figure size 432x288 with 1 Axes>"
      ]
     },
     "metadata": {
      "needs_background": "light"
     },
     "output_type": "display_data"
    }
   ],
   "source": [
    "plt.plot(torch.linspace(-10,10,1000).detach(),f(hist_min-torch.linspace(-10,10,1000)).detach()**2 + f(torch.linspace(-10,10,1000)-hist_max).detach()**2)"
   ]
  },
  {
   "cell_type": "code",
   "execution_count": 7,
   "id": "919e0165",
   "metadata": {},
   "outputs": [
    {
     "data": {
      "text/plain": [
       "'t = np.arange(1,R-1)*(hist_max - hist_min)/(R-1) - hist_max\\ntarget_hist = 1/8**0.5/np.pi**0.5/mode_std*np.exp(-1/2/(mode_std)**2*(t-mode_loc[0])**2) + 1/8**0.5/np.pi**0.5/mode_std*np.exp(-1/2/(mode_std)**2*(t-mode_loc[1])**2)\\ntarget_hist = torch.tensor(target_hist/np.sum(target_hist))'"
      ]
     },
     "execution_count": 7,
     "metadata": {},
     "output_type": "execute_result"
    }
   ],
   "source": [
    "'''t = np.arange(1,R-1)*(hist_max - hist_min)/(R-1) - hist_max\n",
    "target_hist = 1/8**0.5/np.pi**0.5/mode_std*np.exp(-1/2/(mode_std)**2*(t-mode_loc[0])**2) + 1/8**0.5/np.pi**0.5/mode_std*np.exp(-1/2/(mode_std)**2*(t-mode_loc[1])**2)\n",
    "target_hist = torch.tensor(target_hist/np.sum(target_hist))'''"
   ]
  },
  {
   "cell_type": "code",
   "execution_count": 8,
   "id": "6d416cd3",
   "metadata": {},
   "outputs": [],
   "source": [
    "t = np.arange(1,R-1)*(hist_max - hist_min)/(R-1) - hist_max\n",
    "target_hist = np.exp(-5*np.abs(t))\n",
    "target_hist = torch.tensor(target_hist/np.sum(target_hist))"
   ]
  },
  {
   "cell_type": "code",
   "execution_count": 9,
   "id": "f48d3970",
   "metadata": {
    "scrolled": true
   },
   "outputs": [
    {
     "name": "stdout",
     "output_type": "stream",
     "text": [
      "tensor(1.0000, dtype=torch.float64)\n"
     ]
    },
    {
     "data": {
      "image/png": "[encoded data removed]",
      "text/plain": [
       "<Figure size 432x288 with 1 Axes>"
      ]
     },
     "metadata": {
      "needs_background": "light"
     },
     "output_type": "display_data"
    }
   ],
   "source": [
    "plt.plot(target_hist.numpy())\n",
    "print(torch.sum(target_hist))"
   ]
  },
  {
   "cell_type": "code",
   "execution_count": 17,
   "id": "939d13c5",
   "metadata": {},
   "outputs": [
    {
     "data": {
      "text/plain": [
       "tensor(6.5432, dtype=torch.float64)"
      ]
     },
     "execution_count": 17,
     "metadata": {},
     "output_type": "execute_result"
    }
   ],
   "source": [
    "network1.kl_loss(torch.randn(20,5000)*0.2957,target_hist)"
   ]
  },
  {
   "cell_type": "code",
   "execution_count": 16,
   "id": "d4664c66",
   "metadata": {},
   "outputs": [
    {
     "data": {
      "text/plain": [
       "tensor(2.1648, dtype=torch.float64)"
      ]
     },
     "execution_count": 16,
     "metadata": {},
     "output_type": "execute_result"
    }
   ],
   "source": [
    "network1.kl_loss(torch.tensor(np.random.laplace(scale = 0.2, size = (20,5000))),target_hist)"
   ]
  },
  {
   "cell_type": "code",
   "execution_count": 19,
   "id": "a576c779",
   "metadata": {},
   "outputs": [],
   "source": [
    "'''max_eig = True\n",
    "while max_eig:\n",
    "    w = torch.autograd.Variable(torch.randn(8,8),requires_grad = True).float()\n",
    "    if torch.max(torch.real((torch.linalg.eig(w.detach())[0])))<1:\n",
    "        max_eig = False'''\n",
    "\n",
    "w = torch.autograd.Variable(torch.randn(12,12),requires_grad = True).float()\n",
    "\n",
    "c = torch.autograd.Variable(torch.randn(12,12),requires_grad = True).float()\n",
    "w_o = torch.autograd.Variable(torch.randn(1,12),requires_grad = True).float()"
   ]
  },
  {
   "cell_type": "code",
   "execution_count": 41,
   "id": "c554b258",
   "metadata": {
    "scrolled": false
   },
   "outputs": [
    {
     "name": "stdout",
     "output_type": "stream",
     "text": [
      "3.1844563509062755\n",
      "4.771342144771469\n",
      "3.5435268399558533\n",
      "3.215560900195474\n",
      "2.440729392418183\n"
     ]
    }
   ],
   "source": [
    "import sys\n",
    "#loss_list = []\n",
    "L = 0\n",
    "\n",
    "optimizer = torch.optim.Adam([w,c,w_o], 0.01)\n",
    "\n",
    "for v in range(25):\n",
    "    optimizer.zero_grad()\n",
    "    samples = network1.forward(c,w,w_o)\n",
    "    L = network1.kl_loss(samples,target_hist)\n",
    "    \n",
    "    L1 = L.detach().numpy().copy()\n",
    "    if v%5 == 0:\n",
    "        print(L1)\n",
    "    loss_list.append(L1)\n",
    "    \n",
    "    if np.isnan(L1) == True:\n",
    "        print('error')\n",
    "        sys.exit(0)\n",
    "        \n",
    "    L.backward()\n",
    "    optimizer.step()"
   ]
  },
  {
   "cell_type": "code",
   "execution_count": 42,
   "id": "1185b5a3",
   "metadata": {},
   "outputs": [
    {
     "name": "stdout",
     "output_type": "stream",
     "text": [
      "2.298468198963069\n"
     ]
    },
    {
     "data": {
      "image/png": "[encoded data removed]",
      "text/plain": [
       "<Figure size 432x288 with 1 Axes>"
      ]
     },
     "metadata": {
      "needs_background": "light"
     },
     "output_type": "display_data"
    }
   ],
   "source": [
    "plt.plot(loss_list)\n",
    "print(loss_list[-1])"
   ]
  },
  {
   "cell_type": "code",
   "execution_count": 43,
   "id": "0b2193e8",
   "metadata": {},
   "outputs": [],
   "source": [
    "s = network1.forward(c,w,w_o).detach()"
   ]
  },
  {
   "cell_type": "code",
   "execution_count": 44,
   "id": "6a388670",
   "metadata": {},
   "outputs": [
    {
     "data": {
      "text/plain": [
       "torch.Size([20, 5000])"
      ]
     },
     "execution_count": 44,
     "metadata": {},
     "output_type": "execute_result"
    }
   ],
   "source": [
    "s.shape"
   ]
  },
  {
   "cell_type": "code",
   "execution_count": 47,
   "id": "0edf55e1",
   "metadata": {},
   "outputs": [
    {
     "data": {
      "image/png": "[encoded data removed]",
      "text/plain": [
       "<Figure size 432x288 with 1 Axes>"
      ]
     },
     "metadata": {
      "needs_background": "light"
     },
     "output_type": "display_data"
    },
    {
     "name": "stdout",
     "output_type": "stream",
     "text": [
      "tensor(2.2571, dtype=torch.float64)\n"
     ]
    }
   ],
   "source": [
    "plt.plot(diff_hist_p1(s,N,p,R,hist_min,hist_max)[0])\n",
    "plt.plot(diff_hist_p1(torch.randn(20,5000)*0.2623,N,p,R,hist_min,hist_max)[0])\n",
    "plt.plot(target_hist)\n",
    "plt.legend(['sim','normal','exp'])\n",
    "plt.show()\n",
    "print(network1.kl_loss(s,target_hist))"
   ]
  },
  {
   "cell_type": "code",
   "execution_count": 46,
   "id": "89deaf1f",
   "metadata": {},
   "outputs": [
    {
     "data": {
      "text/plain": [
       "tensor(0.2623)"
      ]
     },
     "execution_count": 46,
     "metadata": {},
     "output_type": "execute_result"
    }
   ],
   "source": [
    "torch.std(s)"
   ]
  },
  {
   "cell_type": "code",
   "execution_count": 48,
   "id": "b84766d5",
   "metadata": {},
   "outputs": [],
   "source": [
    "np.savetxt('w',w.detach().numpy())\n",
    "np.savetxt('c',c.detach().numpy())\n",
    "np.savetxt('w_o',w_o.detach().numpy())"
   ]
  },
  {
   "cell_type": "code",
   "execution_count": null,
   "id": "9d68fac6",
   "metadata": {},
   "outputs": [],
   "source": []
  }
 ],
 "metadata": {
  "kernelspec": {
   "display_name": "Python 3 (ipykernel)",
   "language": "python",
   "name": "python3"
  },
  "language_info": {
   "codemirror_mode": {
    "name": "ipython",
    "version": 3
   },
   "file_extension": ".py",
   "mimetype": "text/x-python",
   "name": "python",
   "nbconvert_exporter": "python",
   "pygments_lexer": "ipython3",
   "version": "3.9.12"
  }
 },
 "nbformat": 4,
 "nbformat_minor": 5
}
