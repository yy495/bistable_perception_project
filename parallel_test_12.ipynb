{
 "cells": [
  {
   "cell_type": "code",
   "execution_count": 199,
   "id": "1d6b48e9",
   "metadata": {},
   "outputs": [],
   "source": [
    "import numpy as np\n",
    "import numpy.random as random\n",
    "import matplotlib.pyplot as plt"
   ]
  },
  {
   "cell_type": "code",
   "execution_count": 200,
   "id": "f28815c8",
   "metadata": {},
   "outputs": [],
   "source": [
    "#testing parallel run of shorter simulations for Gershman 2012's model, p is the number of simulations to run in parallel"
   ]
  },
  {
   "cell_type": "code",
   "execution_count": 201,
   "id": "56d8ca07",
   "metadata": {},
   "outputs": [],
   "source": [
    "def p_w_new(index,w,x_l,x_r,pi_l,pi_r,beta,var,b,tau,p):\n",
    "    #index: the index of the weight to be sampled, tuple (i,j)\n",
    "    i,j = index[0],index[1]\n",
    "    s_n = w[:,i,j]*x_l[:,i,j]+(1-w[:,i,j])*x_r[:,i,j]\n",
    "    E_s = (b[:,i,j]-s_n)**2\n",
    "    w_extended = np.concatenate((w[:,:,0].reshape(p,-1,1),w,w[:,:,-1].reshape(p,-1,1)),axis=2)\n",
    "    w_extended = np.concatenate((w_extended[:,0,:].reshape(p,1,-1),w_extended,w_extended[:,-1,:].reshape(p,1,-1)),axis=1)\n",
    "    E_s = E_s + beta*((w_extended[:,i+1,j+1]-w_extended[:,i,j+1])**2+(w_extended[:,i+1,j+1]-w_extended[:,i+1,j])**2)\n",
    "    E_s = E_s + beta*((w_extended[:,i+1,j+1]-w_extended[:,i+2,j+1])**2+(w_extended[:,i+1,j+1]-w_extended[:,i+1,j+2])**2)\n",
    "    E_x = 1/(2*var)*(pi_l[:,i,j]*(x_l[:,i,j]-s_n)**2+pi_r[:,i,j]*(x_r[:,i,j]-s_n)**2)\n",
    "    return np.exp(-tau*(E_x+E_s))"
   ]
  },
  {
   "cell_type": "code",
   "execution_count": 202,
   "id": "37c317af",
   "metadata": {},
   "outputs": [],
   "source": [
    "def p_pi_l_new(index,w,x_l,x_r,pi_l,var,b,tau,gamma,p):\n",
    "    #sparse coefficient alpha TBC\n",
    "    i,j = index[0],index[1]\n",
    "    s_n = w[:,i,j]*x_l[:,i,j]+(1-w[:,i,j])*x_r[:,i,j]\n",
    "    E_xl = 1/(2*var)*pi_l[:,i,j]*(x_l[:,i,j]-s_n)**2\n",
    "    pi_extended = np.concatenate((pi_l[:,:,0].reshape(p,-1,1),pi_l,pi_l[:,:,-1].reshape(p,-1,1)),axis=2)\n",
    "    pi_extended = np.concatenate((pi_extended[:,0,:].reshape(p,1,-1),pi_extended,pi_extended[:,-1,:].reshape(p,1,-1)),axis=1)\n",
    "    #E_pi_l = alpha*(pi_extended[i+2,j+1]+pi_extended[i+1,j+2]+pi_extended[i,j+1]+pi_extended[i+1,j])\n",
    "    '''E_pi_l = E_pi_l + gamma*((pi_extended[:,i+1,j+1]-pi_extended[:,i,j+1])**2+(pi_extended[:i+1,j+1]-pi_extended[:,i+1,j])**2)'''\n",
    "    E_pi_l = gamma*((pi_extended[:,i+1,j+1]-pi_extended[:,i,j+1])**2+(pi_extended[:,i+1,j+1]-pi_extended[:,i+1,j])**2)\n",
    "    E_pi_l = E_pi_l + gamma*((pi_extended[:,i+1,j+1]-pi_extended[:,i+2,j+1])**2+(pi_extended[:,i+1,j+1]-pi_extended[:,i+1,j+2])**2)\n",
    "    return np.exp(-tau*(E_xl+E_pi_l))"
   ]
  },
  {
   "cell_type": "code",
   "execution_count": 203,
   "id": "77a8527c",
   "metadata": {},
   "outputs": [],
   "source": [
    "def p_pi_r_new(index,w,x_l,x_r,pi_r,var,b,tau,gamma,p):\n",
    "    #sparse coefficient alpha TBC\n",
    "    i,j = index[0],index[1]\n",
    "    s_n = w[:,i,j]*x_l[:,i,j]+(1-w[:,i,j])*x_r[:,i,j]\n",
    "    E_xr = 1/(2*var)*pi_r[:,i,j]*(x_r[:,i,j]-s_n)**2\n",
    "    pi_extended = np.concatenate((pi_r[:,:,0].reshape(p,-1,1),pi_r,pi_r[:,:,-1].reshape(p,-1,1)),axis=2)\n",
    "    pi_extended = np.concatenate((pi_extended[:,0,:].reshape(p,1,-1),pi_extended,pi_extended[:,-1,:].reshape(p,1,-1)),axis=1)\n",
    "    #E_pi_l = alpha*(pi_extended[i+2,j+1]+pi_extended[i+1,j+2]+pi_extended[i,j+1]+pi_extended[i+1,j])\n",
    "    '''E_pi_l = E_pi_l + gamma*((pi_extended[:,i+1,j+1]-pi_extended[:,i,j+1])**2+(pi_extended[:i+1,j+1]-pi_extended[:,i+1,j])**2)'''\n",
    "    E_pi_r = gamma*((pi_extended[:,i+1,j+1]-pi_extended[:,i,j+1])**2+(pi_extended[:,i+1,j+1]-pi_extended[:,i+1,j])**2)\n",
    "    E_pi_r = E_pi_r + gamma*((pi_extended[:,i+1,j+1]-pi_extended[:,i+2,j+1])**2+(pi_extended[:,i+1,j+1]-pi_extended[:,i+1,j+2])**2)\n",
    "    return np.exp(-tau*(E_xr+E_pi_r))"
   ]
  },
  {
   "cell_type": "code",
   "execution_count": 204,
   "id": "22f24c22",
   "metadata": {},
   "outputs": [],
   "source": [
    "def proposal_function_new(z, index, p, sigma = 1):\n",
    "    #generate a new proposal from the current sample\n",
    "    #change only one element at a time!\n",
    "    z_star = z.copy()\n",
    "    i,j = index[0],index[1]\n",
    "    z_star[:,i,j] = z_star[:,i,j] + sigma*random.normal(size = (p))\n",
    "    return z_star"
   ]
  },
  {
   "cell_type": "code",
   "execution_count": 205,
   "id": "3c202cd9",
   "metadata": {},
   "outputs": [],
   "source": [
    "def binary_proposal_new(z,index):\n",
    "    #p: the probability of switch, to stablize the system\n",
    "    z_star = z.copy()\n",
    "    z_star[:,index[0],index[1]] = 1-z[:,index[0],index[1]]\n",
    "    return z_star"
   ]
  },
  {
   "cell_type": "code",
   "execution_count": 206,
   "id": "be56e949",
   "metadata": {},
   "outputs": [],
   "source": [
    "def sample_rejection_w_new(index,w,w_star,x_l,x_r,pi_l,pi_r,beta,var,b,tau,p):\n",
    "    p_w_cur = p_w_new(index,w,x_l,x_r,pi_l,pi_r,beta,var,b,tau,p)\n",
    "    p_w_star = p_w_new(index,w_star,x_l,x_r,pi_l,pi_r,beta,var,b,tau,p)\n",
    "    p_acc = p_w_star/p_w_cur\n",
    "    p_ran = random.random(p)\n",
    "    acc = np.sign(p_acc-p_ran).astype('int')\n",
    "    return acc\n",
    "    \n",
    "def sample_rejection_pi_l_new(index,w,x_l,x_r,pi_l,pi_l_star,var,b,tau,gamma,p):\n",
    "    p_pi_l_cur = p_pi_l_new(index,w,x_l,x_r,pi_l,var,b,tau,gamma,p)\n",
    "    p_pi_l_star = p_pi_l_new(index,w,x_l,x_r,pi_l_star,var,b,tau,gamma,p)\n",
    "    p_acc = p_pi_l_star/p_pi_l_cur\n",
    "    p_ran = random.random(p)\n",
    "    acc = np.sign(p_acc-p_ran).astype('int')\n",
    "    return acc\n",
    "    \n",
    "def sample_rejection_pi_r_new(index,w,x_l,x_r,pi_r,pi_r_star,var,b,tau,gamma,p):\n",
    "    p_pi_r_cur = p_pi_r_new(index,w,x_l,x_r,pi_r,var,b,tau,gamma,p)\n",
    "    p_pi_r_star = p_pi_r_new(index,w,x_l,x_r,pi_r_star,var,b,tau,gamma,p)\n",
    "    p_acc = p_pi_r_star/p_pi_r_cur\n",
    "    p_ran = random.random(p)\n",
    "    acc = np.sign(p_acc-p_ran).astype('int')\n",
    "    return acc"
   ]
  },
  {
   "cell_type": "code",
   "execution_count": 207,
   "id": "4bbeb8c7",
   "metadata": {
    "scrolled": true
   },
   "outputs": [],
   "source": [
    "def simulation_new(var,beta,gamma,alpha,tau,b,dim,p,no_sample):\n",
    "    #p: no. parallel sampling sequences\n",
    "    #no. sample: no. samples in each sequence\n",
    "    #dim: dimension of each MRF\n",
    "    sampling_order_i = np.arange(dim)\n",
    "    sampling_order_j = np.arange(dim)\n",
    "\n",
    "    #set initial condition for w, pi_r, pi_l\n",
    "    #set visual input x_r, x_l as conflicting input\n",
    "    x_l = np.ones((p,dim,dim))\n",
    "    x_r = np.zeros((p,dim,dim))\n",
    "    w = random.rand(p,dim,dim)\n",
    "    pi_l = random.randint(0,2,(p,dim,dim))\n",
    "    pi_r = random.randint(0,2,(p,dim,dim))\n",
    "\n",
    "    s = []\n",
    "    for m in range(int(no_sample)):\n",
    "        #order of sweep is randomnized\n",
    "        random.shuffle(sampling_order_i)\n",
    "        random.shuffle(sampling_order_j)\n",
    "        #the following for loop update on pi_l\n",
    "        for i in sampling_order_i:\n",
    "            for j in sampling_order_j:\n",
    "                index = (i,j)\n",
    "                pi_r_star = binary_proposal_new(pi_r, index)\n",
    "                acc_1 = sample_rejection_pi_r_new(index,w,x_l,x_r,pi_r,pi_r_star,var,b,tau,gamma,p)\n",
    "                for j in range(p):\n",
    "                    if acc_1[j] == 1:\n",
    "                        pi_r[j,:,:] = pi_r_star[j,:,:]\n",
    "\n",
    "        #the following for loop update on pi_r\n",
    "        for i in sampling_order_i:\n",
    "            for j in sampling_order_j:\n",
    "                index = (i,j)\n",
    "                pi_l_star = binary_proposal_new(pi_l, index)\n",
    "                acc_2 = sample_rejection_pi_l_new(index,w,x_l,x_r,pi_l,pi_l_star,var,b,tau,gamma,p)\n",
    "                for j in range(p):\n",
    "                    if acc_2[j] == 1:\n",
    "                        pi_l[j,:,:] = pi_l_star[j,:,:]\n",
    "    \n",
    "            #the following for loop update on w\n",
    "            for i in sampling_order_i:\n",
    "                for j in sampling_order_j:\n",
    "                    index = (i,j)\n",
    "                    w_star = proposal_function_new(w, index, p)\n",
    "                    acc_3 = sample_rejection_w_new(index,w,w_star,x_l,x_r,pi_l,pi_r,beta,var,b,tau,p)\n",
    "                    for j in range(p):\n",
    "                        if acc_3[j] == 1:\n",
    "                            w[j,:,:] = w_star[j,:,:]\n",
    "        \n",
    "        s_i = w*x_l+(1-w)*x_r\n",
    "        s.append(s_i)\n",
    "    return s"
   ]
  },
  {
   "cell_type": "code",
   "execution_count": 208,
   "id": "31505182",
   "metadata": {},
   "outputs": [],
   "source": [
    "var,beta,gamma,alpha,tau,b,dim,p,no_sample = 0.0005,15,15,0,1/100,np.zeros((400,5,5)),5,400,5500,\n",
    "s = simulation_new(var,beta,gamma,alpha,tau,b,dim,p,no_sample)"
   ]
  },
  {
   "cell_type": "code",
   "execution_count": 226,
   "id": "e16a6ea5",
   "metadata": {},
   "outputs": [
    {
     "data": {
      "text/plain": [
       "Text(0, 0.5, 'no. nodes > 0.5')"
      ]
     },
     "execution_count": 226,
     "metadata": {},
     "output_type": "execute_result"
    },
    {
     "data": {
      "image/png": "[encoded data removed]",
      "text/plain": [
       "<Figure size 432x288 with 1 Axes>"
      ]
     },
     "metadata": {
      "needs_background": "light"
     },
     "output_type": "display_data"
    }
   ],
   "source": [
    "s = np.array(s)\n",
    "plt.plot(np.array([len(np.where(state>0.5)[0]) for state in s[:,10,:,:]])[2000:2200])\n",
    "plt.axhline(y=2.5,color = 'k')\n",
    "plt.axhline(y=22.5,color = 'k')\n",
    "plt.xlabel('index samples')\n",
    "plt.ylabel('no. nodes > 0.5')"
   ]
  },
  {
   "cell_type": "code",
   "execution_count": 210,
   "id": "8861cdfa",
   "metadata": {},
   "outputs": [
    {
     "data": {
      "text/plain": [
       "(5500, 400, 5, 5)"
      ]
     },
     "execution_count": 210,
     "metadata": {},
     "output_type": "execute_result"
    }
   ],
   "source": [
    "np.array(s).shape"
   ]
  },
  {
   "cell_type": "code",
   "execution_count": 211,
   "id": "abd2a089",
   "metadata": {},
   "outputs": [],
   "source": [
    "def corr(x,y):\n",
    "    return (np.mean(x*y)-np.mean(x)*np.mean(y))/(np.var(x)*np.var(y))**0.5"
   ]
  },
  {
   "cell_type": "code",
   "execution_count": 212,
   "id": "ee9ae3a3",
   "metadata": {},
   "outputs": [],
   "source": [
    "def autocorr(x,y,n):\n",
    "    #x, y: arrays to calculate correlation\n",
    "    #n: cover correlation rxy(0) to rxy(n-1)\n",
    "    rxy = []\n",
    "    for i in range(n):\n",
    "        y_shift = np.concatenate((np.zeros(i),y[:(len(y)-i)]))\n",
    "        rxy.append(corr(x,y_shift))\n",
    "    return np.array(rxy)"
   ]
  },
  {
   "cell_type": "code",
   "execution_count": 213,
   "id": "3d230f05",
   "metadata": {},
   "outputs": [
    {
     "data": {
      "text/plain": [
       "'corr_list = []\\np = 400\\ns = np.array(s)\\nfor i in range(p):\\n    corr_list.append(corr(s[:,0,3,1],s[:,i,3,1]))\\ncorr_list = np.array(corr_list)'"
      ]
     },
     "execution_count": 213,
     "metadata": {},
     "output_type": "execute_result"
    }
   ],
   "source": [
    "'''corr_list = []\n",
    "p = 400\n",
    "s = np.array(s)\n",
    "for i in range(p):\n",
    "    corr_list.append(corr(s[:,0,3,1],s[:,i,3,1]))\n",
    "corr_list = np.array(corr_list)'''"
   ]
  },
  {
   "cell_type": "code",
   "execution_count": 214,
   "id": "a57e75b1",
   "metadata": {},
   "outputs": [
    {
     "data": {
      "text/plain": [
       "\"plt.plot(np.arange(400),corr_list)\\nplt.xlabel('no. sampling sequence')\\nplt.ylabel('correlation')\\nplt.title('correlation between sampling sequence 0 and other sequences')\\nprint(np.max(corr_list[1:]))\""
      ]
     },
     "execution_count": 214,
     "metadata": {},
     "output_type": "execute_result"
    }
   ],
   "source": [
    "'''plt.plot(np.arange(400),corr_list)\n",
    "plt.xlabel('no. sampling sequence')\n",
    "plt.ylabel('correlation')\n",
    "plt.title('correlation between sampling sequence 0 and other sequences')\n",
    "print(np.max(corr_list[1:]))'''"
   ]
  },
  {
   "cell_type": "code",
   "execution_count": 215,
   "id": "d912a9a7",
   "metadata": {},
   "outputs": [
    {
     "data": {
      "text/plain": [
       "'autocorr_s = autocorr(s[:,0,2,1],s[:,0,2,1],100)\\nfor i in range(1,400):\\n    autocorr_s = autocorr_s + autocorr(s[:,i,2,1],s[:,i,2,1],100)\\nautocorr_s = autocorr_s/400'"
      ]
     },
     "execution_count": 215,
     "metadata": {},
     "output_type": "execute_result"
    }
   ],
   "source": [
    "'''autocorr_s = autocorr(s[:,0,2,1],s[:,0,2,1],100)\n",
    "for i in range(1,400):\n",
    "    autocorr_s = autocorr_s + autocorr(s[:,i,2,1],s[:,i,2,1],100)\n",
    "autocorr_s = autocorr_s/400'''"
   ]
  },
  {
   "cell_type": "code",
   "execution_count": 216,
   "id": "d3de7a4c",
   "metadata": {},
   "outputs": [
    {
     "data": {
      "text/plain": [
       "\"plt.plot(autocorr_s)\\nplt.xlabel('discrete time (no.step)')\\nplt.ylabel('correlation')\\nplt.title('autocorrelogram')\\nplt.axhline(y=0.05, color='r', linestyle='-')\\nfor i in range(len(autocorr_s)):\\n    if autocorr_s[i]<0.05:\\n        print(i)\\n        break\""
      ]
     },
     "execution_count": 216,
     "metadata": {},
     "output_type": "execute_result"
    }
   ],
   "source": [
    "'''plt.plot(autocorr_s)\n",
    "plt.xlabel('discrete time (no.step)')\n",
    "plt.ylabel('correlation')\n",
    "plt.title('autocorrelogram')\n",
    "plt.axhline(y=0.05, color='r', linestyle='-')\n",
    "for i in range(len(autocorr_s)):\n",
    "    if autocorr_s[i]<0.05:\n",
    "        print(i)\n",
    "        break'''"
   ]
  },
  {
   "cell_type": "code",
   "execution_count": 217,
   "id": "8780e171",
   "metadata": {},
   "outputs": [],
   "source": [
    "#from node's state to the no. node > 0 in each step\n",
    "state_no_array = []\n",
    "for i in range(p):\n",
    "    state_no_array_i = []\n",
    "    for j in range(no_sample):\n",
    "        state_no_array_i.append(len(np.where(s[j,i,:,:]>0.5)[0]))\n",
    "    state_no_array.append(state_no_array_i)\n",
    "state_no_array = np.array(state_no_array)"
   ]
  },
  {
   "cell_type": "code",
   "execution_count": 218,
   "id": "007a7f51",
   "metadata": {},
   "outputs": [
    {
     "data": {
      "text/plain": [
       "11.70816409090909"
      ]
     },
     "execution_count": 218,
     "metadata": {},
     "output_type": "execute_result"
    },
    {
     "data": {
      "image/png": "[encoded data removed]",
      "text/plain": [
       "<Figure size 432x288 with 1 Axes>"
      ]
     },
     "metadata": {
      "needs_background": "light"
     },
     "output_type": "display_data"
    }
   ],
   "source": [
    "plt.plot(state_no_array[30,2000:3000])\n",
    "np.mean(state_no_array)"
   ]
  },
  {
   "cell_type": "code",
   "execution_count": 219,
   "id": "daa52eb9",
   "metadata": {},
   "outputs": [],
   "source": [
    "def domi_period_count(state_list_input,dim):\n",
    "    cross_list = []\n",
    "    #element in cross list: (index,cross_type)\n",
    "    #cross type = 1: upper bound going up\n",
    "    #cross type = 2: lower bound going down\n",
    "    for i in range(1,len(state_list_input)):\n",
    "        if state_list_input[i-1]>2.5 and state_list_input[i]<2.5:\n",
    "            cross_list.append((i,2))\n",
    "        elif state_list_input[i-1]<22.5 and state_list_input[i]>22.5:\n",
    "            cross_list.append((i,1))\n",
    "    switch_list = [cross_list[0]]\n",
    "    cross = cross_list[0][1]\n",
    "    for i in range(1,len(cross_list)):\n",
    "        if cross_list[i][1] != cross:\n",
    "            cross = cross_list[i][1]\n",
    "            switch_list.append(cross_list[i])\n",
    "    domi_list =[]\n",
    "    for i in range(1,len(switch_list)):\n",
    "        domi_list.append(switch_list[i][0]-switch_list[i-1][0])\n",
    "    return domi_list\n",
    "\n",
    "def hist_plot(x,n):\n",
    "    plt.hist(x,n)\n",
    "    return np.mean(x),np.std(x)"
   ]
  },
  {
   "cell_type": "code",
   "execution_count": 220,
   "id": "2c5ab1e6",
   "metadata": {},
   "outputs": [],
   "source": [
    "domi_list = []\n",
    "for state_list_i in state_no_array:\n",
    "    domi_list = domi_list + domi_period_count(state_list_i,5)"
   ]
  },
  {
   "cell_type": "code",
   "execution_count": 221,
   "id": "139fa857",
   "metadata": {},
   "outputs": [
    {
     "data": {
      "text/plain": [
       "(157.4206530686911, 124.12642092842081)"
      ]
     },
     "execution_count": 221,
     "metadata": {},
     "output_type": "execute_result"
    },
    {
     "data": {
      "image/png": "[encoded data removed]",
      "text/plain": [
       "<Figure size 432x288 with 1 Axes>"
      ]
     },
     "metadata": {
      "needs_background": "light"
     },
     "output_type": "display_data"
    }
   ],
   "source": [
    "domi_list = np.array(domi_list)\n",
    "domi_list = np.sort(domi_list)[:-500]\n",
    "domi_list.shape\n",
    "hist_plot(domi_list,50)"
   ]
  },
  {
   "cell_type": "code",
   "execution_count": 227,
   "id": "e030cd0f",
   "metadata": {},
   "outputs": [
    {
     "name": "stdout",
     "output_type": "stream",
     "text": [
      "[1.54772584 0.60183144 2.40389176]\n"
     ]
    },
    {
     "data": {
      "image/png": "[encoded data removed]",
      "text/plain": [
       "<Figure size 432x288 with 1 Axes>"
      ]
     },
     "metadata": {
      "needs_background": "light"
     },
     "output_type": "display_data"
    }
   ],
   "source": [
    "from scipy.optimize import curve_fit\n",
    "y,bins=np.histogram(domi_list/np.mean(domi_list),40,density=True)\n",
    "x = []\n",
    "for i in range(1,41):\n",
    "    x.append((bins[i]+bins[i-1])/2)\n",
    "x=np.array(x)\n",
    "\n",
    "def gamma(x,a,b,c):\n",
    "    return c*np.exp(-b**-1*x)*x**(a-1)\n",
    "\n",
    "popt,pcov = curve_fit(gamma,x,y)\n",
    "\n",
    "plt.plot(x,gamma(x,popt[0],popt[1],popt[2]))\n",
    "plt.hist(domi_list/np.mean(domi_list),40,density=True)\n",
    "\n",
    "plt.xlabel('dominance duration')\n",
    "plt.ylabel('density')\n",
    "plt.legend(['fitted, alphha = 1.54, beta = 0.60','histogram'])\n",
    "\n",
    "print(popt)"
   ]
  },
  {
   "cell_type": "code",
   "execution_count": 223,
   "id": "1e9f4373",
   "metadata": {},
   "outputs": [
    {
     "data": {
      "text/plain": [
       "(0.38831200172125224, 1.325319093448356)"
      ]
     },
     "execution_count": 223,
     "metadata": {},
     "output_type": "execute_result"
    },
    {
     "data": {
      "image/png": "[encoded data removed]",
      "text/plain": [
       "<Figure size 432x288 with 1 Axes>"
      ]
     },
     "metadata": {
      "needs_background": "light"
     },
     "output_type": "display_data"
    }
   ],
   "source": [
    "hist_plot(s.reshape(-1),600)"
   ]
  }
 ],
 "metadata": {
  "kernelspec": {
   "display_name": "Python 3.9.12",
   "language": "python",
   "name": "python3"
  },
  "language_info": {
   "codemirror_mode": {
    "name": "ipython",
    "version": 3
   },
   "file_extension": ".py",
   "mimetype": "text/x-python",
   "name": "python",
   "nbconvert_exporter": "python",
   "pygments_lexer": "ipython3",
   "version": "3.9.12"
  },
  "vscode": {
   "interpreter": {
    "hash": "40d3a090f54c6569ab1632332b64b2c03c39dcf918b08424e98f38b5ae0af88f"
   }
  }
 },
 "nbformat": 4,
 "nbformat_minor": 5
}
