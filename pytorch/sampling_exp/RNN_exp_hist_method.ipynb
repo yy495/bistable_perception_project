{
 "cells": [
  {
   "cell_type": "code",
   "execution_count": 1,
   "id": "dd0e8e3e",
   "metadata": {},
   "outputs": [],
   "source": [
    "#examine differentiable histogram loss\n",
    "import torch\n",
    "import numpy as np\n",
    "import matplotlib.pyplot as plt"
   ]
  },
  {
   "cell_type": "code",
   "execution_count": 2,
   "id": "93504ba3",
   "metadata": {},
   "outputs": [],
   "source": [
    "f = torch.nn.ReLU()\n",
    "m = torch.nn.Tanh()"
   ]
  },
  {
   "cell_type": "code",
   "execution_count": 3,
   "id": "045d3da8",
   "metadata": {},
   "outputs": [],
   "source": [
    "#define global constant\n",
    "p = 20 #parallel runs\n",
    "N = 5000 #steps per run\n",
    "R = 31 #no. bins + 1\n",
    "delta_t = 1e-3 #discretization of time\n",
    "tau = 0.02 #membrane potential\n",
    "hist_min = -2.0 #histogram range\n",
    "hist_max = 2.0"
   ]
  },
  {
   "cell_type": "code",
   "execution_count": 4,
   "id": "33d2f68d",
   "metadata": {},
   "outputs": [],
   "source": [
    "def diff_hist_p1(s,N,p,R,hist_min,hist_max):\n",
    "    #R: number of bins\n",
    "    #delta: bin width\n",
    "    #s: sample set (p runs, N samples each run)\n",
    "    #p: parallel runs\n",
    "    delta = (hist_max - hist_min)/(R-1)\n",
    "    s = torch.reshape(s,(p,N,1))\n",
    "    r = torch.linspace(1,R-2,R-2).repeat(p,N,1)\n",
    "    T_r = hist_min + r*delta\n",
    "    T_rm1 = hist_min + r*delta - delta\n",
    "    T_rp1 = hist_min + r*delta + delta\n",
    "    return f(torch.sum(f(s-T_rm1) - 2.0*f(s-T_r) + f(s - T_rp1), axis = 1)/(N*delta))"
   ]
  },
  {
   "cell_type": "code",
   "execution_count": 5,
   "id": "18a1564a",
   "metadata": {},
   "outputs": [],
   "source": [
    "class network1():\n",
    "    def forward(c,w,w_o):\n",
    "        r = torch.randn(12,p)\n",
    "        s = torch.zeros(p,N)\n",
    "        for i in range(N*20):\n",
    "            r = r + delta_t * (-r + m(w@r))/tau+ (2/tau)**0.5*delta_t**0.5*c@torch.randn(12,p)\n",
    "            if i%20 == 0:\n",
    "            #please add sub-sampling here to prevent W from going to unrealisticly large value and generate 1 sample\n",
    "            #per time step\n",
    "                s[:,i//20] = w_o@r\n",
    "        return s\n",
    "    \n",
    "    def kl_loss(s,target_hist):\n",
    "        sim_hist = diff_hist_p1(s,N,p,R,hist_min,hist_max)\n",
    "        #hist_cost = torch.sum(torch.sum(target_hist*torch.log((target_hist + 1e-20)/(sim_hist + 1e-20)),axis = 1))\n",
    "        #hist_cost_2 = torch.sum(torch.sum(sim_hist*torch.log((sim_hist + 1e-20)/(target_hist + 1e-20)),axis = 1))\n",
    "        hist_cost = torch.sum(torch.sum(torch.abs(target_hist - sim_hist)))\n",
    "        out_range_cost = torch.mean(f(hist_min-s)**2 + f(s-hist_max)**2)\n",
    "        #return hist_cost + hist_cost_2 + 1000*out_range_cost\n",
    "        return hist_cost + 1000*out_range_cost"
   ]
  },
  {
   "cell_type": "code",
   "execution_count": 6,
   "id": "ce1ab37d",
   "metadata": {},
   "outputs": [
    {
     "data": {
      "text/plain": [
       "[<matplotlib.lines.Line2D at 0x1203dde20>]"
      ]
     },
     "execution_count": 6,
     "metadata": {},
     "output_type": "execute_result"
    },
    {
     "data": {
      "image/png": "[encoded data removed]",
      "text/plain": [
       "<Figure size 432x288 with 1 Axes>"
      ]
     },
     "metadata": {
      "needs_background": "light"
     },
     "output_type": "display_data"
    }
   ],
   "source": [
    "plt.plot(torch.linspace(-10,10,1000).detach(),f(hist_min-torch.linspace(-10,10,1000)).detach()**2 + f(torch.linspace(-10,10,1000)-hist_max).detach()**2)"
   ]
  },
  {
   "cell_type": "code",
   "execution_count": 7,
   "id": "919e0165",
   "metadata": {},
   "outputs": [
    {
     "data": {
      "text/plain": [
       "'t = np.arange(1,R-1)*(hist_max - hist_min)/(R-1) - hist_max\\ntarget_hist = 1/8**0.5/np.pi**0.5/mode_std*np.exp(-1/2/(mode_std)**2*(t-mode_loc[0])**2) + 1/8**0.5/np.pi**0.5/mode_std*np.exp(-1/2/(mode_std)**2*(t-mode_loc[1])**2)\\ntarget_hist = torch.tensor(target_hist/np.sum(target_hist))'"
      ]
     },
     "execution_count": 7,
     "metadata": {},
     "output_type": "execute_result"
    }
   ],
   "source": [
    "'''t = np.arange(1,R-1)*(hist_max - hist_min)/(R-1) - hist_max\n",
    "target_hist = 1/8**0.5/np.pi**0.5/mode_std*np.exp(-1/2/(mode_std)**2*(t-mode_loc[0])**2) + 1/8**0.5/np.pi**0.5/mode_std*np.exp(-1/2/(mode_std)**2*(t-mode_loc[1])**2)\n",
    "target_hist = torch.tensor(target_hist/np.sum(target_hist))'''"
   ]
  },
  {
   "cell_type": "code",
   "execution_count": 7,
   "id": "6d416cd3",
   "metadata": {},
   "outputs": [],
   "source": [
    "t = np.arange(1,R-1)*(hist_max - hist_min)/(R-1) - hist_max\n",
    "target_hist = np.exp(-5*np.abs(t))\n",
    "target_hist = torch.tensor(target_hist/np.sum(target_hist))"
   ]
  },
  {
   "cell_type": "code",
   "execution_count": 8,
   "id": "f48d3970",
   "metadata": {
    "scrolled": true
   },
   "outputs": [
    {
     "name": "stdout",
     "output_type": "stream",
     "text": [
      "tensor(1.0000, dtype=torch.float64)\n"
     ]
    },
    {
     "data": {
      "image/png": "[encoded data removed]",
      "text/plain": [
       "<Figure size 432x288 with 1 Axes>"
      ]
     },
     "metadata": {
      "needs_background": "light"
     },
     "output_type": "display_data"
    }
   ],
   "source": [
    "plt.plot(target_hist.numpy())\n",
    "print(torch.sum(target_hist))"
   ]
  },
  {
   "cell_type": "code",
   "execution_count": 9,
   "id": "939d13c5",
   "metadata": {},
   "outputs": [
    {
     "data": {
      "text/plain": [
       "tensor(6.4926, dtype=torch.float64)"
      ]
     },
     "execution_count": 9,
     "metadata": {},
     "output_type": "execute_result"
    }
   ],
   "source": [
    "network1.kl_loss(torch.randn(20,5000)*0.2957,target_hist)"
   ]
  },
  {
   "cell_type": "code",
   "execution_count": 10,
   "id": "1f8f2987",
   "metadata": {},
   "outputs": [
    {
     "data": {
      "text/plain": [
       "tensor(2.1976, dtype=torch.float64)"
      ]
     },
     "execution_count": 10,
     "metadata": {},
     "output_type": "execute_result"
    }
   ],
   "source": [
    "network1.kl_loss(torch.tensor(np.random.laplace(scale = 0.2, size = (20,5000))),target_hist)"
   ]
  },
  {
   "cell_type": "code",
   "execution_count": 11,
   "id": "a576c779",
   "metadata": {},
   "outputs": [],
   "source": [
    "'''max_eig = True\n",
    "while max_eig:\n",
    "    w = torch.autograd.Variable(torch.randn(8,8),requires_grad = True).float()\n",
    "    if torch.max(torch.real((torch.linalg.eig(w.detach())[0])))<1:\n",
    "        max_eig = False'''\n",
    "\n",
    "w = torch.autograd.Variable(torch.randn(12,12),requires_grad = True).float()\n",
    "\n",
    "c = torch.autograd.Variable(torch.randn(12,12),requires_grad = True).float()\n",
    "w_o = torch.autograd.Variable(torch.randn(1,12),requires_grad = True).float()"
   ]
  },
  {
   "cell_type": "code",
   "execution_count": 12,
   "id": "c554b258",
   "metadata": {
    "scrolled": false
   },
   "outputs": [
    {
     "name": "stdout",
     "output_type": "stream",
     "text": [
      "69868.1940221365\n",
      "26205.54134312229\n",
      "8979.15190950687\n",
      "3083.562162136023\n",
      "981.4050621826082\n",
      "304.982583397034\n",
      "124.42681884669081\n",
      "71.01048024181591\n",
      "49.8154782456936\n",
      "38.43023550086216\n",
      "31.717464304409727\n",
      "27.47489843067543\n",
      "25.68444647541873\n",
      "24.493205181411167\n",
      "23.49154088868858\n",
      "23.055888802642986\n",
      "22.423990407391504\n",
      "22.34812785209255\n",
      "22.146805980606988\n",
      "22.00459359389828\n",
      "21.677317296984658\n",
      "17.16680514310469\n",
      "13.822579099036632\n",
      "10.865885619848477\n",
      "7.767176849288225\n",
      "5.751099019067574\n",
      "5.237748216496321\n",
      "4.984730196688626\n",
      "4.781982414275928\n",
      "4.643869238783944\n",
      "4.471908368023351\n",
      "4.051668436649075\n",
      "3.8725873117335983\n",
      "3.6878016817407744\n",
      "3.437730957730511\n",
      "3.2603228506043385\n",
      "3.047720706427987\n",
      "3.0732953636390077\n",
      "2.8282316209342966\n",
      "2.6533733707595992\n",
      "2.4696424373289467\n",
      "2.3552285633716474\n",
      "2.2732123857705315\n",
      "2.2008347923139384\n",
      "2.133453341938585\n",
      "2.0773263979639642\n",
      "1.932760407170456\n",
      "1.8226014707439573\n",
      "1.7606404088593157\n"
     ]
    },
    {
     "ename": "KeyboardInterrupt",
     "evalue": "",
     "output_type": "error",
     "traceback": [
      "\u001b[0;31m---------------------------------------------------------------------------\u001b[0m",
      "\u001b[0;31mKeyboardInterrupt\u001b[0m                         Traceback (most recent call last)",
      "\u001b[0;32m/var/folders/04/wzq37d2s3bv87g77m67thbk80000gn/T/ipykernel_3338/1996943845.py\u001b[0m in \u001b[0;36m<module>\u001b[0;34m\u001b[0m\n\u001b[1;32m     26\u001b[0m \u001b[0;32mfor\u001b[0m \u001b[0mv\u001b[0m \u001b[0;32min\u001b[0m \u001b[0mrange\u001b[0m\u001b[0;34m(\u001b[0m\u001b[0;36m150\u001b[0m\u001b[0;34m)\u001b[0m\u001b[0;34m:\u001b[0m\u001b[0;34m\u001b[0m\u001b[0;34m\u001b[0m\u001b[0m\n\u001b[1;32m     27\u001b[0m     \u001b[0moptimizer\u001b[0m\u001b[0;34m.\u001b[0m\u001b[0mzero_grad\u001b[0m\u001b[0;34m(\u001b[0m\u001b[0;34m)\u001b[0m\u001b[0;34m\u001b[0m\u001b[0;34m\u001b[0m\u001b[0m\n\u001b[0;32m---> 28\u001b[0;31m     \u001b[0msamples\u001b[0m \u001b[0;34m=\u001b[0m \u001b[0mnetwork1\u001b[0m\u001b[0;34m.\u001b[0m\u001b[0mforward\u001b[0m\u001b[0;34m(\u001b[0m\u001b[0mc\u001b[0m\u001b[0;34m,\u001b[0m\u001b[0mw\u001b[0m\u001b[0;34m,\u001b[0m\u001b[0mw_o\u001b[0m\u001b[0;34m)\u001b[0m\u001b[0;34m\u001b[0m\u001b[0;34m\u001b[0m\u001b[0m\n\u001b[0m\u001b[1;32m     29\u001b[0m     \u001b[0mL\u001b[0m \u001b[0;34m=\u001b[0m \u001b[0mnetwork1\u001b[0m\u001b[0;34m.\u001b[0m\u001b[0mkl_loss\u001b[0m\u001b[0;34m(\u001b[0m\u001b[0msamples\u001b[0m\u001b[0;34m,\u001b[0m\u001b[0mtarget_hist\u001b[0m\u001b[0;34m)\u001b[0m\u001b[0;34m\u001b[0m\u001b[0;34m\u001b[0m\u001b[0m\n\u001b[1;32m     30\u001b[0m \u001b[0;34m\u001b[0m\u001b[0m\n",
      "\u001b[0;32m/var/folders/04/wzq37d2s3bv87g77m67thbk80000gn/T/ipykernel_3338/3842149537.py\u001b[0m in \u001b[0;36mforward\u001b[0;34m(c, w, w_o)\u001b[0m\n\u001b[1;32m      4\u001b[0m         \u001b[0ms\u001b[0m \u001b[0;34m=\u001b[0m \u001b[0mtorch\u001b[0m\u001b[0;34m.\u001b[0m\u001b[0mzeros\u001b[0m\u001b[0;34m(\u001b[0m\u001b[0mp\u001b[0m\u001b[0;34m,\u001b[0m\u001b[0mN\u001b[0m\u001b[0;34m)\u001b[0m\u001b[0;34m\u001b[0m\u001b[0;34m\u001b[0m\u001b[0m\n\u001b[1;32m      5\u001b[0m         \u001b[0;32mfor\u001b[0m \u001b[0mi\u001b[0m \u001b[0;32min\u001b[0m \u001b[0mrange\u001b[0m\u001b[0;34m(\u001b[0m\u001b[0mN\u001b[0m\u001b[0;34m*\u001b[0m\u001b[0;36m20\u001b[0m\u001b[0;34m)\u001b[0m\u001b[0;34m:\u001b[0m\u001b[0;34m\u001b[0m\u001b[0;34m\u001b[0m\u001b[0m\n\u001b[0;32m----> 6\u001b[0;31m             \u001b[0mr\u001b[0m \u001b[0;34m=\u001b[0m \u001b[0mr\u001b[0m \u001b[0;34m+\u001b[0m \u001b[0mdelta_t\u001b[0m \u001b[0;34m*\u001b[0m \u001b[0;34m(\u001b[0m\u001b[0;34m-\u001b[0m\u001b[0mr\u001b[0m \u001b[0;34m+\u001b[0m \u001b[0mm\u001b[0m\u001b[0;34m(\u001b[0m\u001b[0mw\u001b[0m\u001b[0;34m@\u001b[0m\u001b[0mr\u001b[0m\u001b[0;34m)\u001b[0m\u001b[0;34m)\u001b[0m\u001b[0;34m/\u001b[0m\u001b[0mtau\u001b[0m\u001b[0;34m+\u001b[0m \u001b[0;34m(\u001b[0m\u001b[0;36m2\u001b[0m\u001b[0;34m/\u001b[0m\u001b[0mtau\u001b[0m\u001b[0;34m)\u001b[0m\u001b[0;34m**\u001b[0m\u001b[0;36m0.5\u001b[0m\u001b[0;34m*\u001b[0m\u001b[0mdelta_t\u001b[0m\u001b[0;34m**\u001b[0m\u001b[0;36m0.5\u001b[0m\u001b[0;34m*\u001b[0m\u001b[0mc\u001b[0m\u001b[0;34m@\u001b[0m\u001b[0mtorch\u001b[0m\u001b[0;34m.\u001b[0m\u001b[0mrandn\u001b[0m\u001b[0;34m(\u001b[0m\u001b[0;36m12\u001b[0m\u001b[0;34m,\u001b[0m\u001b[0mp\u001b[0m\u001b[0;34m)\u001b[0m\u001b[0;34m\u001b[0m\u001b[0;34m\u001b[0m\u001b[0m\n\u001b[0m\u001b[1;32m      7\u001b[0m             \u001b[0;32mif\u001b[0m \u001b[0mi\u001b[0m\u001b[0;34m%\u001b[0m\u001b[0;36m20\u001b[0m \u001b[0;34m==\u001b[0m \u001b[0;36m0\u001b[0m\u001b[0;34m:\u001b[0m\u001b[0;34m\u001b[0m\u001b[0;34m\u001b[0m\u001b[0m\n\u001b[1;32m      8\u001b[0m             \u001b[0;31m#please add sub-sampling here to prevent W from going to unrealisticly large value and generate 1 sample\u001b[0m\u001b[0;34m\u001b[0m\u001b[0;34m\u001b[0m\u001b[0m\n",
      "\u001b[0;31mKeyboardInterrupt\u001b[0m: "
     ]
    }
   ],
   "source": [
    "import sys\n",
    "loss_list = []\n",
    "L = 0\n",
    "\n",
    "optimizer = torch.optim.Adam([w,c,w_o], 0.02)\n",
    "\n",
    "for v in range(100):\n",
    "    optimizer.zero_grad()\n",
    "    samples = network1.forward(c,w,w_o)\n",
    "    L = network1.kl_loss(samples,target_hist)\n",
    "    \n",
    "    L1 = L.detach().numpy().copy()\n",
    "    if v%5 == 0:\n",
    "        print(L1)\n",
    "    loss_list.append(L1)\n",
    "    \n",
    "    if np.isnan(L1) == True:\n",
    "        print('error')\n",
    "        sys.exit(0)\n",
    "        \n",
    "    L.backward()\n",
    "    optimizer.step()\n",
    "\n",
    "optimizer = torch.optim.Adam([w,c,w_o], 0.01) \n",
    "    \n",
    "for v in range(150):\n",
    "    optimizer.zero_grad()\n",
    "    samples = network1.forward(c,w,w_o)\n",
    "    L = network1.kl_loss(samples,target_hist)\n",
    "    \n",
    "    L1 = L.detach().numpy().copy()\n",
    "    if v%5 == 0:\n",
    "        print(L1)\n",
    "    loss_list.append(L1)\n",
    "    \n",
    "    if np.isnan(L1) == True:\n",
    "        print('error')\n",
    "        sys.exit(0)\n",
    "        \n",
    "    L.backward()\n",
    "    optimizer.step()"
   ]
  },
  {
   "cell_type": "code",
   "execution_count": 14,
   "id": "963a8725",
   "metadata": {},
   "outputs": [
    {
     "name": "stdout",
     "output_type": "stream",
     "text": [
      "1.734088354410819\n",
      "243\n"
     ]
    },
    {
     "data": {
      "image/png": "[encoded data removed]",
      "text/plain": [
       "<Figure size 432x288 with 1 Axes>"
      ]
     },
     "metadata": {
      "needs_background": "light"
     },
     "output_type": "display_data"
    }
   ],
   "source": [
    "plt.plot(loss_list)\n",
    "print(loss_list[-1])\n",
    "print(len(loss_list))"
   ]
  },
  {
   "cell_type": "code",
   "execution_count": 15,
   "id": "c0abf9b2",
   "metadata": {},
   "outputs": [],
   "source": [
    "s = network1.forward(c,w,w_o).detach()"
   ]
  },
  {
   "cell_type": "code",
   "execution_count": 16,
   "id": "03b59554",
   "metadata": {},
   "outputs": [
    {
     "data": {
      "text/plain": [
       "torch.Size([20, 5000])"
      ]
     },
     "execution_count": 16,
     "metadata": {},
     "output_type": "execute_result"
    }
   ],
   "source": [
    "s.shape"
   ]
  },
  {
   "cell_type": "code",
   "execution_count": 19,
   "id": "b41c88f1",
   "metadata": {},
   "outputs": [
    {
     "data": {
      "image/png": "[encoded data removed]",
      "text/plain": [
       "<Figure size 432x288 with 1 Axes>"
      ]
     },
     "metadata": {
      "needs_background": "light"
     },
     "output_type": "display_data"
    },
    {
     "name": "stdout",
     "output_type": "stream",
     "text": [
      "tensor(1.7797, dtype=torch.float64)\n"
     ]
    }
   ],
   "source": [
    "plt.plot(diff_hist_p1(s,N,p,R,hist_min,hist_max)[0])\n",
    "plt.plot(diff_hist_p1(torch.randn(20,5000)*0.2530,N,p,R,hist_min,hist_max)[0])\n",
    "plt.plot(target_hist)\n",
    "plt.legend(['sim','normal','exp'])\n",
    "plt.show()\n",
    "print(network1.kl_loss(s,target_hist))"
   ]
  },
  {
   "cell_type": "code",
   "execution_count": 18,
   "id": "d48cebfe",
   "metadata": {},
   "outputs": [
    {
     "data": {
      "text/plain": [
       "tensor(0.2530)"
      ]
     },
     "execution_count": 18,
     "metadata": {},
     "output_type": "execute_result"
    }
   ],
   "source": [
    "torch.std(s)"
   ]
  },
  {
   "cell_type": "code",
   "execution_count": 20,
   "id": "137989c9",
   "metadata": {},
   "outputs": [],
   "source": [
    "np.savetxt('w',w.detach().numpy())\n",
    "np.savetxt('c',c.detach().numpy())\n",
    "np.savetxt('w_o',w_o.detach().numpy())"
   ]
  },
  {
   "cell_type": "code",
   "execution_count": 22,
   "id": "f8d6f2e5",
   "metadata": {},
   "outputs": [
    {
     "data": {
      "text/plain": [
       "tensor([[-0.5501, -0.0183,  0.2031,  0.1055,  0.0929,  0.5408,  0.3013, -0.1819,\n",
       "          0.4251,  0.0963, -0.1693, -0.2170]], requires_grad=True)"
      ]
     },
     "execution_count": 22,
     "metadata": {},
     "output_type": "execute_result"
    }
   ],
   "source": [
    "w_o"
   ]
  },
  {
   "cell_type": "code",
   "execution_count": 23,
   "id": "94dd9458",
   "metadata": {},
   "outputs": [],
   "source": [
    "import pickle\n",
    "pickle.dump([w.detach().numpy(),c.detach().numpy(),w_o.detach().numpy()], open(\"exp.p\", \"wb\"))"
   ]
  }
 ],
 "metadata": {
  "kernelspec": {
   "display_name": "Python 3 (ipykernel)",
   "language": "python",
   "name": "python3"
  },
  "language_info": {
   "codemirror_mode": {
    "name": "ipython",
    "version": 3
   },
   "file_extension": ".py",
   "mimetype": "text/x-python",
   "name": "python",
   "nbconvert_exporter": "python",
   "pygments_lexer": "ipython3",
   "version": "3.9.12"
  }
 },
 "nbformat": 4,
 "nbformat_minor": 5
}
