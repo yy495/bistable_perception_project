{
 "cells": [
  {
   "cell_type": "code",
   "execution_count": 93,
   "id": "1d6b48e9",
   "metadata": {},
   "outputs": [],
   "source": [
    "import numpy as np\n",
    "import numpy.random as random\n",
    "import matplotlib.pyplot as plt"
   ]
  },
  {
   "cell_type": "code",
   "execution_count": 94,
   "id": "f28815c8",
   "metadata": {},
   "outputs": [],
   "source": [
    "#testing parallel run of shorter simulations for Gershman 2012's model, p is the number of simulations to run in parallel\n",
    "#p(pi_l,pi_r=0)=0"
   ]
  },
  {
   "cell_type": "code",
   "execution_count": 95,
   "id": "56d8ca07",
   "metadata": {},
   "outputs": [],
   "source": [
    "def p_w_new(index,w,x_l,x_r,pi_l,pi_r,beta,var_l,var_r,b,tau,p):\n",
    "    #index: the index of the weight to be sampled, tuple (i,j)\n",
    "    #var_1: right mode; var_0: left mode\n",
    "    i,j = index[0],index[1]\n",
    "    s_n = w[:,i,j]*x_l[:,i,j]+(1-w[:,i,j])*x_r[:,i,j]\n",
    "    E_s = (b[:,i,j]-s_n)**2\n",
    "    w_extended = np.concatenate((w[:,:,0].reshape(p,-1,1),w,w[:,:,-1].reshape(p,-1,1)),axis=2)\n",
    "    w_extended = np.concatenate((w_extended[:,0,:].reshape(p,1,-1),w_extended,w_extended[:,-1,:].reshape(p,1,-1)),axis=1)\n",
    "    E_s = E_s + beta*((w_extended[:,i+1,j+1]-w_extended[:,i,j+1])**2+(w_extended[:,i+1,j+1]-w_extended[:,i+1,j])**2)\n",
    "    E_s = E_s + beta*((w_extended[:,i+1,j+1]-w_extended[:,i+2,j+1])**2+(w_extended[:,i+1,j+1]-w_extended[:,i+1,j+2])**2)\n",
    "    E_x = 1/(2*var_l)*pi_l[:,i,j]*(x_l[:,i,j]-s_n)**2+1/(2*var_r)*pi_r[:,i,j]*(x_r[:,i,j]-s_n)**2\n",
    "    return np.exp(-tau*(E_x+E_s))+10e-50"
   ]
  },
  {
   "cell_type": "code",
   "execution_count": 96,
   "id": "37c317af",
   "metadata": {},
   "outputs": [],
   "source": [
    "def p_pi_l_new(index,w,x_l,x_r,pi_l,pi_r,var_l,b,tau,gamma,p):\n",
    "    #sparse coefficient alpha TBC\n",
    "    i,j = index[0],index[1]\n",
    "    s_n = w[:,i,j]*x_l[:,i,j]+(1-w[:,i,j])*x_r[:,i,j]\n",
    "    E_xl = 1/(2*var_l)*pi_l[:,i,j]*(x_l[:,i,j]-s_n)**2\n",
    "    pi_extended = np.concatenate((pi_l[:,:,0].reshape(p,-1,1),pi_l,pi_l[:,:,-1].reshape(p,-1,1)),axis=2)\n",
    "    pi_extended = np.concatenate((pi_extended[:,0,:].reshape(p,1,-1),pi_extended,pi_extended[:,-1,:].reshape(p,1,-1)),axis=1)\n",
    "    #E_pi_l = alpha*(pi_extended[i+2,j+1]+pi_extended[i+1,j+2]+pi_extended[i,j+1]+pi_extended[i+1,j])\n",
    "    '''E_pi_l = E_pi_l + gamma*((pi_extended[:,i+1,j+1]-pi_extended[:,i,j+1])**2+(pi_extended[:i+1,j+1]-pi_extended[:,i+1,j])**2)'''\n",
    "    E_pi_l = gamma*((pi_extended[:,i+1,j+1]-pi_extended[:,i,j+1])**2+(pi_extended[:,i+1,j+1]-pi_extended[:,i+1,j])**2)\n",
    "    E_pi_l = E_pi_l + gamma*((pi_extended[:,i+1,j+1]-pi_extended[:,i+2,j+1])**2+(pi_extended[:,i+1,j+1]-pi_extended[:,i+1,j+2])**2)\n",
    "    return np.exp(-tau*(E_xl+E_pi_l))*(1+np.sign(pi_l[:,i,j]+pi_r[:,i,j]-0.5))/2+1e-50"
   ]
  },
  {
   "cell_type": "code",
   "execution_count": 97,
   "id": "77a8527c",
   "metadata": {},
   "outputs": [],
   "source": [
    "def p_pi_r_new(index,w,x_l,x_r,pi_l,pi_r,var_r,b,tau,gamma,p):\n",
    "    #sparse coefficient alpha TBC\n",
    "    i,j = index[0],index[1]\n",
    "    s_n = w[:,i,j]*x_l[:,i,j]+(1-w[:,i,j])*x_r[:,i,j]\n",
    "    E_xr = 1/(2*var_r)*pi_r[:,i,j]*(x_r[:,i,j]-s_n)**2\n",
    "    pi_extended = np.concatenate((pi_r[:,:,0].reshape(p,-1,1),pi_r,pi_r[:,:,-1].reshape(p,-1,1)),axis=2)\n",
    "    pi_extended = np.concatenate((pi_extended[:,0,:].reshape(p,1,-1),pi_extended,pi_extended[:,-1,:].reshape(p,1,-1)),axis=1)\n",
    "    #E_pi_l = alpha*(pi_extended[i+2,j+1]+pi_extended[i+1,j+2]+pi_extended[i,j+1]+pi_extended[i+1,j])\n",
    "    '''E_pi_l = E_pi_l + gamma*((pi_extended[:,i+1,j+1]-pi_extended[:,i,j+1])**2+(pi_extended[:i+1,j+1]-pi_extended[:,i+1,j])**2)'''\n",
    "    E_pi_r = gamma*((pi_extended[:,i+1,j+1]-pi_extended[:,i,j+1])**2+(pi_extended[:,i+1,j+1]-pi_extended[:,i+1,j])**2)\n",
    "    E_pi_r = E_pi_r + gamma*((pi_extended[:,i+1,j+1]-pi_extended[:,i+2,j+1])**2+(pi_extended[:,i+1,j+1]-pi_extended[:,i+1,j+2])**2)\n",
    "    return np.exp(-tau*(E_xr+E_pi_r))*(1+np.sign(pi_l[:,i,j]+pi_r[:,i,j]-0.5))/2+1e-50"
   ]
  },
  {
   "cell_type": "code",
   "execution_count": 98,
   "id": "22f24c22",
   "metadata": {},
   "outputs": [],
   "source": [
    "def proposal_function_new(z, index, p, sigma = 1):\n",
    "    #generate a new proposal from the current sample\n",
    "    #change only one element at a time!\n",
    "    z_star = z.copy()\n",
    "    i,j = index[0],index[1]\n",
    "    z_star[:,i,j] = z_star[:,i,j] + sigma*random.normal(size = (p))\n",
    "    return z_star"
   ]
  },
  {
   "cell_type": "code",
   "execution_count": 99,
   "id": "3c202cd9",
   "metadata": {},
   "outputs": [],
   "source": [
    "def binary_proposal_new(z,index):\n",
    "    #p: the probability of switch, to stablize the system\n",
    "    z_star = z.copy()\n",
    "    z_star[:,index[0],index[1]] = 1-z[:,index[0],index[1]]\n",
    "    return z_star"
   ]
  },
  {
   "cell_type": "code",
   "execution_count": 100,
   "id": "be56e949",
   "metadata": {},
   "outputs": [],
   "source": [
    "def sample_rejection_w_new(index,w,w_star,x_l,x_r,pi_l,pi_r,beta,var_l,var_r,b,tau,p):\n",
    "    p_w_cur = p_w_new(index,w,x_l,x_r,pi_l,pi_r,beta,var_l,var_r,b,tau,p)\n",
    "    p_w_star = p_w_new(index,w_star,x_l,x_r,pi_l,pi_r,beta,var_l,var_r,b,tau,p)\n",
    "    p_acc = p_w_star/p_w_cur\n",
    "    p_ran = random.random(p)\n",
    "    acc = np.sign(p_acc-p_ran).astype('int')\n",
    "    return acc\n",
    "    \n",
    "def sample_rejection_pi_l_new(index,w,x_l,x_r,pi_l,pi_l_star,pi_r,var_l,b,tau,gamma,p):\n",
    "    p_pi_l_cur = p_pi_l_new(index,w,x_l,x_r,pi_l,pi_r,var_l,b,tau,gamma,p)\n",
    "    p_pi_l_star = p_pi_l_new(index,w,x_l,x_r,pi_l_star,pi_r,var_l,b,tau,gamma,p)\n",
    "    p_acc = p_pi_l_star/p_pi_l_cur\n",
    "    p_ran = random.random(p)\n",
    "    acc = np.sign(p_acc-p_ran).astype('int')\n",
    "    return acc\n",
    "    \n",
    "def sample_rejection_pi_r_new(index,w,x_l,x_r,pi_l,pi_r,pi_r_star,var_r,b,tau,gamma,p):\n",
    "    p_pi_r_cur = p_pi_r_new(index,w,x_l,x_r,pi_l,pi_r,var_r,b,tau,gamma,p)\n",
    "    p_pi_r_star = p_pi_r_new(index,w,x_l,x_r,pi_l,pi_r_star,var_r,b,tau,gamma,p)\n",
    "    p_acc = p_pi_r_star/p_pi_r_cur\n",
    "    p_ran = random.random(p)\n",
    "    acc = np.sign(p_acc-p_ran).astype('int')\n",
    "    return acc"
   ]
  },
  {
   "cell_type": "code",
   "execution_count": 167,
   "id": "2d57c4d3",
   "metadata": {},
   "outputs": [],
   "source": [
    "def simulation_new(var_l,var_r,beta,gamma,alpha,tau,b,dim,p,no_sample):\n",
    "    #p: no. parallel sampling sequences\n",
    "    #no. sample: no. samples in each sequence\n",
    "    #dim: dimension of each MRF\n",
    "    sampling_order_i = np.arange(dim)\n",
    "    sampling_order_j = np.arange(dim)\n",
    "\n",
    "    #set initial condition for w, pi_r, pi_l\n",
    "    #set visual input x_r, x_l as conflicting input\n",
    "    \n",
    "    w = random.rand(p,dim,dim)\n",
    "    pi_l = random.randint(0,2,(p,dim,dim))\n",
    "    pi_r = random.randint(0,2,(p,dim,dim))\n",
    "    x,y = np.meshgrid(np.arange(0,10,0.5),np.arange(0,10,0.5))\n",
    "    x_l = np.array([np.exp(-0.2*(x-y)**2)]*p)\n",
    "    x_r = np.array([np.exp(-0.2*(x+y-10)**2)]*p)\n",
    "    s = []\n",
    "    pi_l_l = []\n",
    "    pi_r_l = []\n",
    "    for m in range(int(no_sample)):\n",
    "        #order of sweep is randomnized\n",
    "        random.shuffle(sampling_order_i)\n",
    "        random.shuffle(sampling_order_j)\n",
    "        #the following for loop update on pi_l\n",
    "        for i in sampling_order_i:\n",
    "            for j in sampling_order_j:\n",
    "                index = (i,j)\n",
    "                pi_r_star = binary_proposal_new(pi_r, index)\n",
    "                acc_1 = sample_rejection_pi_r_new(index,w,x_l,x_r,pi_l,pi_r,pi_r_star,var_r,b,tau,gamma,p)\n",
    "                for j in range(p):\n",
    "                    if acc_1[j] == 1:\n",
    "                        pi_r[j,:,:] = pi_r_star[j,:,:]\n",
    "\n",
    "        #the following for loop update on pi_r\n",
    "        for i in sampling_order_i:\n",
    "            for j in sampling_order_j:\n",
    "                index = (i,j)\n",
    "                pi_l_star = binary_proposal_new(pi_l, index)\n",
    "                acc_2 = sample_rejection_pi_l_new(index,w,x_l,x_r,pi_l,pi_l_star,pi_r,var_l,b,tau,gamma,p)\n",
    "                for j in range(p):\n",
    "                    if acc_2[j] == 1:\n",
    "                        pi_l[j,:,:] = pi_l_star[j,:,:]\n",
    "    \n",
    "            #the following for loop update on w\n",
    "            for i in sampling_order_i:\n",
    "                for j in sampling_order_j:\n",
    "                    index = (i,j)\n",
    "                    w_star = proposal_function_new(w, index, p)\n",
    "                    acc_3 = sample_rejection_w_new(index,w,w_star,x_l,x_r,pi_l,pi_r,beta,var_l,var_r,b,tau,p)\n",
    "                    for j in range(p):\n",
    "                        if acc_3[j] == 1:\n",
    "                            w[j,:,:] = w_star[j,:,:]\n",
    "        \n",
    "        s_i = w*x_l+(1-w)*x_r\n",
    "        s.append(s_i)\n",
    "        pi_l_a = pi_l.copy()\n",
    "        pi_r_a = pi_r.copy()\n",
    "        pi_l_l.append(pi_l_a)\n",
    "        pi_r_l.append(pi_r_a)\n",
    "    return np.array(s),pi_l_l,pi_r_l"
   ]
  },
  {
   "cell_type": "code",
   "execution_count": 102,
   "id": "8780e171",
   "metadata": {},
   "outputs": [],
   "source": [
    "#from node's state to the no. node > 0.5 in each step\n",
    "def node_count(s,p,no_sample):\n",
    "    state_no_array = []\n",
    "    for i in range(p):\n",
    "        state_no_array_i = []\n",
    "        for j in range(no_sample):\n",
    "            state_no_array_i.append(len(np.where(s[j,i,:,:]>0.5)[0]))\n",
    "        state_no_array.append(state_no_array_i)\n",
    "    state_no_array = np.array(state_no_array)\n",
    "    return state_no_array"
   ]
  },
  {
   "cell_type": "code",
   "execution_count": 103,
   "id": "daa52eb9",
   "metadata": {},
   "outputs": [],
   "source": [
    "def domi_period_count(state_list_input,dim):\n",
    "    cross_list = []\n",
    "    #element in cross list: (index,cross_type)\n",
    "    #cross type = 1: upper bound going up\n",
    "    #cross type = 2: lower bound going down\n",
    "    for i in range(1,len(state_list_input)):\n",
    "        if state_list_input[i-1]>dim**2*0.1 and state_list_input[i]<dim**2*0.1:\n",
    "            cross_list.append((i,2))\n",
    "        elif state_list_input[i-1]<dim**2*0.9 and state_list_input[i]>dim**2*0.9:\n",
    "            cross_list.append((i,1))\n",
    "    switch_list = [cross_list[0]]\n",
    "    cross = cross_list[0][1]\n",
    "    for i in range(1,len(cross_list)):\n",
    "        if cross_list[i][1] != cross:\n",
    "            cross = cross_list[i][1]\n",
    "            switch_list.append(cross_list[i])\n",
    "    domi_list =[]\n",
    "    for i in range(1,len(switch_list)):\n",
    "        domi_list.append(switch_list[i][0]-switch_list[i-1][0])\n",
    "    return domi_list\n",
    "\n",
    "def hist_plot(x,n):\n",
    "    plt.hist(x,n)\n",
    "    return np.mean(x),np.std(x)\n",
    "\n",
    "def generate_domi_list(state_count,dim):\n",
    "    domi_list = []\n",
    "    for state_list_i in state_count:\n",
    "        domi_list_i = domi_period_count(state_list_i,dim)\n",
    "        domi_list = domi_list + domi_list_i\n",
    "    return domi_list"
   ]
  },
  {
   "cell_type": "code",
   "execution_count": 104,
   "id": "f4e1bb59",
   "metadata": {},
   "outputs": [],
   "source": [
    "def domi_period_count_new(state_list_input,dim):\n",
    "    cross_list = []\n",
    "    #element in cross list: (index,cross_type)\n",
    "    #cross type = 1: upper bound going up\n",
    "    #cross type = 2: lower bound going down\n",
    "    for i in range(1,len(state_list_input)):\n",
    "        if state_list_input[i-1]>0.1*dim**2 and state_list_input[i]<0.1*dim**2:\n",
    "            cross_list.append((i,2))\n",
    "        elif state_list_input[i-1]<0.9*dim**2 and state_list_input[i]>0.9*dim**2:\n",
    "            cross_list.append((i,1))\n",
    "    switch_list = [cross_list[0]]\n",
    "    cross = cross_list[0][1]\n",
    "    for i in range(1,len(cross_list)):\n",
    "        if cross_list[i][1] != cross:\n",
    "            cross = cross_list[i][1]\n",
    "            switch_list.append(cross_list[i])\n",
    "    domi_list =[]\n",
    "    percept_list = []\n",
    "    for i in range(1,len(switch_list)):\n",
    "        domi_list.append(switch_list[i][0]-switch_list[i-1][0])\n",
    "        percept_list.append(switch_list[i-1][1])\n",
    "    return domi_list,percept_list\n",
    "\n",
    "def generate_domi_percept_list(state_count,dim):\n",
    "    domi_list = []\n",
    "    percept_list = []\n",
    "    for state_list_i in state_count:\n",
    "        domi_list_i,percept_list_i = domi_period_count_new(state_list_i,dim)\n",
    "        domi_list = domi_list + domi_list_i\n",
    "        percept_list = percept_list+percept_list_i\n",
    "    return domi_list,percept_list"
   ]
  },
  {
   "cell_type": "code",
   "execution_count": 105,
   "id": "9cb20ec8",
   "metadata": {},
   "outputs": [],
   "source": [
    "def predomi_count(domi_period,domi_percept):\n",
    "    domi_1 = 0\n",
    "    domi_2 = 0\n",
    "    for i in range(len(domi_period)):\n",
    "        if domi_percept[i] == 1:\n",
    "            domi_1 = domi_1 + domi_period[i]\n",
    "        else:\n",
    "            domi_2 = domi_2 + domi_period[i]\n",
    "    return domi_1/np.sum(domi_period),domi_2/np.sum(domi_period)\n",
    "\n",
    "def ave_domi_count(domi_period,domi_percept):\n",
    "    domi_1_t = 0\n",
    "    domi_2_t = 0\n",
    "    domi_1_count = 0\n",
    "    domi_2_count = 0\n",
    "    for i in range(len(domi_period)):\n",
    "        if int(domi_percept[i]) == 1:\n",
    "            domi_1_t = domi_1_t + domi_period[i]\n",
    "            domi_1_count = domi_1_count +1\n",
    "        else:\n",
    "            domi_2_t = domi_2_t + domi_period[i]\n",
    "            domi_2_count = domi_2_count +1\n",
    "    return domi_1_t/domi_1_count, domi_2_t/domi_2_count"
   ]
  },
  {
   "cell_type": "code",
   "execution_count": 106,
   "id": "ed11e998",
   "metadata": {},
   "outputs": [],
   "source": [
    "def pi_count(pi_l,pi_r):\n",
    "    pi_lr_00 = 0\n",
    "    pi_lr_01 = 0\n",
    "    pi_lr_10 = 0\n",
    "    pi_lr_11 = 0\n",
    "    for i in range(len(pi_l)):\n",
    "        if pi_l[i]==0 and pi_r[i]==0:\n",
    "            pi_lr_00 +=1\n",
    "        if pi_l[i]==0 and pi_r[i]==1:\n",
    "            pi_lr_01 +=1\n",
    "        if pi_l[i]==1 and pi_r[i]==0:\n",
    "            pi_lr_10 +=1\n",
    "        if pi_l[i]==1 and pi_r[i]==1:\n",
    "            pi_lr_11 +=1\n",
    "    return pi_lr_00/len(pi_l),pi_lr_01/len(pi_l),pi_lr_10/len(pi_l),pi_lr_11/len(pi_l)"
   ]
  },
  {
   "cell_type": "code",
   "execution_count": 165,
   "id": "5dee73d0",
   "metadata": {},
   "outputs": [
    {
     "data": {
      "text/plain": [
       "<matplotlib.image.AxesImage at 0x13a47bd90>"
      ]
     },
     "execution_count": 165,
     "metadata": {},
     "output_type": "execute_result"
    },
    {
     "data": {
      "image/png": "[encoded data removed]",
      "text/plain": [
       "<Figure size 432x288 with 1 Axes>"
      ]
     },
     "metadata": {
      "needs_background": "light"
     },
     "output_type": "display_data"
    }
   ],
   "source": [
    "x,y = np.meshgrid(np.arange(0,10,0.5),np.arange(0,10,0.5))\n",
    "x_l = np.exp(-0.2*(x-y)**2)\n",
    "x_r = np.exp(-0.2*(x+y-10)**2)\n",
    "plt.imshow(x_l)"
   ]
  },
  {
   "cell_type": "code",
   "execution_count": 166,
   "id": "3a3ddfd5",
   "metadata": {},
   "outputs": [
    {
     "data": {
      "text/plain": [
       "<matplotlib.image.AxesImage at 0x13a4ccfa0>"
      ]
     },
     "execution_count": 166,
     "metadata": {},
     "output_type": "execute_result"
    },
    {
     "data": {
      "image/png": "[encoded data removed]",
      "text/plain": [
       "<Figure size 432x288 with 1 Axes>"
      ]
     },
     "metadata": {
      "needs_background": "light"
     },
     "output_type": "display_data"
    }
   ],
   "source": [
    "plt.imshow(x_r)"
   ]
  },
  {
   "cell_type": "code",
   "execution_count": 168,
   "id": "b2b4aa55",
   "metadata": {},
   "outputs": [],
   "source": [
    "var_l,var_r,beta,gamma,alpha,tau,b,dim,p,no_sample = 0.0001,0.0001,10,10,0,1/100,0.5*np.ones((10,20,20)),20,10,2200\n",
    "s_0001_0001, pi_l_l_0001_0001, pi_r_l_0001_0001 = simulation_new(var_l,var_r,beta,gamma,alpha,tau,b,dim,p,no_sample)"
   ]
  },
  {
   "cell_type": "code",
   "execution_count": 172,
   "id": "54a9849f",
   "metadata": {},
   "outputs": [
    {
     "data": {
      "text/plain": [
       "<matplotlib.image.AxesImage at 0x13a6f88e0>"
      ]
     },
     "execution_count": 172,
     "metadata": {},
     "output_type": "execute_result"
    },
    {
     "data": {
      "image/png": "[encoded data removed]",
      "text/plain": [
       "<Figure size 432x288 with 1 Axes>"
      ]
     },
     "metadata": {
      "needs_background": "light"
     },
     "output_type": "display_data"
    }
   ],
   "source": [
    "plt.imshow(s_0001_0001[1000,2,:,:])"
   ]
  },
  {
   "cell_type": "code",
   "execution_count": 173,
   "id": "21d7b232",
   "metadata": {},
   "outputs": [
    {
     "data": {
      "text/plain": [
       "<matplotlib.image.AxesImage at 0x13a759580>"
      ]
     },
     "execution_count": 173,
     "metadata": {},
     "output_type": "execute_result"
    },
    {
     "data": {
      "image/png": "[encoded data removed]",
      "text/plain": [
       "<Figure size 432x288 with 1 Axes>"
      ]
     },
     "metadata": {
      "needs_background": "light"
     },
     "output_type": "display_data"
    }
   ],
   "source": [
    "plt.imshow(s_0001_0001[1100,2,:,:])"
   ]
  },
  {
   "cell_type": "code",
   "execution_count": 181,
   "id": "086d839b",
   "metadata": {},
   "outputs": [
    {
     "data": {
      "text/plain": [
       "<matplotlib.image.AxesImage at 0x14a205310>"
      ]
     },
     "execution_count": 181,
     "metadata": {},
     "output_type": "execute_result"
    },
    {
     "data": {
      "image/png": "[encoded data removed]",
      "text/plain": [
       "<Figure size 432x288 with 1 Axes>"
      ]
     },
     "metadata": {
      "needs_background": "light"
     },
     "output_type": "display_data"
    }
   ],
   "source": [
    "plt.imshow(s_0001_0001[80,2,:,:])"
   ]
  },
  {
   "cell_type": "code",
   "execution_count": 162,
   "id": "bd2b8b3c",
   "metadata": {},
   "outputs": [
    {
     "name": "stdout",
     "output_type": "stream",
     "text": [
      "15\n",
      "43.06374599258356\n"
     ]
    }
   ],
   "source": [
    "print(np.argmax(np.sum(np.sum(s_0001_0001[:,0,:,:],axis=2),axis=1)))\n",
    "print(np.max(np.sum(np.sum(s_0001_0001[:,0,:,:],axis=2),axis=1)))"
   ]
  },
  {
   "cell_type": "code",
   "execution_count": 163,
   "id": "27c1d11b",
   "metadata": {},
   "outputs": [
    {
     "name": "stdout",
     "output_type": "stream",
     "text": [
      "2190\n",
      "33.339314397066815\n"
     ]
    }
   ],
   "source": [
    "print(np.argmin(np.sum(np.sum(s_0001_0001[:,0,:,:],axis=2),axis=1)))\n",
    "print(np.min(np.sum(np.sum(s_0001_0001[:,0,:,:],axis=2),axis=1)))"
   ]
  },
  {
   "cell_type": "code",
   "execution_count": 111,
   "id": "9a4b675a",
   "metadata": {},
   "outputs": [
    {
     "data": {
      "text/plain": [
       "array([[[[ 0.15888287,  0.68589472,  0.58182682, ...,  0.33272892,\n",
       "          -0.21246021,  0.29175769],\n",
       "         [ 1.00162638,  0.72344268, -0.38790568, ..., -0.05952288,\n",
       "           0.50563106,  0.21284839],\n",
       "         [ 0.5914224 ,  0.33584944,  0.48290148, ...,  0.32851497,\n",
       "           0.76702327, -0.05793777],\n",
       "         ...,\n",
       "         [ 0.24608721,  0.42533047,  0.55370959, ...,  1.13451883,\n",
       "          -0.59646615,  0.57580738],\n",
       "         [ 0.01148726,  0.61607861,  0.79584611, ...,  0.75755806,\n",
       "           1.26636603,  0.78639183],\n",
       "         [ 0.00463737,  0.95616734,  0.2588168 , ...,  0.26997014,\n",
       "           0.97262629,  0.60759487]]],\n",
       "\n",
       "\n",
       "       [[[ 0.23955295,  0.81575258,  0.35521696, ...,  0.18439209,\n",
       "           0.01569194,  0.15822601],\n",
       "         [ 0.59610169,  1.69589084,  0.41615467, ...,  0.43986047,\n",
       "           0.1712528 ,  0.39837062],\n",
       "         [ 0.399371  ,  0.35048035, -0.18857455, ...,  0.23725034,\n",
       "           0.37418933,  0.04174877],\n",
       "         ...,\n",
       "         [ 0.30345053,  0.31954917,  0.29664852, ...,  0.74851548,\n",
       "          -0.50061965,  0.44895042],\n",
       "         [ 0.18289595,  0.83259373,  0.60029297, ...,  0.76234395,\n",
       "           1.16274723,  0.36786055],\n",
       "         [ 0.16060998,  0.36905638, -0.10411367, ...,  0.26453216,\n",
       "           0.80495435,  0.81488758]]],\n",
       "\n",
       "\n",
       "       [[[-0.20837285,  0.82776198,  0.54818505, ...,  0.31118952,\n",
       "           0.11862483,  0.08012793],\n",
       "         [ 0.73831348,  1.00886875,  0.38684481, ...,  0.41479404,\n",
       "          -0.06493633, -0.1884154 ],\n",
       "         [-0.07025434,  0.16623817, -0.30948067, ...,  0.35147324,\n",
       "           0.15790419, -0.04884636],\n",
       "         ...,\n",
       "         [ 0.47285935,  0.34004018, -0.33282107, ...,  0.72329387,\n",
       "          -0.39644945,  0.06451362],\n",
       "         [-0.0837676 ,  0.39326778,  0.20209423, ...,  0.84479134,\n",
       "           0.86012262,  1.16742148],\n",
       "         [-0.19585941,  1.31584107, -0.49094185, ..., -0.20563918,\n",
       "           0.69862959,  1.48390577]]],\n",
       "\n",
       "\n",
       "       ...,\n",
       "\n",
       "\n",
       "       [[[ 1.15539836,  0.80820012, -0.28789847, ...,  0.03969782,\n",
       "          -0.10606909,  0.80546394],\n",
       "         [-0.03952503,  0.02620466,  0.47723787, ...,  0.11652537,\n",
       "           0.29823606,  1.01650835],\n",
       "         [ 0.54034381, -0.14389692,  0.87230918, ...,  0.7000139 ,\n",
       "           0.73260431,  0.8117697 ],\n",
       "         ...,\n",
       "         [ 0.06695593,  0.08643644,  0.20871078, ...,  0.11199277,\n",
       "          -0.42994426,  0.63032366],\n",
       "         [ 0.32802359,  0.86715418, -0.08451294, ...,  1.20178244,\n",
       "           0.31176997,  0.0779063 ],\n",
       "         [ 0.44612337,  0.95350402,  0.74016468, ...,  0.01733152,\n",
       "           0.29363597,  1.35695433]]],\n",
       "\n",
       "\n",
       "       [[[ 1.0214596 ,  0.62341685, -0.38680256, ...,  0.1571711 ,\n",
       "          -0.03151166,  0.4655386 ],\n",
       "         [-0.26609689,  0.3053369 ,  0.25355099, ...,  0.29789248,\n",
       "          -0.56850844,  1.13647071],\n",
       "         [ 0.41189031, -0.2107561 ,  0.41806537, ...,  0.7000139 ,\n",
       "           0.98579616,  0.44933817],\n",
       "         ...,\n",
       "         [ 0.24257544,  0.14155913,  1.02458201, ..., -0.07806719,\n",
       "           0.43302848, -0.18907171],\n",
       "         [-0.08426638,  0.67215417, -0.111847  , ...,  0.37237224,\n",
       "           0.24826122, -0.55509129],\n",
       "         [ 0.52014609,  1.66027952,  0.25936839, ...,  0.24529214,\n",
       "           0.29363597,  0.7044244 ]]],\n",
       "\n",
       "\n",
       "       [[[ 0.83315622,  0.51518389, -0.26118349, ...,  0.28146183,\n",
       "           0.17410167,  1.04024994],\n",
       "         [ 0.15296333,  0.59052701,  0.98728989, ...,  0.59053089,\n",
       "           0.23873056,  0.99655261],\n",
       "         [ 0.6123391 ,  0.85551445,  0.5677792 , ...,  0.87843629,\n",
       "           0.96021806,  0.84430454],\n",
       "         ...,\n",
       "         [-0.05862316,  0.6444487 ,  0.22595013, ...,  0.30208001,\n",
       "           1.25670279,  0.35692639],\n",
       "         [ 0.33167492,  1.02735158, -0.12812412, ...,  0.14623154,\n",
       "          -0.40691108, -0.38507034],\n",
       "         [ 0.84273438,  0.93034247,  0.77736341, ...,  0.26980361,\n",
       "           0.8937467 ,  0.48630911]]]])"
      ]
     },
     "execution_count": 111,
     "metadata": {},
     "output_type": "execute_result"
    }
   ],
   "source": [
    "s_0001_0001"
   ]
  }
 ],
 "metadata": {
  "kernelspec": {
   "display_name": "Python 3.9.12",
   "language": "python",
   "name": "python3"
  },
  "language_info": {
   "codemirror_mode": {
    "name": "ipython",
    "version": 3
   },
   "file_extension": ".py",
   "mimetype": "text/x-python",
   "name": "python",
   "nbconvert_exporter": "python",
   "pygments_lexer": "ipython3",
   "version": "3.9.12"
  },
  "vscode": {
   "interpreter": {
    "hash": "40d3a090f54c6569ab1632332b64b2c03c39dcf918b08424e98f38b5ae0af88f"
   }
  }
 },
 "nbformat": 4,
 "nbformat_minor": 5
}
