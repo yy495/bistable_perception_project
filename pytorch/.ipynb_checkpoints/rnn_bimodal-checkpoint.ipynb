{
 "cells": [
  {
   "cell_type": "code",
   "execution_count": 1,
   "id": "1cc3ecd2",
   "metadata": {},
   "outputs": [],
   "source": [
    "import torch\n",
    "import numpy as np\n",
    "from matplotlib import pyplot as plt"
   ]
  },
  {
   "cell_type": "code",
   "execution_count": 2,
   "id": "0b679dee",
   "metadata": {},
   "outputs": [],
   "source": [
    "class network2():\n",
    "    def forward(w,wo,x,dt,tau):\n",
    "        #w = torch.cat((torch.exp(e_log),-torch.exp(i_log)),axis = 1)\n",
    "        u = torch.rand(8,1)\n",
    "        for i in range(1000):\n",
    "            u = u + 1/tau*(-u+torch.matmul(w,h(u)) + x)*dt #+ (2/tau)**0.5*dt**0.5*c@torch.randn(20,1)\n",
    "        o = wo@u\n",
    "        return (torch.sign(x)-o)**2\n",
    "                           "
   ]
  },
  {
   "cell_type": "code",
   "execution_count": 3,
   "id": "9259dc31",
   "metadata": {
    "scrolled": false
   },
   "outputs": [
    {
     "data": {
      "text/plain": [
       "'mode1 = torch.randn(100000)*0.1  + 1\\nmode2 = torch.randn(100000)*0.1  - 1\\nsamples = torch.cat((mode1,mode2))\\nhigh,bin_edges = torch.histogram(samples,bins = 20, density = True)\\ntarget = high*(bin_edges[1]-bin_edges[0]) + 10**-12\\nplt.plot(target.numpy())\\ntorch.sum(target)'"
      ]
     },
     "execution_count": 3,
     "metadata": {},
     "output_type": "execute_result"
    }
   ],
   "source": [
    "'''mode1 = torch.randn(100000)*0.1  + 1\n",
    "mode2 = torch.randn(100000)*0.1  - 1\n",
    "samples = torch.cat((mode1,mode2))\n",
    "high,bin_edges = torch.histogram(samples,bins = 20, density = True)\n",
    "target = high*(bin_edges[1]-bin_edges[0]) + 10**-12\n",
    "plt.plot(target.numpy())\n",
    "torch.sum(target)'''"
   ]
  },
  {
   "cell_type": "code",
   "execution_count": 4,
   "id": "26856c45",
   "metadata": {},
   "outputs": [],
   "source": [
    "#print(torch.mean(samples**2))"
   ]
  },
  {
   "cell_type": "code",
   "execution_count": 5,
   "id": "74ac0107",
   "metadata": {},
   "outputs": [],
   "source": [
    "h = torch.nn.ReLU()\n",
    "dt = 0.001\n",
    "tau = 0.02"
   ]
  },
  {
   "cell_type": "code",
   "execution_count": 29,
   "id": "194b857d",
   "metadata": {},
   "outputs": [],
   "source": [
    "max_eig = True\n",
    "while max_eig:\n",
    "    w = torch.randn((8,8))\n",
    "    eig = torch.linalg.eig(w)[1]\n",
    "    if np.max(np.real(eig.numpy()))<1:\n",
    "        max_eig = False"
   ]
  },
  {
   "cell_type": "code",
   "execution_count": 30,
   "id": "02110038",
   "metadata": {},
   "outputs": [],
   "source": [
    "theta = torch.autograd.Variable(torch.tensor([1.0,0.0]),requires_grad = True)\n",
    "w = torch.autograd.Variable(w,requires_grad = True)\n",
    "wo = torch.autograd.Variable(torch.randn(1,8),requires_grad = True)\n",
    "#c = torch.autograd.Variable(torch.eye(20)*0.1,requires_grad = True)"
   ]
  },
  {
   "cell_type": "code",
   "execution_count": 31,
   "id": "d6a99b11",
   "metadata": {},
   "outputs": [],
   "source": [
    "optimizer = torch.optim.Adam([w,theta,wo], 0.05)"
   ]
  },
  {
   "cell_type": "code",
   "execution_count": 32,
   "id": "9549b6d4",
   "metadata": {
    "scrolled": false
   },
   "outputs": [
    {
     "name": "stdout",
     "output_type": "stream",
     "text": [
      "[[2.2087719e+13]]\n",
      "[[2465.8179]]\n",
      "[[255.1613]]\n",
      "[[115.0531]]\n",
      "[[108.958755]]\n",
      "[[80.781815]]\n",
      "[[98.8644]]\n",
      "[[122.53225]]\n",
      "[[114.48195]]\n",
      "[[106.07088]]\n",
      "[[136.87732]]\n",
      "[[116.96788]]\n",
      "[[99.139565]]\n",
      "[[125.00406]]\n",
      "[[130.78828]]\n",
      "[[156.49115]]\n",
      "[[147.23479]]\n",
      "[[133.02274]]\n",
      "[[133.45317]]\n",
      "[[154.77419]]\n",
      "[[136.40352]]\n",
      "[[137.28842]]\n",
      "[[142.42004]]\n",
      "[[125.160515]]\n",
      "[[133.05278]]\n",
      "[[145.44931]]\n",
      "[[119.24411]]\n",
      "[[160.0613]]\n",
      "[[160.75793]]\n",
      "[[153.46005]]\n"
     ]
    }
   ],
   "source": [
    "loss_list = []\n",
    "import sys\n",
    "for m in range(30):\n",
    "    optimizer.zero_grad()\n",
    "    L = 0\n",
    "    for i in range(50):\n",
    "        x = torch.randn(1)\n",
    "        L = L+network2.forward(w,wo,x,dt,tau)\n",
    "    \n",
    "    L1 = L.detach().numpy()\n",
    "\n",
    "    print(L1)\n",
    "    loss_list.append(L1)\n",
    "\n",
    "    if np.isnan(L1) == True:\n",
    "        print('error')\n",
    "        sys.exit(0)\n",
    "    \n",
    "    L.backward()\n",
    "    optimizer.step()"
   ]
  },
  {
   "cell_type": "code",
   "execution_count": null,
   "id": "b03d95b7",
   "metadata": {},
   "outputs": [],
   "source": []
  }
 ],
 "metadata": {
  "kernelspec": {
   "display_name": "Python 3 (ipykernel)",
   "language": "python",
   "name": "python3"
  },
  "language_info": {
   "codemirror_mode": {
    "name": "ipython",
    "version": 3
   },
   "file_extension": ".py",
   "mimetype": "text/x-python",
   "name": "python",
   "nbconvert_exporter": "python",
   "pygments_lexer": "ipython3",
   "version": "3.9.12"
  }
 },
 "nbformat": 4,
 "nbformat_minor": 5
}
