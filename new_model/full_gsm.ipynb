{
 "cells": [
  {
   "cell_type": "code",
   "execution_count": 1,
   "id": "4af360d4",
   "metadata": {},
   "outputs": [],
   "source": [
    "import numpy as np\n",
    "import matplotlib.pyplot as plt\n",
    "import scipy.stats as stats"
   ]
  },
  {
   "cell_type": "code",
   "execution_count": 2,
   "id": "657ce0f9",
   "metadata": {},
   "outputs": [],
   "source": [
    "def likelihood(z_l, z_r, x_l, x_r, W, sigma_y, sigma_n):\n",
    "    N = len(x_l)\n",
    "    I = np.eye(N)\n",
    "    cov_0 = np.hstack((z_l**2*sigma_y**2*W@W.T + sigma_n**2*I, z_l*z_r*sigma_y**2*W@W.T))\n",
    "    cov_1 = np.hstack((z_l*z_r*sigma_y**2*W@W.T, z_r**2*sigma_y**2*W@W.T + sigma_n**2*I))\n",
    "    cov = np.vstack((cov_0, cov_1)) + np.eye(2*N)*10**(-12)\n",
    "    rv = stats.multivariate_normal(mean=None, cov = cov)\n",
    "    return rv.pdf(np.hstack((x_l,x_r)))"
   ]
  },
  {
   "cell_type": "code",
   "execution_count": 6,
   "id": "40aed4c5",
   "metadata": {},
   "outputs": [],
   "source": [
    "def relu(x):\n",
    "    return (np.abs(x)+x)/2"
   ]
  },
  {
   "cell_type": "code",
   "execution_count": 7,
   "id": "41dd2812",
   "metadata": {},
   "outputs": [],
   "source": [
    "def prior(z_l, z_r, alpha, beta):\n",
    "    return z_l**(alpha-1)*np.exp(-beta*z_l)*z_r**(alpha-1)*np.exp(-beta*z_r)*relu(z_l*z_r)"
   ]
  },
  {
   "cell_type": "code",
   "execution_count": 71,
   "id": "4cc6e031",
   "metadata": {},
   "outputs": [],
   "source": [
    "#full GSM, continuous zl zr\n",
    "def post_unormal(z_l,z_r,x_l, x_r, W, sigma_y, sigma_n, alpha, beta):\n",
    "    return likelihood(z_l, z_r, x_l, x_r, W, sigma_y, sigma_n)*prior(z_l, z_r, alpha, beta)"
   ]
  },
  {
   "cell_type": "code",
   "execution_count": 76,
   "id": "a586324d",
   "metadata": {},
   "outputs": [],
   "source": [
    "#sample by MH\n",
    "def mh(z_l,z_r,x_l, x_r, W, sigma_y, sigma_n, alpha, beta):\n",
    "    z_ln = z_l + 0.3*np.random.randn()\n",
    "    z_rn = z_r + 0.3*np.random.randn()\n",
    "    not_valid = z_ln<0 or z_rn<0\n",
    "    if not_valid:\n",
    "        return z_l, z_r\n",
    "    p_ori = post_unormal(z_l,z_r,x_l, x_r, W, sigma_y, sigma_n, alpha, beta)\n",
    "    p_pro = post_unormal(z_ln,z_rn,x_l, x_r, W, sigma_y, sigma_n, alpha, beta)\n",
    "    acc = p_pro/p_ori\n",
    "    if np.random.rand()<acc:\n",
    "        return z_ln, z_rn\n",
    "    else:\n",
    "        return z_l, z_r"
   ]
  },
  {
   "cell_type": "code",
   "execution_count": 95,
   "id": "a4c19276",
   "metadata": {},
   "outputs": [
    {
     "data": {
      "text/plain": [
       "[<matplotlib.lines.Line2D at 0x140cb2790>]"
      ]
     },
     "execution_count": 95,
     "metadata": {},
     "output_type": "execute_result"
    },
    {
     "data": {
      "image/png": "[encoded data removed]",
      "text/plain": [
       "<Figure size 432x288 with 1 Axes>"
      ]
     },
     "metadata": {
      "needs_background": "light"
     },
     "output_type": "display_data"
    }
   ],
   "source": [
    "xt = np.linspace(0,10,100)\n",
    "alpha = 1\n",
    "beta = 1\n",
    "plt.plot(xt,xt**(alpha-1)*np.exp(-beta*xt))"
   ]
  },
  {
   "cell_type": "code",
   "execution_count": 117,
   "id": "e2cc8bb5",
   "metadata": {},
   "outputs": [],
   "source": [
    "#2D histogram\n",
    "x_l = np.array([0,3])\n",
    "x_r = np.array([3,-0.01])\n",
    "W = np.array([[0.5,0.75**0.5],[-0.5,0.75**0.5]])\n",
    "sigma_y = 2\n",
    "sigma_n = 0.1\n",
    "alpha, beta = 1.5,1\n",
    "n = 300000\n",
    "z_list = np.zeros((n,2))\n",
    "z_l = np.abs(np.random.randn())\n",
    "z_r = np.abs(np.random.randn())\n",
    "for i in range(n):\n",
    "    z_l, z_r = mh(z_l, z_r,x_l, x_r, W, sigma_y, sigma_n, alpha, beta)\n",
    "    z_list[i,0] = z_l\n",
    "    z_list[i,1] = z_r"
   ]
  },
  {
   "cell_type": "code",
   "execution_count": 118,
   "id": "313bf209",
   "metadata": {},
   "outputs": [
    {
     "data": {
      "image/png": "[encoded data removed]",
      "text/plain": [
       "<Figure size 432x288 with 1 Axes>"
      ]
     },
     "metadata": {
      "needs_background": "light"
     },
     "output_type": "display_data"
    }
   ],
   "source": [
    "plt.hist2d(z_list[:,0], z_list[:,1], bins=100)\n",
    "plt.show()"
   ]
  }
 ],
 "metadata": {
  "kernelspec": {
   "display_name": "Python 3",
   "language": "python",
   "name": "python3"
  },
  "language_info": {
   "codemirror_mode": {
    "name": "ipython",
    "version": 3
   },
   "file_extension": ".py",
   "mimetype": "text/x-python",
   "name": "python",
   "nbconvert_exporter": "python",
   "pygments_lexer": "ipython3",
   "version": "3.9.12 (main, Jun  1 2022, 06:34:44) \n[Clang 12.0.0 ]"
  },
  "vscode": {
   "interpreter": {
    "hash": "40d3a090f54c6569ab1632332b64b2c03c39dcf918b08424e98f38b5ae0af88f"
   }
  }
 },
 "nbformat": 4,
 "nbformat_minor": 5
}
