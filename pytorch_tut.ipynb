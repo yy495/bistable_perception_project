{
 "cells": [
  {
   "cell_type": "code",
   "execution_count": 2,
   "id": "f2f57487",
   "metadata": {},
   "outputs": [
    {
     "name": "stderr",
     "output_type": "stream",
     "text": [
      "/Users/guoj/opt/anaconda3/lib/python3.8/site-packages/torchvision/io/image.py:13: UserWarning: Failed to load image Python extension: dlopen(/Users/guoj/opt/anaconda3/lib/python3.8/site-packages/torchvision/image.so, 6): Library not loaded: @rpath/libjpeg.9.dylib\n",
      "  Referenced from: /Users/guoj/opt/anaconda3/lib/python3.8/site-packages/torchvision/image.so\n",
      "  Reason: Incompatible library version: image.so requires version 14.0.0 or later, but libjpeg.9.dylib provides version 12.0.0\n",
      "  warn(f\"Failed to load image Python extension: {e}\")\n"
     ]
    }
   ],
   "source": [
    "# Imports\n",
    "import time\n",
    "import random\n",
    "import numpy as np\n",
    "import pandas as pd\n",
    "import matplotlib.pyplot as plt\n",
    "\n",
    "# PyTorch libraries\n",
    "import torch\n",
    "from torch import nn\n",
    "from torchvision import datasets\n",
    "from torch.utils.data import DataLoader\n",
    "from torchvision.transforms import ToTensor"
   ]
  },
  {
   "cell_type": "code",
   "execution_count": 3,
   "id": "ee2335a2",
   "metadata": {},
   "outputs": [
    {
     "name": "stdout",
     "output_type": "stream",
     "text": [
      "<class 'torch.Tensor'>\n"
     ]
    },
    {
     "data": {
      "text/plain": [
       "<matplotlib.collections.PathCollection at 0x1341220d0>"
      ]
     },
     "execution_count": 3,
     "metadata": {},
     "output_type": "execute_result"
    },
    {
     "data": {
      "image/png": "[encoded data removed]",
      "text/plain": [
       "<Figure size 432x288 with 1 Axes>"
      ]
     },
     "metadata": {
      "needs_background": "light"
     },
     "output_type": "display_data"
    }
   ],
   "source": [
    "#simple linear regression using autogradient\n",
    "x = torch.rand(10000)*10\n",
    "y = x**0.5+1+torch.randn(10000)*0.02\n",
    "print(type(y))\n",
    "plt.scatter(x,y)"
   ]
  },
  {
   "cell_type": "code",
   "execution_count": 4,
   "id": "83ff00d1",
   "metadata": {
    "scrolled": false
   },
   "outputs": [
    {
     "name": "stdout",
     "output_type": "stream",
     "text": [
      "network_1(\n",
      "  (layers): Sequential(\n",
      "    (0): Linear(in_features=1, out_features=500, bias=True)\n",
      "    (1): ReLU()\n",
      "    (2): Linear(in_features=500, out_features=1, bias=True)\n",
      "  )\n",
      ")\n"
     ]
    }
   ],
   "source": [
    "class network_1(nn.Module):\n",
    "    def __init__(self):\n",
    "        super().__init__()\n",
    "        self.layers = nn.Sequential(\n",
    "            nn.Linear(1,500),\n",
    "            nn.ReLU(),\n",
    "            nn.Linear(500,1),\n",
    "        )\n",
    "    \n",
    "    def forward(self,x):\n",
    "        return self.layers(x)\n",
    "\n",
    "network = network_1()\n",
    "\n",
    "print(network)\n",
    "    \n",
    "loss_function = nn.MSELoss()\n",
    "lr = 0.01\n",
    "sgd_optimizer = torch.optim.SGD(network.parameters(), lr=lr)\n",
    "\n",
    "prediction = network(x.reshape(10000,1))"
   ]
  },
  {
   "cell_type": "code",
   "execution_count": 5,
   "id": "4ad426dc",
   "metadata": {},
   "outputs": [],
   "source": [
    "lost_array=[]\n",
    "for i in range(3000):\n",
    "    sgd_optimizer.zero_grad()\n",
    "    prediction = network(x.reshape(10000,1))\n",
    "    loss = loss_function(prediction.reshape(-1), y)\n",
    "    loss.backward()\n",
    "    sgd_optimizer.step()\n",
    "    lost_array.append(loss.item())"
   ]
  },
  {
   "cell_type": "code",
   "execution_count": 6,
   "id": "b180a76b",
   "metadata": {},
   "outputs": [
    {
     "data": {
      "text/plain": [
       "[<matplotlib.lines.Line2D at 0x1343d7a90>]"
      ]
     },
     "execution_count": 6,
     "metadata": {},
     "output_type": "execute_result"
    },
    {
     "data": {
      "image/png": "[encoded data removed]",
      "text/plain": [
       "<Figure size 432x288 with 1 Axes>"
      ]
     },
     "metadata": {
      "needs_background": "light"
     },
     "output_type": "display_data"
    }
   ],
   "source": [
    "plt.plot(np.array(lost_array))"
   ]
  },
  {
   "cell_type": "code",
   "execution_count": 7,
   "id": "c4356063",
   "metadata": {},
   "outputs": [
    {
     "name": "stdout",
     "output_type": "stream",
     "text": [
      "[1.9062679 2.9219139 3.365856  ... 2.591931  3.3972795 1.8163133]\n"
     ]
    },
    {
     "data": {
      "image/png": "[encoded data removed]",
      "text/plain": [
       "<Figure size 432x288 with 1 Axes>"
      ]
     },
     "metadata": {
      "needs_background": "light"
     },
     "output_type": "display_data"
    }
   ],
   "source": [
    "plt.scatter(x,y)\n",
    "print(network(x.reshape(10000,1)).reshape(-1).detach().numpy())\n",
    "plt.scatter(x,network(x.reshape(10000,1)).reshape(-1).detach().numpy())\n",
    "plt.show()"
   ]
  },
  {
   "cell_type": "code",
   "execution_count": null,
   "id": "04347f75",
   "metadata": {},
   "outputs": [],
   "source": []
  }
 ],
 "metadata": {
  "kernelspec": {
   "display_name": "Python 3",
   "language": "python",
   "name": "python3"
  },
  "language_info": {
   "codemirror_mode": {
    "name": "ipython",
    "version": 3
   },
   "file_extension": ".py",
   "mimetype": "text/x-python",
   "name": "python",
   "nbconvert_exporter": "python",
   "pygments_lexer": "ipython3",
   "version": "3.8.8"
  }
 },
 "nbformat": 4,
 "nbformat_minor": 5
}
