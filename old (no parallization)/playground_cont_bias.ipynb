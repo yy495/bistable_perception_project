{
 "cells": [
  {
   "cell_type": "code",
   "execution_count": 1,
   "id": "d8a07058",
   "metadata": {},
   "outputs": [],
   "source": [
    "#playground: contextual bias\n",
    "from gershman_09_function import likelihood, proposal_function\n",
    "import numpy as np\n",
    "import numpy.random as random\n",
    "import matplotlib.pyplot as plt"
   ]
  },
  {
   "cell_type": "code",
   "execution_count": 2,
   "id": "078e2dfd",
   "metadata": {},
   "outputs": [],
   "source": [
    "def domi_period_count(state_list_input,dim = 4):\n",
    "    cross_list = []\n",
    "    #element in cross list: (index,cross_type)\n",
    "    #cross type = 1: upper bound going up\n",
    "    #cross type = 2: lower bound going down\n",
    "    for i in range(1,len(state_list_input)):\n",
    "        if state_list_input[i-1]>dim**2/3 and state_list_input[i]<dim**2/3:\n",
    "            cross_list.append((i,2))\n",
    "        elif state_list_input[i-1]<2*dim**2/3 and state_list_input[i]>2*dim**2/3:\n",
    "            cross_list.append((i,1))\n",
    "    switch_list = [cross_list[0]]\n",
    "    cross = cross_list[0][1]\n",
    "    for i in range(1,len(cross_list)):\n",
    "        if cross_list[i][1] != cross:\n",
    "            cross = cross_list[i][1]\n",
    "            switch_list.append(cross_list[i])\n",
    "    domi_list =[]\n",
    "    percept_list = []\n",
    "    for i in range(1,len(switch_list)):\n",
    "        domi_list.append(switch_list[i][0]-switch_list[i-1][0])\n",
    "        percept_list.append(switch_list[i-1][1])\n",
    "    return np.array(domi_list),np.array(percept_list)"
   ]
  },
  {
   "cell_type": "code",
   "execution_count": 3,
   "id": "697c4ad4",
   "metadata": {},
   "outputs": [],
   "source": [
    "#change the prior function\n",
    "def MRF_prior_cont(z,lamda1,lamda2,mu):\n",
    "    #return the Gaussian MRF of the perception\n",
    "    #'reflection on boundary first\n",
    "    #MRF prior new = exp(-(z-b)**2 - lamda*(z-z_neighbor)**2)\n",
    "    #lamda1,lamda2: strength of penalty on \"unsmooth\" and \"deviation from prior mean\"\n",
    "    dim = z.shape[0]\n",
    "    z_extended_h = np.hstack((z[:,0].reshape(-1,1),z,z[:,-1].reshape(-1,1)))\n",
    "    z_extended = np.vstack((z_extended_h[0,:],z_extended_h,z_extended_h[-1,:]))\n",
    "    sum_dis = 0\n",
    "    for i in range(1,dim+1):\n",
    "        for j in range(1,dim+1):\n",
    "            sum_dis = sum_dis + (z_extended[i][j]-z_extended[i+1][j])**2 + (z_extended[i][j]-z_extended[i-1][j])**2\n",
    "            sum_dis = sum_dis + (z_extended[i][j]-z_extended[i][j+1])**2 + (z_extended[i][j]-z_extended[i][j-1])**2\n",
    "    \n",
    "    sum_cont = 0\n",
    "    for i in range(dim):\n",
    "        for j in range(dim):\n",
    "            sum_cont = sum_cont + (z[i][j]-mu[i][j])**2\n",
    "    \n",
    "    return np.exp(-lamda1*sum_dis)*np.exp(-lamda2*sum_cont)"
   ]
  },
  {
   "cell_type": "code",
   "execution_count": 4,
   "id": "0437f8b4",
   "metadata": {},
   "outputs": [],
   "source": [
    "def sample_rejection_cont(z,z_star,a = 1, b = -1,sigma = 0.3, lamda1 = 0.05, lamda2 = 0.05, sigma1 = 1.5, mu=np.zeros((5,5))):\n",
    "    #input: z is the current sample\n",
    "    #z_star is the proposed sample\n",
    "    #if sample accepted: return True\n",
    "    #if rejected: return False\n",
    "    p_z = likelihood(z,a,b,sigma)*MRF_prior_cont(z,lamda1,lamda2,mu)\n",
    "    p_z_star = likelihood(z_star,a,b,sigma)*MRF_prior_cont(z_star,lamda1,lamda2,mu)\n",
    "    p_acc = min(1,p_z_star/p_z)\n",
    "    if random.random()<p_acc:\n",
    "        return True\n",
    "    else:\n",
    "        return False"
   ]
  },
  {
   "cell_type": "code",
   "execution_count": 5,
   "id": "dc3ba38a",
   "metadata": {},
   "outputs": [],
   "source": [
    "def domi_period_count(state_list_input,dim = 4):\n",
    "    cross_list = []\n",
    "    #element in cross list: (index,cross_type)\n",
    "    #cross type = 1: upper bound going up\n",
    "    #cross type = 2: lower bound going down\n",
    "    for i in range(1,len(state_list_input)):\n",
    "        if state_list_input[i-1]>dim**2/3 and state_list_input[i]<dim**2/3:\n",
    "            cross_list.append((i,2))\n",
    "        elif state_list_input[i-1]<2*dim**2/3 and state_list_input[i]>2*dim**2/3:\n",
    "            cross_list.append((i,1))\n",
    "    switch_list = [cross_list[0]]\n",
    "    cross = cross_list[0][1]\n",
    "    for i in range(1,len(cross_list)):\n",
    "        if cross_list[i][1] != cross:\n",
    "            cross = cross_list[i][1]\n",
    "            switch_list.append(cross_list[i])\n",
    "    domi_list =[]\n",
    "    percept_list = []\n",
    "    for i in range(1,len(switch_list)):\n",
    "        domi_list.append(switch_list[i][0]-switch_list[i-1][0])\n",
    "        percept_list.append(switch_list[i-1][1])\n",
    "    return np.array(domi_list),np.array(percept_list)"
   ]
  },
  {
   "cell_type": "code",
   "execution_count": 6,
   "id": "3d84a22f",
   "metadata": {
    "scrolled": false
   },
   "outputs": [
    {
     "name": "stdout",
     "output_type": "stream",
     "text": [
      "[[ 0.82073958 -0.82856034 -0.51915047 -0.46882791]\n",
      " [-0.75060604 -0.39252638 -0.69570592  0.66104672]\n",
      " [ 0.44778554  0.39477228  0.02116901 -0.62616   ]\n",
      " [ 0.60621581 -0.74004166  0.2933      0.05147838]]\n",
      "done\n"
     ]
    }
   ],
   "source": [
    "state_list_cont_1= []\n",
    "#define initial z\n",
    "z = (np.random.rand(4,4)-0.5)*2\n",
    "print(z)\n",
    "for i in range(int(2e6)):\n",
    "    z_star = proposal_function(z)\n",
    "    acc = sample_rejection_cont(z,z_star,mu = np.ones((5,5)))\n",
    "    if acc:\n",
    "        z = z_star\n",
    "    state_list_cont_1.append(z)\n",
    "\n",
    "print('done')"
   ]
  },
  {
   "cell_type": "code",
   "execution_count": 7,
   "id": "98a65f49",
   "metadata": {},
   "outputs": [],
   "source": [
    "neuron_1 = np.array([state[1][1] for state in state_list_cont_1])"
   ]
  },
  {
   "cell_type": "code",
   "execution_count": 8,
   "id": "81529966",
   "metadata": {
    "scrolled": true
   },
   "outputs": [
    {
     "data": {
      "text/plain": [
       "Text(0, 0.5, 'density')"
      ]
     },
     "execution_count": 8,
     "metadata": {},
     "output_type": "execute_result"
    },
    {
     "data": {
      "image/png": "[encoded data removed]",
      "text/plain": [
       "<Figure size 432x288 with 1 Axes>"
      ]
     },
     "metadata": {
      "needs_background": "light"
     },
     "output_type": "display_data"
    }
   ],
   "source": [
    "def hist(arr,bins):\n",
    "    plt.hist(arr,bins)\n",
    "    return 'plotted'\n",
    "\n",
    "hist(neuron_1,100)\n",
    "plt.xlabel('percept of the node')\n",
    "plt.ylabel('density')"
   ]
  },
  {
   "cell_type": "code",
   "execution_count": 18,
   "id": "a7e3ef1f",
   "metadata": {},
   "outputs": [
    {
     "name": "stdout",
     "output_type": "stream",
     "text": [
      "[9 9 9 9 9 9 9 9 9]\n"
     ]
    }
   ],
   "source": [
    "state_num_cont_1 = np.array([len(np.where(state>0)[0]) for state in state_list_cont_1])\n",
    "print(state_num_cont_1[1:10])\n",
    "domi_list_cont_1, percept_list_cont_1 = domi_period_count(state_num_cont_1[:200000])"
   ]
  },
  {
   "cell_type": "code",
   "execution_count": 13,
   "id": "802f38c4",
   "metadata": {
    "scrolled": true
   },
   "outputs": [
    {
     "data": {
      "text/plain": [
       "[<matplotlib.lines.Line2D at 0x11a9cd820>]"
      ]
     },
     "execution_count": 13,
     "metadata": {},
     "output_type": "execute_result"
    },
    {
     "data": {
      "image/png": "[encoded data removed]",
      "text/plain": [
       "<Figure size 432x288 with 1 Axes>"
      ]
     },
     "metadata": {
      "needs_background": "light"
     },
     "output_type": "display_data"
    }
   ],
   "source": [
    "plt.plot(state_num_cont_1[1000:2000])"
   ]
  },
  {
   "cell_type": "code",
   "execution_count": 33,
   "id": "0e617f10",
   "metadata": {},
   "outputs": [],
   "source": [
    "def trans_pref(domi_list,percept_list):\n",
    "    #construct a new array, for each sample, element = 1 if in percept 1, 0 if in percept 2\n",
    "    percept = []\n",
    "    for i in range(len(domi_list)):\n",
    "        if percept_list[i] == 1:\n",
    "            percept = percept+int(domi_list[i])*[1]\n",
    "        else:\n",
    "            percept = percept+int(domi_list[i])*[0]\n",
    "    trans_pref = []\n",
    "    for i in range(len(percept)):\n",
    "        trans_pref.append(sum(percept[:i])/(i+1))\n",
    "    return np.array(trans_pref)"
   ]
  },
  {
   "cell_type": "code",
   "execution_count": 28,
   "id": "65cf0020",
   "metadata": {
    "scrolled": false
   },
   "outputs": [
    {
     "name": "stdout",
     "output_type": "stream",
     "text": [
      "done\n",
      "0\n",
      "10000\n",
      "20000\n",
      "30000\n",
      "40000\n",
      "50000\n",
      "60000\n",
      "70000\n",
      "80000\n",
      "90000\n",
      "100000\n",
      "110000\n",
      "120000\n",
      "130000\n",
      "140000\n",
      "150000\n",
      "160000\n",
      "170000\n",
      "180000\n",
      "190000\n"
     ]
    }
   ],
   "source": [
    "pref=trans_pref(domi_list_cont_1,percept_list_cont_1)"
   ]
  },
  {
   "cell_type": "code",
   "execution_count": 30,
   "id": "5984a6fd",
   "metadata": {},
   "outputs": [
    {
     "data": {
      "text/plain": [
       "[<matplotlib.lines.Line2D at 0x120e147f0>]"
      ]
     },
     "execution_count": 30,
     "metadata": {},
     "output_type": "execute_result"
    },
    {
     "data": {
      "image/png": "[encoded data removed]",
      "text/plain": [
       "<Figure size 432x288 with 1 Axes>"
      ]
     },
     "metadata": {
      "needs_background": "light"
     },
     "output_type": "display_data"
    }
   ],
   "source": [
    "plt.plot(pref)"
   ]
  },
  {
   "cell_type": "code",
   "execution_count": 55,
   "id": "a810d595",
   "metadata": {
    "scrolled": false
   },
   "outputs": [
    {
     "name": "stdout",
     "output_type": "stream",
     "text": [
      "[[-1.36954675  0.28258732  0.31554284 -1.43520502]\n",
      " [-0.94707578 -0.26914997 -1.35627662 -1.1503698 ]\n",
      " [-0.97450205  0.29222448 -0.65978202 -0.79963754]\n",
      " [-0.28436849 -0.73278369 -1.34320792 -0.31065269]]\n",
      "done\n",
      "done\n",
      "done\n",
      "done\n",
      "done\n",
      "done\n",
      "done\n",
      "done\n",
      "done\n",
      "done\n",
      "done\n",
      "done\n",
      "done\n",
      "done\n",
      "done\n",
      "done\n",
      "done\n",
      "done\n",
      "done\n",
      "done\n",
      "done\n",
      "done\n",
      "done\n",
      "done\n",
      "done\n",
      "done\n",
      "done\n",
      "done\n",
      "done\n",
      "done\n",
      "done\n",
      "done\n",
      "done\n",
      "done\n",
      "done\n",
      "done\n",
      "done\n",
      "done\n",
      "done\n",
      "done\n",
      "done\n",
      "done\n",
      "done\n",
      "done\n",
      "done\n",
      "done\n",
      "done\n",
      "done\n",
      "done\n",
      "done\n"
     ]
    }
   ],
   "source": [
    "pref = []\n",
    "z_ini = (np.random.rand(4,4)-0.75)*2\n",
    "print(z_ini)\n",
    "for i in range(50):\n",
    "    state_list_cont_1= []\n",
    "    #define initial z\n",
    "    z = z_ini.copy()\n",
    "    for i in range(int(1.2e5)):\n",
    "        z_star = proposal_function(z)\n",
    "        acc = sample_rejection_cont(z,z_star,mu = np.ones((5,5)))\n",
    "        if acc:\n",
    "            z = z_star\n",
    "        state_list_cont_1.append(z)\n",
    "    state_num_cont_1 = np.array([len(np.where(state>0)[0]) for state in state_list_cont_1])\n",
    "    domi_list_cont_1, percept_list_cont_1 = domi_period_count(state_num_cont_1)\n",
    "    pref_i=trans_pref(domi_list_cont_1,percept_list_cont_1)\n",
    "    pref.append(pref_i)\n",
    "    print('done')"
   ]
  },
  {
   "cell_type": "code",
   "execution_count": 59,
   "id": "2847d490",
   "metadata": {
    "scrolled": false
   },
   "outputs": [
    {
     "name": "stdout",
     "output_type": "stream",
     "text": [
      "done\n",
      "done\n",
      "done\n",
      "done\n",
      "done\n",
      "done\n",
      "done\n",
      "done\n",
      "done\n",
      "done\n",
      "done\n",
      "done\n",
      "done\n",
      "done\n",
      "done\n",
      "done\n",
      "done\n",
      "done\n",
      "done\n",
      "done\n"
     ]
    }
   ],
   "source": [
    "pref_unbias = []\n",
    "z_ini = (np.random.rand(4,4)-0.75)*2\n",
    "for i in range(20):\n",
    "    state_list_cont_1= []\n",
    "    #define initial z\n",
    "    z = z_ini.copy()\n",
    "    for i in range(int(1.2e5)):\n",
    "        z_star = proposal_function(z)\n",
    "        acc = sample_rejection_cont(z,z_star,mu = np.zeros((5,5)))\n",
    "        if acc:\n",
    "            z = z_star\n",
    "        state_list_cont_1.append(z)\n",
    "    state_num_cont_1 = np.array([len(np.where(state>0)[0]) for state in state_list_cont_1])\n",
    "    domi_list_cont_1, percept_list_cont_1 = domi_period_count(state_num_cont_1)\n",
    "    pref_i=trans_pref(domi_list_cont_1,percept_list_cont_1)\n",
    "    pref_unbias.append(pref_i)\n",
    "    print('done')"
   ]
  },
  {
   "cell_type": "code",
   "execution_count": 62,
   "id": "8c0967b3",
   "metadata": {},
   "outputs": [
    {
     "data": {
      "text/plain": [
       "Text(0, 0.5, 'Transient preference')"
      ]
     },
     "execution_count": 62,
     "metadata": {},
     "output_type": "execute_result"
    },
    {
     "data": {
      "image/png": "[encoded data removed]",
      "text/plain": [
       "<Figure size 432x288 with 1 Axes>"
      ]
     },
     "metadata": {
      "needs_background": "light"
     },
     "output_type": "display_data"
    }
   ],
   "source": [
    "pref = [pref_i[:100000] for pref_i in pref]\n",
    "pref_ave = np.mean(np.array(pref),axis=0)\n",
    "plt.plot(pref_ave[:10000])\n",
    "pref_unbias = [pref_i[:100000] for pref_i in pref_unbias]\n",
    "pref_ave_unbias = np.mean(np.array(pref_unbias),axis=0)\n",
    "plt.plot(pref_ave_unbias[:10000])\n",
    "plt.legend(['context','no context'])\n",
    "plt.xlabel('no. samples')\n",
    "plt.ylabel('Transient preference')"
   ]
  },
  {
   "cell_type": "code",
   "execution_count": 67,
   "id": "e5562b23",
   "metadata": {},
   "outputs": [
    {
     "name": "stdout",
     "output_type": "stream",
     "text": [
      "done\n"
     ]
    }
   ],
   "source": [
    "z_ini = (np.random.rand(4,4)-0.5)*2\n",
    "state_list_cont_1_long = []\n",
    "#define initial z\n",
    "z = z_ini.copy()\n",
    "for i in range(int(2e6)):\n",
    "    z_star = proposal_function(z)\n",
    "    acc = sample_rejection_cont(z,z_star,mu = np.ones((5,5)))\n",
    "    if acc:\n",
    "        z = z_star\n",
    "    state_list_cont_1_long.append(z)"
   ]
  },
  {
   "cell_type": "code",
   "execution_count": 90,
   "id": "c4e1e38e",
   "metadata": {},
   "outputs": [],
   "source": [
    "z_ini = (np.random.rand(4,4)-0.5)*2\n",
    "state_list_cont_unbias_long = []\n",
    "#define initial z\n",
    "z = z_ini.copy()\n",
    "for i in range(int(2e6)):\n",
    "    z_star = proposal_function(z)\n",
    "    acc = sample_rejection_cont(z,z_star,mu = np.zeros((5,5)))\n",
    "    if acc:\n",
    "        z = z_star\n",
    "    state_list_cont_unbias_long.append(z)"
   ]
  },
  {
   "cell_type": "code",
   "execution_count": 79,
   "id": "2fd7dd3a",
   "metadata": {
    "scrolled": true
   },
   "outputs": [
    {
     "name": "stdout",
     "output_type": "stream",
     "text": [
      "done\n"
     ]
    }
   ],
   "source": [
    "state_num_cont_1_long = np.array([len(np.where(state>0)[0]) for state in state_list_cont_1_long])\n",
    "domi_list_cont_1_long, percept_list_cont_1_long = domi_period_count(state_num_cont_1_long)\n",
    "domi_list_cont_1_long = np.sort(domi_list_cont_1_long)[:-60]\n",
    "print('done')"
   ]
  },
  {
   "cell_type": "code",
   "execution_count": 91,
   "id": "37418755",
   "metadata": {},
   "outputs": [
    {
     "name": "stdout",
     "output_type": "stream",
     "text": [
      "done\n"
     ]
    }
   ],
   "source": [
    "state_num_cont_unbias_long = np.array([len(np.where(state>0)[0]) for state in state_list_cont_unbias_long])\n",
    "domi_list_cont_unbias_long, percept_list_cont_unbias_long = domi_period_count(state_num_cont_unbias_long)\n",
    "domi_list_cont_unbias_long = np.sort(domi_list_cont_unbias_long)[:-60]\n",
    "print('done')"
   ]
  },
  {
   "cell_type": "code",
   "execution_count": 80,
   "id": "e99c4f06",
   "metadata": {},
   "outputs": [
    {
     "data": {
      "text/plain": [
       "'plotted'"
      ]
     },
     "execution_count": 80,
     "metadata": {},
     "output_type": "execute_result"
    },
    {
     "data": {
      "image/png": "[encoded data removed]",
      "text/plain": [
       "<Figure size 432x288 with 1 Axes>"
      ]
     },
     "metadata": {
      "needs_background": "light"
     },
     "output_type": "display_data"
    }
   ],
   "source": [
    "hist(domi_list_cont_1_long,100)"
   ]
  },
  {
   "cell_type": "code",
   "execution_count": 87,
   "id": "3c4fb11f",
   "metadata": {},
   "outputs": [],
   "source": [
    "from scipy.optimize import curve_fit\n",
    "\n",
    "def gamma(x,a,b,c):\n",
    "    return c*np.exp(-b*x)*x**(a-1)\n",
    "\n",
    "def gamma_fit_plot(domi_period,n,n_cut=50):\n",
    "    domi_period = np.sort(domi_period)\n",
    "    domi_period = domi_period[:-n_cut]\n",
    "    y,bins=np.histogram(domi_period,n)\n",
    "    x = []\n",
    "    for i in range(1,int(n+1)):\n",
    "        x.append((bins[i]+bins[i-1])/2)\n",
    "    x=np.array(x)\n",
    "    popt,pcov = curve_fit(gamma,x/1000,y)\n",
    "    plt.plot(x/1000,gamma(x/1000,popt[0],popt[1],popt[2]))\n",
    "    plt.hist(domi_period/1000,int(n+1))\n",
    "    plt.xlabel('dominance duration')\n",
    "    plt.ylabel('density')\n",
    "    plt.legend(['fitted','histogram'])\n",
    "    return popt"
   ]
  },
  {
   "cell_type": "code",
   "execution_count": 97,
   "id": "f8563084",
   "metadata": {},
   "outputs": [
    {
     "data": {
      "text/plain": [
       "Text(0.5, 1.0, 'with context')"
      ]
     },
     "execution_count": 97,
     "metadata": {},
     "output_type": "execute_result"
    },
    {
     "data": {
      "image/png": "[encoded data removed]",
      "text/plain": [
       "<Figure size 432x288 with 1 Axes>"
      ]
     },
     "metadata": {
      "needs_background": "light"
     },
     "output_type": "display_data"
    }
   ],
   "source": [
    "gamma_fit_plot(domi_list_cont_1_long,80,n_cut=50)\n",
    "plt.title('with context')"
   ]
  },
  {
   "cell_type": "code",
   "execution_count": 98,
   "id": "ff08ed55",
   "metadata": {},
   "outputs": [
    {
     "data": {
      "text/plain": [
       "Text(0.5, 1.0, 'no context')"
      ]
     },
     "execution_count": 98,
     "metadata": {},
     "output_type": "execute_result"
    },
    {
     "data": {
      "image/png": "[encoded data removed]",
      "text/plain": [
       "<Figure size 432x288 with 1 Axes>"
      ]
     },
     "metadata": {
      "needs_background": "light"
     },
     "output_type": "display_data"
    }
   ],
   "source": [
    "gamma_fit_plot(domi_list_cont_unbias_long,50,n_cut=50)\n",
    "plt.title('no context')"
   ]
  },
  {
   "cell_type": "code",
   "execution_count": null,
   "id": "1d3084e5",
   "metadata": {},
   "outputs": [],
   "source": []
  }
 ],
 "metadata": {
  "kernelspec": {
   "display_name": "Python 3",
   "language": "python",
   "name": "python3"
  },
  "language_info": {
   "codemirror_mode": {
    "name": "ipython",
    "version": 3
   },
   "file_extension": ".py",
   "mimetype": "text/x-python",
   "name": "python",
   "nbconvert_exporter": "python",
   "pygments_lexer": "ipython3",
   "version": "3.8.8"
  }
 },
 "nbformat": 4,
 "nbformat_minor": 5
}
