{
 "cells": [
  {
   "cell_type": "code",
   "execution_count": 1,
   "id": "1d6b48e9",
   "metadata": {},
   "outputs": [],
   "source": [
    "import numpy as np\n",
    "import numpy.random as random\n",
    "import matplotlib.pyplot as plt"
   ]
  },
  {
   "cell_type": "code",
   "execution_count": 2,
   "id": "f28815c8",
   "metadata": {},
   "outputs": [],
   "source": [
    "#testing parallel run of shorter simulations for Gershman 2012's model, p is the number of simulations to run in parallel"
   ]
  },
  {
   "cell_type": "code",
   "execution_count": 3,
   "id": "56d8ca07",
   "metadata": {},
   "outputs": [],
   "source": [
    "def p_w_new(index,w,x_l,x_r,pi_l,pi_r,beta,var_l,var_r,b,tau,p):\n",
    "    #index: the index of the weight to be sampled, tuple (i,j)\n",
    "    #var_1: right mode; var_0: left mode\n",
    "    i,j = index[0],index[1]\n",
    "    s_n = w[:,i,j]*x_l[:,i,j]+(1-w[:,i,j])*x_r[:,i,j]\n",
    "    E_s = (b[:,i,j]-s_n)**2\n",
    "    w_extended = np.concatenate((w[:,:,0].reshape(p,-1,1),w,w[:,:,-1].reshape(p,-1,1)),axis=2)\n",
    "    w_extended = np.concatenate((w_extended[:,0,:].reshape(p,1,-1),w_extended,w_extended[:,-1,:].reshape(p,1,-1)),axis=1)\n",
    "    E_s = E_s + beta*((w_extended[:,i+1,j+1]-w_extended[:,i,j+1])**2+(w_extended[:,i+1,j+1]-w_extended[:,i+1,j])**2)\n",
    "    E_s = E_s + beta*((w_extended[:,i+1,j+1]-w_extended[:,i+2,j+1])**2+(w_extended[:,i+1,j+1]-w_extended[:,i+1,j+2])**2)\n",
    "    E_x = 1/(2*var_l)*pi_l[:,i,j]*(x_l[:,i,j]-s_n)**2+1/(2*var_r)*pi_r[:,i,j]*(x_r[:,i,j]-s_n)**2\n",
    "    return np.exp(-tau*(E_x+E_s))"
   ]
  },
  {
   "cell_type": "code",
   "execution_count": 4,
   "id": "37c317af",
   "metadata": {},
   "outputs": [],
   "source": [
    "def p_pi_l_new(index,w,x_l,x_r,pi_l,var_l,b,tau,gamma,p):\n",
    "    #sparse coefficient alpha TBC\n",
    "    i,j = index[0],index[1]\n",
    "    s_n = w[:,i,j]*x_l[:,i,j]+(1-w[:,i,j])*x_r[:,i,j]\n",
    "    E_xl = 1/(2*var_l)*pi_l[:,i,j]*(x_l[:,i,j]-s_n)**2\n",
    "    pi_extended = np.concatenate((pi_l[:,:,0].reshape(p,-1,1),pi_l,pi_l[:,:,-1].reshape(p,-1,1)),axis=2)\n",
    "    pi_extended = np.concatenate((pi_extended[:,0,:].reshape(p,1,-1),pi_extended,pi_extended[:,-1,:].reshape(p,1,-1)),axis=1)\n",
    "    #E_pi_l = alpha*(pi_extended[i+2,j+1]+pi_extended[i+1,j+2]+pi_extended[i,j+1]+pi_extended[i+1,j])\n",
    "    '''E_pi_l = E_pi_l + gamma*((pi_extended[:,i+1,j+1]-pi_extended[:,i,j+1])**2+(pi_extended[:i+1,j+1]-pi_extended[:,i+1,j])**2)'''\n",
    "    E_pi_l = gamma*((pi_extended[:,i+1,j+1]-pi_extended[:,i,j+1])**2+(pi_extended[:,i+1,j+1]-pi_extended[:,i+1,j])**2)\n",
    "    E_pi_l = E_pi_l + gamma*((pi_extended[:,i+1,j+1]-pi_extended[:,i+2,j+1])**2+(pi_extended[:,i+1,j+1]-pi_extended[:,i+1,j+2])**2)\n",
    "    return np.exp(-tau*(E_xl+E_pi_l))"
   ]
  },
  {
   "cell_type": "code",
   "execution_count": 5,
   "id": "77a8527c",
   "metadata": {},
   "outputs": [],
   "source": [
    "def p_pi_r_new(index,w,x_l,x_r,pi_r,var_r,b,tau,gamma,p):\n",
    "    #sparse coefficient alpha TBC\n",
    "    i,j = index[0],index[1]\n",
    "    s_n = w[:,i,j]*x_l[:,i,j]+(1-w[:,i,j])*x_r[:,i,j]\n",
    "    E_xr = 1/(2*var_r)*pi_r[:,i,j]*(x_r[:,i,j]-s_n)**2\n",
    "    pi_extended = np.concatenate((pi_r[:,:,0].reshape(p,-1,1),pi_r,pi_r[:,:,-1].reshape(p,-1,1)),axis=2)\n",
    "    pi_extended = np.concatenate((pi_extended[:,0,:].reshape(p,1,-1),pi_extended,pi_extended[:,-1,:].reshape(p,1,-1)),axis=1)\n",
    "    #E_pi_l = alpha*(pi_extended[i+2,j+1]+pi_extended[i+1,j+2]+pi_extended[i,j+1]+pi_extended[i+1,j])\n",
    "    '''E_pi_l = E_pi_l + gamma*((pi_extended[:,i+1,j+1]-pi_extended[:,i,j+1])**2+(pi_extended[:i+1,j+1]-pi_extended[:,i+1,j])**2)'''\n",
    "    E_pi_r = gamma*((pi_extended[:,i+1,j+1]-pi_extended[:,i,j+1])**2+(pi_extended[:,i+1,j+1]-pi_extended[:,i+1,j])**2)\n",
    "    E_pi_r = E_pi_r + gamma*((pi_extended[:,i+1,j+1]-pi_extended[:,i+2,j+1])**2+(pi_extended[:,i+1,j+1]-pi_extended[:,i+1,j+2])**2)\n",
    "    return np.exp(-tau*(E_xr+E_pi_r))"
   ]
  },
  {
   "cell_type": "code",
   "execution_count": 6,
   "id": "22f24c22",
   "metadata": {},
   "outputs": [],
   "source": [
    "def proposal_function_new(z, index, p, sigma = 1):\n",
    "    #generate a new proposal from the current sample\n",
    "    #change only one element at a time!\n",
    "    z_star = z.copy()\n",
    "    i,j = index[0],index[1]\n",
    "    z_star[:,i,j] = z_star[:,i,j] + sigma*random.normal(size = (p))\n",
    "    return z_star"
   ]
  },
  {
   "cell_type": "code",
   "execution_count": 7,
   "id": "3c202cd9",
   "metadata": {},
   "outputs": [],
   "source": [
    "def binary_proposal_new(z,index):\n",
    "    #p: the probability of switch, to stablize the system\n",
    "    z_star = z.copy()\n",
    "    z_star[:,index[0],index[1]] = 1-z[:,index[0],index[1]]\n",
    "    return z_star"
   ]
  },
  {
   "cell_type": "code",
   "execution_count": 8,
   "id": "be56e949",
   "metadata": {},
   "outputs": [],
   "source": [
    "def sample_rejection_w_new(index,w,w_star,x_l,x_r,pi_l,pi_r,beta,var_l,var_r,b,tau,p):\n",
    "    p_w_cur = p_w_new(index,w,x_l,x_r,pi_l,pi_r,beta,var_l,var_r,b,tau,p)\n",
    "    p_w_star = p_w_new(index,w_star,x_l,x_r,pi_l,pi_r,beta,var_l,var_r,b,tau,p)\n",
    "    p_acc = p_w_star/p_w_cur\n",
    "    p_ran = random.random(p)\n",
    "    acc = np.sign(p_acc-p_ran).astype('int')\n",
    "    return acc\n",
    "    \n",
    "def sample_rejection_pi_l_new(index,w,x_l,x_r,pi_l,pi_l_star,var_l,b,tau,gamma,p):\n",
    "    p_pi_l_cur = p_pi_l_new(index,w,x_l,x_r,pi_l,var_l,b,tau,gamma,p)\n",
    "    p_pi_l_star = p_pi_l_new(index,w,x_l,x_r,pi_l_star,var_l,b,tau,gamma,p)\n",
    "    p_acc = p_pi_l_star/p_pi_l_cur\n",
    "    p_ran = random.random(p)\n",
    "    acc = np.sign(p_acc-p_ran).astype('int')\n",
    "    return acc\n",
    "    \n",
    "def sample_rejection_pi_r_new(index,w,x_l,x_r,pi_r,pi_r_star,var_r,b,tau,gamma,p):\n",
    "    p_pi_r_cur = p_pi_r_new(index,w,x_l,x_r,pi_r,var_r,b,tau,gamma,p)\n",
    "    p_pi_r_star = p_pi_r_new(index,w,x_l,x_r,pi_r_star,var_r,b,tau,gamma,p)\n",
    "    p_acc = p_pi_r_star/p_pi_r_cur\n",
    "    p_ran = random.random(p)\n",
    "    acc = np.sign(p_acc-p_ran).astype('int')\n",
    "    return acc"
   ]
  },
  {
   "cell_type": "code",
   "execution_count": 11,
   "id": "4bbeb8c7",
   "metadata": {
    "scrolled": true
   },
   "outputs": [],
   "source": [
    "def simulation_new(var_l,var_r,beta,gamma,alpha,tau,b,dim,p,no_sample):\n",
    "    #p: no. parallel sampling sequences\n",
    "    #no. sample: no. samples in each sequence\n",
    "    #dim: dimension of each MRF\n",
    "    sampling_order_i = np.arange(dim)\n",
    "    sampling_order_j = np.arange(dim)\n",
    "\n",
    "    #set initial condition for w, pi_r, pi_l\n",
    "    #set visual input x_r, x_l as conflicting input\n",
    "    x_l = np.ones((p,dim,dim))\n",
    "    x_r = np.zeros((p,dim,dim))\n",
    "    w = random.rand(p,dim,dim)\n",
    "    pi_l = random.randint(0,2,(p,dim,dim))\n",
    "    pi_r = random.randint(0,2,(p,dim,dim))\n",
    "\n",
    "    s = []\n",
    "    for m in range(int(no_sample)):\n",
    "        #order of sweep is randomnized\n",
    "        random.shuffle(sampling_order_i)\n",
    "        random.shuffle(sampling_order_j)\n",
    "        #the following for loop update on pi_r\n",
    "        for i in sampling_order_i:\n",
    "            for j in sampling_order_j:\n",
    "                index = (i,j)\n",
    "                pi_r_star = binary_proposal_new(pi_r, index)\n",
    "                acc_1 = sample_rejection_pi_r_new(index,w,x_l,x_r,pi_r,pi_r_star,var_r,b,tau,gamma,p)\n",
    "                for j in range(p):\n",
    "                    if acc_1[j] == 1:\n",
    "                        pi_r[j,:,:] = pi_r_star[j,:,:]\n",
    "\n",
    "        #the following for loop update on pi_l\n",
    "        for i in sampling_order_i:\n",
    "            for j in sampling_order_j:\n",
    "                index = (i,j)\n",
    "                pi_l_star = binary_proposal_new(pi_l, index)\n",
    "                acc_2 = sample_rejection_pi_l_new(index,w,x_l,x_r,pi_l,pi_l_star,var_l,b,tau,gamma,p)\n",
    "                for j in range(p):\n",
    "                    if acc_2[j] == 1:\n",
    "                        pi_l[j,:,:] = pi_l_star[j,:,:]\n",
    "    \n",
    "            #the following for loop update on w\n",
    "            for i in sampling_order_i:\n",
    "                for j in sampling_order_j:\n",
    "                    index = (i,j)\n",
    "                    w_star = proposal_function_new(w, index, p)\n",
    "                    acc_3 = sample_rejection_w_new(index,w,w_star,x_l,x_r,pi_l,pi_r,beta,var_l,var_r,b,tau,p)\n",
    "                    for j in range(p):\n",
    "                        if acc_3[j] == 1:\n",
    "                            w[j,:,:] = w_star[j,:,:]\n",
    "        \n",
    "        s_i = w*x_l+(1-w)*x_r\n",
    "        s.append(s_i)\n",
    "    return np.array(s)"
   ]
  },
  {
   "cell_type": "code",
   "execution_count": 12,
   "id": "31505182",
   "metadata": {},
   "outputs": [
    {
     "name": "stdout",
     "output_type": "stream",
     "text": [
      "done\n",
      "done\n",
      "done\n",
      "done\n",
      "done\n",
      "done\n",
      "done\n",
      "done\n",
      "done\n"
     ]
    }
   ],
   "source": [
    "var_l,var_r,beta,gamma,alpha,tau,b,dim,p,no_sample = 0.005,0.001,10,10,0,1/100,0.5*np.ones((200,5,5)),5,200,11000\n",
    "s_0005_0001 = simulation_new(var_l,var_r,beta,gamma,alpha,tau,b,dim,p,no_sample)\n",
    "print('done')\n",
    "var_l,var_r,beta,gamma,alpha,tau,b,dim,p,no_sample = 0.004,0.001,10,10,0,1/100,0.5*np.ones((200,5,5)),5,200,11000\n",
    "s_0004_0001 = simulation_new(var_l,var_r,beta,gamma,alpha,tau,b,dim,p,no_sample)\n",
    "print('done')\n",
    "var_l,var_r,beta,gamma,alpha,tau,b,dim,p,no_sample = 0.003,0.001,10,10,0,1/100,0.5*np.ones((200,5,5)),5,200,11000\n",
    "s_0003_0001 = simulation_new(var_l,var_r,beta,gamma,alpha,tau,b,dim,p,no_sample)\n",
    "print('done')\n",
    "var_l,var_r,beta,gamma,alpha,tau,b,dim,p,no_sample = 0.002,0.001,10,10,0,1/100,0.5*np.ones((200,5,5)),5,200,11000\n",
    "s_0002_0001 = simulation_new(var_l,var_r,beta,gamma,alpha,tau,b,dim,p,no_sample)\n",
    "print('done')\n",
    "var_l,var_r,beta,gamma,alpha,tau,b,dim,p,no_sample = 0.001,0.001,10,10,0,1/100,0.5*np.ones((200,5,5)),5,200,11000\n",
    "s_0001_0001 = simulation_new(var_l,var_r,beta,gamma,alpha,tau,b,dim,p,no_sample)\n",
    "print('done')\n",
    "var_l,var_r,beta,gamma,alpha,tau,b,dim,p,no_sample = 0.00075,0.001,10,10,0,1/100,0.5*np.ones((200,5,5)),5,200,11000\n",
    "s_000075_0001 = simulation_new(var_l,var_r,beta,gamma,alpha,tau,b,dim,p,no_sample)\n",
    "print('done')\n",
    "var_l,var_r,beta,gamma,alpha,tau,b,dim,p,no_sample = 0.0005,0.001,10,10,0,1/100,0.5*np.ones((200,5,5)),5,200,11000\n",
    "s_00005_0001 = simulation_new(var_l,var_r,beta,gamma,alpha,tau,b,dim,p,no_sample)\n",
    "print('done')\n",
    "var_l,var_r,beta,gamma,alpha,tau,b,dim,p,no_sample = 0.00025,0.001,10,10,0,1/100,0.5*np.ones((200,5,5)),5,200,11000\n",
    "s_000025_0001 = simulation_new(var_l,var_r,beta,gamma,alpha,tau,b,dim,p,no_sample)\n",
    "print('done')\n",
    "var_l,var_r,beta,gamma,alpha,tau,b,dim,p,no_sample = 0.00015,0.001,10,10,0,1/100,0.5*np.ones((200,5,5)),5,200,11000\n",
    "s_000015_0001 = simulation_new(var_l,var_r,beta,gamma,alpha,tau,b,dim,p,no_sample)\n",
    "print('done')\n",
    "var_l,var_r,beta,gamma,alpha,tau,b,dim,p,no_sample = 0.0001,0.001,10,10,0,1/100,0.5*np.ones((200,5,5)),5,200,11000\n",
    "s_00001_0001 = simulation_new(var_l,var_r,beta,gamma,alpha,tau,b,dim,p,no_sample)"
   ]
  },
  {
   "cell_type": "code",
   "execution_count": 13,
   "id": "8780e171",
   "metadata": {},
   "outputs": [],
   "source": [
    "#from node's state to the no. node > 0.5 in each step\n",
    "def node_count(s,p,no_sample):\n",
    "    state_no_array = []\n",
    "    for i in range(p):\n",
    "        state_no_array_i = []\n",
    "        for j in range(no_sample):\n",
    "            state_no_array_i.append(len(np.where(s[j,i,:,:]>0.5)[0]))\n",
    "        state_no_array.append(state_no_array_i)\n",
    "    state_no_array = np.array(state_no_array)\n",
    "    return state_no_array"
   ]
  },
  {
   "cell_type": "code",
   "execution_count": 14,
   "id": "daa52eb9",
   "metadata": {},
   "outputs": [],
   "source": [
    "def domi_period_count(state_list_input,dim):\n",
    "    cross_list = []\n",
    "    #element in cross list: (index,cross_type)\n",
    "    #cross type = 1: upper bound going up\n",
    "    #cross type = 2: lower bound going down\n",
    "    for i in range(1,len(state_list_input)):\n",
    "        if state_list_input[i-1]>dim**2*0.1 and state_list_input[i]<dim**2*0.1:\n",
    "            cross_list.append((i,2))\n",
    "        elif state_list_input[i-1]<dim**2*0.9 and state_list_input[i]>dim**2*0.9:\n",
    "            cross_list.append((i,1))\n",
    "    switch_list = [cross_list[0]]\n",
    "    cross = cross_list[0][1]\n",
    "    for i in range(1,len(cross_list)):\n",
    "        if cross_list[i][1] != cross:\n",
    "            cross = cross_list[i][1]\n",
    "            switch_list.append(cross_list[i])\n",
    "    domi_list =[]\n",
    "    for i in range(1,len(switch_list)):\n",
    "        domi_list.append(switch_list[i][0]-switch_list[i-1][0])\n",
    "    return domi_list\n",
    "\n",
    "def hist_plot(x,n):\n",
    "    plt.hist(x,n)\n",
    "    return np.mean(x),np.std(x)\n",
    "\n",
    "def generate_domi_list(state_count,dim):\n",
    "    domi_list = []\n",
    "    for state_list_i in state_count:\n",
    "        domi_list_i = domi_period_count(state_list_i,dim)\n",
    "        domi_list = domi_list + domi_list_i\n",
    "    return domi_list"
   ]
  },
  {
   "cell_type": "code",
   "execution_count": 15,
   "id": "2c5ab1e6",
   "metadata": {},
   "outputs": [],
   "source": [
    "ave_0005_0001 = np.mean(np.array(generate_domi_list(node_count(s_0005_0001,p,no_sample),dim)))\n",
    "\n",
    "ave_0004_0001 = np.mean(np.array(generate_domi_list(node_count(s_0004_0001,p,no_sample),dim)))\n",
    "\n",
    "ave_0003_0001 = np.mean(np.array(generate_domi_list(node_count(s_0003_0001,p,no_sample),dim)))\n",
    "\n",
    "ave_0002_0001 = np.mean(np.array(generate_domi_list(node_count(s_0002_0001,p,no_sample),dim)))\n",
    "\n",
    "ave_0001_0001 = np.mean(np.array(generate_domi_list(node_count(s_0001_0001,p,no_sample),dim)))\n",
    "\n",
    "ave_000075_0001 = np.mean(np.array(generate_domi_list(node_count(s_000075_0001,p,no_sample),dim)))\n",
    "\n",
    "ave_00005_0001 = np.mean(np.array(generate_domi_list(node_count(s_00005_0001,p,no_sample),dim)))\n",
    "\n",
    "ave_000025_0001 = np.mean(np.array(generate_domi_list(node_count(s_000025_0001,p,no_sample),dim)))\n",
    "\n",
    "ave_000015_0001 = np.mean(np.array(generate_domi_list(node_count(s_000015_0001,p,no_sample),dim)))\n",
    "\n",
    "ave_00001_0001 = np.mean(np.array(generate_domi_list(node_count(s_00001_0001,p,no_sample),dim)))"
   ]
  },
  {
   "cell_type": "code",
   "execution_count": 16,
   "id": "689f0288",
   "metadata": {
    "scrolled": true
   },
   "outputs": [
    {
     "name": "stdout",
     "output_type": "stream",
     "text": [
      "570.29375525063\n",
      "575.2022695035461\n",
      "502.3507260644844\n",
      "423.2995694074226\n",
      "328.4507392996109\n",
      "309.5382128159906\n",
      "290.3215707812715\n",
      "288.30039579636957\n",
      "293.25638888888886\n",
      "291.12189054726366\n"
     ]
    }
   ],
   "source": [
    "print(ave_0005_0001)\n",
    "print(ave_0004_0001)\n",
    "print(ave_0003_0001)\n",
    "print(ave_0002_0001)\n",
    "print(ave_0001_0001)\n",
    "print(ave_000075_0001)\n",
    "print(ave_00005_0001)\n",
    "print(ave_000025_0001)\n",
    "print(ave_000015_0001)\n",
    "print(ave_00001_0001)"
   ]
  },
  {
   "cell_type": "code",
   "execution_count": 17,
   "id": "82be4493",
   "metadata": {},
   "outputs": [],
   "source": [
    "ave_array_1 = np.array([ave_0005_0001,ave_0004_0001,ave_0003_0001,ave_0002_0001,ave_0001_0001])\n",
    "ave_array_2 = np.array([ave_00005_0001,ave_000025_0001,ave_000015_0001,ave_00001_0001])"
   ]
  },
  {
   "cell_type": "code",
   "execution_count": 18,
   "id": "234b65c0",
   "metadata": {},
   "outputs": [],
   "source": [
    "diff_cont_1 = np.array([(1/0.001-1/0.005),(1/0.001-1/0.004),(1/0.001-1/0.003),(1/0.001-1/0.002),0])\n",
    "diff_cont_2 = np.array([(1/0.0005-1/0.001),(1/0.00025-1/0.001),(1/0.00015-1/0.001),(1/0.0001-1/0.001)])"
   ]
  },
  {
   "cell_type": "code",
   "execution_count": 19,
   "id": "7a335fa7",
   "metadata": {},
   "outputs": [
    {
     "data": {
      "text/plain": [
       "Text(0, 0.5, 'mean dominance duration')"
      ]
     },
     "execution_count": 19,
     "metadata": {},
     "output_type": "execute_result"
    },
    {
     "data": {
      "image/png": "[encoded data removed]",
      "text/plain": [
       "<Figure size 432x288 with 1 Axes>"
      ]
     },
     "metadata": {
      "needs_background": "light"
     },
     "output_type": "display_data"
    }
   ],
   "source": [
    "plt.scatter(diff_cont_1,ave_array_1)\n",
    "plt.scatter(diff_cont_2,ave_array_2)\n",
    "plt.legend(['var of mode 1>var of mode 0','var of mode 1<var of mode 0'])\n",
    "plt.xlabel('difference in contrast')\n",
    "plt.ylabel('mean dominance duration')"
   ]
  },
  {
   "cell_type": "code",
   "execution_count": 20,
   "id": "f4e1bb59",
   "metadata": {},
   "outputs": [],
   "source": [
    "def domi_period_count_new(state_list_input,dim):\n",
    "    cross_list = []\n",
    "    #element in cross list: (index,cross_type)\n",
    "    #cross type = 1: upper bound going up\n",
    "    #cross type = 2: lower bound going down\n",
    "    for i in range(1,len(state_list_input)):\n",
    "        if state_list_input[i-1]>0.1*dim**2 and state_list_input[i]<0.1*dim**2:\n",
    "            cross_list.append((i,2))\n",
    "        elif state_list_input[i-1]<0.9*dim**2 and state_list_input[i]>0.9*dim**2:\n",
    "            cross_list.append((i,1))\n",
    "    switch_list = [cross_list[0]]\n",
    "    cross = cross_list[0][1]\n",
    "    for i in range(1,len(cross_list)):\n",
    "        if cross_list[i][1] != cross:\n",
    "            cross = cross_list[i][1]\n",
    "            switch_list.append(cross_list[i])\n",
    "    domi_list =[]\n",
    "    percept_list = []\n",
    "    for i in range(1,len(switch_list)):\n",
    "        domi_list.append(switch_list[i][0]-switch_list[i-1][0])\n",
    "        percept_list.append(switch_list[i-1][1])\n",
    "    return domi_list,percept_list\n",
    "\n",
    "def generate_domi_percept_list(state_count,dim):\n",
    "    domi_list = []\n",
    "    percept_list = []\n",
    "    for state_list_i in state_count:\n",
    "        domi_list_i,percept_list_i = domi_period_count_new(state_list_i,dim)\n",
    "        domi_list = domi_list + domi_list_i\n",
    "        percept_list = percept_list+percept_list_i\n",
    "    return domi_list,percept_list"
   ]
  },
  {
   "cell_type": "code",
   "execution_count": 21,
   "id": "29818c61",
   "metadata": {},
   "outputs": [],
   "source": [
    "domi_list_0005_0001,percept_list_0005_0001 = generate_domi_percept_list(node_count(s_0005_0001,p,no_sample),dim)\n",
    "domi_list_0004_0001,percept_list_0004_0001 = generate_domi_percept_list(node_count(s_0004_0001,p,no_sample),dim)\n",
    "domi_list_0003_0001,percept_list_0003_0001 = generate_domi_percept_list(node_count(s_0003_0001,p,no_sample),dim)\n",
    "domi_list_0002_0001,percept_list_0002_0001 = generate_domi_percept_list(node_count(s_0002_0001,p,no_sample),dim)\n",
    "domi_list_0001_0001,percept_list_0001_0001 = generate_domi_percept_list(node_count(s_0001_0001,p,no_sample),dim)\n",
    "domi_list_000075_0001,percept_list_000075_0001 = generate_domi_percept_list(node_count(s_000075_0001,p,no_sample),dim)\n",
    "domi_list_00005_0001,percept_list_00005_0001 = generate_domi_percept_list(node_count(s_00005_0001,p,no_sample),dim)\n",
    "domi_list_000025_0001,percept_list_000025_0001 = generate_domi_percept_list(node_count(s_000025_0001,p,no_sample),dim)\n",
    "domi_list_000015_0001,percept_list_000015_0001 = generate_domi_percept_list(node_count(s_000015_0001,p,no_sample),dim)\n",
    "domi_list_00001_0001,percept_list_00001_0001 = generate_domi_percept_list(node_count(s_00001_0001,p,no_sample),dim)"
   ]
  },
  {
   "cell_type": "code",
   "execution_count": 22,
   "id": "9cb20ec8",
   "metadata": {},
   "outputs": [],
   "source": [
    "def predomi_count(domi_period,domi_percept):\n",
    "    domi_1 = 0\n",
    "    domi_2 = 0\n",
    "    for i in range(len(domi_period)):\n",
    "        if domi_percept[i] == 1:\n",
    "            domi_1 = domi_1 + domi_period[i]\n",
    "        else:\n",
    "            domi_2 = domi_2 + domi_period[i]\n",
    "    return domi_1/np.sum(domi_period),domi_2/np.sum(domi_period)\n",
    "\n",
    "def ave_domi_count(domi_period,domi_percept):\n",
    "    domi_1_t = 0\n",
    "    domi_2_t = 0\n",
    "    domi_1_count = 0\n",
    "    domi_2_count = 0\n",
    "    for i in range(len(domi_period)):\n",
    "        if int(domi_percept[i]) == 1:\n",
    "            domi_1_t = domi_1_t + domi_period[i]\n",
    "            domi_1_count = domi_1_count +1\n",
    "        else:\n",
    "            domi_2_t = domi_2_t + domi_period[i]\n",
    "            domi_2_count = domi_2_count +1\n",
    "    return domi_1_t/domi_1_count, domi_2_t/domi_2_count"
   ]
  },
  {
   "cell_type": "code",
   "execution_count": 23,
   "id": "08bd3797",
   "metadata": {},
   "outputs": [],
   "source": [
    "predomi_list = [predomi_count(domi_list_0005_0001,percept_list_0005_0001)[0]]\n",
    "predomi_list.append(predomi_count(domi_list_0004_0001,percept_list_0004_0001)[0])\n",
    "predomi_list.append(predomi_count(domi_list_0003_0001,percept_list_0003_0001)[0])\n",
    "predomi_list.append(predomi_count(domi_list_0002_0001,percept_list_0002_0001)[0])\n",
    "predomi_list.append(predomi_count(domi_list_0001_0001,percept_list_0001_0001)[0])\n",
    "predomi_list.append(predomi_count(domi_list_000075_0001,percept_list_000075_0001)[0])\n",
    "predomi_list.append(predomi_count(domi_list_00005_0001,percept_list_00005_0001)[0])\n",
    "predomi_list.append(predomi_count(domi_list_000025_0001,percept_list_000025_0001)[0])\n",
    "predomi_list.append(predomi_count(domi_list_000015_0001,percept_list_000015_0001)[0])\n",
    "predomi_list.append(predomi_count(domi_list_00001_0001,percept_list_00001_0001)[0])"
   ]
  },
  {
   "cell_type": "code",
   "execution_count": 24,
   "id": "3dbb0a0f",
   "metadata": {},
   "outputs": [],
   "source": [
    "contrast_array = np.array([1/0.005,1/0.004,1/0.003,1/0.002,1/0.001,1/0.00075,1/0.0005,1/0.00025,1/0.00015,1/0.0001])"
   ]
  },
  {
   "cell_type": "code",
   "execution_count": 25,
   "id": "4bdd2be4",
   "metadata": {
    "scrolled": true
   },
   "outputs": [
    {
     "data": {
      "text/plain": [
       "Text(0, 0.5, 'predominance of mode 1')"
      ]
     },
     "execution_count": 25,
     "metadata": {},
     "output_type": "execute_result"
    },
    {
     "data": {
      "image/png": "[encoded data removed]",
      "text/plain": [
       "<Figure size 432x288 with 1 Axes>"
      ]
     },
     "metadata": {
      "needs_background": "light"
     },
     "output_type": "display_data"
    }
   ],
   "source": [
    "plt.scatter(contrast_array,np.array(predomi_list))\n",
    "plt.xlabel('contrast of mode 1')\n",
    "plt.ylabel('predominance of mode 1')"
   ]
  },
  {
   "cell_type": "code",
   "execution_count": 26,
   "id": "d3ae9cea",
   "metadata": {},
   "outputs": [],
   "source": [
    "ave_domi_1 = []\n",
    "ave_domi_2 = []\n",
    "ave_0001_0005 = ave_domi_count(domi_list_0005_0001,percept_list_0005_0001)\n",
    "ave_domi_1.append(ave_0001_0005[0])\n",
    "ave_domi_2.append(ave_0001_0005[1])\n",
    "ave_0001_0004 = ave_domi_count(domi_list_0004_0001,percept_list_0004_0001)\n",
    "ave_domi_1.append(ave_0001_0004[0])\n",
    "ave_domi_2.append(ave_0001_0004[1])\n",
    "ave_0001_0003 = ave_domi_count(domi_list_0003_0001,percept_list_0003_0001)\n",
    "ave_domi_1.append(ave_0001_0003[0])\n",
    "ave_domi_2.append(ave_0001_0003[1])\n",
    "ave_0001_0002 = ave_domi_count(domi_list_0002_0001,percept_list_0002_0001)\n",
    "ave_domi_1.append(ave_0001_0002[0])\n",
    "ave_domi_2.append(ave_0001_0002[1])\n",
    "ave_0001_0001 = ave_domi_count(domi_list_0001_0001,percept_list_0001_0001)\n",
    "ave_domi_1.append(ave_0001_0001[0])\n",
    "ave_domi_2.append(ave_0001_0001[1])\n",
    "ave_0001_000075 = ave_domi_count(domi_list_000075_0001,percept_list_000075_0001)\n",
    "ave_domi_1.append(ave_0001_000075[0])\n",
    "ave_domi_2.append(ave_0001_000075[1])\n",
    "ave_0001_00005 = ave_domi_count(domi_list_00005_0001,percept_list_00005_0001)\n",
    "ave_domi_1.append(ave_0001_00005[0])\n",
    "ave_domi_2.append(ave_0001_00005[1])\n",
    "ave_0001_000025 = ave_domi_count(domi_list_000025_0001,percept_list_000025_0001)\n",
    "ave_domi_1.append(ave_0001_000025[0])\n",
    "ave_domi_2.append(ave_0001_000025[1])\n",
    "ave_0001_000015 = ave_domi_count(domi_list_000015_0001,percept_list_000015_0001)\n",
    "ave_domi_1.append(ave_0001_000015[0])\n",
    "ave_domi_2.append(ave_0001_000015[1])\n",
    "ave_0001_00001 = ave_domi_count(domi_list_00001_0001,percept_list_00001_0001)\n",
    "ave_domi_1.append(ave_0001_00001[0])\n",
    "ave_domi_2.append(ave_0001_00001[1])"
   ]
  },
  {
   "cell_type": "code",
   "execution_count": 27,
   "id": "b24db195",
   "metadata": {
    "scrolled": true
   },
   "outputs": [
    {
     "data": {
      "text/plain": [
       "Text(0, 0.5, 'mean dominance duration')"
      ]
     },
     "execution_count": 27,
     "metadata": {},
     "output_type": "execute_result"
    },
    {
     "data": {
      "image/png": "[encoded data removed]",
      "text/plain": [
       "<Figure size 432x288 with 1 Axes>"
      ]
     },
     "metadata": {
      "needs_background": "light"
     },
     "output_type": "display_data"
    }
   ],
   "source": [
    "plt.plot(contrast_array,np.array(ave_domi_1))\n",
    "plt.plot(contrast_array,np.array(ave_domi_2))\n",
    "plt.legend(['percept 1', 'percept 0'])\n",
    "plt.axvline(x = 1000, linestyle='dashed', color = 'k')\n",
    "plt.xlabel('contrast of mode 1')\n",
    "plt.ylabel('mean dominance duration')"
   ]
  },
  {
   "cell_type": "code",
   "execution_count": 28,
   "id": "8f1c23ee",
   "metadata": {
    "scrolled": true
   },
   "outputs": [
    {
     "name": "stdout",
     "output_type": "stream",
     "text": [
      "[713.6341189674523, 746.6793849658314, 640.4913920314806, 516.1242287124641, 326.583644278607, 273.45873715124816, 207.53177441540578, 154.81637107776262, 127.884561891516, 114.64546460176992]\n",
      "[427.5142537730576, 404.98530243075186, 364.0059113300493, 331.04415372035976, 330.3219071361795, 345.6813768755516, 372.81633771929825, 421.89377389404694, 458.1694868238558, 467.4033149171271]\n",
      "209.40291958303902\n",
      "-153.296760809639\n"
     ]
    }
   ],
   "source": [
    "print(ave_domi_1)\n",
    "print(ave_domi_2)\n",
    "print(326.3339540657976-116.93103448275862)\n",
    "print(327.86583850931675-481.16259931895576)"
   ]
  },
  {
   "cell_type": "code",
   "execution_count": 29,
   "id": "09e252bb",
   "metadata": {
    "scrolled": false
   },
   "outputs": [
    {
     "data": {
      "text/plain": [
       "Text(0.5, 0, 'state of single node')"
      ]
     },
     "execution_count": 29,
     "metadata": {},
     "output_type": "execute_result"
    },
    {
     "data": {
      "image/png": "[encoded data removed]",
      "text/plain": [
       "<Figure size 432x288 with 1 Axes>"
      ]
     },
     "metadata": {
      "needs_background": "light"
     },
     "output_type": "display_data"
    }
   ],
   "source": [
    "plt.hist(s_000075_0001.reshape(-1),500)\n",
    "plt.ylabel('density')\n",
    "plt.xlabel('state of single node')"
   ]
  },
  {
   "cell_type": "code",
   "execution_count": 98,
   "id": "da8d9430",
   "metadata": {},
   "outputs": [
    {
     "name": "stdout",
     "output_type": "stream",
     "text": [
      "done\n",
      "done\n",
      "done\n",
      "done\n",
      "done\n"
     ]
    }
   ],
   "source": [
    "var_0,var_1,beta,gamma,alpha,tau,b,dim,p,no_sample = 0.005,0.005,10,10,0,1/100,0.5*np.ones((200,5,5)),5,200,11000\n",
    "s_0005_0005 = simulation_new(var_0,var_1,beta,gamma,alpha,tau,b,dim,p,no_sample)\n",
    "print('done')\n",
    "\n",
    "var_0,var_1,beta,gamma,alpha,tau,b,dim,p,no_sample = 0.0025,0.0025,10,10,0,1/100,0.5*np.ones((200,5,5)),5,200,11000\n",
    "s_00025_00025 = simulation_new(var_0,var_1,beta,gamma,alpha,tau,b,dim,p,no_sample)\n",
    "print('done')\n",
    "\n",
    "\n",
    "var_0,var_1,beta,gamma,alpha,tau,b,dim,p,no_sample = 0.00075,0.00075,10,10,0,1/100,0.5*np.ones((200,5,5)),5,200,11000\n",
    "s_000075_000075 = simulation_new(var_0,var_1,beta,gamma,alpha,tau,b,dim,p,no_sample)\n",
    "print('done')\n",
    "\n",
    "var_0,var_1,beta,gamma,alpha,tau,b,dim,p,no_sample = 0.0005,0.0005,10,10,0,1/100,0.5*np.ones((200,5,5)),5,200,11000\n",
    "s_00005_00005 = simulation_new(var_0,var_1,beta,gamma,alpha,tau,b,dim,p,no_sample)\n",
    "print('done')\n",
    "\n",
    "var_0,var_1,beta,gamma,alpha,tau,b,dim,p,no_sample = 0.00025,0.00025,10,10,0,1/100,0.5*np.ones((200,5,5)),5,200,11000\n",
    "s_000025_000025 = simulation_new(var_0,var_1,beta,gamma,alpha,tau,b,dim,p,no_sample)\n",
    "print('done')\n",
    "\n",
    "var_0,var_1,beta,gamma,alpha,tau,b,dim,p,no_sample = 0.0001,0.0001,10,10,0,1/100,0.5*np.ones((200,5,5)),5,200,11000\n",
    "s_00001_00001 = simulation_new(var_0,var_1,beta,gamma,alpha,tau,b,dim,p,no_sample)"
   ]
  },
  {
   "cell_type": "code",
   "execution_count": 99,
   "id": "623e525d",
   "metadata": {},
   "outputs": [],
   "source": [
    "domi_list_0005_0005 = np.array(generate_domi_list(node_count(s_0005_0005,p,no_sample),dim))\n",
    "ave_0005_0005 = np.mean(domi_list_0005_0005)\n",
    "\n",
    "domi_list_00025_00025 = np.array(generate_domi_list(node_count(s_00025_00025,p,no_sample),dim))\n",
    "ave_00025_00025 = np.mean(domi_list_00025_00025)\n",
    "\n",
    "domi_list_000075_000075 = np.array(generate_domi_list(node_count(s_000075_000075,p,no_sample),dim))\n",
    "ave_000075_000075 = np.mean(domi_list_000075_000075)\n",
    "\n",
    "domi_list_00005_00005 = np.array(generate_domi_list(node_count(s_00005_00005,p,no_sample),dim))\n",
    "ave_00005_00005 = np.mean(domi_list_00005_00005)\n",
    "\n",
    "domi_list_000025_000025 = np.array(generate_domi_list(node_count(s_000025_000025,p,no_sample),dim))\n",
    "ave_000025_000025 = np.mean(domi_list_000025_000025)\n",
    "\n",
    "domi_list_00001_00001 = np.array(generate_domi_list(node_count(s_00001_00001,p,no_sample),dim))\n",
    "ave_00001_00001 = np.mean(domi_list_00001_00001)"
   ]
  },
  {
   "cell_type": "code",
   "execution_count": 104,
   "id": "d980a137",
   "metadata": {},
   "outputs": [
    {
     "data": {
      "text/plain": [
       "Text(0, 0.5, 'mean dominance duration')"
      ]
     },
     "execution_count": 104,
     "metadata": {},
     "output_type": "execute_result"
    },
    {
     "data": {
      "image/png": "[encoded data removed]",
      "text/plain": [
       "<Figure size 432x288 with 1 Axes>"
      ]
     },
     "metadata": {
      "needs_background": "light"
     },
     "output_type": "display_data"
    }
   ],
   "source": [
    "arr_x = np.array([1/0.005,1/0.0025,1/0.001,1/0.00075,1/0.0005,1/0.00025,1/0.0001])\n",
    "arr_y = np.array([ave_0005_0005,ave_00025_00025,ave_0001_0001[0],ave_000075_000075,ave_00005_00005,ave_000025_000025,ave_00001_00001])\n",
    "plt.plot(arr_x,arr_y)\n",
    "plt.xlabel('equal contrast of both modes')\n",
    "plt.ylabel('mean dominance duration')"
   ]
  },
  {
   "cell_type": "code",
   "execution_count": null,
   "id": "ba0e2e4b",
   "metadata": {},
   "outputs": [],
   "source": []
  }
 ],
 "metadata": {
  "kernelspec": {
   "display_name": "Python 3.9.12",
   "language": "python",
   "name": "python3"
  },
  "language_info": {
   "codemirror_mode": {
    "name": "ipython",
    "version": 3
   },
   "file_extension": ".py",
   "mimetype": "text/x-python",
   "name": "python",
   "nbconvert_exporter": "python",
   "pygments_lexer": "ipython3",
   "version": "3.9.12"
  },
  "vscode": {
   "interpreter": {
    "hash": "40d3a090f54c6569ab1632332b64b2c03c39dcf918b08424e98f38b5ae0af88f"
   }
  }
 },
 "nbformat": 4,
 "nbformat_minor": 5
}
