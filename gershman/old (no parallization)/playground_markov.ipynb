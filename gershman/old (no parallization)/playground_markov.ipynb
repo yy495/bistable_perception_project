{
 "cells": [
  {
   "cell_type": "code",
   "execution_count": 1,
   "id": "60c74ea3",
   "metadata": {},
   "outputs": [],
   "source": [
    "#simulation on Markov chain etc\n",
    "import numpy as np\n",
    "import matplotlib.pyplot as plt"
   ]
  },
  {
   "cell_type": "code",
   "execution_count": 5,
   "id": "6555b8c9",
   "metadata": {},
   "outputs": [],
   "source": [
    "pq_list = []\n",
    "pq_i = np.transpose(np.array([0.001, 0.002]))\n",
    "trans_matrix = np.array([[0.3,0.699],[0.6,0.398]])"
   ]
  },
  {
   "cell_type": "code",
   "execution_count": 6,
   "id": "f65afee6",
   "metadata": {},
   "outputs": [],
   "source": [
    "for i in range(10000):\n",
    "    pq_list.append(pq_i)\n",
    "    pq_i = np.matmul(trans_matrix,pq_i)"
   ]
  },
  {
   "cell_type": "code",
   "execution_count": 10,
   "id": "046a0abf",
   "metadata": {},
   "outputs": [
    {
     "name": "stdout",
     "output_type": "stream",
     "text": [
      "0.9999997930053302\n"
     ]
    },
    {
     "data": {
      "image/png": "[encoded data removed]",
      "text/plain": [
       "<Figure size 432x288 with 1 Axes>"
      ]
     },
     "metadata": {
      "needs_background": "light"
     },
     "output_type": "display_data"
    }
   ],
   "source": [
    "pq_array = np.array(pq_list)\n",
    "p = pq_array[:,0]\n",
    "q = pq_array[:,1]\n",
    "plt.plot(p[:100])\n",
    "#plt.plot(q[:100])\n",
    "print(np.sum(p))"
   ]
  },
  {
   "cell_type": "code",
   "execution_count": 61,
   "id": "d34f7d0a",
   "metadata": {
    "scrolled": false
   },
   "outputs": [
    {
     "name": "stdout",
     "output_type": "stream",
     "text": [
      "[0.9999 0.9992 0.9999 0.9996 0.9998 0.9995 0.9993 0.9997 0.9997 0.9999\n",
      " 0.9998 0.9996 0.9997 0.9996 0.9997 0.9993 0.9997 0.9995 0.9993 0.9994\n",
      " 0.9998 0.9992 0.9995 0.9994 0.9992 0.9999 0.9999 0.9992 0.9994 0.9998\n",
      " 0.9997 0.9999 0.9994 0.9994 0.9993 0.9992 0.9995 0.9992 0.9992 0.9994\n",
      " 0.9999 0.9995 0.9997 0.9992 0.9997 0.9994 0.9999 0.9995 0.9993 0.9992\n",
      " 0.9999 0.9992 0.9993 0.9995 0.9995 0.9994 0.9994 0.9998 0.9999 0.9992\n",
      " 0.9994 0.9995 0.9994 0.9998 0.9992 0.9999 0.9996 0.9992 0.9998 0.9993\n",
      " 0.9998 0.9994 0.9998 0.9996 0.9998 0.9996 0.9995 0.9995 0.9992 0.9992\n",
      " 0.9993 0.9993 0.9993 0.9994 0.9995 0.9993 0.9997 0.9992 0.9999 0.9992\n",
      " 0.9994 0.9993 0.9997 0.9997 0.9997 0.9993 0.9993 0.9997 0.9998 0.9998\n",
      " 0.9993 0.9998 0.9996 0.9992 0.9995 0.9992 0.9996 0.9999 0.9994 0.9992\n",
      " 0.9997 0.9998 0.9998 0.9993 0.9999 0.9996 0.9994 0.9996 0.9994]\n",
      "(119, 119)\n"
     ]
    }
   ],
   "source": [
    "var_list = []\n",
    "var_ini = np.random.randint(1,9,(119))*10**-4\n",
    "trans_array = np.zeros((1,119))\n",
    "for i in range(119):\n",
    "    poss_check = False\n",
    "    while not poss_check:\n",
    "        poss_i = np.random.random((118))/120\n",
    "        poss_ii = 1 - np.sum(poss_i)-var_ini[i]\n",
    "        if poss_ii>0:\n",
    "            poss_check = True\n",
    "        poss_i = np.hstack((np.array([poss_ii]),poss_i))\n",
    "    trans_array = np.vstack((trans_array,poss_i))\n",
    "\n",
    "trans_array = trans_array[1:,:]\n",
    "print(np.sum(trans_array,axis = 1))\n",
    "print(np.shape(trans_array))"
   ]
  },
  {
   "cell_type": "code",
   "execution_count": 62,
   "id": "9b2a3475",
   "metadata": {},
   "outputs": [],
   "source": [
    "var_i = var_ini.copy()\n",
    "var_i = np.transpose(var_i)\n",
    "for i in range(10000):\n",
    "    var_list.append(var_i)\n",
    "    var_i = np.matmul(trans_array,var_i)\n",
    "    var_list.append(var_i)\n",
    "var_list = np.array(var_list)"
   ]
  },
  {
   "cell_type": "code",
   "execution_count": 63,
   "id": "c59e2ad5",
   "metadata": {
    "scrolled": false
   },
   "outputs": [
    {
     "name": "stdout",
     "output_type": "stream",
     "text": [
      "3\n",
      "0\n",
      "1\n",
      "0\n",
      "5\n",
      "0\n",
      "0\n",
      "0\n",
      "0\n",
      "3\n",
      "1\n",
      "0\n",
      "0\n",
      "0\n",
      "0\n",
      "0\n",
      "0\n",
      "0\n",
      "0\n",
      "0\n",
      "1\n",
      "0\n",
      "0\n",
      "0\n",
      "0\n",
      "1\n",
      "3\n",
      "0\n",
      "0\n",
      "5\n",
      "0\n",
      "1\n",
      "0\n",
      "0\n",
      "0\n",
      "0\n",
      "0\n",
      "0\n",
      "0\n",
      "0\n",
      "1\n",
      "0\n",
      "1\n",
      "0\n",
      "0\n",
      "0\n",
      "1\n",
      "0\n",
      "0\n",
      "0\n",
      "1\n",
      "0\n",
      "0\n",
      "0\n",
      "0\n",
      "0\n",
      "0\n",
      "1\n",
      "5\n",
      "0\n",
      "0\n",
      "0\n",
      "0\n",
      "1\n",
      "0\n",
      "1\n",
      "0\n",
      "0\n",
      "1\n",
      "0\n",
      "3\n",
      "0\n",
      "1\n",
      "0\n",
      "3\n",
      "0\n",
      "0\n",
      "0\n",
      "0\n",
      "0\n",
      "0\n",
      "0\n",
      "0\n",
      "0\n",
      "0\n",
      "0\n",
      "0\n",
      "0\n",
      "1\n",
      "0\n",
      "0\n",
      "0\n",
      "0\n",
      "0\n",
      "0\n",
      "0\n",
      "0\n",
      "0\n",
      "1\n",
      "1\n",
      "0\n",
      "1\n",
      "0\n",
      "0\n",
      "0\n",
      "0\n",
      "0\n",
      "5\n",
      "0\n",
      "0\n",
      "0\n",
      "1\n",
      "1\n",
      "0\n",
      "3\n",
      "0\n",
      "0\n",
      "0\n",
      "0\n"
     ]
    }
   ],
   "source": [
    "for i in range(119):\n",
    "    print(np.argmax(var_list[:,i]))"
   ]
  },
  {
   "cell_type": "code",
   "execution_count": null,
   "id": "0701b031",
   "metadata": {},
   "outputs": [],
   "source": []
  }
 ],
 "metadata": {
  "kernelspec": {
   "display_name": "Python 3",
   "language": "python",
   "name": "python3"
  },
  "language_info": {
   "codemirror_mode": {
    "name": "ipython",
    "version": 3
   },
   "file_extension": ".py",
   "mimetype": "text/x-python",
   "name": "python",
   "nbconvert_exporter": "python",
   "pygments_lexer": "ipython3",
   "version": "3.8.8"
  }
 },
 "nbformat": 4,
 "nbformat_minor": 5
}
