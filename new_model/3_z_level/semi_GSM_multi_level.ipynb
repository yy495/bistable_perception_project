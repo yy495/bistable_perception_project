{
 "cells": [
  {
   "cell_type": "code",
   "execution_count": 1,
   "id": "4af360d4",
   "metadata": {},
   "outputs": [],
   "source": [
    "import numpy as np\n",
    "import matplotlib.pyplot as plt\n",
    "import scipy.stats as stats\n",
    "import math"
   ]
  },
  {
   "cell_type": "code",
   "execution_count": 2,
   "id": "4cc6e031",
   "metadata": {},
   "outputs": [],
   "source": [
    "#N**2 RVs corresponding to 4 sets of likelihood: x_l,x_r | z_l,z_r = 0,0; 0,1/N; 0,2/N; 0,3/N etc\n",
    "# dimension of image: D\n",
    "# no. basis: N\n",
    "# sigma_n: added noise to image\n",
    "# sigma_y: std of prior on activation"
   ]
  },
  {
   "cell_type": "code",
   "execution_count": 3,
   "id": "e4105a73",
   "metadata": {},
   "outputs": [],
   "source": [
    "def likelihood(x_l, x_r, W, sigma_n, sigma_y, z_l, z_r):\n",
    "    N = len(x_l)\n",
    "    I = np.eye(N)\n",
    "    cov_lr_0  = np.hstack((z_l**2*sigma_y**2*W@W.T + sigma_n**2*I, z_l*z_r*sigma_y**2*W@W.T))\n",
    "    cov_lr_1 = np.hstack((z_l*z_r*sigma_y**2*W@W.T, z_r**2*sigma_y**2*W@W.T + sigma_n**2*I))\n",
    "    cov_lr = np.vstack((cov_lr_0, cov_lr_1)) + np.eye(2*N)*10**(-12)\n",
    "    \n",
    "    rv = stats.multivariate_normal(mean=None, cov = cov_lr)\n",
    "    return rv.pdf(np.hstack((x_l,x_r)))\n",
    "    "
   ]
  },
  {
   "cell_type": "code",
   "execution_count": 4,
   "id": "85528531",
   "metadata": {},
   "outputs": [],
   "source": [
    "def post(x_l, x_r, W, sigma_n, sigma_y, z_l_list, z_r_list):\n",
    "    post_array = np.zeros((len(z_l_list),len(z_l_list)))\n",
    "    for i in range(len(z_l_list)):\n",
    "        for j in range(len(z_l_list)):\n",
    "            post_array[i,j] = likelihood(x_l, x_r, W, sigma_n, sigma_y, z_l_list[i], z_r_list[j])\n",
    "    return post_array/np.sum(np.sum(post_array))"
   ]
  },
  {
   "cell_type": "code",
   "execution_count": 7,
   "id": "23151061",
   "metadata": {},
   "outputs": [
    {
     "name": "stderr",
     "output_type": "stream",
     "text": [
      "/var/folders/04/wzq37d2s3bv87g77m67thbk80000gn/T/ipykernel_39009/2026093129.py:6: RuntimeWarning: invalid value encountered in true_divide\n",
      "  return post_array/np.sum(np.sum(post_array))\n"
     ]
    }
   ],
   "source": [
    "#test: 2 level\n",
    "z_l_t = np.array([0,1])\n",
    "z_r_t = np.array([0,1])\n",
    "x_l_t = np.array([1,0])\n",
    "theta = 2*np.pi/3\n",
    "#x_r_t = np.array([np.cos(theta),np.sin(theta)])\n",
    "x_r_t = np.array([0.2,(1-0.2**2)**0.5])\n",
    "W = np.eye(2)\n",
    "post_list = []\n",
    "\n",
    "for i in range(100):\n",
    "    ci  = i*0.1\n",
    "    x_li = ci*x_l_t\n",
    "    x_ri = ci*x_r_t\n",
    "    post_list.append(post(x_li, x_ri, W, 0.2, 20, z_l_t, z_r_t))\n",
    "\n",
    "post_list = np.array(post_list).reshape(100,4)"
   ]
  },
  {
   "cell_type": "code",
   "execution_count": 8,
   "id": "28adf52a",
   "metadata": {},
   "outputs": [
    {
     "data": {
      "text/plain": [
       "[<matplotlib.lines.Line2D at 0x11ab16550>,\n",
       " <matplotlib.lines.Line2D at 0x11ab165b0>,\n",
       " <matplotlib.lines.Line2D at 0x11ab166d0>,\n",
       " <matplotlib.lines.Line2D at 0x11ab167f0>]"
      ]
     },
     "execution_count": 8,
     "metadata": {},
     "output_type": "execute_result"
    },
    {
     "data": {
      "image/png": "[encoded data removed]",
      "text/plain": [
       "<Figure size 432x288 with 1 Axes>"
      ]
     },
     "metadata": {
      "needs_background": "light"
     },
     "output_type": "display_data"
    }
   ],
   "source": [
    "plt.plot(post_list)"
   ]
  },
  {
   "cell_type": "code",
   "execution_count": 9,
   "id": "3d92d332",
   "metadata": {},
   "outputs": [
    {
     "name": "stderr",
     "output_type": "stream",
     "text": [
      "/var/folders/04/wzq37d2s3bv87g77m67thbk80000gn/T/ipykernel_39009/2026093129.py:6: RuntimeWarning: invalid value encountered in true_divide\n",
      "  return post_array/np.sum(np.sum(post_array))\n"
     ]
    }
   ],
   "source": [
    "#3 level\n",
    "#test: 2 level\n",
    "z_l_t = np.array([0,0.33,0.67,1])\n",
    "z_r_t = np.array([0,0.33,0.67,1])\n",
    "x_r_t = np.array([1,0])\n",
    "#theta = 2*np.pi/3\n",
    "#x_r_t = np.array([np.cos(theta),np.sin(theta)])\n",
    "x_l_t = np.array([0.2,(1-0.2**2)**0.5])\n",
    "W = np.eye(2)\n",
    "post_list = []\n",
    "\n",
    "for i in range(100):\n",
    "    ci  = i*0.1\n",
    "    x_li = ci*x_l_t\n",
    "    x_ri = ci*x_r_t\n",
    "    post_list.append(post(x_li, x_ri, W, 0.2, 2, z_l_t, z_r_t))\n",
    "\n",
    "post_list = np.array(post_list).reshape(100,16)"
   ]
  },
  {
   "cell_type": "code",
   "execution_count": 10,
   "id": "d0477bb8",
   "metadata": {},
   "outputs": [
    {
     "data": {
      "text/plain": [
       "array([0, 1, 2, 3, 4, 5, 6, 7, 8, 9])"
      ]
     },
     "execution_count": 10,
     "metadata": {},
     "output_type": "execute_result"
    }
   ],
   "source": [
    "np.arange(0,10)"
   ]
  },
  {
   "cell_type": "code",
   "execution_count": 11,
   "id": "d4c4c2cc",
   "metadata": {},
   "outputs": [
    {
     "data": {
      "text/plain": [
       "<matplotlib.colorbar.Colorbar at 0x11abd1af0>"
      ]
     },
     "execution_count": 11,
     "metadata": {},
     "output_type": "execute_result"
    },
    {
     "data": {
      "image/png": "[encoded data removed]",
      "text/plain": [
       "<Figure size 432x288 with 2 Axes>"
      ]
     },
     "metadata": {
      "needs_background": "light"
     },
     "output_type": "display_data"
    }
   ],
   "source": [
    "#3 level\n",
    "#test: N level\n",
    "n  = 100\n",
    "z_l_t = np.arange(n)/(n-1)\n",
    "z_r_t = np.arange(n)/(n-1)\n",
    "\n",
    "x_r_t = 7*np.array([1,0])\n",
    "x_l_t = 7*np.array([-0.01,(1-0.01**2)**0.5])\n",
    "W = np.eye(2)\n",
    "A =post(x_l_t, x_r_t, W, 0.2, 2, z_l_t, z_r_t)\n",
    "\n",
    "plt.imshow(A*n**2)\n",
    "plt.colorbar()"
   ]
  }
 ],
 "metadata": {
  "kernelspec": {
   "display_name": "Python 3.9.12",
   "language": "python",
   "name": "python3"
  },
  "language_info": {
   "codemirror_mode": {
    "name": "ipython",
    "version": 3
   },
   "file_extension": ".py",
   "mimetype": "text/x-python",
   "name": "python",
   "nbconvert_exporter": "python",
   "pygments_lexer": "ipython3",
   "version": "3.9.12 (main, Jun  1 2022, 06:34:44) \n[Clang 12.0.0 ]"
  },
  "vscode": {
   "interpreter": {
    "hash": "40d3a090f54c6569ab1632332b64b2c03c39dcf918b08424e98f38b5ae0af88f"
   }
  }
 },
 "nbformat": 4,
 "nbformat_minor": 5
}
