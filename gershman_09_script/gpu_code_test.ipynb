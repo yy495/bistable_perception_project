{
 "cells": [
  {
   "cell_type": "code",
   "execution_count": 42,
   "id": "39b0105f",
   "metadata": {},
   "outputs": [],
   "source": [
    "import torch\n",
    "import numpy as np"
   ]
  },
  {
   "cell_type": "code",
   "execution_count": 43,
   "id": "49c55e56",
   "metadata": {},
   "outputs": [],
   "source": [
    "def likelihood_new(z,a,b,sigma,p):\n",
    "    #z: percept\n",
    "    #bi-modal, mixture of Gaussian function\n",
    "    #2 peaks at a and b\n",
    "    #sigma: equal variance of both modes\n",
    "    #return: a vectos, p(x|z_i) as a functino of z_i for every sequences running in parallel\n",
    "    likelihood_ele = torch.exp(-0.5/sigma**2*(torch.reshape(z,(p,-1))-a)**2) + torch.exp(-0.5/sigma**2*(torch.reshape(z,(p,-1))-b)**2)\n",
    "    return torch.prod(likelihood_ele,axis=1)"
   ]
  },
  {
   "cell_type": "code",
   "execution_count": 44,
   "id": "fd3ba03f",
   "metadata": {},
   "outputs": [],
   "source": [
    "def MRF_prior_new(z,lamda,p):\n",
    "    #return the Gaussian MRF of the perception for each parallel sequence\n",
    "    #reflection on boundary first\n",
    "    #lamda: smoothness penalty term\n",
    "    \n",
    "    dim = z.shape[1]\n",
    "    z_extended = torch.cat((torch.reshape(z[:,:,0],(p,-1,1)),z,torch.reshape(z[:,:,-1],(p,-1,1))),axis=2)\n",
    "    z_extended = torch.cat((torch.reshape(z_extended[:,0,:],(p,1,-1)),z_extended,torch.reshape(z_extended[:,-1,:],(p,1,-1))),axis=1)\n",
    "    sum_dis = torch.sum(torch.sum((z-z_extended[:,:dim,1:dim+1])**2,axis=1),axis=1)+torch.sum(torch.sum((z-z_extended[:,2:,1:dim+1])**2,axis=1),axis=1)\n",
    "    sum_dis = sum_dis+torch.sum(torch.sum((z-z_extended[:,1:dim+1,:dim])**2,axis=1),axis=1)+torch.sum(torch.sum((z-z_extended[:,1:dim+1:,2:])**2,axis=1),axis=1)\n",
    "    return torch.exp(-lamda*sum_dis)"
   ]
  },
  {
   "cell_type": "code",
   "execution_count": 50,
   "id": "de7a2511",
   "metadata": {},
   "outputs": [],
   "source": [
    "def proposal_function_new(z, p, sigma1 = 1.5):\n",
    "    #generate a new proposal from the current sample\n",
    "    #change only one element at a time!\n",
    "    #sigma1: std of step size in proposal\n",
    "    dim = z.shape[1]\n",
    "    z_star = z.clone()\n",
    "    index = torch.randint(0,dim,(p,2))\n",
    "    for i in range(p):\n",
    "        z_star[i,index[i,0],index[i,1]] = z_star[i,index[i,0],index[i,1]] + sigma1*torch.randn(1)\n",
    "    return z_star"
   ]
  },
  {
   "cell_type": "code",
   "execution_count": 46,
   "id": "dddbdde3",
   "metadata": {},
   "outputs": [],
   "source": [
    "def sample_rejection_new(z,z_star,p,a = 1, b = -1, sigma = 0.3, lamda = 0.05):\n",
    "    #input: z is the current sample\n",
    "    #z_star is the proposed sample\n",
    "    #if sample accepted: return True\n",
    "    #if rejected: return False\n",
    "    p_acc = likelihood_new(z_star,a,b,sigma,p)*MRF_prior_new(z_star,lamda,p)/(likelihood_new(z,a,b,sigma,p)*MRF_prior_new(z,lamda,p))\n",
    "    p_ran = torch.rand(p)\n",
    "    acc = torch.sign(p_acc-p_ran)\n",
    "    return acc"
   ]
  },
  {
   "cell_type": "code",
   "execution_count": 52,
   "id": "2d3b248d",
   "metadata": {},
   "outputs": [],
   "source": [
    "def simulation(p,no_samples,device,a = 1, b = -1, sigma = 0.3, lamda = 0.05,dim = 4):\n",
    "    state_list_par = torch.zeros(no_samples,p,dim,dim)\n",
    "    state_list_par.to(device)\n",
    "    #define initial z\n",
    "    z = (torch.rand(p,dim,dim)-0.5)*2\n",
    "    z.to(device)\n",
    "    for i in range(int(no_samples)):\n",
    "        z_star = proposal_function_new(z,p)\n",
    "        acc = sample_rejection_new(z,z_star,p,a = 1, b = -1, sigma = 0.3, lamda = 0.05)\n",
    "        for j in range(p):\n",
    "            if acc[j] == 1:\n",
    "                z[j,:,:] = z_star[j,:,:]\n",
    "        z_a = z.clone()\n",
    "        state_list_par[i] = z_a\n",
    "    return state_list_par"
   ]
  },
  {
   "cell_type": "code",
   "execution_count": 56,
   "id": "885ca6e9",
   "metadata": {
    "scrolled": false
   },
   "outputs": [
    {
     "data": {
      "text/plain": [
       "tensor([[[ 0.2346, -0.5301, -0.3254, -0.6535],\n",
       "         [-0.5009, -0.4365,  0.5328,  0.4943],\n",
       "         [-0.5273, -0.1767, -0.4649, -0.9543],\n",
       "         [-0.9549,  0.4064, -0.2428, -0.2414]],\n",
       "\n",
       "        [[ 0.2346, -0.5301, -0.3254, -0.6535],\n",
       "         [-0.5009, -0.4365,  0.5328,  0.4943],\n",
       "         [-0.5273, -0.1767, -0.4649, -0.9543],\n",
       "         [-0.9549,  0.4064, -0.2428, -0.2414]],\n",
       "\n",
       "        [[ 0.2346, -0.5301, -0.3254, -0.6535],\n",
       "         [-0.5009, -0.4365,  0.5328,  0.4943],\n",
       "         [-0.5273, -0.1767, -0.4649, -0.9543],\n",
       "         [-0.9549,  0.4064, -0.2428, -0.2414]],\n",
       "\n",
       "        [[ 0.2346, -0.5301,  1.2918, -0.6535],\n",
       "         [-0.5009, -0.4365,  0.5328,  0.4943],\n",
       "         [-0.5273, -0.1767, -0.4649, -0.9543],\n",
       "         [-0.9549,  0.4064, -0.2428, -0.2414]],\n",
       "\n",
       "        [[ 0.2346, -0.5301,  1.2918, -0.6535],\n",
       "         [-0.5009, -0.4365,  0.5328,  0.4943],\n",
       "         [-0.5273, -0.1767, -0.4649, -0.9543],\n",
       "         [-0.9549,  0.4064, -0.2428, -0.2414]]])"
      ]
     },
     "execution_count": 56,
     "metadata": {},
     "output_type": "execute_result"
    }
   ],
   "source": [
    "p,no_samples = 2,5\n",
    "device = torch.device(\"cuda:0\" if torch.cuda.is_available() else \"cpu\")\n",
    "simulation(p,no_samples,device,a = 1, b = -1, sigma = 0.3, lamda = 0.05,dim = 4)[:,0,:,:]"
   ]
  },
  {
   "cell_type": "code",
   "execution_count": 32,
   "id": "45eec3ad",
   "metadata": {},
   "outputs": [],
   "source": [
    "device = torch.device(\"cuda:0\" if torch.cuda.is_available() else \"cpu\")"
   ]
  },
  {
   "cell_type": "code",
   "execution_count": 41,
   "id": "beb21451",
   "metadata": {},
   "outputs": [
    {
     "data": {
      "text/plain": [
       "tensor([[[0., 0.],\n",
       "         [0., 0.]],\n",
       "\n",
       "        [[0., 0.],\n",
       "         [0., 0.]]])"
      ]
     },
     "execution_count": 41,
     "metadata": {},
     "output_type": "execute_result"
    }
   ],
   "source": [
    "z=torch.zeros(2,2,2,2)\n",
    "z[0]"
   ]
  },
  {
   "cell_type": "code",
   "execution_count": 3,
   "id": "f0689755",
   "metadata": {},
   "outputs": [],
   "source": [
    "'''this is the main script to run simulation on Gershman 09's model'''\n",
    "\n",
    "'''import functions'''\n",
    "import torch\n",
    "from sampling_gershman_09 import simulation\n",
    "from post_proccess import generate_hist\n",
    "\n",
    "'''the followings are parameters for simulation'''\n",
    "\n",
    "'''p is the number of parallel sequences, no_samples are the number of samples in each sequence'''\n",
    "p = 200\n",
    "no_samples=2200\n",
    "\n",
    "'''other parameters'''\n",
    "'''no_bins: number of bins in histogram'''\n",
    "'''cut_domi: the number of (longest) dominance period to be cutted'''\n",
    "'''dim: dimension of simulation, set to 4'''\n",
    "'''definition of a,b,sigma,lamda is in prob_gershman_09'''\n",
    "\n",
    "no_bins = 1000\n",
    "cut_domi = 20\n",
    "\n",
    "'''set device variable here'''\n",
    "device = torch.device(\"cuda:0\" if torch.cuda.is_available() else \"cpu\")\n",
    "\n",
    "s = simulation(p,no_samples,device,a = 1, b = -1, sigma = 0.3, lamda = 0.05,dim = 4)\n",
    "s.to('cpu')\n",
    "s.numpy()\n",
    "hist,bins = generate_hist(s,p,no_samples,no_bins,cut_domi,dim=4,a=1,b=-1)\n",
    "\n",
    "'''output hist and bins variable to a csv file'''\n",
    "import numpy.random as random\n",
    "import numpy as np\n",
    "rand_ind = random.randint(0,10000)\n",
    "file_name_hist = 'hist'+str(rand_ind)\n",
    "file_name_bins = 'bins'+str(rand_ind)\n",
    "np.savetxt(file_name_hist, hist, delimiter=\",\")\n",
    "np.savetxt(file_name_bins, bins, delimiter=\",\")"
   ]
  },
  {
   "cell_type": "code",
   "execution_count": null,
   "id": "c81f399a",
   "metadata": {},
   "outputs": [],
   "source": []
  }
 ],
 "metadata": {
  "kernelspec": {
   "display_name": "Python 3 (ipykernel)",
   "language": "python",
   "name": "python3"
  },
  "language_info": {
   "codemirror_mode": {
    "name": "ipython",
    "version": 3
   },
   "file_extension": ".py",
   "mimetype": "text/x-python",
   "name": "python",
   "nbconvert_exporter": "python",
   "pygments_lexer": "ipython3",
   "version": "3.9.12"
  }
 },
 "nbformat": 4,
 "nbformat_minor": 5
}
