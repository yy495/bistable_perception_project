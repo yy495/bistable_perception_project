{
 "cells": [
  {
   "cell_type": "code",
   "execution_count": 1,
   "id": "aaebe044",
   "metadata": {},
   "outputs": [],
   "source": [
    "#examine differentiable histogram loss\n",
    "import torch\n",
    "import numpy as np\n",
    "import matplotlib.pyplot as plt"
   ]
  },
  {
   "cell_type": "code",
   "execution_count": 2,
   "id": "acb8811a",
   "metadata": {},
   "outputs": [],
   "source": [
    "f = torch.nn.ReLU()"
   ]
  },
  {
   "cell_type": "code",
   "execution_count": 3,
   "id": "910ca18e",
   "metadata": {},
   "outputs": [],
   "source": [
    "def diff_hist(s,N,delta,R):\n",
    "    #R: number of bins\n",
    "    #delta: bin width\n",
    "    #s: sample set (N samples in total)\n",
    "    #no parallel run\n",
    "    s = torch.reshape(s,(N,1))\n",
    "    r = torch.linspace(1,R-2,R-2).repeat(N,1)\n",
    "    T_r = -1 + r*delta\n",
    "    T_rm1 = -1 + r*delta - delta\n",
    "    T_rp1 = -1 + r*delta + delta\n",
    "    return f(torch.sum(f(s - T_rm1) - 2.0*f(s - T_r) + f(s - T_rp1), axis = 0)/(N*delta))"
   ]
  },
  {
   "cell_type": "code",
   "execution_count": 4,
   "id": "8575a70e",
   "metadata": {},
   "outputs": [],
   "source": [
    "def diff_hist_p(s,N,p,delta,R):\n",
    "    #R: number of bins\n",
    "    #delta: bin width\n",
    "    #s: sample set (p runs, N samples each run)\n",
    "    #p: parallel runs\n",
    "    s = torch.reshape(s,(p,N,1))\n",
    "    r = torch.linspace(1,R-2,R-2).repeat(p,N,1)\n",
    "    T_r = -1 + r*delta\n",
    "    T_rm1 = -1 + r*delta - delta\n",
    "    T_rp1 = -1 + r*delta + delta\n",
    "    return f(torch.sum(f(s-T_rm1) - 2.0*f(s-T_r) + f(s - T_rp1), axis = 1)/(N*delta))"
   ]
  },
  {
   "cell_type": "code",
   "execution_count": 5,
   "id": "35837f65",
   "metadata": {
    "scrolled": true
   },
   "outputs": [
    {
     "name": "stdout",
     "output_type": "stream",
     "text": [
      "tensor(1.0000)\n"
     ]
    },
    {
     "data": {
      "image/png": "[encoded data removed]",
      "text/plain": [
       "<Figure size 432x288 with 1 Axes>"
      ]
     },
     "metadata": {
      "needs_background": "light"
     },
     "output_type": "display_data"
    }
   ],
   "source": [
    "#test on synthesized data\n",
    "s = torch.randn(100000)*0.1\n",
    "N = 100000\n",
    "delta = 0.01\n",
    "R = 201\n",
    "t = np.arange(1,200)*0.01-1\n",
    "plt.plot(t,diff_hist(s,N,delta,R).numpy())\n",
    "plt.plot(t,10/2**0.5/np.pi**0.5*np.exp(-50*t**2)*0.01)\n",
    "plt.legend(['hist','original'])\n",
    "print(torch.sum(diff_hist(s,N,delta,R)))"
   ]
  },
  {
   "cell_type": "code",
   "execution_count": 6,
   "id": "e80e66df",
   "metadata": {
    "scrolled": false
   },
   "outputs": [
    {
     "name": "stdout",
     "output_type": "stream",
     "text": [
      "tensor(1.0000)\n",
      "loss\n",
      "tensor(0.1867, dtype=torch.float64)\n"
     ]
    },
    {
     "data": {
      "image/png": "[encoded data removed]",
      "text/plain": [
       "<Figure size 432x288 with 1 Axes>"
      ]
     },
     "metadata": {
      "needs_background": "light"
     },
     "output_type": "display_data"
    }
   ],
   "source": [
    "p = 20\n",
    "N = 5000\n",
    "R = 51\n",
    "delta = 0.04\n",
    "s = torch.randn(p,N)*0.2\n",
    "hist_p = diff_hist_p(s,N,p,delta,R)\n",
    "plt.plot(hist_p.numpy()[4])\n",
    "print(torch.sum(hist_p[4]))\n",
    "\n",
    "t = np.arange(1,R-1)*delta-1\n",
    "target_hist = torch.tensor(1/2**0.5/np.pi**0.5/0.2*np.exp(-1/2/(0.2)**2*t**2)).repeat(p,1)\n",
    "target_hist = target_hist/np.sum(1/2**0.5/np.pi**0.5/0.2*np.exp(-1/2/(0.2)**2*t**2))\n",
    "\n",
    "print('loss')\n",
    "print(torch.sum(torch.sum(target_hist*torch.log((target_hist + 1e-20)/(hist_p + 1e-20)),axis = 1)))"
   ]
  },
  {
   "cell_type": "code",
   "execution_count": 7,
   "id": "0ab6b308",
   "metadata": {},
   "outputs": [],
   "source": [
    "#define global constant\n",
    "p = 20 #parallel runs\n",
    "N = int(5000) #steps per run/20\n",
    "R = 51 #no. bins + 1\n",
    "delta_t = 1e-3 #discretization of time\n",
    "tau = 0.02 #membrane potential\n",
    "sigma_target = 0.4 #desired std\n",
    "hist_min = -2.0 #histogram range\n",
    "hist_max = 2.0"
   ]
  },
  {
   "cell_type": "code",
   "execution_count": 8,
   "id": "6361f898",
   "metadata": {},
   "outputs": [],
   "source": [
    "def diff_hist_p1(s,N,p,R,hist_min,hist_max):\n",
    "    #R: number of bins\n",
    "    #delta: bin width\n",
    "    #s: sample set (p runs, N samples each run)\n",
    "    #p: parallel runs\n",
    "    delta = (hist_max - hist_min)/(R-1)\n",
    "    s = torch.reshape(s,(p,N,1))\n",
    "    r = torch.linspace(1,R-2,R-2).repeat(p,N,1)\n",
    "    T_r = hist_min + r*delta\n",
    "    T_rm1 = hist_min + r*delta - delta\n",
    "    T_rp1 = hist_min + r*delta + delta\n",
    "    return f(torch.sum(f(s-T_rm1) - 2.0*f(s-T_r) + f(s - T_rp1), axis = 1)/(N*delta))"
   ]
  },
  {
   "cell_type": "code",
   "execution_count": 9,
   "id": "4d99eac5",
   "metadata": {},
   "outputs": [],
   "source": [
    "class network1():\n",
    "    def forward(c,w):\n",
    "        r = torch.randn(4,p)\n",
    "        s = torch.zeros(p,N)\n",
    "        for i in range(int(20*N)):\n",
    "            r = r + delta_t * (-r/tau + w@r) + (2/tau)**0.5*delta_t**0.5*c@torch.randn(4,p)\n",
    "            if i%20 == 0:\n",
    "                s[:,i//20] = r[2,:]\n",
    "        return s\n",
    "    \n",
    "    def kl_loss(s):\n",
    "        delta = (hist_max - hist_min)/(R-1)\n",
    "        t = np.arange(1,R-1)*(hist_max - hist_min)/(R-1) - hist_max\n",
    "        target_hist = torch.tensor(1/2**0.5/np.pi**0.5/sigma_target*np.exp(-1/2/(sigma_target)**2*t**2)).repeat(p,1)\n",
    "        target_hist = target_hist/np.sum(1/2**0.5/np.pi**0.5/sigma_target*np.exp(-1/2/(sigma_target)**2*t**2))\n",
    "        return torch.sum(torch.sum(target_hist*torch.log((target_hist + 1e-20)/(diff_hist_p1(s,N,p,R,hist_min,hist_max) + 1e-20)),axis = 1))"
   ]
  },
  {
   "cell_type": "code",
   "execution_count": 10,
   "id": "8f5251c0",
   "metadata": {},
   "outputs": [
    {
     "data": {
      "text/plain": [
       "tensor(1.3830, dtype=torch.float64)"
      ]
     },
     "execution_count": 10,
     "metadata": {},
     "output_type": "execute_result"
    }
   ],
   "source": [
    "network1.kl_loss(torch.randn(p,N)*0.34)"
   ]
  },
  {
   "cell_type": "code",
   "execution_count": 13,
   "id": "562b0c86",
   "metadata": {},
   "outputs": [],
   "source": [
    "max_eig = True\n",
    "while max_eig:\n",
    "    w = torch.autograd.Variable(torch.randn(4,4),requires_grad = True).float()\n",
    "    if torch.max(torch.real((torch.linalg.eig(w.detach())[0])))<1:\n",
    "        max_eig = False\n",
    "        \n",
    "m = torch.nn.Tanh()\n",
    "\n",
    "c = torch.autograd.Variable(2*torch.randn(4,4),requires_grad = True).float()\n",
    "\n",
    "optimizer = torch.optim.Adam([w,c], 0.2)"
   ]
  },
  {
   "cell_type": "code",
   "execution_count": 19,
   "id": "2346e214",
   "metadata": {},
   "outputs": [
    {
     "name": "stdout",
     "output_type": "stream",
     "text": [
      "1.2276196119677611\n",
      "7.154961355836288\n",
      "0.9162001989342841\n",
      "3.1728082822164883\n",
      "4.3616971971065714\n",
      "4.555237792693317\n",
      "4.24572486465134\n",
      "3.4621570348612924\n",
      "2.174406678334467\n",
      "0.8490531275018988\n"
     ]
    }
   ],
   "source": [
    "import sys\n",
    "loss_list = []\n",
    "L = 0\n",
    "\n",
    "optimizer = torch.optim.Adam([w,c], 0.2)\n",
    "\n",
    "for v in range(10):\n",
    "    optimizer.zero_grad()\n",
    "    samples = network1.forward(c,w)\n",
    "    L = network1.kl_loss(samples)\n",
    "    \n",
    "    L1 = L.detach().numpy().copy()\n",
    "    print(L1)\n",
    "    loss_list.append(L1)\n",
    "    \n",
    "    if np.isnan(L1) == True:\n",
    "        print('error')\n",
    "        sys.exit(0)\n",
    "        \n",
    "    L.backward()\n",
    "    optimizer.step()"
   ]
  },
  {
   "cell_type": "code",
   "execution_count": 20,
   "id": "46504263",
   "metadata": {},
   "outputs": [
    {
     "data": {
      "text/plain": [
       "[<matplotlib.lines.Line2D at 0x10ec9ff40>]"
      ]
     },
     "execution_count": 20,
     "metadata": {},
     "output_type": "execute_result"
    },
    {
     "data": {
      "image/png": "[encoded data removed]",
      "text/plain": [
       "<Figure size 432x288 with 1 Axes>"
      ]
     },
     "metadata": {
      "needs_background": "light"
     },
     "output_type": "display_data"
    }
   ],
   "source": [
    "plt.plot(loss_list)"
   ]
  },
  {
   "cell_type": "code",
   "execution_count": 21,
   "id": "4072817f",
   "metadata": {},
   "outputs": [],
   "source": [
    "def test(c,w):\n",
    "    r = torch.randn(4,1)\n",
    "    resp = torch.zeros(20*N)\n",
    "    for i in range(int(20*N)):\n",
    "        r = r + delta_t * (-r/tau + w@r) + (2/tau)**0.5*delta_t**0.5*c@torch.randn(4,1)\n",
    "        resp[i] = r[2]\n",
    "    return resp.detach().numpy()"
   ]
  },
  {
   "cell_type": "code",
   "execution_count": 22,
   "id": "c3b9476b",
   "metadata": {},
   "outputs": [],
   "source": [
    "resp = test(c,w)"
   ]
  },
  {
   "cell_type": "code",
   "execution_count": 23,
   "id": "6cc96e2b",
   "metadata": {},
   "outputs": [
    {
     "name": "stdout",
     "output_type": "stream",
     "text": [
      "-0.00056015945\n",
      "0.4076992\n"
     ]
    }
   ],
   "source": [
    "print(np.mean(resp))\n",
    "print(np.std(resp))"
   ]
  },
  {
   "cell_type": "code",
   "execution_count": null,
   "id": "935c4457",
   "metadata": {},
   "outputs": [],
   "source": []
  }
 ],
 "metadata": {
  "kernelspec": {
   "display_name": "Python 3 (ipykernel)",
   "language": "python",
   "name": "python3"
  },
  "language_info": {
   "codemirror_mode": {
    "name": "ipython",
    "version": 3
   },
   "file_extension": ".py",
   "mimetype": "text/x-python",
   "name": "python",
   "nbconvert_exporter": "python",
   "pygments_lexer": "ipython3",
   "version": "3.9.12"
  }
 },
 "nbformat": 4,
 "nbformat_minor": 5
}
