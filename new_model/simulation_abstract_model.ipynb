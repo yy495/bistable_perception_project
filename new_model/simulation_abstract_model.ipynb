{
 "cells": [
  {
   "cell_type": "code",
   "execution_count": 10,
   "id": "04347f75",
   "metadata": {},
   "outputs": [],
   "source": [
    "import numpy as np\n",
    "import matplotlib.pyplot as plt\n",
    "import numpy.random as random"
   ]
  },
  {
   "cell_type": "code",
   "execution_count": 2,
   "id": "9316a32e",
   "metadata": {},
   "outputs": [],
   "source": [
    "#theta: latent orientation variable\n",
    "#z_l,z_r: latent eye specific variable\n",
    "#x_l,x_r: evidence input\n",
    "#alpha_l,alpha_r: contrast variable\n",
    "#sampling algorithm: gibbs sampling\n",
    "#prior_z: prior distribution of z_l,z), [p_00,p_01,p_10,p_11]"
   ]
  },
  {
   "cell_type": "code",
   "execution_count": 29,
   "id": "52509586",
   "metadata": {},
   "outputs": [],
   "source": [
    "def sample_theta(x_l,x_r,z_l,z_r,alpha_l,alpha_r):\n",
    "    sum_zeta = alpha_l*z_l*np.exp(1j*x_l)+alpha_r*z_r*np.exp(1j*x_r)\n",
    "    mu = np.angle(sum_zeta) #average of the distribution\n",
    "    dis = np.abs(sum_zeta) #disperson of the variable\n",
    "    return random.vonmises(mu,dis)\n",
    "\n",
    "def sample_z_l(theta,x_l,z_l,z_r,alpha_l,prior_z):\n",
    "    p_l_0 = 1/2/np.pi*np.array([prior_z[z_r_i] for z_r_i in z_r.astype(int)])\n",
    "    p_l_1 = 1/2/np.pi/np.i0(alpha_l)*np.exp(alpha_l*np.cos(theta-x_l))*np.array([prior_z[z_r_i+2] for z_r_i in z_r.astype(int)])\n",
    "    return (np.sign(p_l_1/(p_l_1+p_l_0)-random.random(x_l.shape))+1)/2\n",
    "\n",
    "\n",
    "def sample_z_r(theta,x_r,z_l,z_r,alpha_r,prior_z):\n",
    "    p_r_0 = 1/2/np.pi*np.array([prior_z[2*z_l_i] for z_l_i in z_l.astype(int)])\n",
    "    p_r_1 = 1/2/np.pi/np.i0(alpha_r)*np.exp(alpha_r*np.cos(theta-x_r))*np.array([prior_z[2*z_l_i+1] for z_l_i in z_l.astype(int)])\n",
    "    return (np.sign(p_r_1/(p_r_1+p_r_0)-random.random(x_r.shape))+1)/2"
   ]
  },
  {
   "cell_type": "code",
   "execution_count": 36,
   "id": "54a6672f",
   "metadata": {},
   "outputs": [],
   "source": [
    "def simulation(x_l,x_r,alpha_l,alpha_r,prior_z,no_steps):\n",
    "    theta_list = []\n",
    "    z_l_list = []\n",
    "    z_r_list = []\n",
    "    z_l = random.randint(0,2,x_l.shape)\n",
    "    z_r = random.randint(0,2,x_l.shape)\n",
    "    theta = (random.random(x_l.shape)-0.5)*2*np.pi\n",
    "    for i in range(no_steps):\n",
    "        theta = sample_theta(x_l,x_r,z_l,z_r,alpha_l,alpha_r)\n",
    "        theta_a = theta.copy()\n",
    "        theta_list.append(theta_a)\n",
    "        z_l = sample_z_l(theta,x_l,z_l,z_r,alpha_l,prior_z)\n",
    "        z_l_a = z_l.copy()\n",
    "        z_l_list.append(z_l_a)\n",
    "        z_r = sample_z_r(theta,x_r,z_l,z_r,alpha_r,prior_z)\n",
    "        z_r_a = z_r.copy()\n",
    "        z_r_list.append(z_r_a)\n",
    "    return np.array(theta_list).reshape(-1),np.array(z_l).reshape(-1),np.array(z_r).reshape(-1)\n",
    "\n"
   ]
  },
  {
   "cell_type": "code",
   "execution_count": 35,
   "id": "1f2afcda",
   "metadata": {},
   "outputs": [
    {
     "data": {
      "text/plain": [
       "array([1., 1., 1., 1., 1., 1., 1., 1., 1., 1.])"
      ]
     },
     "execution_count": 35,
     "metadata": {},
     "output_type": "execute_result"
    }
   ],
   "source": [
    "np.ones(10).copy()"
   ]
  },
  {
   "cell_type": "code",
   "execution_count": 46,
   "id": "87dd5ee5",
   "metadata": {},
   "outputs": [
    {
     "name": "stdout",
     "output_type": "stream",
     "text": [
      "100000000\n"
     ]
    }
   ],
   "source": [
    "x_l,x_r,alpha_l,alpha_r,prior_z,no_steps = np.pi/4*np.ones(10000),-np.pi/4*np.ones(10000),2,2,np.array([1/4,1/4,1/4,1/4]),10000\n",
    "theta,z_l,z_r = simulation(x_l,x_r,alpha_l,alpha_r,prior_z,no_steps)\n",
    "print(len(theta))"
   ]
  },
  {
   "cell_type": "code",
   "execution_count": 41,
   "id": "a6e964ee",
   "metadata": {},
   "outputs": [],
   "source": [
    "def pi_count_1(pi_l,pi_r):\n",
    "    '''lr = 00,10,01,11'''\n",
    "    pi_r_1 = pi_r.copy()\n",
    "    pi_r_1 = pi_r_1*2\n",
    "    pi_class = pi_r_1+pi_l\n",
    "    return np.array([len(np.where(pi_class==0)[0])/len(pi_l),len(np.where(pi_class==1)[0])/len(pi_l),len(np.where(pi_class==2)[0])/len(pi_l),len(np.where(pi_class==3)[0])/len(pi_l)])"
   ]
  },
  {
   "cell_type": "code",
   "execution_count": 47,
   "id": "c64e7da2",
   "metadata": {},
   "outputs": [
    {
     "name": "stdout",
     "output_type": "stream",
     "text": [
      "[0.2632 0.2609 0.2609 0.215 ]\n"
     ]
    }
   ],
   "source": [
    "print(pi_count_1(z_l,z_r))"
   ]
  },
  {
   "cell_type": "code",
   "execution_count": 49,
   "id": "ffcfff7a",
   "metadata": {},
   "outputs": [
    {
     "name": "stdout",
     "output_type": "stream",
     "text": [
      "0.21431191183029213\n"
     ]
    }
   ],
   "source": [
    "print(np.i0(8**0.5)/np.i0(2)**2/(np.i0(8**0.5)/np.i0(2)**2+3))"
   ]
  }
 ],
 "metadata": {
  "kernelspec": {
   "display_name": "Python 3.9.12",
   "language": "python",
   "name": "python3"
  },
  "language_info": {
   "codemirror_mode": {
    "name": "ipython",
    "version": 3
   },
   "file_extension": ".py",
   "mimetype": "text/x-python",
   "name": "python",
   "nbconvert_exporter": "python",
   "pygments_lexer": "ipython3",
   "version": "3.9.12"
  },
  "vscode": {
   "interpreter": {
    "hash": "40d3a090f54c6569ab1632332b64b2c03c39dcf918b08424e98f38b5ae0af88f"
   }
  }
 },
 "nbformat": 4,
 "nbformat_minor": 5
}
