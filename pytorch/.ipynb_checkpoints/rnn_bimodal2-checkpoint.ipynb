{
 "cells": [
  {
   "cell_type": "code",
   "execution_count": 1,
   "id": "36bd8bdc",
   "metadata": {},
   "outputs": [],
   "source": [
    "import torch\n",
    "import numpy as np\n",
    "from matplotlib import pyplot as plt"
   ]
  },
  {
   "cell_type": "code",
   "execution_count": 2,
   "id": "61eb3de3",
   "metadata": {},
   "outputs": [],
   "source": [
    "#single variable gsm\n",
    "#x_l = z_l * y + e_l\n",
    "#x_r = z_r * y + e_r\n",
    "#z_l, z_r binary, with uniform prior\n",
    "#e_l, e_r ~ N(0,sigma_n^2)\n",
    "#y ~ N(0,sigma_y^2)\n",
    "#task of the gsm: infer y from x_l and x_r\n",
    "#trained on definite case of z_l, z_r = 0,1; 1,0; 0,0; 1,1\n",
    "#present rivalry stimulus, check whether bimodal distribution arise\n",
    "#sigma_n = 0.1\n",
    "#sigma_y = 1"
   ]
  },
  {
   "cell_type": "code",
   "execution_count": 3,
   "id": "f4fa2640",
   "metadata": {},
   "outputs": [],
   "source": [
    "#generate training set\n",
    "sigma_n,sigma_y = 0.05,1\n",
    "y_set = np.random.randn(1,1000)\n",
    "train_set_00 = torch.tensor(np.random.randn(2,1000)*0.05).float()\n",
    "train_set_01 = torch.tensor(np.vstack((0.05*np.random.randn(1,1000),y_set + 0.05*np.random.randn(1,1000)))).float()\n",
    "train_set_10 = torch.tensor(np.vstack((y_set + 0.05*np.random.randn(1,1000),0.05*np.random.randn(1,1000)))).float()\n",
    "train_set_11 = torch.tensor(np.vstack((y_set + 0.05*np.random.randn(1,1000),y_set + 0.05*np.random.randn(1,1000)))).float()"
   ]
  },
  {
   "cell_type": "code",
   "execution_count": 4,
   "id": "e3c7369b",
   "metadata": {},
   "outputs": [],
   "source": [
    "#compute desired first and second moment\n",
    "#target first moment for zl, zr = 0,0 : 0; var : sigma_y**2\n",
    "def target_moment_01(train_set,sigma_n,sigma_y):\n",
    "    var_01 = (sigma_n**-2 + sigma_y**-2)**-1\n",
    "    mu_01 = sigma_n**-2/(sigma_n**-2 + sigma_y**-2)*train_set[1]\n",
    "    return mu_01, var_01\n",
    "\n",
    "def target_moment_10(train_set,sigma_n,sigma_y):\n",
    "    var_10 = (sigma_n**-2 + sigma_y**-2)**-1\n",
    "    mu_10 = sigma_n**-2/(sigma_n**-2 + sigma_y**-2)**train_set[0]\n",
    "    return mu_10, var_10\n",
    "\n",
    "def target_moment_11(train_set,sigma_n,sigma_y):\n",
    "    var_11 = (2*sigma_n**-2 + sigma_y**-2)**-1\n",
    "    mu_11 = sigma_n**-2/(2*sigma_n**-2 + sigma_y**-2)*(train_set[0] + train_set[1])\n",
    "    return mu_11, var_11"
   ]
  },
  {
   "cell_type": "code",
   "execution_count": 5,
   "id": "32dbb3d2",
   "metadata": {},
   "outputs": [],
   "source": [
    "class network():\n",
    "    #4 neurons: 1 receive input from x_l, 1 from x_r; neuron 3's variablity match the desired distribution\n",
    "    def simulation(w,c,d,train_set,tau_m = 0.02,dt = 0.001):\n",
    "        #1000 steps\n",
    "        #input tensor\n",
    "        i = torch.cat((torch.tensor(train_set),torch.zeros(train_set.shape))).float()\n",
    "        r = torch.randn((i.shape)).float()\n",
    "        resp = torch.zeros(1000,1500).float()\n",
    "        for j in range(1500):\n",
    "            r = r+dt/tau_m*(-r + m(w@r + d@i) + (2/tau_m)**0.5*dt**0.5*c@torch.randn(i.shape))\n",
    "            resp[:,j] = r[2,:]\n",
    "        return resp\n",
    "    \n",
    "    '''update loss for parallel simulation'''\n",
    "    def loss_00(resp, sigma_y, a = 20, b = 10):\n",
    "        return a*torch.sum(torch.mean(resp, dim = 1)**2) + b*torch.sum((torch.std(resp, dim = 1) - sigma_y)**2)\n",
    "    \n",
    "    def loss_01(resp, train_set, sigma_y = 1, sigma_n = 0.05, a = 20, b = 10):\n",
    "        mu_target, var_target = target_moment_01(train_set, sigma_n, sigma_y)\n",
    "        m1_loss = a * torch.sum((torch.mean(resp, dim = 1) - mu_target)**2) \n",
    "        m2_loss = b * torch.sum((torch.std(resp, dim = 1) - var_target**0.5)**2)\n",
    "        return m1_loss + m2_loss\n",
    "    \n",
    "    def loss_10(resp, train_set, sigma_y = 1, sigma_n = 0.05, a = 20, b = 10):\n",
    "        mu_target, var_target = target_moment_10(train_set, sigma_n, sigma_y)\n",
    "        m1_loss = a * torch.sum((torch.mean(resp, dim = 1) - mu_target)**2) \n",
    "        m2_loss = b * torch.sum((torch.std(resp, dim = 1) - var_target**0.5)**2)\n",
    "        return m1_loss + m2_loss\n",
    "    \n",
    "    def loss_11(resp, train_set, sigma_y = 1, sigma_n = 0.05, a = 20, b = 10):\n",
    "        mu_target, var_target = target_moment_11(train_set, sigma_n, sigma_y)\n",
    "        m1_loss = a * torch.sum((torch.mean(resp, dim = 1) - mu_target)**2) \n",
    "        m2_loss = b * torch.sum((torch.std(resp, dim = 1) - var_target**0.5)**2)\n",
    "        return m1_loss + m2_loss"
   ]
  },
  {
   "cell_type": "code",
   "execution_count": 6,
   "id": "a941b322",
   "metadata": {},
   "outputs": [],
   "source": [
    "max_eig = True\n",
    "while max_eig:\n",
    "    w = torch.autograd.Variable(torch.randn(4,4),requires_grad = True).float()\n",
    "    if torch.max(torch.real((torch.linalg.eig(w.detach())[0])))<1:\n",
    "        max_eig = False\n",
    "\n",
    "c = torch.autograd.Variable(torch.randn(4,4),requires_grad = True).float()\n",
    "\n",
    "d = torch.autograd.Variable(torch.eye(4)+torch.randn(4,4),requires_grad = True).float()\n",
    "        \n",
    "m = torch.nn.ReLU()\n",
    "\n",
    "optimizer = torch.optim.Adam([w,c,d], 0.2)"
   ]
  },
  {
   "cell_type": "code",
   "execution_count": 15,
   "id": "0db34f8c",
   "metadata": {
    "scrolled": false
   },
   "outputs": [
    {
     "name": "stderr",
     "output_type": "stream",
     "text": [
      "/var/folders/04/wzq37d2s3bv87g77m67thbk80000gn/T/ipykernel_55665/2086665505.py:6: UserWarning: To copy construct from a tensor, it is recommended to use sourceTensor.clone().detach() or sourceTensor.clone().detach().requires_grad_(True), rather than torch.tensor(sourceTensor).\n",
      "  i = torch.cat((torch.tensor(train_set),torch.zeros(train_set.shape))).float()\n"
     ]
    }
   ],
   "source": [
    "#train on set 01 first\n",
    "import sys\n",
    "#loss_list = []\n",
    "L = 0\n",
    "for v in range(30):\n",
    "    optimizer.zero_grad()\n",
    "    resp_k = network.simulation(w,c,d,train_set_01,tau_m = 0.02,dt = 0.001)\n",
    "    L = network.loss_01(resp_k, train_set_01)\n",
    "    L1 = L.detach().numpy().copy()\n",
    "    #print(L1)\n",
    "    loss_list.append(L1)\n",
    "    \n",
    "    if np.isnan(L1) == True:\n",
    "        print('error')\n",
    "        sys.exit(0)\n",
    "        \n",
    "    L.backward()\n",
    "    optimizer.step()"
   ]
  },
  {
   "cell_type": "code",
   "execution_count": 16,
   "id": "6fb9783c",
   "metadata": {
    "scrolled": false
   },
   "outputs": [
    {
     "name": "stdout",
     "output_type": "stream",
     "text": [
      "10041.777\n"
     ]
    },
    {
     "data": {
      "text/plain": [
       "[<matplotlib.lines.Line2D at 0x111e20fd0>]"
      ]
     },
     "execution_count": 16,
     "metadata": {},
     "output_type": "execute_result"
    },
    {
     "data": {
      "image/png": "[encoded data removed]",
      "text/plain": [
       "<Figure size 432x288 with 1 Axes>"
      ]
     },
     "metadata": {
      "needs_background": "light"
     },
     "output_type": "display_data"
    }
   ],
   "source": [
    "print(loss_list[-1])\n",
    "plt.plot(np.array(loss_list))"
   ]
  },
  {
   "cell_type": "code",
   "execution_count": 17,
   "id": "3cf9f538",
   "metadata": {},
   "outputs": [
    {
     "data": {
      "text/plain": [
       "tensor([[-0.4373, -1.7277, -1.5086, -0.8075],\n",
       "        [-0.3098, -1.7592, -1.0956,  0.5559],\n",
       "        [ 0.1515,  0.4875, -0.9427, -0.0562],\n",
       "        [-1.1616,  2.6507, -0.9569, -0.8804]], requires_grad=True)"
      ]
     },
     "execution_count": 17,
     "metadata": {},
     "output_type": "execute_result"
    }
   ],
   "source": [
    "w"
   ]
  },
  {
   "cell_type": "code",
   "execution_count": 18,
   "id": "1bd5598b",
   "metadata": {},
   "outputs": [
    {
     "data": {
      "text/plain": [
       "tensor([[ 0.4972,  0.9881, -2.0007, -0.5035],\n",
       "        [ 0.5939,  1.1152, -0.4065,  0.6554],\n",
       "        [-0.1060,  1.8869, -1.1078,  0.3417],\n",
       "        [-2.4557, -1.0362, -0.3209,  1.8940]], requires_grad=True)"
      ]
     },
     "execution_count": 18,
     "metadata": {},
     "output_type": "execute_result"
    }
   ],
   "source": [
    "d"
   ]
  },
  {
   "cell_type": "code",
   "execution_count": 19,
   "id": "a5da831f",
   "metadata": {},
   "outputs": [],
   "source": [
    "def test_network(x_l, x_r, w, d, c, N, dt = 0.001, tau_m = 0.02):\n",
    "    i = torch.reshape(torch.tensor([x_l,x_r,0,0]),(4,1)).float()\n",
    "    r_array  = np.zeros((4,N))\n",
    "    r = torch.randn(4,1).float()\n",
    "    for v in range(N):\n",
    "        r = r+dt/tau_m*(-r + m(w@r + d@i) + (2/tau_m)**0.5*dt**0.5*c@torch.randn(4,1)).float()\n",
    "        r_array[:,v] = r.detach().numpy().reshape(-1)\n",
    "    return r_array"
   ]
  },
  {
   "cell_type": "code",
   "execution_count": 39,
   "id": "42892df7",
   "metadata": {},
   "outputs": [
    {
     "name": "stdout",
     "output_type": "stream",
     "text": [
      "0.026531989141571323\n",
      "-0.01018553690740373\n"
     ]
    },
    {
     "data": {
      "image/png": "[encoded data removed]",
      "text/plain": [
       "<Figure size 432x288 with 1 Axes>"
      ]
     },
     "metadata": {
      "needs_background": "light"
     },
     "output_type": "display_data"
    }
   ],
   "source": [
    "plt.plot(test_network(0.3,-1,w, d, c,2000)[2])\n",
    "print(np.std(test_network(0.3,-1,w,d,c,2000)[2]))\n",
    "print(np.mean(test_network(0.3,-1,w,d,c,2000)[2]))"
   ]
  },
  {
   "cell_type": "code",
   "execution_count": 33,
   "id": "83c54e7f",
   "metadata": {},
   "outputs": [
    {
     "name": "stdout",
     "output_type": "stream",
     "text": [
      "tensor(0.4076, grad_fn=<MeanBackward0>)\n",
      "tensor(3.4493, grad_fn=<MaxBackward1>)\n"
     ]
    },
    {
     "data": {
      "image/png": "[encoded data removed]",
      "text/plain": [
       "<Figure size 432x288 with 1 Axes>"
      ]
     },
     "metadata": {
      "needs_background": "light"
     },
     "output_type": "display_data"
    }
   ],
   "source": [
    "mu_target, var_target = target_moment_01(train_set_01, sigma_n, sigma_y)\n",
    "plt.hist((((torch.mean(resp_k, dim = 1) - mu_target)**2)**0.5).detach().numpy(),bins = 50)\n",
    "print(torch.mean(((torch.mean(resp_k, dim = 1) - mu_target)**2)**0.5))\n",
    "print(torch.max(((torch.mean(resp_k, dim = 1) - mu_target)**2)**0.5))"
   ]
  }
 ],
 "metadata": {
  "kernelspec": {
   "display_name": "Python 3 (ipykernel)",
   "language": "python",
   "name": "python3"
  },
  "language_info": {
   "codemirror_mode": {
    "name": "ipython",
    "version": 3
   },
   "file_extension": ".py",
   "mimetype": "text/x-python",
   "name": "python",
   "nbconvert_exporter": "python",
   "pygments_lexer": "ipython3",
   "version": "3.9.12"
  }
 },
 "nbformat": 4,
 "nbformat_minor": 5
}
